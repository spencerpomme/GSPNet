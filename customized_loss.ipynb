{
 "cells": [
  {
   "cell_type": "code",
   "execution_count": 1,
   "metadata": {
    "ExecuteTime": {
     "end_time": "2019-04-22T08:20:32.928541Z",
     "start_time": "2019-04-22T08:20:32.622302Z"
    }
   },
   "outputs": [],
   "source": [
    "import torch\n",
    "import torch.nn.functional as F\n",
    "from torch import nn, optim\n",
    "from torch.utils.data import TensorDataset, DataLoader"
   ]
  },
  {
   "cell_type": "code",
   "execution_count": 14,
   "metadata": {
    "ExecuteTime": {
     "end_time": "2019-04-22T08:23:14.531319Z",
     "start_time": "2019-04-22T08:23:14.523338Z"
    }
   },
   "outputs": [
    {
     "name": "stdout",
     "output_type": "stream",
     "text": [
      "tensor([[  1.,   0.,   0.,   2.],\n",
      "        [  2.,   2.,   2.,   3.],\n",
      "        [  1.,   0.,   0.,   0.],\n",
      "        [ 10.,  20., 100.,   2.]])\n",
      "tensor([[ 5.,  1.,  0.,  0.],\n",
      "        [ 2.,  1., 40.,  3.],\n",
      "        [ 1.,  1.,  1.,  1.],\n",
      "        [ 1.,  2.,  3.,  4.]])\n"
     ]
    }
   ],
   "source": [
    "a = torch.Tensor([[1,0,0,2], [2,2,2,3], [1,0,0,0], [10,20,100,2]])\n",
    "b = torch.Tensor([[5,1,0,0], [2,1,40,3], [1,1,1,1], [1,2,3,4]])\n",
    "print(a)\n",
    "print(b)"
   ]
  },
  {
   "cell_type": "code",
   "execution_count": 21,
   "metadata": {
    "ExecuteTime": {
     "end_time": "2019-04-22T09:18:50.959527Z",
     "start_time": "2019-04-22T09:18:50.955536Z"
    }
   },
   "outputs": [],
   "source": [
    "def loss(predict, target):\n",
    "    return (predict - target)**2 / (1/torch.max(torch.max(predict), torch.max(target)) + predict * target)"
   ]
  },
  {
   "cell_type": "code",
   "execution_count": 22,
   "metadata": {
    "ExecuteTime": {
     "end_time": "2019-04-22T09:18:51.666637Z",
     "start_time": "2019-04-22T09:18:51.660652Z"
    }
   },
   "outputs": [
    {
     "data": {
      "text/plain": [
       "tensor([[  3.1936, 100.0000,   0.0000, 400.0000],\n",
       "        [  0.0000,   0.4975,  18.0477,   0.0000],\n",
       "        [  0.0000, 100.0000, 100.0000, 100.0000],\n",
       "        [  8.0919,   8.0980,  31.3623,   0.4994]])"
      ]
     },
     "execution_count": 22,
     "metadata": {},
     "output_type": "execute_result"
    }
   ],
   "source": [
    "loss(a, b)"
   ]
  },
  {
   "cell_type": "code",
   "execution_count": 8,
   "metadata": {
    "ExecuteTime": {
     "end_time": "2019-04-22T08:20:56.481696Z",
     "start_time": "2019-04-22T08:20:56.476704Z"
    }
   },
   "outputs": [
    {
     "data": {
      "text/plain": [
       "(tensor([[1., 0., 0., 2.]]), tensor([[5., 1., 0., 0.]]))"
      ]
     },
     "execution_count": 8,
     "metadata": {},
     "output_type": "execute_result"
    }
   ],
   "source": [
    "a, b"
   ]
  },
  {
   "cell_type": "code",
   "execution_count": 10,
   "metadata": {
    "ExecuteTime": {
     "end_time": "2019-04-22T08:21:50.391799Z",
     "start_time": "2019-04-22T08:21:50.387799Z"
    }
   },
   "outputs": [
    {
     "data": {
      "text/plain": [
       "tensor([[1., 0., 0., 2.]])"
      ]
     },
     "execution_count": 10,
     "metadata": {},
     "output_type": "execute_result"
    }
   ],
   "source": [
    "c = a\n",
    "c"
   ]
  },
  {
   "cell_type": "code",
   "execution_count": null,
   "metadata": {},
   "outputs": [],
   "source": []
  }
 ],
 "metadata": {
  "kernelspec": {
   "display_name": "Python 3",
   "language": "python",
   "name": "python3"
  },
  "language_info": {
   "codemirror_mode": {
    "name": "ipython",
    "version": 3
   },
   "file_extension": ".py",
   "mimetype": "text/x-python",
   "name": "python",
   "nbconvert_exporter": "python",
   "pygments_lexer": "ipython3",
   "version": "3.7.1"
  }
 },
 "nbformat": 4,
 "nbformat_minor": 2
}
