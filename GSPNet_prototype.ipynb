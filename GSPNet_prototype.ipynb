{
 "cells": [
  {
   "cell_type": "markdown",
   "metadata": {},
   "source": [
    "<img src=\"images/logo_city.png\" align=\"right\" width=\"20%\">"
   ]
  },
  {
   "cell_type": "markdown",
   "metadata": {},
   "source": [
    "# Training A Graph State Prediction Network (GSPNet)"
   ]
  },
  {
   "cell_type": "markdown",
   "metadata": {},
   "source": [
    "This notebook is a prototype on how to train a graph state prediction network using CNN and LSTM.\n",
    "The content is devided into __3__ parts:\n",
    "\n",
    "1. Data preprocessing\n",
    "2. Model building, Training and Tuning\n",
    "3. Prediction and per demand modifacation\n",
    "\n",
    "The model is built with [PyTorch](https://pytorch.org/)."
   ]
  },
  {
   "cell_type": "markdown",
   "metadata": {},
   "source": [
    "## Part 1: Data Preprocessing"
   ]
  },
  {
   "cell_type": "markdown",
   "metadata": {},
   "source": [
    "### 1. Import necessary libraries:\n",
    "\n",
    "We will use pandas and numpy as main data examine and cleansing util and use dask to handle parallel computing cases"
   ]
  },
  {
   "cell_type": "code",
   "execution_count": 1,
   "metadata": {
    "ExecuteTime": {
     "end_time": "2019-03-05T13:48:02.292149Z",
     "start_time": "2019-03-05T13:47:53.767363Z"
    }
   },
   "outputs": [],
   "source": [
    "import pandas as pd\n",
    "import numpy as np\n",
    "import seaborn as sns\n",
    "import sqlalchemy\n",
    "import dask\n",
    "import time\n",
    "import psycopg2\n",
    "import warnings\n",
    "import re\n",
    "import torch\n",
    "from PIL import Image\n",
    "from IPython.display import display\n",
    "from scipy import stats\n",
    "from matplotlib import pyplot as plt\n",
    "\n",
    "%matplotlib inline\n",
    "%config InlineBackend.figure_format = 'retina'"
   ]
  },
  {
   "cell_type": "markdown",
   "metadata": {},
   "source": [
    "\n",
    "<br></br>\n",
    "<br></br>\n",
    "We'll first, use a small sample data (approximately 1 million rows) and see a few rows of it:"
   ]
  },
  {
   "cell_type": "code",
   "execution_count": 2,
   "metadata": {
    "ExecuteTime": {
     "end_time": "2019-03-05T13:48:15.653558Z",
     "start_time": "2019-03-05T13:48:02.292149Z"
    }
   },
   "outputs": [
    {
     "name": "stdout",
     "output_type": "stream",
     "text": [
      "Load time is 13.336447.\n"
     ]
    },
    {
     "data": {
      "text/html": [
       "<div>\n",
       "<style scoped>\n",
       "    .dataframe tbody tr th:only-of-type {\n",
       "        vertical-align: middle;\n",
       "    }\n",
       "\n",
       "    .dataframe tbody tr th {\n",
       "        vertical-align: top;\n",
       "    }\n",
       "\n",
       "    .dataframe thead th {\n",
       "        text-align: right;\n",
       "    }\n",
       "</style>\n",
       "<table border=\"1\" class=\"dataframe\">\n",
       "  <thead>\n",
       "    <tr style=\"text-align: right;\">\n",
       "      <th></th>\n",
       "      <th>tripid</th>\n",
       "      <th>tpep_pickup_datetime</th>\n",
       "      <th>tpep_dropoff_datetime</th>\n",
       "      <th>pulocationid</th>\n",
       "      <th>dolocationid</th>\n",
       "      <th>trip_distance</th>\n",
       "      <th>passenger_count</th>\n",
       "      <th>total_amount</th>\n",
       "      <th>trip_time</th>\n",
       "      <th>trip_avg_speed</th>\n",
       "      <th>trip_time_sec</th>\n",
       "    </tr>\n",
       "  </thead>\n",
       "  <tbody>\n",
       "    <tr>\n",
       "      <th>0</th>\n",
       "      <td>35972297</td>\n",
       "      <td>2017-03-09 21:30:11</td>\n",
       "      <td>2017-03-09 21:44:20</td>\n",
       "      <td>148</td>\n",
       "      <td>48</td>\n",
       "      <td>4.06</td>\n",
       "      <td>1</td>\n",
       "      <td>18.36</td>\n",
       "      <td>00:14:09</td>\n",
       "      <td>17.215548</td>\n",
       "      <td>849</td>\n",
       "    </tr>\n",
       "    <tr>\n",
       "      <th>1</th>\n",
       "      <td>35972298</td>\n",
       "      <td>2017-03-09 21:47:00</td>\n",
       "      <td>2017-03-09 21:58:01</td>\n",
       "      <td>48</td>\n",
       "      <td>107</td>\n",
       "      <td>2.73</td>\n",
       "      <td>1</td>\n",
       "      <td>12.80</td>\n",
       "      <td>00:11:01</td>\n",
       "      <td>14.868381</td>\n",
       "      <td>661</td>\n",
       "    </tr>\n",
       "    <tr>\n",
       "      <th>2</th>\n",
       "      <td>35972299</td>\n",
       "      <td>2017-03-09 22:01:08</td>\n",
       "      <td>2017-03-09 22:11:16</td>\n",
       "      <td>79</td>\n",
       "      <td>162</td>\n",
       "      <td>2.27</td>\n",
       "      <td>1</td>\n",
       "      <td>14.12</td>\n",
       "      <td>00:10:08</td>\n",
       "      <td>13.440789</td>\n",
       "      <td>608</td>\n",
       "    </tr>\n",
       "    <tr>\n",
       "      <th>3</th>\n",
       "      <td>35972300</td>\n",
       "      <td>2017-03-09 22:16:05</td>\n",
       "      <td>2017-03-10 06:26:11</td>\n",
       "      <td>237</td>\n",
       "      <td>41</td>\n",
       "      <td>3.86</td>\n",
       "      <td>1</td>\n",
       "      <td>17.29</td>\n",
       "      <td>08:10:06</td>\n",
       "      <td>0.472557</td>\n",
       "      <td>29406</td>\n",
       "    </tr>\n",
       "    <tr>\n",
       "      <th>4</th>\n",
       "      <td>35972301</td>\n",
       "      <td>2017-03-31 06:31:53</td>\n",
       "      <td>2017-03-31 06:41:48</td>\n",
       "      <td>41</td>\n",
       "      <td>162</td>\n",
       "      <td>3.45</td>\n",
       "      <td>1</td>\n",
       "      <td>13.30</td>\n",
       "      <td>00:09:55</td>\n",
       "      <td>20.873950</td>\n",
       "      <td>595</td>\n",
       "    </tr>\n",
       "  </tbody>\n",
       "</table>\n",
       "</div>"
      ],
      "text/plain": [
       "     tripid tpep_pickup_datetime tpep_dropoff_datetime  pulocationid  \\\n",
       "0  35972297  2017-03-09 21:30:11   2017-03-09 21:44:20           148   \n",
       "1  35972298  2017-03-09 21:47:00   2017-03-09 21:58:01            48   \n",
       "2  35972299  2017-03-09 22:01:08   2017-03-09 22:11:16            79   \n",
       "3  35972300  2017-03-09 22:16:05   2017-03-10 06:26:11           237   \n",
       "4  35972301  2017-03-31 06:31:53   2017-03-31 06:41:48            41   \n",
       "\n",
       "   dolocationid  trip_distance  passenger_count  total_amount trip_time  \\\n",
       "0            48           4.06                1         18.36  00:14:09   \n",
       "1           107           2.73                1         12.80  00:11:01   \n",
       "2           162           2.27                1         14.12  00:10:08   \n",
       "3            41           3.86                1         17.29  08:10:06   \n",
       "4           162           3.45                1         13.30  00:09:55   \n",
       "\n",
       "   trip_avg_speed  trip_time_sec  \n",
       "0       17.215548            849  \n",
       "1       14.868381            661  \n",
       "2       13.440789            608  \n",
       "3        0.472557          29406  \n",
       "4       20.873950            595  "
      ]
     },
     "execution_count": 2,
     "metadata": {},
     "output_type": "execute_result"
    }
   ],
   "source": [
    "# Load already cleaned data sample using plain pandas\n",
    "t1 = time.time()\n",
    "table = pd.read_csv('dataset/nytaxi_yellow_2017_mar.csv')\n",
    "print(f'Load time is {time.time() - t1 :2f}.')\n",
    "table.head()"
   ]
  },
  {
   "cell_type": "markdown",
   "metadata": {},
   "source": [
    "### 2. First sight of the data"
   ]
  },
  {
   "cell_type": "markdown",
   "metadata": {},
   "source": [
    "Let's see the the type of columns and some basic statistics of the sample data:"
   ]
  },
  {
   "cell_type": "code",
   "execution_count": 3,
   "metadata": {
    "ExecuteTime": {
     "end_time": "2019-03-05T13:48:15.660512Z",
     "start_time": "2019-03-05T13:48:15.654536Z"
    }
   },
   "outputs": [
    {
     "data": {
      "text/plain": [
       "tripid                     int64\n",
       "tpep_pickup_datetime      object\n",
       "tpep_dropoff_datetime     object\n",
       "pulocationid               int64\n",
       "dolocationid               int64\n",
       "trip_distance            float64\n",
       "passenger_count            int64\n",
       "total_amount             float64\n",
       "trip_time                 object\n",
       "trip_avg_speed           float64\n",
       "trip_time_sec              int64\n",
       "dtype: object"
      ]
     },
     "execution_count": 3,
     "metadata": {},
     "output_type": "execute_result"
    }
   ],
   "source": [
    "# column data types\n",
    "table.dtypes"
   ]
  },
  {
   "cell_type": "code",
   "execution_count": 4,
   "metadata": {
    "ExecuteTime": {
     "end_time": "2019-03-05T13:48:15.676469Z",
     "start_time": "2019-03-05T13:48:15.663505Z"
    }
   },
   "outputs": [
    {
     "data": {
      "text/plain": [
       "(10222693, 11)"
      ]
     },
     "execution_count": 4,
     "metadata": {},
     "output_type": "execute_result"
    }
   ],
   "source": [
    "# rows and columns\n",
    "table.shape"
   ]
  },
  {
   "cell_type": "code",
   "execution_count": 5,
   "metadata": {
    "ExecuteTime": {
     "end_time": "2019-03-05T13:48:19.793219Z",
     "start_time": "2019-03-05T13:48:15.678465Z"
    },
    "scrolled": true
   },
   "outputs": [
    {
     "data": {
      "text/html": [
       "<div>\n",
       "<style scoped>\n",
       "    .dataframe tbody tr th:only-of-type {\n",
       "        vertical-align: middle;\n",
       "    }\n",
       "\n",
       "    .dataframe tbody tr th {\n",
       "        vertical-align: top;\n",
       "    }\n",
       "\n",
       "    .dataframe thead th {\n",
       "        text-align: right;\n",
       "    }\n",
       "</style>\n",
       "<table border=\"1\" class=\"dataframe\">\n",
       "  <thead>\n",
       "    <tr style=\"text-align: right;\">\n",
       "      <th></th>\n",
       "      <th>tripid</th>\n",
       "      <th>pulocationid</th>\n",
       "      <th>dolocationid</th>\n",
       "      <th>trip_distance</th>\n",
       "      <th>passenger_count</th>\n",
       "      <th>total_amount</th>\n",
       "      <th>trip_avg_speed</th>\n",
       "      <th>trip_time_sec</th>\n",
       "    </tr>\n",
       "  </thead>\n",
       "  <tbody>\n",
       "    <tr>\n",
       "      <th>count</th>\n",
       "      <td>1.022269e+07</td>\n",
       "      <td>1.022269e+07</td>\n",
       "      <td>1.022269e+07</td>\n",
       "      <td>1.022269e+07</td>\n",
       "      <td>1.022269e+07</td>\n",
       "      <td>1.022269e+07</td>\n",
       "      <td>1.022269e+07</td>\n",
       "      <td>1.022269e+07</td>\n",
       "    </tr>\n",
       "    <tr>\n",
       "      <th>mean</th>\n",
       "      <td>4.111633e+07</td>\n",
       "      <td>1.628358e+02</td>\n",
       "      <td>1.606278e+02</td>\n",
       "      <td>2.901967e+00</td>\n",
       "      <td>1.620054e+00</td>\n",
       "      <td>1.616599e+01</td>\n",
       "      <td>1.323708e+01</td>\n",
       "      <td>9.780669e+02</td>\n",
       "    </tr>\n",
       "    <tr>\n",
       "      <th>std</th>\n",
       "      <td>2.970536e+06</td>\n",
       "      <td>6.681396e+01</td>\n",
       "      <td>7.073184e+01</td>\n",
       "      <td>3.723218e+00</td>\n",
       "      <td>1.264253e+00</td>\n",
       "      <td>5.567127e+01</td>\n",
       "      <td>1.710127e+02</td>\n",
       "      <td>3.093039e+03</td>\n",
       "    </tr>\n",
       "    <tr>\n",
       "      <th>min</th>\n",
       "      <td>3.597230e+07</td>\n",
       "      <td>1.000000e+00</td>\n",
       "      <td>1.000000e+00</td>\n",
       "      <td>1.000000e-02</td>\n",
       "      <td>0.000000e+00</td>\n",
       "      <td>-3.088000e+02</td>\n",
       "      <td>4.173236e-04</td>\n",
       "      <td>1.000000e+00</td>\n",
       "    </tr>\n",
       "    <tr>\n",
       "      <th>25%</th>\n",
       "      <td>3.854368e+07</td>\n",
       "      <td>1.140000e+02</td>\n",
       "      <td>1.070000e+02</td>\n",
       "      <td>9.600000e-01</td>\n",
       "      <td>1.000000e+00</td>\n",
       "      <td>8.500000e+00</td>\n",
       "      <td>7.200000e+00</td>\n",
       "      <td>4.000000e+02</td>\n",
       "    </tr>\n",
       "    <tr>\n",
       "      <th>50%</th>\n",
       "      <td>4.111552e+07</td>\n",
       "      <td>1.620000e+02</td>\n",
       "      <td>1.620000e+02</td>\n",
       "      <td>1.600000e+00</td>\n",
       "      <td>1.000000e+00</td>\n",
       "      <td>1.180000e+01</td>\n",
       "      <td>9.783752e+00</td>\n",
       "      <td>6.710000e+02</td>\n",
       "    </tr>\n",
       "    <tr>\n",
       "      <th>75%</th>\n",
       "      <td>4.368896e+07</td>\n",
       "      <td>2.330000e+02</td>\n",
       "      <td>2.330000e+02</td>\n",
       "      <td>3.000000e+00</td>\n",
       "      <td>2.000000e+00</td>\n",
       "      <td>1.776000e+01</td>\n",
       "      <td>1.333333e+01</td>\n",
       "      <td>1.105000e+03</td>\n",
       "    </tr>\n",
       "    <tr>\n",
       "      <th>max</th>\n",
       "      <td>4.626690e+07</td>\n",
       "      <td>2.650000e+02</td>\n",
       "      <td>2.650000e+02</td>\n",
       "      <td>5.985000e+02</td>\n",
       "      <td>9.000000e+00</td>\n",
       "      <td>1.718636e+05</td>\n",
       "      <td>9.612000e+04</td>\n",
       "      <td>9.788700e+04</td>\n",
       "    </tr>\n",
       "  </tbody>\n",
       "</table>\n",
       "</div>"
      ],
      "text/plain": [
       "             tripid  pulocationid  dolocationid  trip_distance  \\\n",
       "count  1.022269e+07  1.022269e+07  1.022269e+07   1.022269e+07   \n",
       "mean   4.111633e+07  1.628358e+02  1.606278e+02   2.901967e+00   \n",
       "std    2.970536e+06  6.681396e+01  7.073184e+01   3.723218e+00   \n",
       "min    3.597230e+07  1.000000e+00  1.000000e+00   1.000000e-02   \n",
       "25%    3.854368e+07  1.140000e+02  1.070000e+02   9.600000e-01   \n",
       "50%    4.111552e+07  1.620000e+02  1.620000e+02   1.600000e+00   \n",
       "75%    4.368896e+07  2.330000e+02  2.330000e+02   3.000000e+00   \n",
       "max    4.626690e+07  2.650000e+02  2.650000e+02   5.985000e+02   \n",
       "\n",
       "       passenger_count  total_amount  trip_avg_speed  trip_time_sec  \n",
       "count     1.022269e+07  1.022269e+07    1.022269e+07   1.022269e+07  \n",
       "mean      1.620054e+00  1.616599e+01    1.323708e+01   9.780669e+02  \n",
       "std       1.264253e+00  5.567127e+01    1.710127e+02   3.093039e+03  \n",
       "min       0.000000e+00 -3.088000e+02    4.173236e-04   1.000000e+00  \n",
       "25%       1.000000e+00  8.500000e+00    7.200000e+00   4.000000e+02  \n",
       "50%       1.000000e+00  1.180000e+01    9.783752e+00   6.710000e+02  \n",
       "75%       2.000000e+00  1.776000e+01    1.333333e+01   1.105000e+03  \n",
       "max       9.000000e+00  1.718636e+05    9.612000e+04   9.788700e+04  "
      ]
     },
     "execution_count": 5,
     "metadata": {},
     "output_type": "execute_result"
    }
   ],
   "source": [
    "# basic statistics\n",
    "table.describe()"
   ]
  },
  {
   "cell_type": "markdown",
   "metadata": {},
   "source": [
    "The columns we will use are: **tpep_pickup_datetime, pulocationid, tpep_dropoff_datetime, dolocationid.**\n",
    "These information are used to generate graphs that are used to discribe the general traffic state of New York.\n",
    "\n",
    "Notice currently the **tpep_pickup_datetime** and **tpep_dropoff_datetime** are of type `object`:"
   ]
  },
  {
   "cell_type": "code",
   "execution_count": 6,
   "metadata": {
    "ExecuteTime": {
     "end_time": "2019-03-05T13:48:19.937342Z",
     "start_time": "2019-03-05T13:48:19.795214Z"
    }
   },
   "outputs": [
    {
     "data": {
      "text/html": [
       "<div>\n",
       "<style scoped>\n",
       "    .dataframe tbody tr th:only-of-type {\n",
       "        vertical-align: middle;\n",
       "    }\n",
       "\n",
       "    .dataframe tbody tr th {\n",
       "        vertical-align: top;\n",
       "    }\n",
       "\n",
       "    .dataframe thead th {\n",
       "        text-align: right;\n",
       "    }\n",
       "</style>\n",
       "<table border=\"1\" class=\"dataframe\">\n",
       "  <thead>\n",
       "    <tr style=\"text-align: right;\">\n",
       "      <th></th>\n",
       "      <th>tpep_pickup_datetime</th>\n",
       "      <th>tpep_dropoff_datetime</th>\n",
       "    </tr>\n",
       "  </thead>\n",
       "  <tbody>\n",
       "    <tr>\n",
       "      <th>0</th>\n",
       "      <td>2017-03-09 21:30:11</td>\n",
       "      <td>2017-03-09 21:44:20</td>\n",
       "    </tr>\n",
       "    <tr>\n",
       "      <th>1</th>\n",
       "      <td>2017-03-09 21:47:00</td>\n",
       "      <td>2017-03-09 21:58:01</td>\n",
       "    </tr>\n",
       "    <tr>\n",
       "      <th>2</th>\n",
       "      <td>2017-03-09 22:01:08</td>\n",
       "      <td>2017-03-09 22:11:16</td>\n",
       "    </tr>\n",
       "    <tr>\n",
       "      <th>3</th>\n",
       "      <td>2017-03-09 22:16:05</td>\n",
       "      <td>2017-03-10 06:26:11</td>\n",
       "    </tr>\n",
       "    <tr>\n",
       "      <th>4</th>\n",
       "      <td>2017-03-31 06:31:53</td>\n",
       "      <td>2017-03-31 06:41:48</td>\n",
       "    </tr>\n",
       "  </tbody>\n",
       "</table>\n",
       "</div>"
      ],
      "text/plain": [
       "  tpep_pickup_datetime tpep_dropoff_datetime\n",
       "0  2017-03-09 21:30:11   2017-03-09 21:44:20\n",
       "1  2017-03-09 21:47:00   2017-03-09 21:58:01\n",
       "2  2017-03-09 22:01:08   2017-03-09 22:11:16\n",
       "3  2017-03-09 22:16:05   2017-03-10 06:26:11\n",
       "4  2017-03-31 06:31:53   2017-03-31 06:41:48"
      ]
     },
     "execution_count": 6,
     "metadata": {},
     "output_type": "execute_result"
    }
   ],
   "source": [
    "table.loc[:,['tpep_pickup_datetime', 'tpep_dropoff_datetime']].head()"
   ]
  },
  {
   "cell_type": "markdown",
   "metadata": {},
   "source": [
    "In order to do **time slice** later, these two feilds must be sorted in chronological mananer, first by `tpep_pickup_datetime` and then by `tpep_dropoff_datetime`, as follows:"
   ]
  },
  {
   "cell_type": "code",
   "execution_count": 7,
   "metadata": {
    "ExecuteTime": {
     "end_time": "2019-03-05T13:48:30.240296Z",
     "start_time": "2019-03-05T13:48:19.938339Z"
    }
   },
   "outputs": [
    {
     "data": {
      "text/html": [
       "<div>\n",
       "<style scoped>\n",
       "    .dataframe tbody tr th:only-of-type {\n",
       "        vertical-align: middle;\n",
       "    }\n",
       "\n",
       "    .dataframe tbody tr th {\n",
       "        vertical-align: top;\n",
       "    }\n",
       "\n",
       "    .dataframe thead th {\n",
       "        text-align: right;\n",
       "    }\n",
       "</style>\n",
       "<table border=\"1\" class=\"dataframe\">\n",
       "  <thead>\n",
       "    <tr style=\"text-align: right;\">\n",
       "      <th></th>\n",
       "      <th>tripid</th>\n",
       "      <th>tpep_pickup_datetime</th>\n",
       "      <th>tpep_dropoff_datetime</th>\n",
       "      <th>pulocationid</th>\n",
       "      <th>dolocationid</th>\n",
       "      <th>trip_distance</th>\n",
       "      <th>passenger_count</th>\n",
       "      <th>total_amount</th>\n",
       "      <th>trip_time</th>\n",
       "      <th>trip_avg_speed</th>\n",
       "      <th>trip_time_sec</th>\n",
       "    </tr>\n",
       "  </thead>\n",
       "  <tbody>\n",
       "    <tr>\n",
       "      <th>10</th>\n",
       "      <td>35972307</td>\n",
       "      <td>2017-03-01 00:00:00</td>\n",
       "      <td>2017-03-01 00:07:26</td>\n",
       "      <td>161</td>\n",
       "      <td>113</td>\n",
       "      <td>2.07</td>\n",
       "      <td>1</td>\n",
       "      <td>11.76</td>\n",
       "      <td>00:07:26</td>\n",
       "      <td>16.708520</td>\n",
       "      <td>446</td>\n",
       "    </tr>\n",
       "    <tr>\n",
       "      <th>11</th>\n",
       "      <td>35972308</td>\n",
       "      <td>2017-03-01 00:00:00</td>\n",
       "      <td>2017-03-01 00:07:51</td>\n",
       "      <td>170</td>\n",
       "      <td>161</td>\n",
       "      <td>1.26</td>\n",
       "      <td>2</td>\n",
       "      <td>9.96</td>\n",
       "      <td>00:07:51</td>\n",
       "      <td>9.630573</td>\n",
       "      <td>471</td>\n",
       "    </tr>\n",
       "    <tr>\n",
       "      <th>12</th>\n",
       "      <td>35972309</td>\n",
       "      <td>2017-03-01 00:00:00</td>\n",
       "      <td>2017-03-01 00:10:40</td>\n",
       "      <td>256</td>\n",
       "      <td>65</td>\n",
       "      <td>2.91</td>\n",
       "      <td>1</td>\n",
       "      <td>15.36</td>\n",
       "      <td>00:10:40</td>\n",
       "      <td>16.368750</td>\n",
       "      <td>640</td>\n",
       "    </tr>\n",
       "    <tr>\n",
       "      <th>5</th>\n",
       "      <td>35972302</td>\n",
       "      <td>2017-03-01 00:00:00</td>\n",
       "      <td>2017-03-01 00:14:22</td>\n",
       "      <td>261</td>\n",
       "      <td>79</td>\n",
       "      <td>2.80</td>\n",
       "      <td>1</td>\n",
       "      <td>14.80</td>\n",
       "      <td>00:14:22</td>\n",
       "      <td>11.693735</td>\n",
       "      <td>862</td>\n",
       "    </tr>\n",
       "    <tr>\n",
       "      <th>6</th>\n",
       "      <td>35972303</td>\n",
       "      <td>2017-03-01 00:00:00</td>\n",
       "      <td>2017-03-01 00:19:30</td>\n",
       "      <td>87</td>\n",
       "      <td>142</td>\n",
       "      <td>6.00</td>\n",
       "      <td>1</td>\n",
       "      <td>24.30</td>\n",
       "      <td>00:19:30</td>\n",
       "      <td>18.461538</td>\n",
       "      <td>1170</td>\n",
       "    </tr>\n",
       "    <tr>\n",
       "      <th>8</th>\n",
       "      <td>35972305</td>\n",
       "      <td>2017-03-01 00:00:00</td>\n",
       "      <td>2017-03-01 00:21:31</td>\n",
       "      <td>68</td>\n",
       "      <td>141</td>\n",
       "      <td>3.70</td>\n",
       "      <td>1</td>\n",
       "      <td>19.30</td>\n",
       "      <td>00:21:31</td>\n",
       "      <td>10.317583</td>\n",
       "      <td>1291</td>\n",
       "    </tr>\n",
       "    <tr>\n",
       "      <th>7</th>\n",
       "      <td>35972304</td>\n",
       "      <td>2017-03-01 00:00:00</td>\n",
       "      <td>2017-03-01 00:34:27</td>\n",
       "      <td>142</td>\n",
       "      <td>181</td>\n",
       "      <td>8.70</td>\n",
       "      <td>1</td>\n",
       "      <td>39.10</td>\n",
       "      <td>00:34:27</td>\n",
       "      <td>15.152395</td>\n",
       "      <td>2067</td>\n",
       "    </tr>\n",
       "    <tr>\n",
       "      <th>13</th>\n",
       "      <td>35972310</td>\n",
       "      <td>2017-03-01 00:00:00</td>\n",
       "      <td>2017-03-01 06:46:27</td>\n",
       "      <td>132</td>\n",
       "      <td>10</td>\n",
       "      <td>4.70</td>\n",
       "      <td>1</td>\n",
       "      <td>16.60</td>\n",
       "      <td>06:46:27</td>\n",
       "      <td>0.693812</td>\n",
       "      <td>24387</td>\n",
       "    </tr>\n",
       "    <tr>\n",
       "      <th>15</th>\n",
       "      <td>35972314</td>\n",
       "      <td>2017-03-01 00:00:01</td>\n",
       "      <td>2017-03-01 00:06:09</td>\n",
       "      <td>100</td>\n",
       "      <td>230</td>\n",
       "      <td>0.83</td>\n",
       "      <td>1</td>\n",
       "      <td>9.12</td>\n",
       "      <td>00:06:08</td>\n",
       "      <td>8.119565</td>\n",
       "      <td>368</td>\n",
       "    </tr>\n",
       "    <tr>\n",
       "      <th>14</th>\n",
       "      <td>35972313</td>\n",
       "      <td>2017-03-01 00:00:01</td>\n",
       "      <td>2017-03-01 00:30:30</td>\n",
       "      <td>45</td>\n",
       "      <td>116</td>\n",
       "      <td>9.40</td>\n",
       "      <td>3</td>\n",
       "      <td>39.35</td>\n",
       "      <td>00:30:29</td>\n",
       "      <td>18.501914</td>\n",
       "      <td>1829</td>\n",
       "    </tr>\n",
       "  </tbody>\n",
       "</table>\n",
       "</div>"
      ],
      "text/plain": [
       "      tripid tpep_pickup_datetime tpep_dropoff_datetime  pulocationid  \\\n",
       "10  35972307  2017-03-01 00:00:00   2017-03-01 00:07:26           161   \n",
       "11  35972308  2017-03-01 00:00:00   2017-03-01 00:07:51           170   \n",
       "12  35972309  2017-03-01 00:00:00   2017-03-01 00:10:40           256   \n",
       "5   35972302  2017-03-01 00:00:00   2017-03-01 00:14:22           261   \n",
       "6   35972303  2017-03-01 00:00:00   2017-03-01 00:19:30            87   \n",
       "8   35972305  2017-03-01 00:00:00   2017-03-01 00:21:31            68   \n",
       "7   35972304  2017-03-01 00:00:00   2017-03-01 00:34:27           142   \n",
       "13  35972310  2017-03-01 00:00:00   2017-03-01 06:46:27           132   \n",
       "15  35972314  2017-03-01 00:00:01   2017-03-01 00:06:09           100   \n",
       "14  35972313  2017-03-01 00:00:01   2017-03-01 00:30:30            45   \n",
       "\n",
       "    dolocationid  trip_distance  passenger_count  total_amount trip_time  \\\n",
       "10           113           2.07                1         11.76  00:07:26   \n",
       "11           161           1.26                2          9.96  00:07:51   \n",
       "12            65           2.91                1         15.36  00:10:40   \n",
       "5             79           2.80                1         14.80  00:14:22   \n",
       "6            142           6.00                1         24.30  00:19:30   \n",
       "8            141           3.70                1         19.30  00:21:31   \n",
       "7            181           8.70                1         39.10  00:34:27   \n",
       "13            10           4.70                1         16.60  06:46:27   \n",
       "15           230           0.83                1          9.12  00:06:08   \n",
       "14           116           9.40                3         39.35  00:30:29   \n",
       "\n",
       "    trip_avg_speed  trip_time_sec  \n",
       "10       16.708520            446  \n",
       "11        9.630573            471  \n",
       "12       16.368750            640  \n",
       "5        11.693735            862  \n",
       "6        18.461538           1170  \n",
       "8        10.317583           1291  \n",
       "7        15.152395           2067  \n",
       "13        0.693812          24387  \n",
       "15        8.119565            368  \n",
       "14       18.501914           1829  "
      ]
     },
     "execution_count": 7,
     "metadata": {},
     "output_type": "execute_result"
    }
   ],
   "source": [
    "# pick first 10 rows\n",
    "# not supported for dask DataFrame\n",
    "table.sort_values(by=['tpep_pickup_datetime', 'tpep_dropoff_datetime']).head(10)"
   ]
  },
  {
   "cell_type": "markdown",
   "metadata": {},
   "source": [
    "We can see from above that the taxi trips are nicely sorted according to **time**. What we need to do is convert this tabular date into graphs that described by **adjacency matrice**.\n",
    "\n",
    "First, let's see what are `pulocationid` and `dolocationid`:\n",
    "\n",
    "<img src=\"images/map.jpg\" align=\"center\" width=\"60%\">"
   ]
  },
  {
   "cell_type": "markdown",
   "metadata": {},
   "source": [
    "They are code number for a district in Manhattan, New York. We will mainly describe the traffic state and prediction at **this** level."
   ]
  },
  {
   "cell_type": "markdown",
   "metadata": {},
   "source": [
    "### 3. Time slicing\n",
    "\n",
    "Now we've done a very superficial exploration of the data. It's time to convert the tabular data to graphs that are to be fed into our neural network model.\n",
    "\n",
    "The first problem is, **how to decide a feasible time interval?**\n",
    "\n",
    "Of course, the time interval should be a varaible that is to be selected **per need. However,** it is a reasonable thinking to let a time interval (i.e. a **snapshot**) to contain as many as **complete trip** as possible. See the diagram below:\n",
    "\n",
    "<img src=\"images/snapshot.png\" align=\"center\" width=\"70%\">"
   ]
  },
  {
   "cell_type": "markdown",
   "metadata": {},
   "source": [
    "#### **If the time interval is too small**:\n",
    "\n",
    "The majority of the matrices will be very sparse or even completely blank.\n",
    "\n",
    "#### If the time interval is too big:\n",
    "\n",
    "Then information about trips will be densely squeezed into one matrix and a lot of details on changes along time will be lost.\n",
    "\n",
    "Thus, it is important to choose time interval wisely. Let's look at the data again:"
   ]
  },
  {
   "cell_type": "code",
   "execution_count": 8,
   "metadata": {
    "ExecuteTime": {
     "end_time": "2019-03-05T13:48:31.933165Z",
     "start_time": "2019-03-05T13:48:30.241316Z"
    }
   },
   "outputs": [
    {
     "data": {
      "text/html": [
       "<div>\n",
       "<style scoped>\n",
       "    .dataframe tbody tr th:only-of-type {\n",
       "        vertical-align: middle;\n",
       "    }\n",
       "\n",
       "    .dataframe tbody tr th {\n",
       "        vertical-align: top;\n",
       "    }\n",
       "\n",
       "    .dataframe thead th {\n",
       "        text-align: right;\n",
       "    }\n",
       "</style>\n",
       "<table border=\"1\" class=\"dataframe\">\n",
       "  <thead>\n",
       "    <tr style=\"text-align: right;\">\n",
       "      <th></th>\n",
       "      <th>trip_distance</th>\n",
       "      <th>trip_time_sec</th>\n",
       "      <th>trip_avg_speed</th>\n",
       "    </tr>\n",
       "  </thead>\n",
       "  <tbody>\n",
       "    <tr>\n",
       "      <th>count</th>\n",
       "      <td>1.022269e+07</td>\n",
       "      <td>1.022269e+07</td>\n",
       "      <td>1.022269e+07</td>\n",
       "    </tr>\n",
       "    <tr>\n",
       "      <th>mean</th>\n",
       "      <td>2.901967e+00</td>\n",
       "      <td>9.780669e+02</td>\n",
       "      <td>1.323708e+01</td>\n",
       "    </tr>\n",
       "    <tr>\n",
       "      <th>std</th>\n",
       "      <td>3.723218e+00</td>\n",
       "      <td>3.093039e+03</td>\n",
       "      <td>1.710127e+02</td>\n",
       "    </tr>\n",
       "    <tr>\n",
       "      <th>min</th>\n",
       "      <td>1.000000e-02</td>\n",
       "      <td>1.000000e+00</td>\n",
       "      <td>4.173236e-04</td>\n",
       "    </tr>\n",
       "    <tr>\n",
       "      <th>25%</th>\n",
       "      <td>9.600000e-01</td>\n",
       "      <td>4.000000e+02</td>\n",
       "      <td>7.200000e+00</td>\n",
       "    </tr>\n",
       "    <tr>\n",
       "      <th>50%</th>\n",
       "      <td>1.600000e+00</td>\n",
       "      <td>6.710000e+02</td>\n",
       "      <td>9.783752e+00</td>\n",
       "    </tr>\n",
       "    <tr>\n",
       "      <th>75%</th>\n",
       "      <td>3.000000e+00</td>\n",
       "      <td>1.105000e+03</td>\n",
       "      <td>1.333333e+01</td>\n",
       "    </tr>\n",
       "    <tr>\n",
       "      <th>max</th>\n",
       "      <td>5.985000e+02</td>\n",
       "      <td>9.788700e+04</td>\n",
       "      <td>9.612000e+04</td>\n",
       "    </tr>\n",
       "  </tbody>\n",
       "</table>\n",
       "</div>"
      ],
      "text/plain": [
       "       trip_distance  trip_time_sec  trip_avg_speed\n",
       "count   1.022269e+07   1.022269e+07    1.022269e+07\n",
       "mean    2.901967e+00   9.780669e+02    1.323708e+01\n",
       "std     3.723218e+00   3.093039e+03    1.710127e+02\n",
       "min     1.000000e-02   1.000000e+00    4.173236e-04\n",
       "25%     9.600000e-01   4.000000e+02    7.200000e+00\n",
       "50%     1.600000e+00   6.710000e+02    9.783752e+00\n",
       "75%     3.000000e+00   1.105000e+03    1.333333e+01\n",
       "max     5.985000e+02   9.788700e+04    9.612000e+04"
      ]
     },
     "execution_count": 8,
     "metadata": {},
     "output_type": "execute_result"
    }
   ],
   "source": [
    "table.loc[:,['trip_distance', 'trip_time_sec', 'trip_avg_speed']].describe()"
   ]
  },
  {
   "cell_type": "markdown",
   "metadata": {},
   "source": [
    "The an average trip lasts for roughly 900 seconds, which is **15 minutes**.\n",
    "\n",
    "The median(i.e. 50% percentile) is roughly 600 seconds, which is **10 minutes**.\n",
    "\n",
    "Let's plot the distribution of column `trip_time_sec` to have a better intuition:"
   ]
  },
  {
   "cell_type": "code",
   "execution_count": 9,
   "metadata": {
    "ExecuteTime": {
     "end_time": "2019-03-05T13:48:34.499950Z",
     "start_time": "2019-03-05T13:48:31.934161Z"
    }
   },
   "outputs": [
    {
     "data": {
      "image/png": "[encoded data removed]",
      "text/plain": [
       "<Figure size 432x288 with 1 Axes>"
      ]
     },
     "metadata": {
      "image/png": {
       "height": 269,
       "width": 401
      }
     },
     "output_type": "display_data"
    }
   ],
   "source": [
    "warnings.simplefilter('ignore')\n",
    "sns.set(color_codes=True)\n",
    "sns.distplot(table.loc[:,'trip_time_sec']);"
   ]
  },
  {
   "cell_type": "markdown",
   "metadata": {},
   "source": [
    "It seems that the trips are mostly concentrated in a shorter time range, while some outliers may significantly biased the average.\n",
    "\n",
    "Let's see how how many trips are longer than 30 minutes (1800 secs):"
   ]
  },
  {
   "cell_type": "code",
   "execution_count": 10,
   "metadata": {
    "ExecuteTime": {
     "end_time": "2019-03-05T13:48:34.657133Z",
     "start_time": "2019-03-05T13:48:34.500950Z"
    }
   },
   "outputs": [
    {
     "data": {
      "text/plain": [
       "0.08854594381343546"
      ]
     },
     "execution_count": 10,
     "metadata": {},
     "output_type": "execute_result"
    }
   ],
   "source": [
    "# rows with column 'trip_time_sec' value larger than 1800 divided by total number of rows\n",
    "table.loc[table['trip_time_sec'] > 1800].shape[0] / table.shape[0]"
   ]
  },
  {
   "cell_type": "markdown",
   "metadata": {},
   "source": [
    "Dask version of above cell:"
   ]
  },
  {
   "cell_type": "markdown",
   "metadata": {},
   "source": [
    "There are **95%** of the trips last shorter than 30 minutes, let's plot distribution at this range:"
   ]
  },
  {
   "cell_type": "code",
   "execution_count": 11,
   "metadata": {
    "ExecuteTime": {
     "end_time": "2019-03-05T13:48:37.500371Z",
     "start_time": "2019-03-05T13:48:34.658130Z"
    },
    "scrolled": true
   },
   "outputs": [
    {
     "data": {
      "image/png": "[encoded data removed]",
      "text/plain": [
       "<Figure size 432x288 with 1 Axes>"
      ]
     },
     "metadata": {
      "image/png": {
       "height": 269,
       "width": 395
      }
     },
     "output_type": "display_data"
    }
   ],
   "source": [
    "# distribution of 95% trip data in time duration\n",
    "temp = table.loc[table['trip_time_sec'] <= 1800]\n",
    "sns.distplot(temp.loc[:,'trip_time_sec']);"
   ]
  },
  {
   "cell_type": "code",
   "execution_count": 12,
   "metadata": {
    "ExecuteTime": {
     "end_time": "2019-03-05T13:48:39.015513Z",
     "start_time": "2019-03-05T13:48:37.501368Z"
    },
    "scrolled": true
   },
   "outputs": [
    {
     "data": {
      "text/html": [
       "<div>\n",
       "<style scoped>\n",
       "    .dataframe tbody tr th:only-of-type {\n",
       "        vertical-align: middle;\n",
       "    }\n",
       "\n",
       "    .dataframe tbody tr th {\n",
       "        vertical-align: top;\n",
       "    }\n",
       "\n",
       "    .dataframe thead th {\n",
       "        text-align: right;\n",
       "    }\n",
       "</style>\n",
       "<table border=\"1\" class=\"dataframe\">\n",
       "  <thead>\n",
       "    <tr style=\"text-align: right;\">\n",
       "      <th></th>\n",
       "      <th>trip_distance</th>\n",
       "      <th>trip_time_sec</th>\n",
       "      <th>trip_avg_speed</th>\n",
       "    </tr>\n",
       "  </thead>\n",
       "  <tbody>\n",
       "    <tr>\n",
       "      <th>count</th>\n",
       "      <td>9.317515e+06</td>\n",
       "      <td>9.317515e+06</td>\n",
       "      <td>9.317515e+06</td>\n",
       "    </tr>\n",
       "    <tr>\n",
       "      <th>mean</th>\n",
       "      <td>2.148575e+00</td>\n",
       "      <td>7.004445e+02</td>\n",
       "      <td>1.309235e+01</td>\n",
       "    </tr>\n",
       "    <tr>\n",
       "      <th>std</th>\n",
       "      <td>2.189116e+00</td>\n",
       "      <td>4.069984e+02</td>\n",
       "      <td>1.791067e+02</td>\n",
       "    </tr>\n",
       "    <tr>\n",
       "      <th>min</th>\n",
       "      <td>1.000000e-02</td>\n",
       "      <td>1.000000e+00</td>\n",
       "      <td>2.342225e-02</td>\n",
       "    </tr>\n",
       "    <tr>\n",
       "      <th>25%</th>\n",
       "      <td>9.000000e-01</td>\n",
       "      <td>3.780000e+02</td>\n",
       "      <td>7.156408e+00</td>\n",
       "    </tr>\n",
       "    <tr>\n",
       "      <th>50%</th>\n",
       "      <td>1.500000e+00</td>\n",
       "      <td>6.170000e+02</td>\n",
       "      <td>9.600000e+00</td>\n",
       "    </tr>\n",
       "    <tr>\n",
       "      <th>75%</th>\n",
       "      <td>2.500000e+00</td>\n",
       "      <td>9.570000e+02</td>\n",
       "      <td>1.284567e+01</td>\n",
       "    </tr>\n",
       "    <tr>\n",
       "      <th>max</th>\n",
       "      <td>5.985000e+02</td>\n",
       "      <td>1.800000e+03</td>\n",
       "      <td>9.612000e+04</td>\n",
       "    </tr>\n",
       "  </tbody>\n",
       "</table>\n",
       "</div>"
      ],
      "text/plain": [
       "       trip_distance  trip_time_sec  trip_avg_speed\n",
       "count   9.317515e+06   9.317515e+06    9.317515e+06\n",
       "mean    2.148575e+00   7.004445e+02    1.309235e+01\n",
       "std     2.189116e+00   4.069984e+02    1.791067e+02\n",
       "min     1.000000e-02   1.000000e+00    2.342225e-02\n",
       "25%     9.000000e-01   3.780000e+02    7.156408e+00\n",
       "50%     1.500000e+00   6.170000e+02    9.600000e+00\n",
       "75%     2.500000e+00   9.570000e+02    1.284567e+01\n",
       "max     5.985000e+02   1.800000e+03    9.612000e+04"
      ]
     },
     "execution_count": 12,
     "metadata": {},
     "output_type": "execute_result"
    }
   ],
   "source": [
    "# statistics on the 95% data\n",
    "temp.loc[:,['trip_distance', 'trip_time_sec', 'trip_avg_speed']].describe()"
   ]
  },
  {
   "cell_type": "code",
   "execution_count": 13,
   "metadata": {
    "ExecuteTime": {
     "end_time": "2019-03-05T13:48:39.199406Z",
     "start_time": "2019-03-05T13:48:39.016510Z"
    }
   },
   "outputs": [
    {
     "data": {
      "text/html": [
       "<div>\n",
       "<style scoped>\n",
       "    .dataframe tbody tr th:only-of-type {\n",
       "        vertical-align: middle;\n",
       "    }\n",
       "\n",
       "    .dataframe tbody tr th {\n",
       "        vertical-align: top;\n",
       "    }\n",
       "\n",
       "    .dataframe thead th {\n",
       "        text-align: right;\n",
       "    }\n",
       "</style>\n",
       "<table border=\"1\" class=\"dataframe\">\n",
       "  <thead>\n",
       "    <tr style=\"text-align: right;\">\n",
       "      <th></th>\n",
       "      <th>trip_time_sec</th>\n",
       "    </tr>\n",
       "  </thead>\n",
       "  <tbody>\n",
       "    <tr>\n",
       "      <th>1</th>\n",
       "      <td>255</td>\n",
       "    </tr>\n",
       "    <tr>\n",
       "      <th>26</th>\n",
       "      <td>354</td>\n",
       "    </tr>\n",
       "    <tr>\n",
       "      <th>16</th>\n",
       "      <td>374</td>\n",
       "    </tr>\n",
       "    <tr>\n",
       "      <th>18</th>\n",
       "      <td>405</td>\n",
       "    </tr>\n",
       "    <tr>\n",
       "      <th>22</th>\n",
       "      <td>406</td>\n",
       "    </tr>\n",
       "    <tr>\n",
       "      <th>27</th>\n",
       "      <td>418</td>\n",
       "    </tr>\n",
       "    <tr>\n",
       "      <th>19</th>\n",
       "      <td>418</td>\n",
       "    </tr>\n",
       "    <tr>\n",
       "      <th>28</th>\n",
       "      <td>426</td>\n",
       "    </tr>\n",
       "    <tr>\n",
       "      <th>17</th>\n",
       "      <td>426</td>\n",
       "    </tr>\n",
       "    <tr>\n",
       "      <th>29</th>\n",
       "      <td>428</td>\n",
       "    </tr>\n",
       "    <tr>\n",
       "      <th>23</th>\n",
       "      <td>429</td>\n",
       "    </tr>\n",
       "    <tr>\n",
       "      <th>20</th>\n",
       "      <td>430</td>\n",
       "    </tr>\n",
       "    <tr>\n",
       "      <th>13</th>\n",
       "      <td>435</td>\n",
       "    </tr>\n",
       "    <tr>\n",
       "      <th>32</th>\n",
       "      <td>436</td>\n",
       "    </tr>\n",
       "    <tr>\n",
       "      <th>30</th>\n",
       "      <td>436</td>\n",
       "    </tr>\n",
       "    <tr>\n",
       "      <th>21</th>\n",
       "      <td>436</td>\n",
       "    </tr>\n",
       "    <tr>\n",
       "      <th>36</th>\n",
       "      <td>440</td>\n",
       "    </tr>\n",
       "    <tr>\n",
       "      <th>24</th>\n",
       "      <td>460</td>\n",
       "    </tr>\n",
       "    <tr>\n",
       "      <th>14</th>\n",
       "      <td>464</td>\n",
       "    </tr>\n",
       "    <tr>\n",
       "      <th>37</th>\n",
       "      <td>464</td>\n",
       "    </tr>\n",
       "    <tr>\n",
       "      <th>34</th>\n",
       "      <td>466</td>\n",
       "    </tr>\n",
       "    <tr>\n",
       "      <th>33</th>\n",
       "      <td>473</td>\n",
       "    </tr>\n",
       "    <tr>\n",
       "      <th>12</th>\n",
       "      <td>482</td>\n",
       "    </tr>\n",
       "    <tr>\n",
       "      <th>31</th>\n",
       "      <td>486</td>\n",
       "    </tr>\n",
       "    <tr>\n",
       "      <th>25</th>\n",
       "      <td>493</td>\n",
       "    </tr>\n",
       "    <tr>\n",
       "      <th>15</th>\n",
       "      <td>494</td>\n",
       "    </tr>\n",
       "    <tr>\n",
       "      <th>38</th>\n",
       "      <td>506</td>\n",
       "    </tr>\n",
       "    <tr>\n",
       "      <th>11</th>\n",
       "      <td>523</td>\n",
       "    </tr>\n",
       "    <tr>\n",
       "      <th>6</th>\n",
       "      <td>546</td>\n",
       "    </tr>\n",
       "    <tr>\n",
       "      <th>10</th>\n",
       "      <td>553</td>\n",
       "    </tr>\n",
       "    <tr>\n",
       "      <th>...</th>\n",
       "      <td>...</td>\n",
       "    </tr>\n",
       "    <tr>\n",
       "      <th>394</th>\n",
       "      <td>10483</td>\n",
       "    </tr>\n",
       "    <tr>\n",
       "      <th>418</th>\n",
       "      <td>10489</td>\n",
       "    </tr>\n",
       "    <tr>\n",
       "      <th>419</th>\n",
       "      <td>10502</td>\n",
       "    </tr>\n",
       "    <tr>\n",
       "      <th>385</th>\n",
       "      <td>10505</td>\n",
       "    </tr>\n",
       "    <tr>\n",
       "      <th>390</th>\n",
       "      <td>10512</td>\n",
       "    </tr>\n",
       "    <tr>\n",
       "      <th>374</th>\n",
       "      <td>10522</td>\n",
       "    </tr>\n",
       "    <tr>\n",
       "      <th>342</th>\n",
       "      <td>10522</td>\n",
       "    </tr>\n",
       "    <tr>\n",
       "      <th>360</th>\n",
       "      <td>10525</td>\n",
       "    </tr>\n",
       "    <tr>\n",
       "      <th>438</th>\n",
       "      <td>10530</td>\n",
       "    </tr>\n",
       "    <tr>\n",
       "      <th>347</th>\n",
       "      <td>10534</td>\n",
       "    </tr>\n",
       "    <tr>\n",
       "      <th>334</th>\n",
       "      <td>10536</td>\n",
       "    </tr>\n",
       "    <tr>\n",
       "      <th>354</th>\n",
       "      <td>10537</td>\n",
       "    </tr>\n",
       "    <tr>\n",
       "      <th>459</th>\n",
       "      <td>10558</td>\n",
       "    </tr>\n",
       "    <tr>\n",
       "      <th>373</th>\n",
       "      <td>10568</td>\n",
       "    </tr>\n",
       "    <tr>\n",
       "      <th>449</th>\n",
       "      <td>10570</td>\n",
       "    </tr>\n",
       "    <tr>\n",
       "      <th>413</th>\n",
       "      <td>10582</td>\n",
       "    </tr>\n",
       "    <tr>\n",
       "      <th>357</th>\n",
       "      <td>10584</td>\n",
       "    </tr>\n",
       "    <tr>\n",
       "      <th>406</th>\n",
       "      <td>10585</td>\n",
       "    </tr>\n",
       "    <tr>\n",
       "      <th>396</th>\n",
       "      <td>10588</td>\n",
       "    </tr>\n",
       "    <tr>\n",
       "      <th>363</th>\n",
       "      <td>10630</td>\n",
       "    </tr>\n",
       "    <tr>\n",
       "      <th>328</th>\n",
       "      <td>10674</td>\n",
       "    </tr>\n",
       "    <tr>\n",
       "      <th>408</th>\n",
       "      <td>10725</td>\n",
       "    </tr>\n",
       "    <tr>\n",
       "      <th>384</th>\n",
       "      <td>10764</td>\n",
       "    </tr>\n",
       "    <tr>\n",
       "      <th>398</th>\n",
       "      <td>10799</td>\n",
       "    </tr>\n",
       "    <tr>\n",
       "      <th>338</th>\n",
       "      <td>10832</td>\n",
       "    </tr>\n",
       "    <tr>\n",
       "      <th>358</th>\n",
       "      <td>10920</td>\n",
       "    </tr>\n",
       "    <tr>\n",
       "      <th>348</th>\n",
       "      <td>10927</td>\n",
       "    </tr>\n",
       "    <tr>\n",
       "      <th>368</th>\n",
       "      <td>10943</td>\n",
       "    </tr>\n",
       "    <tr>\n",
       "      <th>378</th>\n",
       "      <td>10958</td>\n",
       "    </tr>\n",
       "    <tr>\n",
       "      <th>388</th>\n",
       "      <td>10982</td>\n",
       "    </tr>\n",
       "  </tbody>\n",
       "</table>\n",
       "<p>1800 rows × 1 columns</p>\n",
       "</div>"
      ],
      "text/plain": [
       "     trip_time_sec\n",
       "1              255\n",
       "26             354\n",
       "16             374\n",
       "18             405\n",
       "22             406\n",
       "27             418\n",
       "19             418\n",
       "28             426\n",
       "17             426\n",
       "29             428\n",
       "23             429\n",
       "20             430\n",
       "13             435\n",
       "32             436\n",
       "30             436\n",
       "21             436\n",
       "36             440\n",
       "24             460\n",
       "14             464\n",
       "37             464\n",
       "34             466\n",
       "33             473\n",
       "12             482\n",
       "31             486\n",
       "25             493\n",
       "15             494\n",
       "38             506\n",
       "11             523\n",
       "6              546\n",
       "10             553\n",
       "..             ...\n",
       "394          10483\n",
       "418          10489\n",
       "419          10502\n",
       "385          10505\n",
       "390          10512\n",
       "374          10522\n",
       "342          10522\n",
       "360          10525\n",
       "438          10530\n",
       "347          10534\n",
       "334          10536\n",
       "354          10537\n",
       "459          10558\n",
       "373          10568\n",
       "449          10570\n",
       "413          10582\n",
       "357          10584\n",
       "406          10585\n",
       "396          10588\n",
       "363          10630\n",
       "328          10674\n",
       "408          10725\n",
       "384          10764\n",
       "398          10799\n",
       "338          10832\n",
       "358          10920\n",
       "348          10927\n",
       "368          10943\n",
       "378          10958\n",
       "388          10982\n",
       "\n",
       "[1800 rows x 1 columns]"
      ]
     },
     "execution_count": 13,
     "metadata": {},
     "output_type": "execute_result"
    }
   ],
   "source": [
    "# value and their appearance\n",
    "pd.DataFrame(temp.loc[:,'trip_time_sec'].value_counts().sort_values())"
   ]
  },
  {
   "cell_type": "markdown",
   "metadata": {},
   "source": [
    "More than 50% of the trips have trip time between 6 to 15 minutes, with a median of 10 minutes.\n",
    "\n",
    "#### As a result, we primarily decide to use 10 minutes as time interval."
   ]
  },
  {
   "cell_type": "markdown",
   "metadata": {},
   "source": [
    "### 4. From tabular data to graph"
   ]
  },
  {
   "cell_type": "markdown",
   "metadata": {},
   "source": [
    "Since we have decided a time interval, it's time to generate matrices. Basically, the idea is shown as figure below:\n",
    "\n",
    "<img src=\"images/matrices.png\" align=\"left\" width=\"85%\">"
   ]
  },
  {
   "cell_type": "markdown",
   "metadata": {},
   "source": [
    "Apart from **outgoin** and **incoming** matrices shown above, an additional **Domestic** matrix is add because 50% of trips last less than the **chosen interval 10 minutes**. Such matrices can be combined into a **Tensor** illustrated as follows:\n",
    "\n",
    "<img src=\"images/layers.png\" align=\"center\" width=\"35%\">"
   ]
  },
  {
   "cell_type": "markdown",
   "metadata": {},
   "source": [
    "#### STRICT DEFINITION OF OID layers\n",
    "\n",
    "+ **F**uture layer\n",
    "    Condition: \n",
    "\n",
    "    1. left bound of interval  <= tpep_pickup_datetime  < right bound of interval\n",
    "    2. right bound of interval <= tpep_dropoff_datetime\n",
    "\n",
    "\n",
    "+ **P**ast layer\n",
    "    Condition: \n",
    "\n",
    "    1. left bound of interval  <= tpep_dropoff_datetime  < right bound of interval\n",
    "    2. tpep_pickup_datetime < left bound of interval\n",
    "\n",
    "\n",
    "+ **N**ow layer\n",
    "    Condition: \n",
    "\n",
    "    1. left bound of interval  <= tpep_pickup_datetime < tpep_dropoff_datetime  < right bound of interval\n",
    "\n",
    "### Notice: The PNF layers are redefined and renamed from OID layers."
   ]
  },
  {
   "cell_type": "markdown",
   "metadata": {},
   "source": [
    "#### Extract relevant columns:\n",
    "\n",
    "To generate tensor defined above, **four** key columns are needed.They are `tpep_pickup_datetime`, `tpep_dropoff_datetime`, `pulocationid` and `dolocationid`.\n",
    "\n",
    "We first extract them from original table:"
   ]
  },
  {
   "cell_type": "code",
   "execution_count": 14,
   "metadata": {
    "ExecuteTime": {
     "end_time": "2019-03-05T13:48:50.139361Z",
     "start_time": "2019-03-05T13:48:39.200403Z"
    }
   },
   "outputs": [
    {
     "data": {
      "text/html": [
       "<div>\n",
       "<style scoped>\n",
       "    .dataframe tbody tr th:only-of-type {\n",
       "        vertical-align: middle;\n",
       "    }\n",
       "\n",
       "    .dataframe tbody tr th {\n",
       "        vertical-align: top;\n",
       "    }\n",
       "\n",
       "    .dataframe thead th {\n",
       "        text-align: right;\n",
       "    }\n",
       "</style>\n",
       "<table border=\"1\" class=\"dataframe\">\n",
       "  <thead>\n",
       "    <tr style=\"text-align: right;\">\n",
       "      <th></th>\n",
       "      <th>tripid</th>\n",
       "      <th>tpep_pickup_datetime</th>\n",
       "      <th>tpep_dropoff_datetime</th>\n",
       "      <th>pulocationid</th>\n",
       "      <th>dolocationid</th>\n",
       "    </tr>\n",
       "  </thead>\n",
       "  <tbody>\n",
       "    <tr>\n",
       "      <th>10</th>\n",
       "      <td>35972307</td>\n",
       "      <td>2017-03-01 00:00:00</td>\n",
       "      <td>2017-03-01 00:07:26</td>\n",
       "      <td>161</td>\n",
       "      <td>113</td>\n",
       "    </tr>\n",
       "    <tr>\n",
       "      <th>11</th>\n",
       "      <td>35972308</td>\n",
       "      <td>2017-03-01 00:00:00</td>\n",
       "      <td>2017-03-01 00:07:51</td>\n",
       "      <td>170</td>\n",
       "      <td>161</td>\n",
       "    </tr>\n",
       "    <tr>\n",
       "      <th>12</th>\n",
       "      <td>35972309</td>\n",
       "      <td>2017-03-01 00:00:00</td>\n",
       "      <td>2017-03-01 00:10:40</td>\n",
       "      <td>256</td>\n",
       "      <td>65</td>\n",
       "    </tr>\n",
       "    <tr>\n",
       "      <th>5</th>\n",
       "      <td>35972302</td>\n",
       "      <td>2017-03-01 00:00:00</td>\n",
       "      <td>2017-03-01 00:14:22</td>\n",
       "      <td>261</td>\n",
       "      <td>79</td>\n",
       "    </tr>\n",
       "    <tr>\n",
       "      <th>6</th>\n",
       "      <td>35972303</td>\n",
       "      <td>2017-03-01 00:00:00</td>\n",
       "      <td>2017-03-01 00:19:30</td>\n",
       "      <td>87</td>\n",
       "      <td>142</td>\n",
       "    </tr>\n",
       "  </tbody>\n",
       "</table>\n",
       "</div>"
      ],
      "text/plain": [
       "      tripid tpep_pickup_datetime tpep_dropoff_datetime  pulocationid  \\\n",
       "10  35972307  2017-03-01 00:00:00   2017-03-01 00:07:26           161   \n",
       "11  35972308  2017-03-01 00:00:00   2017-03-01 00:07:51           170   \n",
       "12  35972309  2017-03-01 00:00:00   2017-03-01 00:10:40           256   \n",
       "5   35972302  2017-03-01 00:00:00   2017-03-01 00:14:22           261   \n",
       "6   35972303  2017-03-01 00:00:00   2017-03-01 00:19:30            87   \n",
       "\n",
       "    dolocationid  \n",
       "10           113  \n",
       "11           161  \n",
       "12            65  \n",
       "5             79  \n",
       "6            142  "
      ]
     },
     "execution_count": 14,
     "metadata": {},
     "output_type": "execute_result"
    }
   ],
   "source": [
    "# draw four needed columns and a id column, then sort according to time.\n",
    "# the `tripid` column is for the sake of naming.\n",
    "tensor_gen_f = table.loc[:,['tripid',\n",
    "                          'tpep_pickup_datetime',\n",
    "                          'tpep_dropoff_datetime',\n",
    "                          'pulocationid', 'dolocationid']\n",
    "                      ].sort_values(by=['tpep_pickup_datetime', 'tpep_dropoff_datetime']) # the first sort condition rules\n",
    "tensor_gen_f.head()"
   ]
  },
  {
   "cell_type": "markdown",
   "metadata": {},
   "source": [
    "#### Slice the table to sub-tables according to time interval (10 min)\n",
    "\n",
    "Since the columns are extracted, now it's time to generate tensors.\n",
    "\n",
    "The dataset is trip data of all yellow taxi cabs in Manhattan area in **January**, 2017.As we are making 10-minute-splices, there will be total:\n",
    "\n",
    "$$\n",
    "6 \\times 24 \\times 31 = 4464 \\space slices(i.e. \\space snapshots)\n",
    "$$\n",
    "\n",
    "Each slice has 3 layers, that is in total\n",
    "\n",
    "$$\n",
    "4464 \\times 3 = 13392 \\space matrices\n",
    "$$\n",
    "to be generated. \n",
    "\n",
    "First, let's try to generate one image (i.e. a *tensor* with **3** layers).\n",
    "\n",
    "The time columns need to be converted to pandas timestamp type in order to compare:"
   ]
  },
  {
   "cell_type": "code",
   "execution_count": 15,
   "metadata": {
    "ExecuteTime": {
     "end_time": "2019-03-05T13:48:50.491449Z",
     "start_time": "2019-03-05T13:48:50.140359Z"
    }
   },
   "outputs": [
    {
     "data": {
      "text/plain": [
       "str"
      ]
     },
     "execution_count": 15,
     "metadata": {},
     "output_type": "execute_result"
    }
   ],
   "source": [
    "# current type is python str\n",
    "type(tensor_gen_f.iloc[0,1])"
   ]
  },
  {
   "cell_type": "code",
   "execution_count": 16,
   "metadata": {
    "ExecuteTime": {
     "end_time": "2019-03-05T13:48:50.496414Z",
     "start_time": "2019-03-05T13:48:50.492452Z"
    }
   },
   "outputs": [
    {
     "data": {
      "text/plain": [
       "Timestamp('2017-03-01 00:00:00')"
      ]
     },
     "execution_count": 16,
     "metadata": {},
     "output_type": "execute_result"
    }
   ],
   "source": [
    "# convert to timestamp\n",
    "pd.to_datetime(tensor_gen_f.iloc[0,1])"
   ]
  },
  {
   "cell_type": "code",
   "execution_count": 17,
   "metadata": {
    "ExecuteTime": {
     "end_time": "2019-03-05T13:48:50.548276Z",
     "start_time": "2019-03-05T13:48:50.497433Z"
    }
   },
   "outputs": [
    {
     "data": {
      "text/plain": [
       "True"
      ]
     },
     "execution_count": 17,
     "metadata": {},
     "output_type": "execute_result"
    }
   ],
   "source": [
    "t1 = pd.to_datetime(tensor_gen_f.iloc[0,1]) # 2017-01-01 00:00:00\n",
    "t2 = pd.to_datetime(tensor_gen_f.iloc[0,2]) # 2017-01-01 00:01:00\n",
    "t1 < t2 # test if can compare time"
   ]
  },
  {
   "cell_type": "code",
   "execution_count": 18,
   "metadata": {
    "ExecuteTime": {
     "end_time": "2019-03-05T13:49:03.911797Z",
     "start_time": "2019-03-05T13:48:50.553263Z"
    }
   },
   "outputs": [
    {
     "data": {
      "text/plain": [
       "tripid                            int64\n",
       "tpep_pickup_datetime     datetime64[ns]\n",
       "tpep_dropoff_datetime    datetime64[ns]\n",
       "pulocationid                      int64\n",
       "dolocationid                      int64\n",
       "dtype: object"
      ]
     },
     "execution_count": 18,
     "metadata": {},
     "output_type": "execute_result"
    }
   ],
   "source": [
    "# apply type cast to all values:\n",
    "tensor_gen_f['tpep_pickup_datetime'] = pd.to_datetime(tensor_gen_f['tpep_pickup_datetime'])\n",
    "tensor_gen_f['tpep_dropoff_datetime'] = pd.to_datetime(tensor_gen_f['tpep_dropoff_datetime'])\n",
    "\n",
    "tensor_gen_f.dtypes"
   ]
  },
  {
   "cell_type": "code",
   "execution_count": 19,
   "metadata": {
    "ExecuteTime": {
     "end_time": "2019-03-05T13:49:03.921770Z",
     "start_time": "2019-03-05T13:49:03.912794Z"
    }
   },
   "outputs": [
    {
     "data": {
      "text/html": [
       "<div>\n",
       "<style scoped>\n",
       "    .dataframe tbody tr th:only-of-type {\n",
       "        vertical-align: middle;\n",
       "    }\n",
       "\n",
       "    .dataframe tbody tr th {\n",
       "        vertical-align: top;\n",
       "    }\n",
       "\n",
       "    .dataframe thead th {\n",
       "        text-align: right;\n",
       "    }\n",
       "</style>\n",
       "<table border=\"1\" class=\"dataframe\">\n",
       "  <thead>\n",
       "    <tr style=\"text-align: right;\">\n",
       "      <th></th>\n",
       "      <th>tripid</th>\n",
       "      <th>tpep_pickup_datetime</th>\n",
       "      <th>tpep_dropoff_datetime</th>\n",
       "      <th>pulocationid</th>\n",
       "      <th>dolocationid</th>\n",
       "    </tr>\n",
       "  </thead>\n",
       "  <tbody>\n",
       "    <tr>\n",
       "      <th>10</th>\n",
       "      <td>35972307</td>\n",
       "      <td>2017-03-01</td>\n",
       "      <td>2017-03-01 00:07:26</td>\n",
       "      <td>161</td>\n",
       "      <td>113</td>\n",
       "    </tr>\n",
       "    <tr>\n",
       "      <th>11</th>\n",
       "      <td>35972308</td>\n",
       "      <td>2017-03-01</td>\n",
       "      <td>2017-03-01 00:07:51</td>\n",
       "      <td>170</td>\n",
       "      <td>161</td>\n",
       "    </tr>\n",
       "    <tr>\n",
       "      <th>12</th>\n",
       "      <td>35972309</td>\n",
       "      <td>2017-03-01</td>\n",
       "      <td>2017-03-01 00:10:40</td>\n",
       "      <td>256</td>\n",
       "      <td>65</td>\n",
       "    </tr>\n",
       "    <tr>\n",
       "      <th>5</th>\n",
       "      <td>35972302</td>\n",
       "      <td>2017-03-01</td>\n",
       "      <td>2017-03-01 00:14:22</td>\n",
       "      <td>261</td>\n",
       "      <td>79</td>\n",
       "    </tr>\n",
       "    <tr>\n",
       "      <th>6</th>\n",
       "      <td>35972303</td>\n",
       "      <td>2017-03-01</td>\n",
       "      <td>2017-03-01 00:19:30</td>\n",
       "      <td>87</td>\n",
       "      <td>142</td>\n",
       "    </tr>\n",
       "  </tbody>\n",
       "</table>\n",
       "</div>"
      ],
      "text/plain": [
       "      tripid tpep_pickup_datetime tpep_dropoff_datetime  pulocationid  \\\n",
       "10  35972307           2017-03-01   2017-03-01 00:07:26           161   \n",
       "11  35972308           2017-03-01   2017-03-01 00:07:51           170   \n",
       "12  35972309           2017-03-01   2017-03-01 00:10:40           256   \n",
       "5   35972302           2017-03-01   2017-03-01 00:14:22           261   \n",
       "6   35972303           2017-03-01   2017-03-01 00:19:30            87   \n",
       "\n",
       "    dolocationid  \n",
       "10           113  \n",
       "11           161  \n",
       "12            65  \n",
       "5             79  \n",
       "6            142  "
      ]
     },
     "execution_count": 19,
     "metadata": {},
     "output_type": "execute_result"
    }
   ],
   "source": [
    "tensor_gen_f.head()"
   ]
  },
  {
   "cell_type": "markdown",
   "metadata": {},
   "source": [
    "The interval **boundaries** are fixed when interval is set."
   ]
  },
  {
   "cell_type": "code",
   "execution_count": 20,
   "metadata": {
    "ExecuteTime": {
     "end_time": "2019-03-05T13:49:03.930747Z",
     "start_time": "2019-03-05T13:49:03.922768Z"
    }
   },
   "outputs": [
    {
     "name": "stdout",
     "output_type": "stream",
     "text": [
      "4321\n"
     ]
    },
    {
     "data": {
      "text/plain": [
       "DatetimeIndex(['2017-04-01 00:00:00', '2017-04-01 00:10:00',\n",
       "               '2017-04-01 00:20:00', '2017-04-01 00:30:00',\n",
       "               '2017-04-01 00:40:00', '2017-04-01 00:50:00',\n",
       "               '2017-04-01 01:00:00', '2017-04-01 01:10:00',\n",
       "               '2017-04-01 01:20:00', '2017-04-01 01:30:00',\n",
       "               ...\n",
       "               '2017-04-30 22:30:00', '2017-04-30 22:40:00',\n",
       "               '2017-04-30 22:50:00', '2017-04-30 23:00:00',\n",
       "               '2017-04-30 23:10:00', '2017-04-30 23:20:00',\n",
       "               '2017-04-30 23:30:00', '2017-04-30 23:40:00',\n",
       "               '2017-04-30 23:50:00', '2017-05-01 00:00:00'],\n",
       "              dtype='datetime64[ns]', length=4321, freq='10T')"
      ]
     },
     "execution_count": 20,
     "metadata": {},
     "output_type": "execute_result"
    }
   ],
   "source": [
    "# create intervals\n",
    "intervals = pd.date_range('2017-04-01 00:00:00', '2017-05-01 00:00:00', freq='10min')\n",
    "print(len(intervals))\n",
    "intervals"
   ]
  },
  {
   "cell_type": "code",
   "execution_count": 21,
   "metadata": {
    "ExecuteTime": {
     "end_time": "2019-03-05T13:49:03.939722Z",
     "start_time": "2019-03-05T13:49:03.931744Z"
    }
   },
   "outputs": [
    {
     "data": {
      "text/plain": [
       "pandas.core.indexes.datetimes.DatetimeIndex"
      ]
     },
     "execution_count": 21,
     "metadata": {},
     "output_type": "execute_result"
    }
   ],
   "source": [
    "type(intervals)"
   ]
  },
  {
   "cell_type": "markdown",
   "metadata": {},
   "source": [
    "**Notice**:\n",
    "\n",
    "When slicing time interval in such manner, we are assuming the **entire** month is monitored. Under this setting, we do not consider another day as a 'fresh start'.\n",
    "\n"
   ]
  },
  {
   "cell_type": "code",
   "execution_count": 22,
   "metadata": {
    "ExecuteTime": {
     "end_time": "2019-03-05T13:49:03.948699Z",
     "start_time": "2019-03-05T13:49:03.940720Z"
    }
   },
   "outputs": [
    {
     "data": {
      "text/plain": [
       "'2017-04-01 00:10:00'"
      ]
     },
     "execution_count": 22,
     "metadata": {},
     "output_type": "execute_result"
    }
   ],
   "source": [
    "str(intervals[1])"
   ]
  },
  {
   "cell_type": "code",
   "execution_count": 23,
   "metadata": {
    "ExecuteTime": {
     "end_time": "2019-03-05T13:49:04.389530Z",
     "start_time": "2019-03-05T13:49:03.949696Z"
    }
   },
   "outputs": [
    {
     "name": "stdout",
     "output_type": "stream",
     "text": [
      "shape is: (10222693, 5)\n"
     ]
    },
    {
     "data": {
      "text/html": [
       "<div>\n",
       "<style scoped>\n",
       "    .dataframe tbody tr th:only-of-type {\n",
       "        vertical-align: middle;\n",
       "    }\n",
       "\n",
       "    .dataframe tbody tr th {\n",
       "        vertical-align: top;\n",
       "    }\n",
       "\n",
       "    .dataframe thead th {\n",
       "        text-align: right;\n",
       "    }\n",
       "</style>\n",
       "<table border=\"1\" class=\"dataframe\">\n",
       "  <thead>\n",
       "    <tr style=\"text-align: right;\">\n",
       "      <th></th>\n",
       "      <th>tripid</th>\n",
       "      <th>tpep_pickup_datetime</th>\n",
       "      <th>tpep_dropoff_datetime</th>\n",
       "      <th>pulocationid</th>\n",
       "      <th>dolocationid</th>\n",
       "    </tr>\n",
       "  </thead>\n",
       "  <tbody>\n",
       "    <tr>\n",
       "      <th>10</th>\n",
       "      <td>35972307</td>\n",
       "      <td>2017-03-01</td>\n",
       "      <td>2017-03-01 00:07:26</td>\n",
       "      <td>161</td>\n",
       "      <td>113</td>\n",
       "    </tr>\n",
       "    <tr>\n",
       "      <th>11</th>\n",
       "      <td>35972308</td>\n",
       "      <td>2017-03-01</td>\n",
       "      <td>2017-03-01 00:07:51</td>\n",
       "      <td>170</td>\n",
       "      <td>161</td>\n",
       "    </tr>\n",
       "    <tr>\n",
       "      <th>12</th>\n",
       "      <td>35972309</td>\n",
       "      <td>2017-03-01</td>\n",
       "      <td>2017-03-01 00:10:40</td>\n",
       "      <td>256</td>\n",
       "      <td>65</td>\n",
       "    </tr>\n",
       "    <tr>\n",
       "      <th>5</th>\n",
       "      <td>35972302</td>\n",
       "      <td>2017-03-01</td>\n",
       "      <td>2017-03-01 00:14:22</td>\n",
       "      <td>261</td>\n",
       "      <td>79</td>\n",
       "    </tr>\n",
       "    <tr>\n",
       "      <th>6</th>\n",
       "      <td>35972303</td>\n",
       "      <td>2017-03-01</td>\n",
       "      <td>2017-03-01 00:19:30</td>\n",
       "      <td>87</td>\n",
       "      <td>142</td>\n",
       "    </tr>\n",
       "  </tbody>\n",
       "</table>\n",
       "</div>"
      ],
      "text/plain": [
       "      tripid tpep_pickup_datetime tpep_dropoff_datetime  pulocationid  \\\n",
       "10  35972307           2017-03-01   2017-03-01 00:07:26           161   \n",
       "11  35972308           2017-03-01   2017-03-01 00:07:51           170   \n",
       "12  35972309           2017-03-01   2017-03-01 00:10:40           256   \n",
       "5   35972302           2017-03-01   2017-03-01 00:14:22           261   \n",
       "6   35972303           2017-03-01   2017-03-01 00:19:30            87   \n",
       "\n",
       "    dolocationid  \n",
       "10           113  \n",
       "11           161  \n",
       "12            65  \n",
       "5             79  \n",
       "6            142  "
      ]
     },
     "execution_count": 23,
     "metadata": {},
     "output_type": "execute_result"
    }
   ],
   "source": [
    "# First sub table:\n",
    "first = tensor_gen_f.loc[tensor_gen_f['tpep_pickup_datetime'] < intervals[1]]\n",
    "print(f'shape is: {first.shape}')\n",
    "first.head()"
   ]
  },
  {
   "cell_type": "code",
   "execution_count": 24,
   "metadata": {
    "ExecuteTime": {
     "end_time": "2019-03-05T13:49:05.925452Z",
     "start_time": "2019-03-05T13:49:04.390528Z"
    }
   },
   "outputs": [
    {
     "data": {
      "text/html": [
       "<div>\n",
       "<style scoped>\n",
       "    .dataframe tbody tr th:only-of-type {\n",
       "        vertical-align: middle;\n",
       "    }\n",
       "\n",
       "    .dataframe tbody tr th {\n",
       "        vertical-align: top;\n",
       "    }\n",
       "\n",
       "    .dataframe thead th {\n",
       "        text-align: right;\n",
       "    }\n",
       "</style>\n",
       "<table border=\"1\" class=\"dataframe\">\n",
       "  <thead>\n",
       "    <tr style=\"text-align: right;\">\n",
       "      <th></th>\n",
       "      <th>tripid</th>\n",
       "      <th>tpep_pickup_datetime</th>\n",
       "      <th>tpep_dropoff_datetime</th>\n",
       "      <th>pulocationid</th>\n",
       "      <th>dolocationid</th>\n",
       "    </tr>\n",
       "  </thead>\n",
       "  <tbody>\n",
       "    <tr>\n",
       "      <th>503096</th>\n",
       "      <td>36478564</td>\n",
       "      <td>2017-03-01 12:18:22</td>\n",
       "      <td>2017-03-01 12:18:34</td>\n",
       "      <td>1</td>\n",
       "      <td>1</td>\n",
       "    </tr>\n",
       "    <tr>\n",
       "      <th>552863</th>\n",
       "      <td>36528632</td>\n",
       "      <td>2017-03-01 14:49:40</td>\n",
       "      <td>2017-03-01 14:49:45</td>\n",
       "      <td>1</td>\n",
       "      <td>1</td>\n",
       "    </tr>\n",
       "    <tr>\n",
       "      <th>568934</th>\n",
       "      <td>36544799</td>\n",
       "      <td>2017-03-01 15:42:50</td>\n",
       "      <td>2017-03-01 15:44:15</td>\n",
       "      <td>1</td>\n",
       "      <td>1</td>\n",
       "    </tr>\n",
       "    <tr>\n",
       "      <th>572693</th>\n",
       "      <td>36548582</td>\n",
       "      <td>2017-03-01 15:55:31</td>\n",
       "      <td>2017-03-01 15:56:45</td>\n",
       "      <td>1</td>\n",
       "      <td>1</td>\n",
       "    </tr>\n",
       "    <tr>\n",
       "      <th>584632</th>\n",
       "      <td>36560620</td>\n",
       "      <td>2017-03-01 16:41:13</td>\n",
       "      <td>2017-03-01 16:42:44</td>\n",
       "      <td>1</td>\n",
       "      <td>1</td>\n",
       "    </tr>\n",
       "    <tr>\n",
       "      <th>585190</th>\n",
       "      <td>36561180</td>\n",
       "      <td>2017-03-01 16:43:32</td>\n",
       "      <td>2017-03-01 16:44:33</td>\n",
       "      <td>1</td>\n",
       "      <td>1</td>\n",
       "    </tr>\n",
       "    <tr>\n",
       "      <th>613240</th>\n",
       "      <td>36589391</td>\n",
       "      <td>2017-03-01 18:15:41</td>\n",
       "      <td>2017-03-01 18:16:08</td>\n",
       "      <td>1</td>\n",
       "      <td>1</td>\n",
       "    </tr>\n",
       "    <tr>\n",
       "      <th>762134</th>\n",
       "      <td>36739160</td>\n",
       "      <td>2017-03-02 07:16:46</td>\n",
       "      <td>2017-03-02 07:17:34</td>\n",
       "      <td>1</td>\n",
       "      <td>1</td>\n",
       "    </tr>\n",
       "    <tr>\n",
       "      <th>796154</th>\n",
       "      <td>36773314</td>\n",
       "      <td>2017-03-02 08:59:50</td>\n",
       "      <td>2017-03-02 09:02:56</td>\n",
       "      <td>1</td>\n",
       "      <td>1</td>\n",
       "    </tr>\n",
       "    <tr>\n",
       "      <th>824269</th>\n",
       "      <td>36801606</td>\n",
       "      <td>2017-03-02 10:35:32</td>\n",
       "      <td>2017-03-02 10:35:59</td>\n",
       "      <td>1</td>\n",
       "      <td>1</td>\n",
       "    </tr>\n",
       "    <tr>\n",
       "      <th>898914</th>\n",
       "      <td>36876661</td>\n",
       "      <td>2017-03-02 14:26:20</td>\n",
       "      <td>2017-03-02 14:27:01</td>\n",
       "      <td>1</td>\n",
       "      <td>1</td>\n",
       "    </tr>\n",
       "    <tr>\n",
       "      <th>911197</th>\n",
       "      <td>36889006</td>\n",
       "      <td>2017-03-02 15:04:19</td>\n",
       "      <td>2017-03-02 15:05:53</td>\n",
       "      <td>1</td>\n",
       "      <td>1</td>\n",
       "    </tr>\n",
       "    <tr>\n",
       "      <th>912102</th>\n",
       "      <td>36889919</td>\n",
       "      <td>2017-03-02 15:06:56</td>\n",
       "      <td>2017-03-02 15:07:38</td>\n",
       "      <td>1</td>\n",
       "      <td>1</td>\n",
       "    </tr>\n",
       "    <tr>\n",
       "      <th>913665</th>\n",
       "      <td>36891493</td>\n",
       "      <td>2017-03-02 15:11:43</td>\n",
       "      <td>2017-03-02 15:12:09</td>\n",
       "      <td>1</td>\n",
       "      <td>1</td>\n",
       "    </tr>\n",
       "    <tr>\n",
       "      <th>931489</th>\n",
       "      <td>36909448</td>\n",
       "      <td>2017-03-02 16:09:00</td>\n",
       "      <td>2017-03-02 16:09:16</td>\n",
       "      <td>1</td>\n",
       "      <td>1</td>\n",
       "    </tr>\n",
       "    <tr>\n",
       "      <th>945238</th>\n",
       "      <td>36923296</td>\n",
       "      <td>2017-03-02 16:57:47</td>\n",
       "      <td>2017-03-02 16:58:58</td>\n",
       "      <td>1</td>\n",
       "      <td>1</td>\n",
       "    </tr>\n",
       "    <tr>\n",
       "      <th>952888</th>\n",
       "      <td>36931001</td>\n",
       "      <td>2017-03-02 17:22:36</td>\n",
       "      <td>2017-03-02 17:23:14</td>\n",
       "      <td>1</td>\n",
       "      <td>1</td>\n",
       "    </tr>\n",
       "    <tr>\n",
       "      <th>956613</th>\n",
       "      <td>36934745</td>\n",
       "      <td>2017-03-02 17:33:47</td>\n",
       "      <td>2017-03-02 17:34:27</td>\n",
       "      <td>1</td>\n",
       "      <td>1</td>\n",
       "    </tr>\n",
       "    <tr>\n",
       "      <th>968710</th>\n",
       "      <td>36946910</td>\n",
       "      <td>2017-03-02 18:06:05</td>\n",
       "      <td>2017-03-02 18:06:27</td>\n",
       "      <td>1</td>\n",
       "      <td>1</td>\n",
       "    </tr>\n",
       "    <tr>\n",
       "      <th>977335</th>\n",
       "      <td>36955582</td>\n",
       "      <td>2017-03-02 18:27:02</td>\n",
       "      <td>2017-03-02 18:29:47</td>\n",
       "      <td>1</td>\n",
       "      <td>1</td>\n",
       "    </tr>\n",
       "  </tbody>\n",
       "</table>\n",
       "</div>"
      ],
      "text/plain": [
       "          tripid tpep_pickup_datetime tpep_dropoff_datetime  pulocationid  \\\n",
       "503096  36478564  2017-03-01 12:18:22   2017-03-01 12:18:34             1   \n",
       "552863  36528632  2017-03-01 14:49:40   2017-03-01 14:49:45             1   \n",
       "568934  36544799  2017-03-01 15:42:50   2017-03-01 15:44:15             1   \n",
       "572693  36548582  2017-03-01 15:55:31   2017-03-01 15:56:45             1   \n",
       "584632  36560620  2017-03-01 16:41:13   2017-03-01 16:42:44             1   \n",
       "585190  36561180  2017-03-01 16:43:32   2017-03-01 16:44:33             1   \n",
       "613240  36589391  2017-03-01 18:15:41   2017-03-01 18:16:08             1   \n",
       "762134  36739160  2017-03-02 07:16:46   2017-03-02 07:17:34             1   \n",
       "796154  36773314  2017-03-02 08:59:50   2017-03-02 09:02:56             1   \n",
       "824269  36801606  2017-03-02 10:35:32   2017-03-02 10:35:59             1   \n",
       "898914  36876661  2017-03-02 14:26:20   2017-03-02 14:27:01             1   \n",
       "911197  36889006  2017-03-02 15:04:19   2017-03-02 15:05:53             1   \n",
       "912102  36889919  2017-03-02 15:06:56   2017-03-02 15:07:38             1   \n",
       "913665  36891493  2017-03-02 15:11:43   2017-03-02 15:12:09             1   \n",
       "931489  36909448  2017-03-02 16:09:00   2017-03-02 16:09:16             1   \n",
       "945238  36923296  2017-03-02 16:57:47   2017-03-02 16:58:58             1   \n",
       "952888  36931001  2017-03-02 17:22:36   2017-03-02 17:23:14             1   \n",
       "956613  36934745  2017-03-02 17:33:47   2017-03-02 17:34:27             1   \n",
       "968710  36946910  2017-03-02 18:06:05   2017-03-02 18:06:27             1   \n",
       "977335  36955582  2017-03-02 18:27:02   2017-03-02 18:29:47             1   \n",
       "\n",
       "        dolocationid  \n",
       "503096             1  \n",
       "552863             1  \n",
       "568934             1  \n",
       "572693             1  \n",
       "584632             1  \n",
       "585190             1  \n",
       "613240             1  \n",
       "762134             1  \n",
       "796154             1  \n",
       "824269             1  \n",
       "898914             1  \n",
       "911197             1  \n",
       "912102             1  \n",
       "913665             1  \n",
       "931489             1  \n",
       "945238             1  \n",
       "952888             1  \n",
       "956613             1  \n",
       "968710             1  \n",
       "977335             1  "
      ]
     },
     "execution_count": 24,
     "metadata": {},
     "output_type": "execute_result"
    }
   ],
   "source": [
    "# sort to have a clearer look:\n",
    "first.sort_values(by=['pulocationid', 'dolocationid']).head(20)"
   ]
  },
  {
   "cell_type": "markdown",
   "metadata": {},
   "source": [
    "The `first` will generate Outgoing, Incoming and Domestic layers, that is, 3 matrices of size: \n",
    "\n",
    "$$\n",
    "(number \\space of\\space zones)\\space \\times \\space (number\\space of\\space zones)\n",
    "$$\n",
    "\n",
    "Let's see the zone numbers:"
   ]
  },
  {
   "cell_type": "code",
   "execution_count": 25,
   "metadata": {
    "ExecuteTime": {
     "end_time": "2019-03-05T13:49:05.951511Z",
     "start_time": "2019-03-05T13:49:05.926449Z"
    }
   },
   "outputs": [
    {
     "name": "stdout",
     "output_type": "stream",
     "text": [
      "shape is: (265, 4)\n"
     ]
    }
   ],
   "source": [
    "# Load zone lookup table\n",
    "zones = pd.read_csv('dataset/taxi_zone_lookup.csv')\n",
    "print(f'shape is: {zones.shape}')"
   ]
  },
  {
   "cell_type": "markdown",
   "metadata": {},
   "source": [
    "Total 265 zones, indexing from 0 to 264.\n",
    "\n",
    "Among which, we only care about `Yellow Zone` or `Manhattan` area:"
   ]
  },
  {
   "cell_type": "code",
   "execution_count": 26,
   "metadata": {
    "ExecuteTime": {
     "end_time": "2019-03-05T13:49:05.958491Z",
     "start_time": "2019-03-05T13:49:05.952508Z"
    }
   },
   "outputs": [
    {
     "name": "stdout",
     "output_type": "stream",
     "text": [
      "(69, 4)\n"
     ]
    }
   ],
   "source": [
    "y_zone = zones.loc[zones['Borough'] == 'Manhattan']\n",
    "print(y_zone.shape)\n",
    "img_size = y_zone.shape[0]"
   ]
  },
  {
   "cell_type": "markdown",
   "metadata": {},
   "source": [
    "Thus, the layers should be matrices of size (69, 69), and each timeslice(snapshot) should be tensors of size (69, 69, 3).\n",
    "\n",
    "Create the first tensor:"
   ]
  },
  {
   "cell_type": "markdown",
   "metadata": {},
   "source": [
    "### The key is to use generated intervals to 'catch' trips."
   ]
  },
  {
   "cell_type": "code",
   "execution_count": 49,
   "metadata": {
    "ExecuteTime": {
     "end_time": "2019-03-05T14:02:58.348182Z",
     "start_time": "2019-03-05T14:02:53.940232Z"
    }
   },
   "outputs": [
    {
     "name": "stdout",
     "output_type": "stream",
     "text": [
      "sorted_table.shape -> (10222693, 5)\n",
      "snap.shape -> (0, 5)\n",
      "f_flayer.shape: (0, 5)\n",
      "f_player.shape: (0, 5)\n",
      "f_nlayer.shape: (0, 5)\n"
     ]
    }
   ],
   "source": [
    "# legacy code, currently in use\n",
    "left = 0\n",
    "right = 1\n",
    "\n",
    "# convert dtype for entire table here:\n",
    "table['tpep_pickup_datetime'] = pd.to_datetime(table['tpep_pickup_datetime'])\n",
    "table['tpep_dropoff_datetime'] = pd.to_datetime(table['tpep_dropoff_datetime'])\n",
    "\n",
    "sorted_table = table.loc[:,['tripid',\n",
    "                          'tpep_pickup_datetime',\n",
    "                          'tpep_dropoff_datetime',\n",
    "                          'pulocationid', 'dolocationid']\n",
    "                        ].sort_values(by=['tpep_pickup_datetime', 'tpep_dropoff_datetime'])\n",
    "\n",
    "# The condition of making snapshot should be: at least one temporal end of a trip should be within the bounds:\n",
    "snap = sorted_table.loc[((sorted_table['tpep_pickup_datetime'] >= intervals[left]) &\n",
    "                        (sorted_table['tpep_pickup_datetime'] < intervals[right])) |\n",
    "                        ((sorted_table['tpep_dropoff_datetime'] >= intervals[left]) &\n",
    "                        (sorted_table['tpep_dropoff_datetime'] < intervals[right]))\n",
    "                        ]\n",
    "print(f'sorted_table.shape -> {sorted_table.shape}')\n",
    "print(f'snap.shape -> {snap.shape}')\n",
    "\n",
    "# temp table to generate F,P,N layers\n",
    "# No need to sort\n",
    "temp_snap = snap.loc[:,['tripid',\n",
    "                          'tpep_pickup_datetime',\n",
    "                          'tpep_dropoff_datetime',\n",
    "                          'pulocationid', 'dolocationid']\n",
    "                    ]\n",
    "\n",
    "\n",
    "# Use the interval to 'catch' trips.\n",
    "f_flayer = temp_snap.loc[(temp_snap['tpep_pickup_datetime'] < intervals[right]) &\n",
    "                            (temp_snap['tpep_pickup_datetime'] >= intervals[left]) &\n",
    "                            (temp_snap['tpep_dropoff_datetime'] >= intervals[right])\n",
    "                           ]\n",
    "\n",
    "f_player = temp_snap.loc[(temp_snap['tpep_pickup_datetime'] < intervals[left]) &\n",
    "                            (temp_snap['tpep_dropoff_datetime'] >= intervals[left]) &\n",
    "                            (temp_snap['tpep_dropoff_datetime'] < intervals[right])\n",
    "                           ]\n",
    "\n",
    "f_nlayer = temp_snap.loc[(temp_snap['tpep_pickup_datetime'] >= intervals[left]) &\n",
    "                            (temp_snap['tpep_dropoff_datetime'] < intervals[right])\n",
    "                           ]\n",
    "\n",
    "print(f'f_flayer.shape: {f_flayer.shape}')\n",
    "print(f'f_player.shape: {f_player.shape}') # There will be no incoming trips for the first snapshot.\n",
    "print(f'f_nlayer.shape: {f_nlayer.shape}')\n",
    "\n",
    "# Their shape should be the same\n",
    "assert temp_snap.shape[0] == f_flayer.shape[0] + f_player.shape[0] + f_nlayer.shape[0]"
   ]
  },
  {
   "cell_type": "markdown",
   "metadata": {},
   "source": [
    "### Wrap the above procedure into a function for later use:"
   ]
  },
  {
   "cell_type": "code",
   "execution_count": 50,
   "metadata": {
    "ExecuteTime": {
     "end_time": "2019-03-05T14:02:58.362144Z",
     "start_time": "2019-03-05T14:02:58.349178Z"
    }
   },
   "outputs": [],
   "source": [
    "def gen_snap_layers(table, bound):\n",
    "    '''\n",
    "    Generate Past layer, Now layer and Future layer for one snapshot.\n",
    "    Params:\n",
    "        table:\n",
    "        bounds:\n",
    "    Return:\n",
    "        PNF layers, a list.\n",
    "    '''\n",
    "    # left bound and right bound of time interval\n",
    "    assert type(bound) == tuple\n",
    "    left = bound[0]\n",
    "    right = bound[1]\n",
    "    \n",
    "    print(left, right)\n",
    "    \n",
    "    # no need to sort table indeed?\n",
    "    projected_table = table.loc[:, ['tripid',\n",
    "                                    'tpep_pickup_datetime',\n",
    "                                    'tpep_dropoff_datetime',\n",
    "                                    'pulocationid',\n",
    "                                    'dolocationid']]\n",
    "\n",
    "    # The condition of making snapshot should be:\n",
    "    # at least one temporal end of a trip should be within the bounds:\n",
    "    snap = projected_table.loc[\n",
    "        ((projected_table['tpep_pickup_datetime'] >= left) &\n",
    "         (projected_table['tpep_pickup_datetime'] < right)) |\n",
    "        ((projected_table['tpep_dropoff_datetime'] >= left) &\n",
    "         (projected_table['tpep_dropoff_datetime'] < right))]\n",
    "\n",
    "    # temp table to generate F,P,N layers\n",
    "    # keep snap intact\n",
    "    temp_snap = snap.copy()\n",
    "\n",
    "    # Use the interval to 'catch' corresponding trips.\n",
    "    # future layer\n",
    "    f_layer = temp_snap.loc[(temp_snap['tpep_pickup_datetime'] < right) &\n",
    "                             (temp_snap['tpep_pickup_datetime'] >= left) &\n",
    "                             (temp_snap['tpep_dropoff_datetime'] >= right)]\n",
    "    # past layer\n",
    "    p_layer = temp_snap.loc[(temp_snap['tpep_pickup_datetime'] < left) &\n",
    "                             (temp_snap['tpep_dropoff_datetime'] >= left) &\n",
    "                             (temp_snap['tpep_dropoff_datetime'] < right)]\n",
    "    # now layer\n",
    "    n_layer = temp_snap.loc[(temp_snap['tpep_pickup_datetime'] >= left) &\n",
    "                             (temp_snap['tpep_dropoff_datetime'] < right)]\n",
    "\n",
    "    # Their count should add up to total trips caught\n",
    "    assert temp_snap.shape[0] == f_layer.shape[0] + p_layer.shape[0] + n_layer.shape[0]\n",
    "\n",
    "    return p_layer, n_layer, f_layer"
   ]
  },
  {
   "cell_type": "markdown",
   "metadata": {},
   "source": [
    "Sanity check:"
   ]
  },
  {
   "cell_type": "code",
   "execution_count": 51,
   "metadata": {
    "ExecuteTime": {
     "end_time": "2019-03-05T14:02:58.376106Z",
     "start_time": "2019-03-05T14:02:58.364141Z"
    }
   },
   "outputs": [
    {
     "name": "stdout",
     "output_type": "stream",
     "text": [
      "(0, 5)\n",
      "0\n"
     ]
    },
    {
     "data": {
      "text/html": [
       "<div>\n",
       "<style scoped>\n",
       "    .dataframe tbody tr th:only-of-type {\n",
       "        vertical-align: middle;\n",
       "    }\n",
       "\n",
       "    .dataframe tbody tr th {\n",
       "        vertical-align: top;\n",
       "    }\n",
       "\n",
       "    .dataframe thead th {\n",
       "        text-align: right;\n",
       "    }\n",
       "</style>\n",
       "<table border=\"1\" class=\"dataframe\">\n",
       "  <thead>\n",
       "    <tr style=\"text-align: right;\">\n",
       "      <th></th>\n",
       "      <th>tripid</th>\n",
       "      <th>tpep_pickup_datetime</th>\n",
       "      <th>tpep_dropoff_datetime</th>\n",
       "      <th>pulocationid</th>\n",
       "      <th>dolocationid</th>\n",
       "    </tr>\n",
       "  </thead>\n",
       "  <tbody>\n",
       "  </tbody>\n",
       "</table>\n",
       "</div>"
      ],
      "text/plain": [
       "Empty DataFrame\n",
       "Columns: [tripid, tpep_pickup_datetime, tpep_dropoff_datetime, pulocationid, dolocationid]\n",
       "Index: []"
      ]
     },
     "execution_count": 51,
     "metadata": {},
     "output_type": "execute_result"
    }
   ],
   "source": [
    "# Check if the trips add up:\n",
    "print(snap.shape)\n",
    "print(f_flayer.shape[0] + f_player.shape[0] + f_nlayer.shape[0])\n",
    "assert snap.shape[0] == f_flayer.shape[0] + f_player.shape[0] + f_nlayer.shape[0]\n",
    "f_flayer.head(20)"
   ]
  },
  {
   "cell_type": "markdown",
   "metadata": {},
   "source": [
    "Each pair of (pulocationid - 1, dolocationid - 1) indicates adding one to the snapshot:"
   ]
  },
  {
   "cell_type": "markdown",
   "metadata": {},
   "source": [
    "### 5. Generating Image"
   ]
  },
  {
   "cell_type": "markdown",
   "metadata": {},
   "source": [
    "Before generating image, we have to map the zone id to a range from 0 to 54:"
   ]
  },
  {
   "cell_type": "code",
   "execution_count": 45,
   "metadata": {
    "ExecuteTime": {
     "end_time": "2019-03-05T14:00:40.538196Z",
     "start_time": "2019-03-05T14:00:40.534215Z"
    }
   },
   "outputs": [],
   "source": [
    "# very important globals:\n",
    "real_id = list(map(str, list(y_zone.loc[:,'LocationID'])))\n",
    "conv_id = [i for i in range(img_size)]\n",
    "assert len(real_id) == len(conv_id)\n",
    "mp = dict(zip(real_id, conv_id))\n",
    "# the line below is a dirty fix, be causious in future!"
   ]
  },
  {
   "cell_type": "code",
   "execution_count": 46,
   "metadata": {
    "ExecuteTime": {
     "end_time": "2019-03-05T14:00:41.196142Z",
     "start_time": "2019-03-05T14:00:41.186169Z"
    }
   },
   "outputs": [
    {
     "name": "stdout",
     "output_type": "stream",
     "text": [
      "(69, 69, 3)\n",
      "0.0\n",
      "left_zones: set()\n",
      "left_zones length: 0\n",
      "F max -> 0.0\n",
      "P max -> 0.0\n",
      "N max -> 0.0\n"
     ]
    }
   ],
   "source": [
    "# create a snapshot:\n",
    "first_snapshot = np.zeros([img_size, img_size, 3], dtype='float64')\n",
    "print(first_snapshot.shape)\n",
    "print(first_snapshot[1,2,1])\n",
    "\n",
    "left_zones = set()\n",
    "\n",
    "# future-Red: 0  \n",
    "for _, row in f_flayer.iterrows():\n",
    "    try:\n",
    "        first_snapshot[mp[str(row['pulocationid'])], mp[str(row['dolocationid'])], 0] += 1 # inplace increment 1 in numpy\n",
    "    except Exception as e:\n",
    "        left_zones.add(str(row['pulocationid']))\n",
    "        left_zones.add(str(row['dolocationid']))\n",
    "\n",
    "# past-Green: 1\n",
    "for _, row in f_player.iterrows():\n",
    "    try:\n",
    "        first_snapshot[mp[str(row['pulocationid'])], mp[str(row['dolocationid'])], 1] += 1\n",
    "    except Exception as e:\n",
    "        left_zones.add(str(row['pulocationid']))\n",
    "        left_zones.add(str(row['dolocationid']))\n",
    "\n",
    "# now-Blue: 2        \n",
    "for _, row in f_nlayer.iterrows():\n",
    "    try:\n",
    "        first_snapshot[mp[str(row['pulocationid'])], mp[str(row['dolocationid'])], 2] += 1\n",
    "    except Exception as e:\n",
    "        left_zones.add(str(row['pulocationid']))\n",
    "        left_zones.add(str(row['dolocationid']))\n",
    "\n",
    "print(f'left_zones: {left_zones}')\n",
    "print(f'left_zones length: {len(left_zones)}')\n",
    "\n",
    "print(f'F max -> {first_snapshot[:,:,0].max()}')\n",
    "print(f'P max -> {first_snapshot[:,:,1].max()}')\n",
    "print(f'N max -> {first_snapshot[:,:,2].max()}')\n",
    "\n",
    "# convert numpy array to a image:\n",
    "# tb = pd.DataFrame(first_snapshot[:,:,0])\n",
    "first_snapshot *= 255//first_snapshot.max()"
   ]
  },
  {
   "cell_type": "code",
   "execution_count": 47,
   "metadata": {
    "ExecuteTime": {
     "end_time": "2019-03-05T14:00:42.182206Z",
     "start_time": "2019-03-05T14:00:42.178240Z"
    }
   },
   "outputs": [],
   "source": [
    "# Plot FPN layer values:\n",
    "temp_f = np.reshape(first_snapshot[:,:,0], (1,-1))\n",
    "temp_p = np.reshape(first_snapshot[:,:,1], (1,-1))\n",
    "temp_n = np.reshape(first_snapshot[:,:,2], (1,-1))"
   ]
  },
  {
   "cell_type": "code",
   "execution_count": 48,
   "metadata": {
    "ExecuteTime": {
     "end_time": "2019-03-05T14:00:42.831363Z",
     "start_time": "2019-03-05T14:00:42.704163Z"
    }
   },
   "outputs": [
    {
     "ename": "ValueError",
     "evalue": "cannot convert float NaN to integer",
     "output_type": "error",
     "traceback": [
      "\u001b[1;31m---------------------------------------------------------------------------\u001b[0m",
      "\u001b[1;31mValueError\u001b[0m                                Traceback (most recent call last)",
      "\u001b[1;32m<ipython-input-48-135b3c685c9c>\u001b[0m in \u001b[0;36m<module>\u001b[1;34m\u001b[0m\n\u001b[1;32m----> 1\u001b[1;33m \u001b[0msns\u001b[0m\u001b[1;33m.\u001b[0m\u001b[0mdistplot\u001b[0m\u001b[1;33m(\u001b[0m\u001b[0mtemp_f\u001b[0m\u001b[1;33m,\u001b[0m \u001b[0maxlabel\u001b[0m\u001b[1;33m=\u001b[0m\u001b[1;34m'Future (Red)'\u001b[0m\u001b[1;33m,\u001b[0m \u001b[0mcolor\u001b[0m\u001b[1;33m=\u001b[0m\u001b[1;34m'red'\u001b[0m\u001b[1;33m)\u001b[0m\u001b[1;33m;\u001b[0m\u001b[1;33m\u001b[0m\u001b[1;33m\u001b[0m\u001b[0m\n\u001b[0m",
      "\u001b[1;32mC:\\ProgramData\\Anaconda3\\envs\\dl\\lib\\site-packages\\seaborn\\distributions.py\u001b[0m in \u001b[0;36mdistplot\u001b[1;34m(a, bins, hist, kde, rug, fit, hist_kws, kde_kws, rug_kws, fit_kws, color, vertical, norm_hist, axlabel, label, ax)\u001b[0m\n\u001b[0;32m    213\u001b[0m     \u001b[1;32mif\u001b[0m \u001b[0mhist\u001b[0m\u001b[1;33m:\u001b[0m\u001b[1;33m\u001b[0m\u001b[1;33m\u001b[0m\u001b[0m\n\u001b[0;32m    214\u001b[0m         \u001b[1;32mif\u001b[0m \u001b[0mbins\u001b[0m \u001b[1;32mis\u001b[0m \u001b[1;32mNone\u001b[0m\u001b[1;33m:\u001b[0m\u001b[1;33m\u001b[0m\u001b[1;33m\u001b[0m\u001b[0m\n\u001b[1;32m--> 215\u001b[1;33m             \u001b[0mbins\u001b[0m \u001b[1;33m=\u001b[0m \u001b[0mmin\u001b[0m\u001b[1;33m(\u001b[0m\u001b[0m_freedman_diaconis_bins\u001b[0m\u001b[1;33m(\u001b[0m\u001b[0ma\u001b[0m\u001b[1;33m)\u001b[0m\u001b[1;33m,\u001b[0m \u001b[1;36m50\u001b[0m\u001b[1;33m)\u001b[0m\u001b[1;33m\u001b[0m\u001b[1;33m\u001b[0m\u001b[0m\n\u001b[0m\u001b[0;32m    216\u001b[0m         \u001b[0mhist_kws\u001b[0m\u001b[1;33m.\u001b[0m\u001b[0msetdefault\u001b[0m\u001b[1;33m(\u001b[0m\u001b[1;34m\"alpha\"\u001b[0m\u001b[1;33m,\u001b[0m \u001b[1;36m0.4\u001b[0m\u001b[1;33m)\u001b[0m\u001b[1;33m\u001b[0m\u001b[1;33m\u001b[0m\u001b[0m\n\u001b[0;32m    217\u001b[0m         \u001b[1;32mif\u001b[0m \u001b[0mLooseVersion\u001b[0m\u001b[1;33m(\u001b[0m\u001b[0mmpl\u001b[0m\u001b[1;33m.\u001b[0m\u001b[0m__version__\u001b[0m\u001b[1;33m)\u001b[0m \u001b[1;33m<\u001b[0m \u001b[0mLooseVersion\u001b[0m\u001b[1;33m(\u001b[0m\u001b[1;34m\"2.2\"\u001b[0m\u001b[1;33m)\u001b[0m\u001b[1;33m:\u001b[0m\u001b[1;33m\u001b[0m\u001b[1;33m\u001b[0m\u001b[0m\n",
      "\u001b[1;32mC:\\ProgramData\\Anaconda3\\envs\\dl\\lib\\site-packages\\seaborn\\distributions.py\u001b[0m in \u001b[0;36m_freedman_diaconis_bins\u001b[1;34m(a)\u001b[0m\n\u001b[0;32m     37\u001b[0m         \u001b[1;32mreturn\u001b[0m \u001b[0mint\u001b[0m\u001b[1;33m(\u001b[0m\u001b[0mnp\u001b[0m\u001b[1;33m.\u001b[0m\u001b[0msqrt\u001b[0m\u001b[1;33m(\u001b[0m\u001b[0ma\u001b[0m\u001b[1;33m.\u001b[0m\u001b[0msize\u001b[0m\u001b[1;33m)\u001b[0m\u001b[1;33m)\u001b[0m\u001b[1;33m\u001b[0m\u001b[1;33m\u001b[0m\u001b[0m\n\u001b[0;32m     38\u001b[0m     \u001b[1;32melse\u001b[0m\u001b[1;33m:\u001b[0m\u001b[1;33m\u001b[0m\u001b[1;33m\u001b[0m\u001b[0m\n\u001b[1;32m---> 39\u001b[1;33m         \u001b[1;32mreturn\u001b[0m \u001b[0mint\u001b[0m\u001b[1;33m(\u001b[0m\u001b[0mnp\u001b[0m\u001b[1;33m.\u001b[0m\u001b[0mceil\u001b[0m\u001b[1;33m(\u001b[0m\u001b[1;33m(\u001b[0m\u001b[0ma\u001b[0m\u001b[1;33m.\u001b[0m\u001b[0mmax\u001b[0m\u001b[1;33m(\u001b[0m\u001b[1;33m)\u001b[0m \u001b[1;33m-\u001b[0m \u001b[0ma\u001b[0m\u001b[1;33m.\u001b[0m\u001b[0mmin\u001b[0m\u001b[1;33m(\u001b[0m\u001b[1;33m)\u001b[0m\u001b[1;33m)\u001b[0m \u001b[1;33m/\u001b[0m \u001b[0mh\u001b[0m\u001b[1;33m)\u001b[0m\u001b[1;33m)\u001b[0m\u001b[1;33m\u001b[0m\u001b[1;33m\u001b[0m\u001b[0m\n\u001b[0m\u001b[0;32m     40\u001b[0m \u001b[1;33m\u001b[0m\u001b[0m\n\u001b[0;32m     41\u001b[0m \u001b[1;33m\u001b[0m\u001b[0m\n",
      "\u001b[1;31mValueError\u001b[0m: cannot convert float NaN to integer"
     ]
    },
    {
     "data": {
      "image/png": "[encoded data removed]",
      "text/plain": [
       "<Figure size 432x288 with 1 Axes>"
      ]
     },
     "metadata": {
      "image/png": {
       "height": 255,
       "width": 381
      }
     },
     "output_type": "display_data"
    }
   ],
   "source": [
    "sns.distplot(temp_f, axlabel='Future (Red)', color='red');"
   ]
  },
  {
   "cell_type": "code",
   "execution_count": null,
   "metadata": {
    "ExecuteTime": {
     "end_time": "2019-03-05T13:49:24.518609Z",
     "start_time": "2019-03-05T13:47:53.833Z"
    }
   },
   "outputs": [],
   "source": [
    "sns.distplot(temp_p, axlabel='Past (Green)', color='green');"
   ]
  },
  {
   "cell_type": "code",
   "execution_count": null,
   "metadata": {
    "ExecuteTime": {
     "end_time": "2019-03-05T13:49:24.519607Z",
     "start_time": "2019-03-05T13:47:53.834Z"
    }
   },
   "outputs": [],
   "source": [
    "sns.distplot(temp_n, axlabel='Now (Blue)', color='blue');"
   ]
  },
  {
   "cell_type": "code",
   "execution_count": null,
   "metadata": {
    "ExecuteTime": {
     "end_time": "2019-03-05T13:49:24.520604Z",
     "start_time": "2019-03-05T13:47:53.836Z"
    }
   },
   "outputs": [],
   "source": [
    "first_snapshot = first_snapshot.astype('uint8')\n",
    "first_image = Image.fromarray(first_snapshot)\n",
    "first_image.resize((690,690))"
   ]
  },
  {
   "cell_type": "code",
   "execution_count": null,
   "metadata": {
    "ExecuteTime": {
     "end_time": "2019-03-05T13:49:24.521602Z",
     "start_time": "2019-03-05T13:47:53.837Z"
    }
   },
   "outputs": [],
   "source": [
    "# image save directory:\n",
    "img_path = r'D:\\GITHUB\\GSPNet\\snapshots'\n",
    "\n",
    "# save image\n",
    "# first_image.save(f'{img_path}\\\\1.jpg')\n",
    "# first_image.resize((690,690)) # multiply by factor of 100"
   ]
  },
  {
   "cell_type": "markdown",
   "metadata": {},
   "source": [
    "### Put above codes into a function:"
   ]
  },
  {
   "cell_type": "code",
   "execution_count": null,
   "metadata": {
    "ExecuteTime": {
     "end_time": "2019-03-05T13:49:24.522598Z",
     "start_time": "2019-03-05T13:47:53.839Z"
    }
   },
   "outputs": [],
   "source": [
    "# Function that combines layers to an image\n",
    "def gen_image(p_layer, n_layer, f_layer):\n",
    "    '''\n",
    "    Generate an image using given matrices.\n",
    "    Params:\n",
    "        p_layer: matrix of past layer\n",
    "        n_layer: matrix of now layer\n",
    "        f_layer: matrix of future layer\n",
    "    Return:\n",
    "        A PIL image.\n",
    "    '''\n",
    "    # create a snapshot\n",
    "    snapshot = np.zeros([img_size, img_size, 3], dtype='float64')\n",
    "\n",
    "    # unexpected zones\n",
    "    left_zones = set()\n",
    "\n",
    "    # future-Red: 0\n",
    "    for _, row in f_layer.iterrows():\n",
    "        try:\n",
    "            snapshot[mp[str(row['pulocationid'])], mp[str(row['dolocationid'])], 0] += 1\n",
    "        except Exception as e:\n",
    "            left_zones.add(str(row['pulocationid']))\n",
    "            left_zones.add(str(row['dolocationid']))\n",
    "\n",
    "    # past-Green: 1\n",
    "    for _, row in p_layer.iterrows():\n",
    "        try:\n",
    "            snapshot[mp[str(row['pulocationid'])], mp[str(row['dolocationid'])], 1] += 1\n",
    "        except Exception as e:\n",
    "            left_zones.add(str(row['pulocationid']))\n",
    "            left_zones.add(str(row['dolocationid']))\n",
    "\n",
    "    # now-Blue: 2\n",
    "    for _, row in n_layer.iterrows():\n",
    "        try:\n",
    "            snapshot[mp[str(row['pulocationid'])], mp[str(row['dolocationid'])], 2] += 1\n",
    "        except Exception as e:\n",
    "            left_zones.add(str(row['pulocationid']))\n",
    "            left_zones.add(str(row['dolocationid']))\n",
    "\n",
    "    # normalize\n",
    "    snapshot *= 255 // snapshot.max()\n",
    "    snapshot = snapshot.astype('uint8')\n",
    "    image = Image.fromarray(snapshot)\n",
    "    return image\n",
    "\n",
    "# generate tensor, because saving image as intermediate data is not efficient\n",
    "def gen_tensor(p_layer, n_layer, f_layer):\n",
    "    '''\n",
    "    Generate a tensor using given matrices.\n",
    "    Params:\n",
    "        p_layer: matrix of past layer\n",
    "        n_layer: matrix of now layer\n",
    "        f_layer: matrix of future layer\n",
    "    Return:\n",
    "        A torch tensor.\n",
    "    '''\n",
    "    # create a snapshot\n",
    "    snapshot = np.zeros([img_size, img_size, 3], dtype='float64')\n",
    "\n",
    "    # unexpected zones\n",
    "    left_zones = set()\n",
    "\n",
    "    # future-Red: 0\n",
    "    for _, row in f_layer.iterrows():\n",
    "        try:\n",
    "            snapshot[mp[str(row['pulocationid'])], mp[str(row['dolocationid'])], 0] += 1\n",
    "        except Exception as e:\n",
    "            left_zones.add(str(row['pulocationid']))\n",
    "            left_zones.add(str(row['dolocationid']))\n",
    "\n",
    "    # past-Green: 1\n",
    "    for _, row in p_layer.iterrows():\n",
    "        try:\n",
    "            snapshot[mp[str(row['pulocationid'])], mp[str(row['dolocationid'])], 1] += 1\n",
    "        except Exception as e:\n",
    "            left_zones.add(str(row['pulocationid']))\n",
    "            left_zones.add(str(row['dolocationid']))\n",
    "\n",
    "    # now-Blue: 2\n",
    "    for _, row in n_layer.iterrows():\n",
    "        try:\n",
    "            snapshot[mp[str(row['pulocationid'])], mp[str(row['dolocationid'])], 2] += 1\n",
    "        except Exception as e:\n",
    "            left_zones.add(str(row['pulocationid']))\n",
    "            left_zones.add(str(row['dolocationid']))\n",
    "\n",
    "    # normalize\n",
    "    snapshot *= 255 // snapshot.max()\n",
    "    snapshot = torch.from_numpy(snapshot)\n",
    "    return snapshot"
   ]
  },
  {
   "cell_type": "code",
   "execution_count": null,
   "metadata": {
    "ExecuteTime": {
     "end_time": "2019-03-05T13:49:24.523596Z",
     "start_time": "2019-03-05T13:47:53.841Z"
    }
   },
   "outputs": [],
   "source": [
    "# Function that gets a specific layer of snapshot.\n",
    "def get_channel(image, layer:str):\n",
    "    '''\n",
    "    Get a layer of the snapshot.\n",
    "    Params:\n",
    "        image: PIL image\n",
    "        channel: one of R-F,G-P,B-N\n",
    "    Return:\n",
    "        single channel image\n",
    "    '''\n",
    "    assert layer in ['P', 'N', 'F']\n",
    "    namedict = {'P': 'G', 'N': 'B', 'F': 'R'}\n",
    "    chandict = {'R':0, 'G':1, 'B':2}\n",
    "    template = np.array(image)\n",
    "    chan = np.zeros([*template.shape], dtype='uint8')\n",
    "    chan[:,:,chandict[namedict[layer]]] = image.getchannel(namedict[layer])\n",
    "    chan = Image.fromarray(chan)\n",
    "    return chan"
   ]
  },
  {
   "cell_type": "code",
   "execution_count": null,
   "metadata": {
    "ExecuteTime": {
     "end_time": "2019-03-05T13:49:24.524616Z",
     "start_time": "2019-03-05T13:47:53.843Z"
    }
   },
   "outputs": [],
   "source": [
    "# future layer\n",
    "# first_image.getchannel('R').resize((345,345))\n",
    "red = get_channel(first_image, 'F')\n",
    "red = red.resize((345,345))\n",
    "red_bright = first_image.getchannel('R').resize((345,345))\n",
    "\n",
    "display(red, red_bright)"
   ]
  },
  {
   "cell_type": "code",
   "execution_count": null,
   "metadata": {
    "ExecuteTime": {
     "end_time": "2019-03-05T13:49:24.525591Z",
     "start_time": "2019-03-05T13:47:53.844Z"
    }
   },
   "outputs": [],
   "source": [
    "# Past layer\n",
    "green = get_channel(first_image, 'P')\n",
    "green = green.resize((345,345))\n",
    "\n",
    "# Past layer (green) in brightness.\n",
    "green_bright = first_image.getchannel('G').resize((345,345))\n",
    "display(green, green_bright)"
   ]
  },
  {
   "cell_type": "code",
   "execution_count": null,
   "metadata": {
    "ExecuteTime": {
     "end_time": "2019-03-05T13:49:24.526589Z",
     "start_time": "2019-03-05T13:47:53.846Z"
    }
   },
   "outputs": [],
   "source": [
    "# Now layer\n",
    "# first_image.getchannel('B').resize((345,345))\n",
    "blue = get_channel(first_image, 'N')\n",
    "blue = blue.resize((345,345))\n",
    "\n",
    "# Now layer (blue) in brightness.\n",
    "blue_bright = first_image.getchannel('B').resize((345,345))\n",
    "\n",
    "display(blue, blue_bright)"
   ]
  },
  {
   "cell_type": "markdown",
   "metadata": {},
   "source": [
    "### Using the above procedure, all 4464 tensors can be generated.\n",
    "\n",
    "**Possible variations:**\n",
    "+ Weight the value with passenger number\n",
    "+ Design a method to achieve finer granularity to distinguish trips with much longer time (3X std.)"
   ]
  },
  {
   "cell_type": "markdown",
   "metadata": {},
   "source": [
    "### 6. Parallel Batch Image Generation"
   ]
  },
  {
   "cell_type": "markdown",
   "metadata": {},
   "source": [
    "Now let's define a batch processing function to generate tonsors like above according to time interval. For the sake of effitiency, parallel boost is used (i.e. dask). The **computation graphs** of the generator is as follows:\n",
    "\n",
    "<img src=\"images/flowgraph_imggen.png\" align=\"left\" width=\"70%\">"
   ]
  },
  {
   "cell_type": "markdown",
   "metadata": {},
   "source": [
    "#### Individual functions:"
   ]
  },
  {
   "cell_type": "markdown",
   "metadata": {},
   "source": [
    "Create a list of time bounds given the starting point and ending point of a time interval:"
   ]
  },
  {
   "cell_type": "code",
   "execution_count": null,
   "metadata": {
    "ExecuteTime": {
     "end_time": "2019-03-05T13:49:24.526589Z",
     "start_time": "2019-03-05T13:47:53.849Z"
    }
   },
   "outputs": [],
   "source": [
    "def timesplit(stp: str, etp: str, freq='10min'):\n",
    "    '''\n",
    "    Create a DatetimeIndx interval.\n",
    "    \n",
    "    Params:\n",
    "        stp: string, starting time point, first left bound\n",
    "        etp: string, ending time point, last right bound\n",
    "        freq: frequency, time interval unit of the splice operation\n",
    "    The stp and etp must of pattern \"yyyy-mm-dd hh:mm:ss\", otherwise exception will be raised.\n",
    "    \n",
    "    Return:\n",
    "        A list of time intervals tuples,each item is a tuple of two\n",
    "        interval(i.e., pandas.core.indexes.datetimes.DatetimeIndex object)\n",
    "        For example, a possible return could be [(2017-01-01 00:00:00, 2017-01-01 00:10:00),\n",
    "                                                 (2017-01-01 00:10:00, 2017-01-01 00:20:00)]\n",
    "    '''\n",
    "    pattern = re.compile('^([0-9]{4})-([0-1][0-9])-([0-3][0-9])\\s([0-1][0-9]|[2][0-3]):([0-5][0-9]):([0-5][0-9])$')\n",
    "    if pattern.match(stp) and pattern.match(etp):\n",
    "        time_bounds = pd.date_range(stp, etp, freq=freq)\n",
    "        sub_intervals = list(zip(time_bounds[:-1], time_bounds[1:]))\n",
    "        print(len(time_bounds), len(sub_intervals))\n",
    "        return sub_intervals\n",
    "    else:\n",
    "        raise Exception('Provided time bound is of invalid format.')\n"
   ]
  },
  {
   "cell_type": "code",
   "execution_count": null,
   "metadata": {
    "ExecuteTime": {
     "end_time": "2019-03-05T13:49:24.527585Z",
     "start_time": "2019-03-05T13:47:53.850Z"
    }
   },
   "outputs": [],
   "source": [
    "timelist = timesplit('2017-01-01 00:00:00', '2017-02-01 00:00:00')"
   ]
  },
  {
   "cell_type": "code",
   "execution_count": null,
   "metadata": {
    "ExecuteTime": {
     "end_time": "2019-03-05T13:49:24.528583Z",
     "start_time": "2019-03-05T13:47:53.852Z"
    }
   },
   "outputs": [],
   "source": [
    "# Number of characters needed to save a time pair\n",
    "sum(list(map(len, ['2017-01-01 00:00:00', '2017-02-01 00:00:00'])))"
   ]
  },
  {
   "cell_type": "code",
   "execution_count": null,
   "metadata": {
    "ExecuteTime": {
     "end_time": "2019-03-05T13:49:24.529580Z",
     "start_time": "2019-03-05T13:47:53.853Z"
    }
   },
   "outputs": [],
   "source": [
    "# test functions\n",
    "timelist = timesplit('2017-01-01 00:00:00', '2017-02-01 00:00:00')\n",
    "print(f'timelist length: {len(timelist)}')\n",
    "\n",
    "bound = timelist[100]\n",
    "print(type(bound))\n",
    "print(bound[0])\n",
    "print(bound[1])\n",
    "\n",
    "f_player, f_nlayer, f_flayer = gen_snap_layers(table, bound)\n",
    "image = gen_image(f_player, f_nlayer, f_flayer)\n",
    "\n",
    "# image save directory:\n",
    "visual_path = r'D:\\GITHUB\\GSPNet\\snapshots\\visualization'\n",
    "data_path = r'D:\\GITHUB\\GSPNet\\snapshots\\data'\n",
    "\n",
    "# save image\n",
    "image.save(f'{data_path}\\\\d1.bmp')\n",
    "vimage = image.resize((690,690)) # multiply by factor of 100\n",
    "vimage.save(f'{visual_path}\\\\v1.bmp')\n",
    "vimage"
   ]
  },
  {
   "cell_type": "code",
   "execution_count": null,
   "metadata": {
    "ExecuteTime": {
     "end_time": "2019-03-05T13:49:24.530577Z",
     "start_time": "2019-03-05T13:47:53.854Z"
    }
   },
   "outputs": [],
   "source": [
    "rdtbt = time.time()\n",
    "timelist = timesplit('2017-02-01 00:00:00', '2017-03-01 00:00:00')\n",
    "table = pd.read_csv('dataset/nytaxi_yellow_2017_feb.csv')\n",
    "print(f'data loaded in {time.time() - rdtbt}')"
   ]
  },
  {
   "cell_type": "code",
   "execution_count": null,
   "metadata": {
    "ExecuteTime": {
     "end_time": "2019-03-05T13:49:24.531603Z",
     "start_time": "2019-03-05T13:47:53.856Z"
    }
   },
   "outputs": [],
   "source": [
    "table.head()"
   ]
  },
  {
   "cell_type": "code",
   "execution_count": null,
   "metadata": {
    "ExecuteTime": {
     "end_time": "2019-03-05T13:49:24.531603Z",
     "start_time": "2019-03-05T13:47:53.858Z"
    }
   },
   "outputs": [],
   "source": [
    "start = time.time()\n",
    "# convert dtype for entire table here:\n",
    "table['tpep_pickup_datetime'] = pd.to_datetime(table['tpep_pickup_datetime'])\n",
    "table['tpep_dropoff_datetime'] = pd.to_datetime(table['tpep_dropoff_datetime'])\n",
    "for i, bound in enumerate(timelist):\n",
    "    p_layer, n_layer, f_layer = gen_snap_layers(table, bound)\n",
    "    tensor = gen_tensor(p_layer, n_layer, f_layer)\n",
    "    torch.save(tensor, f'{data_path}\\\\nytaxi_yellow_2017_feb_d{i}.pt')\n",
    "    image = gen_image(p_layer, n_layer, f_layer)\n",
    "    vimage = image.resize((690,690)) # multiply by factor of 100\n",
    "    vimage.save(f'{visual_path}\\\\nytaxi_yellow_2017_feb_v{i}.jpg')\n",
    "print(f'Image and tensor generation done in {time.time() - start :.2f} seconds.')"
   ]
  },
  {
   "cell_type": "code",
   "execution_count": null,
   "metadata": {
    "ExecuteTime": {
     "end_time": "2019-03-05T13:49:24.532574Z",
     "start_time": "2019-03-05T13:47:53.859Z"
    }
   },
   "outputs": [],
   "source": [
    "26155 / 60 / 60"
   ]
  },
  {
   "cell_type": "markdown",
   "metadata": {},
   "source": [
    "## Part 2: Modeling"
   ]
  },
  {
   "cell_type": "markdown",
   "metadata": {},
   "source": [
    "## Part 3: Prediction & per demand modification of states (to be done)"
   ]
  },
  {
   "cell_type": "code",
   "execution_count": null,
   "metadata": {},
   "outputs": [],
   "source": []
  }
 ],
 "metadata": {
  "kernelspec": {
   "display_name": "Python 3",
   "language": "python",
   "name": "python3"
  },
  "language_info": {
   "codemirror_mode": {
    "name": "ipython",
    "version": 3
   },
   "file_extension": ".py",
   "mimetype": "text/x-python",
   "name": "python",
   "nbconvert_exporter": "python",
   "pygments_lexer": "ipython3",
   "version": "3.7.2"
  }
 },
 "nbformat": 4,
 "nbformat_minor": 2
}
