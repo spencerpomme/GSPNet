{
 "cells": [
  {
   "cell_type": "markdown",
   "metadata": {},
   "source": [
    "<img src=\"images/logo_city.png\" align=\"right\" width=\"20%\">"
   ]
  },
  {
   "cell_type": "markdown",
   "metadata": {},
   "source": [
    "# Training A Graph State Prediction Network (GSPNet)"
   ]
  },
  {
   "cell_type": "markdown",
   "metadata": {},
   "source": [
    "This notebook is a prototype on how to train a graph state prediction network using CNN and LSTM.\n",
    "The content is devided into __3__ parts:\n",
    "\n",
    "1. Data preprocessing\n",
    "2. Model building, Training and Tuning\n",
    "3. Prediction and per demand modifacation\n",
    "\n",
    "The model is built with [PyTorch](https://pytorch.org/)."
   ]
  },
  {
   "cell_type": "markdown",
   "metadata": {},
   "source": [
    "## Part 1: Data Preprocessing"
   ]
  },
  {
   "cell_type": "markdown",
   "metadata": {},
   "source": [
    "### 1. Import necessary libraries:\n",
    "\n",
    "We will use pandas and numpy as main data examine and cleansing util and use dask to handle parallel computing cases"
   ]
  },
  {
   "cell_type": "code",
   "execution_count": 1,
   "metadata": {},
   "outputs": [],
   "source": [
    "import pandas as pd\n",
    "import numpy as np\n",
    "import seaborn as sns\n",
    "import sqlalchemy\n",
    "import dask\n",
    "import time\n",
    "import psycopg2\n",
    "import warnings\n",
    "import re\n",
    "import torch\n",
    "from PIL import Image\n",
    "from IPython.display import display\n",
    "from scipy import stats\n",
    "from matplotlib import pyplot as plt\n",
    "\n",
    "%matplotlib inline\n",
    "%config InlineBackend.figure_format = 'retina'"
   ]
  },
  {
   "cell_type": "markdown",
   "metadata": {},
   "source": [
    "\n",
    "<br></br>\n",
    "<br></br>\n",
    "We'll first, use a small sample data (approximately 1 million rows) and see a few rows of it:"
   ]
  },
  {
   "cell_type": "code",
   "execution_count": 2,
   "metadata": {},
   "outputs": [
    {
     "name": "stdout",
     "output_type": "stream",
     "text": [
      "Load time is 42.193149.\n"
     ]
    },
    {
     "data": {
      "text/html": [
       "<div>\n",
       "<style scoped>\n",
       "    .dataframe tbody tr th:only-of-type {\n",
       "        vertical-align: middle;\n",
       "    }\n",
       "\n",
       "    .dataframe tbody tr th {\n",
       "        vertical-align: top;\n",
       "    }\n",
       "\n",
       "    .dataframe thead th {\n",
       "        text-align: right;\n",
       "    }\n",
       "</style>\n",
       "<table border=\"1\" class=\"dataframe\">\n",
       "  <thead>\n",
       "    <tr style=\"text-align: right;\">\n",
       "      <th></th>\n",
       "      <th>tripid</th>\n",
       "      <th>tpep_pickup_datetime</th>\n",
       "      <th>tpep_dropoff_datetime</th>\n",
       "      <th>pulocationid</th>\n",
       "      <th>dolocationid</th>\n",
       "      <th>trip_distance</th>\n",
       "      <th>passenger_count</th>\n",
       "      <th>total_amount</th>\n",
       "      <th>trip_time</th>\n",
       "      <th>trip_avg_speed</th>\n",
       "      <th>trip_time_sec</th>\n",
       "    </tr>\n",
       "  </thead>\n",
       "  <tbody>\n",
       "    <tr>\n",
       "      <th>0</th>\n",
       "      <td>46266925</td>\n",
       "      <td>2017-04-01 00:00:00</td>\n",
       "      <td>2017-04-01 00:15:07</td>\n",
       "      <td>158</td>\n",
       "      <td>113</td>\n",
       "      <td>1.8</td>\n",
       "      <td>1</td>\n",
       "      <td>11.80</td>\n",
       "      <td>00:15:07</td>\n",
       "      <td>7.144432</td>\n",
       "      <td>907</td>\n",
       "    </tr>\n",
       "    <tr>\n",
       "      <th>1</th>\n",
       "      <td>46266926</td>\n",
       "      <td>2017-04-01 00:00:00</td>\n",
       "      <td>2017-04-01 00:16:23</td>\n",
       "      <td>87</td>\n",
       "      <td>158</td>\n",
       "      <td>3.7</td>\n",
       "      <td>3</td>\n",
       "      <td>15.80</td>\n",
       "      <td>00:16:23</td>\n",
       "      <td>13.550356</td>\n",
       "      <td>983</td>\n",
       "    </tr>\n",
       "    <tr>\n",
       "      <th>2</th>\n",
       "      <td>46266928</td>\n",
       "      <td>2017-04-01 00:00:01</td>\n",
       "      <td>2017-04-01 00:37:05</td>\n",
       "      <td>230</td>\n",
       "      <td>4</td>\n",
       "      <td>3.3</td>\n",
       "      <td>2</td>\n",
       "      <td>29.75</td>\n",
       "      <td>00:37:04</td>\n",
       "      <td>5.341727</td>\n",
       "      <td>2224</td>\n",
       "    </tr>\n",
       "    <tr>\n",
       "      <th>3</th>\n",
       "      <td>46266929</td>\n",
       "      <td>2017-04-01 00:00:01</td>\n",
       "      <td>2017-04-01 00:02:56</td>\n",
       "      <td>142</td>\n",
       "      <td>143</td>\n",
       "      <td>0.7</td>\n",
       "      <td>1</td>\n",
       "      <td>5.80</td>\n",
       "      <td>00:02:55</td>\n",
       "      <td>14.400000</td>\n",
       "      <td>175</td>\n",
       "    </tr>\n",
       "    <tr>\n",
       "      <th>4</th>\n",
       "      <td>46266930</td>\n",
       "      <td>2017-04-01 00:00:01</td>\n",
       "      <td>2017-04-01 00:07:28</td>\n",
       "      <td>170</td>\n",
       "      <td>263</td>\n",
       "      <td>2.2</td>\n",
       "      <td>1</td>\n",
       "      <td>12.25</td>\n",
       "      <td>00:07:27</td>\n",
       "      <td>17.718121</td>\n",
       "      <td>447</td>\n",
       "    </tr>\n",
       "  </tbody>\n",
       "</table>\n",
       "</div>"
      ],
      "text/plain": [
       "     tripid tpep_pickup_datetime tpep_dropoff_datetime  pulocationid  \\\n",
       "0  46266925  2017-04-01 00:00:00   2017-04-01 00:15:07           158   \n",
       "1  46266926  2017-04-01 00:00:00   2017-04-01 00:16:23            87   \n",
       "2  46266928  2017-04-01 00:00:01   2017-04-01 00:37:05           230   \n",
       "3  46266929  2017-04-01 00:00:01   2017-04-01 00:02:56           142   \n",
       "4  46266930  2017-04-01 00:00:01   2017-04-01 00:07:28           170   \n",
       "\n",
       "   dolocationid  trip_distance  passenger_count  total_amount trip_time  \\\n",
       "0           113            1.8                1         11.80  00:15:07   \n",
       "1           158            3.7                3         15.80  00:16:23   \n",
       "2             4            3.3                2         29.75  00:37:04   \n",
       "3           143            0.7                1          5.80  00:02:55   \n",
       "4           263            2.2                1         12.25  00:07:27   \n",
       "\n",
       "   trip_avg_speed  trip_time_sec  \n",
       "0        7.144432            907  \n",
       "1       13.550356            983  \n",
       "2        5.341727           2224  \n",
       "3       14.400000            175  \n",
       "4       17.718121            447  "
      ]
     },
     "execution_count": 2,
     "metadata": {},
     "output_type": "execute_result"
    }
   ],
   "source": [
    "# Load already cleaned data sample using plain pandas\n",
    "t1 = time.time()\n",
    "table = pd.read_csv('dataset/nytaxi_yellow_2017_apr.csv')\n",
    "print(f'Load time is {time.time() - t1 :2f}.')\n",
    "table.head()"
   ]
  },
  {
   "cell_type": "markdown",
   "metadata": {},
   "source": [
    "### 2. First sight of the data"
   ]
  },
  {
   "cell_type": "markdown",
   "metadata": {},
   "source": [
    "Let's see the the type of columns and some basic statistics of the sample data:"
   ]
  },
  {
   "cell_type": "code",
   "execution_count": 3,
   "metadata": {},
   "outputs": [
    {
     "data": {
      "text/plain": [
       "tripid                     int64\n",
       "tpep_pickup_datetime      object\n",
       "tpep_dropoff_datetime     object\n",
       "pulocationid               int64\n",
       "dolocationid               int64\n",
       "trip_distance            float64\n",
       "passenger_count            int64\n",
       "total_amount             float64\n",
       "trip_time                 object\n",
       "trip_avg_speed           float64\n",
       "trip_time_sec              int64\n",
       "dtype: object"
      ]
     },
     "execution_count": 3,
     "metadata": {},
     "output_type": "execute_result"
    }
   ],
   "source": [
    "# column data types\n",
    "table.dtypes"
   ]
  },
  {
   "cell_type": "code",
   "execution_count": 4,
   "metadata": {},
   "outputs": [
    {
     "data": {
      "text/plain": [
       "(9976305, 11)"
      ]
     },
     "execution_count": 4,
     "metadata": {},
     "output_type": "execute_result"
    }
   ],
   "source": [
    "# rows and columns\n",
    "table.shape"
   ]
  },
  {
   "cell_type": "code",
   "execution_count": 5,
   "metadata": {
    "scrolled": true
   },
   "outputs": [
    {
     "data": {
      "text/html": [
       "<div>\n",
       "<style scoped>\n",
       "    .dataframe tbody tr th:only-of-type {\n",
       "        vertical-align: middle;\n",
       "    }\n",
       "\n",
       "    .dataframe tbody tr th {\n",
       "        vertical-align: top;\n",
       "    }\n",
       "\n",
       "    .dataframe thead th {\n",
       "        text-align: right;\n",
       "    }\n",
       "</style>\n",
       "<table border=\"1\" class=\"dataframe\">\n",
       "  <thead>\n",
       "    <tr style=\"text-align: right;\">\n",
       "      <th></th>\n",
       "      <th>tripid</th>\n",
       "      <th>pulocationid</th>\n",
       "      <th>dolocationid</th>\n",
       "      <th>trip_distance</th>\n",
       "      <th>passenger_count</th>\n",
       "      <th>total_amount</th>\n",
       "      <th>trip_avg_speed</th>\n",
       "      <th>trip_time_sec</th>\n",
       "    </tr>\n",
       "  </thead>\n",
       "  <tbody>\n",
       "    <tr>\n",
       "      <th>count</th>\n",
       "      <td>9.976305e+06</td>\n",
       "      <td>9.976305e+06</td>\n",
       "      <td>9.976305e+06</td>\n",
       "      <td>9.976305e+06</td>\n",
       "      <td>9.976305e+06</td>\n",
       "      <td>9.976305e+06</td>\n",
       "      <td>9.976305e+06</td>\n",
       "      <td>9.976305e+06</td>\n",
       "    </tr>\n",
       "    <tr>\n",
       "      <th>mean</th>\n",
       "      <td>5.129000e+07</td>\n",
       "      <td>1.625606e+02</td>\n",
       "      <td>1.603451e+02</td>\n",
       "      <td>2.974855e+00</td>\n",
       "      <td>1.628855e+00</td>\n",
       "      <td>1.623789e+01</td>\n",
       "      <td>1.343366e+01</td>\n",
       "      <td>9.917470e+02</td>\n",
       "    </tr>\n",
       "    <tr>\n",
       "      <th>std</th>\n",
       "      <td>2.900027e+06</td>\n",
       "      <td>6.682011e+01</td>\n",
       "      <td>7.079396e+01</td>\n",
       "      <td>3.765064e+00</td>\n",
       "      <td>1.265034e+00</td>\n",
       "      <td>6.443697e+01</td>\n",
       "      <td>1.610219e+02</td>\n",
       "      <td>3.382931e+03</td>\n",
       "    </tr>\n",
       "    <tr>\n",
       "      <th>min</th>\n",
       "      <td>4.626692e+07</td>\n",
       "      <td>1.000000e+00</td>\n",
       "      <td>1.000000e+00</td>\n",
       "      <td>1.000000e-02</td>\n",
       "      <td>0.000000e+00</td>\n",
       "      <td>-3.983000e+02</td>\n",
       "      <td>4.171446e-04</td>\n",
       "      <td>1.000000e+00</td>\n",
       "    </tr>\n",
       "    <tr>\n",
       "      <th>25%</th>\n",
       "      <td>4.877799e+07</td>\n",
       "      <td>1.140000e+02</td>\n",
       "      <td>1.070000e+02</td>\n",
       "      <td>1.000000e+00</td>\n",
       "      <td>1.000000e+00</td>\n",
       "      <td>8.750000e+00</td>\n",
       "      <td>7.452559e+00</td>\n",
       "      <td>4.010000e+02</td>\n",
       "    </tr>\n",
       "    <tr>\n",
       "      <th>50%</th>\n",
       "      <td>5.129070e+07</td>\n",
       "      <td>1.620000e+02</td>\n",
       "      <td>1.620000e+02</td>\n",
       "      <td>1.680000e+00</td>\n",
       "      <td>1.000000e+00</td>\n",
       "      <td>1.180000e+01</td>\n",
       "      <td>1.004255e+01</td>\n",
       "      <td>6.710000e+02</td>\n",
       "    </tr>\n",
       "    <tr>\n",
       "      <th>75%</th>\n",
       "      <td>5.380126e+07</td>\n",
       "      <td>2.330000e+02</td>\n",
       "      <td>2.330000e+02</td>\n",
       "      <td>3.100000e+00</td>\n",
       "      <td>2.000000e+00</td>\n",
       "      <td>1.780000e+01</td>\n",
       "      <td>1.362637e+01</td>\n",
       "      <td>1.101000e+03</td>\n",
       "    </tr>\n",
       "    <tr>\n",
       "      <th>max</th>\n",
       "      <td>5.631311e+07</td>\n",
       "      <td>2.650000e+02</td>\n",
       "      <td>2.650000e+02</td>\n",
       "      <td>3.080200e+02</td>\n",
       "      <td>9.000000e+00</td>\n",
       "      <td>1.986444e+05</td>\n",
       "      <td>7.704000e+04</td>\n",
       "      <td>1.730178e+06</td>\n",
       "    </tr>\n",
       "  </tbody>\n",
       "</table>\n",
       "</div>"
      ],
      "text/plain": [
       "             tripid  pulocationid  dolocationid  trip_distance  \\\n",
       "count  9.976305e+06  9.976305e+06  9.976305e+06   9.976305e+06   \n",
       "mean   5.129000e+07  1.625606e+02  1.603451e+02   2.974855e+00   \n",
       "std    2.900027e+06  6.682011e+01  7.079396e+01   3.765064e+00   \n",
       "min    4.626692e+07  1.000000e+00  1.000000e+00   1.000000e-02   \n",
       "25%    4.877799e+07  1.140000e+02  1.070000e+02   1.000000e+00   \n",
       "50%    5.129070e+07  1.620000e+02  1.620000e+02   1.680000e+00   \n",
       "75%    5.380126e+07  2.330000e+02  2.330000e+02   3.100000e+00   \n",
       "max    5.631311e+07  2.650000e+02  2.650000e+02   3.080200e+02   \n",
       "\n",
       "       passenger_count  total_amount  trip_avg_speed  trip_time_sec  \n",
       "count     9.976305e+06  9.976305e+06    9.976305e+06   9.976305e+06  \n",
       "mean      1.628855e+00  1.623789e+01    1.343366e+01   9.917470e+02  \n",
       "std       1.265034e+00  6.443697e+01    1.610219e+02   3.382931e+03  \n",
       "min       0.000000e+00 -3.983000e+02    4.171446e-04   1.000000e+00  \n",
       "25%       1.000000e+00  8.750000e+00    7.452559e+00   4.010000e+02  \n",
       "50%       1.000000e+00  1.180000e+01    1.004255e+01   6.710000e+02  \n",
       "75%       2.000000e+00  1.780000e+01    1.362637e+01   1.101000e+03  \n",
       "max       9.000000e+00  1.986444e+05    7.704000e+04   1.730178e+06  "
      ]
     },
     "execution_count": 5,
     "metadata": {},
     "output_type": "execute_result"
    }
   ],
   "source": [
    "# basic statistics\n",
    "table.describe()"
   ]
  },
  {
   "cell_type": "markdown",
   "metadata": {},
   "source": [
    "The columns we will use are: **tpep_pickup_datetime, pulocationid, tpep_dropoff_datetime, dolocationid.**\n",
    "These information are used to generate graphs that are used to discribe the general traffic state of New York.\n",
    "\n",
    "Notice currently the **tpep_pickup_datetime** and **tpep_dropoff_datetime** are of type `object`:"
   ]
  },
  {
   "cell_type": "code",
   "execution_count": 6,
   "metadata": {},
   "outputs": [
    {
     "data": {
      "text/html": [
       "<div>\n",
       "<style scoped>\n",
       "    .dataframe tbody tr th:only-of-type {\n",
       "        vertical-align: middle;\n",
       "    }\n",
       "\n",
       "    .dataframe tbody tr th {\n",
       "        vertical-align: top;\n",
       "    }\n",
       "\n",
       "    .dataframe thead th {\n",
       "        text-align: right;\n",
       "    }\n",
       "</style>\n",
       "<table border=\"1\" class=\"dataframe\">\n",
       "  <thead>\n",
       "    <tr style=\"text-align: right;\">\n",
       "      <th></th>\n",
       "      <th>tpep_pickup_datetime</th>\n",
       "      <th>tpep_dropoff_datetime</th>\n",
       "    </tr>\n",
       "  </thead>\n",
       "  <tbody>\n",
       "    <tr>\n",
       "      <th>0</th>\n",
       "      <td>2017-04-01 00:00:00</td>\n",
       "      <td>2017-04-01 00:15:07</td>\n",
       "    </tr>\n",
       "    <tr>\n",
       "      <th>1</th>\n",
       "      <td>2017-04-01 00:00:00</td>\n",
       "      <td>2017-04-01 00:16:23</td>\n",
       "    </tr>\n",
       "    <tr>\n",
       "      <th>2</th>\n",
       "      <td>2017-04-01 00:00:01</td>\n",
       "      <td>2017-04-01 00:37:05</td>\n",
       "    </tr>\n",
       "    <tr>\n",
       "      <th>3</th>\n",
       "      <td>2017-04-01 00:00:01</td>\n",
       "      <td>2017-04-01 00:02:56</td>\n",
       "    </tr>\n",
       "    <tr>\n",
       "      <th>4</th>\n",
       "      <td>2017-04-01 00:00:01</td>\n",
       "      <td>2017-04-01 00:07:28</td>\n",
       "    </tr>\n",
       "  </tbody>\n",
       "</table>\n",
       "</div>"
      ],
      "text/plain": [
       "  tpep_pickup_datetime tpep_dropoff_datetime\n",
       "0  2017-04-01 00:00:00   2017-04-01 00:15:07\n",
       "1  2017-04-01 00:00:00   2017-04-01 00:16:23\n",
       "2  2017-04-01 00:00:01   2017-04-01 00:37:05\n",
       "3  2017-04-01 00:00:01   2017-04-01 00:02:56\n",
       "4  2017-04-01 00:00:01   2017-04-01 00:07:28"
      ]
     },
     "execution_count": 6,
     "metadata": {},
     "output_type": "execute_result"
    }
   ],
   "source": [
    "table.loc[:,['tpep_pickup_datetime', 'tpep_dropoff_datetime']].head()"
   ]
  },
  {
   "cell_type": "markdown",
   "metadata": {},
   "source": [
    "In order to do **time slice** later, these two feilds must be sorted in chronological mananer, first by `tpep_pickup_datetime` and then by `tpep_dropoff_datetime`, as follows:"
   ]
  },
  {
   "cell_type": "code",
   "execution_count": 7,
   "metadata": {},
   "outputs": [
    {
     "data": {
      "text/html": [
       "<div>\n",
       "<style scoped>\n",
       "    .dataframe tbody tr th:only-of-type {\n",
       "        vertical-align: middle;\n",
       "    }\n",
       "\n",
       "    .dataframe tbody tr th {\n",
       "        vertical-align: top;\n",
       "    }\n",
       "\n",
       "    .dataframe thead th {\n",
       "        text-align: right;\n",
       "    }\n",
       "</style>\n",
       "<table border=\"1\" class=\"dataframe\">\n",
       "  <thead>\n",
       "    <tr style=\"text-align: right;\">\n",
       "      <th></th>\n",
       "      <th>tripid</th>\n",
       "      <th>tpep_pickup_datetime</th>\n",
       "      <th>tpep_dropoff_datetime</th>\n",
       "      <th>pulocationid</th>\n",
       "      <th>dolocationid</th>\n",
       "      <th>trip_distance</th>\n",
       "      <th>passenger_count</th>\n",
       "      <th>total_amount</th>\n",
       "      <th>trip_time</th>\n",
       "      <th>trip_avg_speed</th>\n",
       "      <th>trip_time_sec</th>\n",
       "    </tr>\n",
       "  </thead>\n",
       "  <tbody>\n",
       "    <tr>\n",
       "      <th>0</th>\n",
       "      <td>46266925</td>\n",
       "      <td>2017-04-01 00:00:00</td>\n",
       "      <td>2017-04-01 00:15:07</td>\n",
       "      <td>158</td>\n",
       "      <td>113</td>\n",
       "      <td>1.80</td>\n",
       "      <td>1</td>\n",
       "      <td>11.80</td>\n",
       "      <td>00:15:07</td>\n",
       "      <td>7.144432</td>\n",
       "      <td>907</td>\n",
       "    </tr>\n",
       "    <tr>\n",
       "      <th>1</th>\n",
       "      <td>46266926</td>\n",
       "      <td>2017-04-01 00:00:00</td>\n",
       "      <td>2017-04-01 00:16:23</td>\n",
       "      <td>87</td>\n",
       "      <td>158</td>\n",
       "      <td>3.70</td>\n",
       "      <td>3</td>\n",
       "      <td>15.80</td>\n",
       "      <td>00:16:23</td>\n",
       "      <td>13.550356</td>\n",
       "      <td>983</td>\n",
       "    </tr>\n",
       "    <tr>\n",
       "      <th>6</th>\n",
       "      <td>46266932</td>\n",
       "      <td>2017-04-01 00:00:01</td>\n",
       "      <td>2017-04-01 00:02:40</td>\n",
       "      <td>166</td>\n",
       "      <td>166</td>\n",
       "      <td>0.40</td>\n",
       "      <td>1</td>\n",
       "      <td>5.30</td>\n",
       "      <td>00:02:39</td>\n",
       "      <td>9.056604</td>\n",
       "      <td>159</td>\n",
       "    </tr>\n",
       "    <tr>\n",
       "      <th>3</th>\n",
       "      <td>46266929</td>\n",
       "      <td>2017-04-01 00:00:01</td>\n",
       "      <td>2017-04-01 00:02:56</td>\n",
       "      <td>142</td>\n",
       "      <td>143</td>\n",
       "      <td>0.70</td>\n",
       "      <td>1</td>\n",
       "      <td>5.80</td>\n",
       "      <td>00:02:55</td>\n",
       "      <td>14.400000</td>\n",
       "      <td>175</td>\n",
       "    </tr>\n",
       "    <tr>\n",
       "      <th>15</th>\n",
       "      <td>46266941</td>\n",
       "      <td>2017-04-01 00:00:01</td>\n",
       "      <td>2017-04-01 00:06:09</td>\n",
       "      <td>230</td>\n",
       "      <td>142</td>\n",
       "      <td>1.06</td>\n",
       "      <td>6</td>\n",
       "      <td>9.36</td>\n",
       "      <td>00:06:08</td>\n",
       "      <td>10.369565</td>\n",
       "      <td>368</td>\n",
       "    </tr>\n",
       "    <tr>\n",
       "      <th>4</th>\n",
       "      <td>46266930</td>\n",
       "      <td>2017-04-01 00:00:01</td>\n",
       "      <td>2017-04-01 00:07:28</td>\n",
       "      <td>170</td>\n",
       "      <td>263</td>\n",
       "      <td>2.20</td>\n",
       "      <td>1</td>\n",
       "      <td>12.25</td>\n",
       "      <td>00:07:27</td>\n",
       "      <td>17.718121</td>\n",
       "      <td>447</td>\n",
       "    </tr>\n",
       "    <tr>\n",
       "      <th>5</th>\n",
       "      <td>46266931</td>\n",
       "      <td>2017-04-01 00:00:01</td>\n",
       "      <td>2017-04-01 00:08:30</td>\n",
       "      <td>100</td>\n",
       "      <td>48</td>\n",
       "      <td>0.70</td>\n",
       "      <td>1</td>\n",
       "      <td>9.95</td>\n",
       "      <td>00:08:29</td>\n",
       "      <td>4.950884</td>\n",
       "      <td>509</td>\n",
       "    </tr>\n",
       "    <tr>\n",
       "      <th>7</th>\n",
       "      <td>46266933</td>\n",
       "      <td>2017-04-01 00:00:01</td>\n",
       "      <td>2017-04-01 00:10:20</td>\n",
       "      <td>113</td>\n",
       "      <td>68</td>\n",
       "      <td>1.23</td>\n",
       "      <td>1</td>\n",
       "      <td>10.30</td>\n",
       "      <td>00:10:19</td>\n",
       "      <td>7.153473</td>\n",
       "      <td>619</td>\n",
       "    </tr>\n",
       "    <tr>\n",
       "      <th>13</th>\n",
       "      <td>46266939</td>\n",
       "      <td>2017-04-01 00:00:01</td>\n",
       "      <td>2017-04-01 00:31:14</td>\n",
       "      <td>132</td>\n",
       "      <td>234</td>\n",
       "      <td>18.21</td>\n",
       "      <td>1</td>\n",
       "      <td>73.20</td>\n",
       "      <td>00:31:13</td>\n",
       "      <td>35.000534</td>\n",
       "      <td>1873</td>\n",
       "    </tr>\n",
       "    <tr>\n",
       "      <th>2</th>\n",
       "      <td>46266928</td>\n",
       "      <td>2017-04-01 00:00:01</td>\n",
       "      <td>2017-04-01 00:37:05</td>\n",
       "      <td>230</td>\n",
       "      <td>4</td>\n",
       "      <td>3.30</td>\n",
       "      <td>2</td>\n",
       "      <td>29.75</td>\n",
       "      <td>00:37:04</td>\n",
       "      <td>5.341727</td>\n",
       "      <td>2224</td>\n",
       "    </tr>\n",
       "  </tbody>\n",
       "</table>\n",
       "</div>"
      ],
      "text/plain": [
       "      tripid tpep_pickup_datetime tpep_dropoff_datetime  pulocationid  \\\n",
       "0   46266925  2017-04-01 00:00:00   2017-04-01 00:15:07           158   \n",
       "1   46266926  2017-04-01 00:00:00   2017-04-01 00:16:23            87   \n",
       "6   46266932  2017-04-01 00:00:01   2017-04-01 00:02:40           166   \n",
       "3   46266929  2017-04-01 00:00:01   2017-04-01 00:02:56           142   \n",
       "15  46266941  2017-04-01 00:00:01   2017-04-01 00:06:09           230   \n",
       "4   46266930  2017-04-01 00:00:01   2017-04-01 00:07:28           170   \n",
       "5   46266931  2017-04-01 00:00:01   2017-04-01 00:08:30           100   \n",
       "7   46266933  2017-04-01 00:00:01   2017-04-01 00:10:20           113   \n",
       "13  46266939  2017-04-01 00:00:01   2017-04-01 00:31:14           132   \n",
       "2   46266928  2017-04-01 00:00:01   2017-04-01 00:37:05           230   \n",
       "\n",
       "    dolocationid  trip_distance  passenger_count  total_amount trip_time  \\\n",
       "0            113           1.80                1         11.80  00:15:07   \n",
       "1            158           3.70                3         15.80  00:16:23   \n",
       "6            166           0.40                1          5.30  00:02:39   \n",
       "3            143           0.70                1          5.80  00:02:55   \n",
       "15           142           1.06                6          9.36  00:06:08   \n",
       "4            263           2.20                1         12.25  00:07:27   \n",
       "5             48           0.70                1          9.95  00:08:29   \n",
       "7             68           1.23                1         10.30  00:10:19   \n",
       "13           234          18.21                1         73.20  00:31:13   \n",
       "2              4           3.30                2         29.75  00:37:04   \n",
       "\n",
       "    trip_avg_speed  trip_time_sec  \n",
       "0         7.144432            907  \n",
       "1        13.550356            983  \n",
       "6         9.056604            159  \n",
       "3        14.400000            175  \n",
       "15       10.369565            368  \n",
       "4        17.718121            447  \n",
       "5         4.950884            509  \n",
       "7         7.153473            619  \n",
       "13       35.000534           1873  \n",
       "2         5.341727           2224  "
      ]
     },
     "execution_count": 7,
     "metadata": {},
     "output_type": "execute_result"
    }
   ],
   "source": [
    "# pick first 10 rows\n",
    "# not supported for dask DataFrame\n",
    "table.sort_values(by=['tpep_pickup_datetime', 'tpep_dropoff_datetime']).head(10)"
   ]
  },
  {
   "cell_type": "markdown",
   "metadata": {},
   "source": [
    "We can see from above that the taxi trips are nicely sorted according to **time**. What we need to do is convert this tabular date into graphs that described by **adjacency matrice**.\n",
    "\n",
    "First, let's see what are `pulocationid` and `dolocationid`:\n",
    "\n",
    "<img src=\"images/map.jpg\" align=\"center\" width=\"60%\">"
   ]
  },
  {
   "cell_type": "markdown",
   "metadata": {},
   "source": [
    "They are code number for a district in Manhattan, New York. We will mainly describe the traffic state and prediction at **this** level."
   ]
  },
  {
   "cell_type": "markdown",
   "metadata": {},
   "source": [
    "### 3. Time slicing\n",
    "\n",
    "Now we've done a very superficial exploration of the data. It's time to convert the tabular data to graphs that are to be fed into our neural network model.\n",
    "\n",
    "The first problem is, **how to decide a feasible time interval?**\n",
    "\n",
    "Of course, the time interval should be a varaible that is to be selected **per need. However,** it is a reasonable thinking to let a time interval (i.e. a **snapshot**) to contain as many as **complete trip** as possible. See the diagram below:\n",
    "\n",
    "<img src=\"images/snapshot.png\" align=\"center\" width=\"70%\">"
   ]
  },
  {
   "cell_type": "markdown",
   "metadata": {},
   "source": [
    "#### **If the time interval is too small**:\n",
    "\n",
    "The majority of the matrices will be very sparse or even completely blank.\n",
    "\n",
    "#### If the time interval is too big:\n",
    "\n",
    "Then information about trips will be densely squeezed into one matrix and a lot of details on changes along time will be lost.\n",
    "\n",
    "Thus, it is important to choose time interval wisely. Let's look at the data again:"
   ]
  },
  {
   "cell_type": "code",
   "execution_count": 8,
   "metadata": {},
   "outputs": [
    {
     "data": {
      "text/html": [
       "<div>\n",
       "<style scoped>\n",
       "    .dataframe tbody tr th:only-of-type {\n",
       "        vertical-align: middle;\n",
       "    }\n",
       "\n",
       "    .dataframe tbody tr th {\n",
       "        vertical-align: top;\n",
       "    }\n",
       "\n",
       "    .dataframe thead th {\n",
       "        text-align: right;\n",
       "    }\n",
       "</style>\n",
       "<table border=\"1\" class=\"dataframe\">\n",
       "  <thead>\n",
       "    <tr style=\"text-align: right;\">\n",
       "      <th></th>\n",
       "      <th>trip_distance</th>\n",
       "      <th>trip_time_sec</th>\n",
       "      <th>trip_avg_speed</th>\n",
       "    </tr>\n",
       "  </thead>\n",
       "  <tbody>\n",
       "    <tr>\n",
       "      <th>count</th>\n",
       "      <td>9.976305e+06</td>\n",
       "      <td>9.976305e+06</td>\n",
       "      <td>9.976305e+06</td>\n",
       "    </tr>\n",
       "    <tr>\n",
       "      <th>mean</th>\n",
       "      <td>2.974855e+00</td>\n",
       "      <td>9.917470e+02</td>\n",
       "      <td>1.343366e+01</td>\n",
       "    </tr>\n",
       "    <tr>\n",
       "      <th>std</th>\n",
       "      <td>3.765064e+00</td>\n",
       "      <td>3.382931e+03</td>\n",
       "      <td>1.610219e+02</td>\n",
       "    </tr>\n",
       "    <tr>\n",
       "      <th>min</th>\n",
       "      <td>1.000000e-02</td>\n",
       "      <td>1.000000e+00</td>\n",
       "      <td>4.171446e-04</td>\n",
       "    </tr>\n",
       "    <tr>\n",
       "      <th>25%</th>\n",
       "      <td>1.000000e+00</td>\n",
       "      <td>4.010000e+02</td>\n",
       "      <td>7.452559e+00</td>\n",
       "    </tr>\n",
       "    <tr>\n",
       "      <th>50%</th>\n",
       "      <td>1.680000e+00</td>\n",
       "      <td>6.710000e+02</td>\n",
       "      <td>1.004255e+01</td>\n",
       "    </tr>\n",
       "    <tr>\n",
       "      <th>75%</th>\n",
       "      <td>3.100000e+00</td>\n",
       "      <td>1.101000e+03</td>\n",
       "      <td>1.362637e+01</td>\n",
       "    </tr>\n",
       "    <tr>\n",
       "      <th>max</th>\n",
       "      <td>3.080200e+02</td>\n",
       "      <td>1.730178e+06</td>\n",
       "      <td>7.704000e+04</td>\n",
       "    </tr>\n",
       "  </tbody>\n",
       "</table>\n",
       "</div>"
      ],
      "text/plain": [
       "       trip_distance  trip_time_sec  trip_avg_speed\n",
       "count   9.976305e+06   9.976305e+06    9.976305e+06\n",
       "mean    2.974855e+00   9.917470e+02    1.343366e+01\n",
       "std     3.765064e+00   3.382931e+03    1.610219e+02\n",
       "min     1.000000e-02   1.000000e+00    4.171446e-04\n",
       "25%     1.000000e+00   4.010000e+02    7.452559e+00\n",
       "50%     1.680000e+00   6.710000e+02    1.004255e+01\n",
       "75%     3.100000e+00   1.101000e+03    1.362637e+01\n",
       "max     3.080200e+02   1.730178e+06    7.704000e+04"
      ]
     },
     "execution_count": 8,
     "metadata": {},
     "output_type": "execute_result"
    }
   ],
   "source": [
    "table.loc[:,['trip_distance', 'trip_time_sec', 'trip_avg_speed']].describe()"
   ]
  },
  {
   "cell_type": "markdown",
   "metadata": {},
   "source": [
    "The an average trip lasts for roughly 900 seconds, which is **15 minutes**.\n",
    "\n",
    "The median(i.e. 50% percentile) is roughly 600 seconds, which is **10 minutes**.\n",
    "\n",
    "Let's plot the distribution of column `trip_time_sec` to have a better intuition:"
   ]
  },
  {
   "cell_type": "code",
   "execution_count": 9,
   "metadata": {},
   "outputs": [
    {
     "data": {
      "image/png": "[encoded data removed]",
      "text/plain": [
       "<Figure size 432x288 with 1 Axes>"
      ]
     },
     "metadata": {
      "image/png": {
       "height": 269,
       "width": 413
      }
     },
     "output_type": "display_data"
    }
   ],
   "source": [
    "warnings.simplefilter('ignore')\n",
    "sns.set(color_codes=True)\n",
    "sns.distplot(table.loc[:,'trip_time_sec']);"
   ]
  },
  {
   "cell_type": "markdown",
   "metadata": {},
   "source": [
    "It seems that the trips are mostly concentrated in a shorter time range, while some outliers may significantly biased the average.\n",
    "\n",
    "Let's see how how many trips are longer than 30 minutes (1800 secs):"
   ]
  },
  {
   "cell_type": "code",
   "execution_count": 10,
   "metadata": {},
   "outputs": [
    {
     "data": {
      "text/plain": [
       "0.08742154535171087"
      ]
     },
     "execution_count": 10,
     "metadata": {},
     "output_type": "execute_result"
    }
   ],
   "source": [
    "# rows with column 'trip_time_sec' value larger than 1800 divided by total number of rows\n",
    "table.loc[table['trip_time_sec'] > 1800].shape[0] / table.shape[0]"
   ]
  },
  {
   "cell_type": "markdown",
   "metadata": {},
   "source": [
    "Dask version of above cell:"
   ]
  },
  {
   "cell_type": "markdown",
   "metadata": {},
   "source": [
    "There are **95%** of the trips last shorter than 30 minutes, let's plot distribution at this range:"
   ]
  },
  {
   "cell_type": "code",
   "execution_count": 11,
   "metadata": {
    "scrolled": true
   },
   "outputs": [
    {
     "data": {
      "image/png": "[encoded data removed]",
      "text/plain": [
       "<Figure size 432x288 with 1 Axes>"
      ]
     },
     "metadata": {
      "image/png": {
       "height": 269,
       "width": 395
      }
     },
     "output_type": "display_data"
    }
   ],
   "source": [
    "# distribution of 95% trip data in time duration\n",
    "temp = table.loc[table['trip_time_sec'] <= 1800]\n",
    "sns.distplot(temp.loc[:,'trip_time_sec']);"
   ]
  },
  {
   "cell_type": "code",
   "execution_count": 12,
   "metadata": {
    "scrolled": true
   },
   "outputs": [
    {
     "data": {
      "text/html": [
       "<div>\n",
       "<style scoped>\n",
       "    .dataframe tbody tr th:only-of-type {\n",
       "        vertical-align: middle;\n",
       "    }\n",
       "\n",
       "    .dataframe tbody tr th {\n",
       "        vertical-align: top;\n",
       "    }\n",
       "\n",
       "    .dataframe thead th {\n",
       "        text-align: right;\n",
       "    }\n",
       "</style>\n",
       "<table border=\"1\" class=\"dataframe\">\n",
       "  <thead>\n",
       "    <tr style=\"text-align: right;\">\n",
       "      <th></th>\n",
       "      <th>trip_distance</th>\n",
       "      <th>trip_time_sec</th>\n",
       "      <th>trip_avg_speed</th>\n",
       "    </tr>\n",
       "  </thead>\n",
       "  <tbody>\n",
       "    <tr>\n",
       "      <th>count</th>\n",
       "      <td>9.104161e+06</td>\n",
       "      <td>9.104161e+06</td>\n",
       "      <td>9.104161e+06</td>\n",
       "    </tr>\n",
       "    <tr>\n",
       "      <th>mean</th>\n",
       "      <td>2.199769e+00</td>\n",
       "      <td>7.006356e+02</td>\n",
       "      <td>1.325340e+01</td>\n",
       "    </tr>\n",
       "    <tr>\n",
       "      <th>std</th>\n",
       "      <td>2.199440e+00</td>\n",
       "      <td>4.054301e+02</td>\n",
       "      <td>1.685376e+02</td>\n",
       "    </tr>\n",
       "    <tr>\n",
       "      <th>min</th>\n",
       "      <td>1.000000e-02</td>\n",
       "      <td>1.000000e+00</td>\n",
       "      <td>2.044293e-02</td>\n",
       "    </tr>\n",
       "    <tr>\n",
       "      <th>25%</th>\n",
       "      <td>9.400000e-01</td>\n",
       "      <td>3.800000e+02</td>\n",
       "      <td>7.377049e+00</td>\n",
       "    </tr>\n",
       "    <tr>\n",
       "      <th>50%</th>\n",
       "      <td>1.510000e+00</td>\n",
       "      <td>6.190000e+02</td>\n",
       "      <td>9.839650e+00</td>\n",
       "    </tr>\n",
       "    <tr>\n",
       "      <th>75%</th>\n",
       "      <td>2.580000e+00</td>\n",
       "      <td>9.560000e+02</td>\n",
       "      <td>1.310680e+01</td>\n",
       "    </tr>\n",
       "    <tr>\n",
       "      <th>max</th>\n",
       "      <td>1.103000e+02</td>\n",
       "      <td>1.800000e+03</td>\n",
       "      <td>7.704000e+04</td>\n",
       "    </tr>\n",
       "  </tbody>\n",
       "</table>\n",
       "</div>"
      ],
      "text/plain": [
       "       trip_distance  trip_time_sec  trip_avg_speed\n",
       "count   9.104161e+06   9.104161e+06    9.104161e+06\n",
       "mean    2.199769e+00   7.006356e+02    1.325340e+01\n",
       "std     2.199440e+00   4.054301e+02    1.685376e+02\n",
       "min     1.000000e-02   1.000000e+00    2.044293e-02\n",
       "25%     9.400000e-01   3.800000e+02    7.377049e+00\n",
       "50%     1.510000e+00   6.190000e+02    9.839650e+00\n",
       "75%     2.580000e+00   9.560000e+02    1.310680e+01\n",
       "max     1.103000e+02   1.800000e+03    7.704000e+04"
      ]
     },
     "execution_count": 12,
     "metadata": {},
     "output_type": "execute_result"
    }
   ],
   "source": [
    "# statistics on the 95% data\n",
    "temp.loc[:,['trip_distance', 'trip_time_sec', 'trip_avg_speed']].describe()"
   ]
  },
  {
   "cell_type": "code",
   "execution_count": 13,
   "metadata": {},
   "outputs": [
    {
     "data": {
      "text/html": [
       "<div>\n",
       "<style scoped>\n",
       "    .dataframe tbody tr th:only-of-type {\n",
       "        vertical-align: middle;\n",
       "    }\n",
       "\n",
       "    .dataframe tbody tr th {\n",
       "        vertical-align: top;\n",
       "    }\n",
       "\n",
       "    .dataframe thead th {\n",
       "        text-align: right;\n",
       "    }\n",
       "</style>\n",
       "<table border=\"1\" class=\"dataframe\">\n",
       "  <thead>\n",
       "    <tr style=\"text-align: right;\">\n",
       "      <th></th>\n",
       "      <th>trip_time_sec</th>\n",
       "    </tr>\n",
       "  </thead>\n",
       "  <tbody>\n",
       "    <tr>\n",
       "      <th>1</th>\n",
       "      <td>178</td>\n",
       "    </tr>\n",
       "    <tr>\n",
       "      <th>16</th>\n",
       "      <td>354</td>\n",
       "    </tr>\n",
       "    <tr>\n",
       "      <th>17</th>\n",
       "      <td>375</td>\n",
       "    </tr>\n",
       "    <tr>\n",
       "      <th>26</th>\n",
       "      <td>377</td>\n",
       "    </tr>\n",
       "    <tr>\n",
       "      <th>22</th>\n",
       "      <td>379</td>\n",
       "    </tr>\n",
       "    <tr>\n",
       "      <th>20</th>\n",
       "      <td>398</td>\n",
       "    </tr>\n",
       "    <tr>\n",
       "      <th>18</th>\n",
       "      <td>403</td>\n",
       "    </tr>\n",
       "    <tr>\n",
       "      <th>29</th>\n",
       "      <td>407</td>\n",
       "    </tr>\n",
       "    <tr>\n",
       "      <th>36</th>\n",
       "      <td>409</td>\n",
       "    </tr>\n",
       "    <tr>\n",
       "      <th>24</th>\n",
       "      <td>410</td>\n",
       "    </tr>\n",
       "    <tr>\n",
       "      <th>27</th>\n",
       "      <td>414</td>\n",
       "    </tr>\n",
       "    <tr>\n",
       "      <th>32</th>\n",
       "      <td>417</td>\n",
       "    </tr>\n",
       "    <tr>\n",
       "      <th>14</th>\n",
       "      <td>419</td>\n",
       "    </tr>\n",
       "    <tr>\n",
       "      <th>19</th>\n",
       "      <td>421</td>\n",
       "    </tr>\n",
       "    <tr>\n",
       "      <th>28</th>\n",
       "      <td>423</td>\n",
       "    </tr>\n",
       "    <tr>\n",
       "      <th>21</th>\n",
       "      <td>425</td>\n",
       "    </tr>\n",
       "    <tr>\n",
       "      <th>13</th>\n",
       "      <td>429</td>\n",
       "    </tr>\n",
       "    <tr>\n",
       "      <th>34</th>\n",
       "      <td>436</td>\n",
       "    </tr>\n",
       "    <tr>\n",
       "      <th>23</th>\n",
       "      <td>446</td>\n",
       "    </tr>\n",
       "    <tr>\n",
       "      <th>12</th>\n",
       "      <td>450</td>\n",
       "    </tr>\n",
       "    <tr>\n",
       "      <th>33</th>\n",
       "      <td>452</td>\n",
       "    </tr>\n",
       "    <tr>\n",
       "      <th>31</th>\n",
       "      <td>455</td>\n",
       "    </tr>\n",
       "    <tr>\n",
       "      <th>30</th>\n",
       "      <td>462</td>\n",
       "    </tr>\n",
       "    <tr>\n",
       "      <th>25</th>\n",
       "      <td>465</td>\n",
       "    </tr>\n",
       "    <tr>\n",
       "      <th>11</th>\n",
       "      <td>471</td>\n",
       "    </tr>\n",
       "    <tr>\n",
       "      <th>37</th>\n",
       "      <td>477</td>\n",
       "    </tr>\n",
       "    <tr>\n",
       "      <th>38</th>\n",
       "      <td>484</td>\n",
       "    </tr>\n",
       "    <tr>\n",
       "      <th>15</th>\n",
       "      <td>497</td>\n",
       "    </tr>\n",
       "    <tr>\n",
       "      <th>39</th>\n",
       "      <td>505</td>\n",
       "    </tr>\n",
       "    <tr>\n",
       "      <th>10</th>\n",
       "      <td>517</td>\n",
       "    </tr>\n",
       "    <tr>\n",
       "      <th>...</th>\n",
       "      <td>...</td>\n",
       "    </tr>\n",
       "    <tr>\n",
       "      <th>352</th>\n",
       "      <td>10235</td>\n",
       "    </tr>\n",
       "    <tr>\n",
       "      <th>459</th>\n",
       "      <td>10249</td>\n",
       "    </tr>\n",
       "    <tr>\n",
       "      <th>337</th>\n",
       "      <td>10250</td>\n",
       "    </tr>\n",
       "    <tr>\n",
       "      <th>376</th>\n",
       "      <td>10252</td>\n",
       "    </tr>\n",
       "    <tr>\n",
       "      <th>343</th>\n",
       "      <td>10264</td>\n",
       "    </tr>\n",
       "    <tr>\n",
       "      <th>307</th>\n",
       "      <td>10271</td>\n",
       "    </tr>\n",
       "    <tr>\n",
       "      <th>363</th>\n",
       "      <td>10273</td>\n",
       "    </tr>\n",
       "    <tr>\n",
       "      <th>344</th>\n",
       "      <td>10286</td>\n",
       "    </tr>\n",
       "    <tr>\n",
       "      <th>347</th>\n",
       "      <td>10290</td>\n",
       "    </tr>\n",
       "    <tr>\n",
       "      <th>354</th>\n",
       "      <td>10294</td>\n",
       "    </tr>\n",
       "    <tr>\n",
       "      <th>390</th>\n",
       "      <td>10298</td>\n",
       "    </tr>\n",
       "    <tr>\n",
       "      <th>439</th>\n",
       "      <td>10304</td>\n",
       "    </tr>\n",
       "    <tr>\n",
       "      <th>479</th>\n",
       "      <td>10316</td>\n",
       "    </tr>\n",
       "    <tr>\n",
       "      <th>404</th>\n",
       "      <td>10336</td>\n",
       "    </tr>\n",
       "    <tr>\n",
       "      <th>438</th>\n",
       "      <td>10340</td>\n",
       "    </tr>\n",
       "    <tr>\n",
       "      <th>328</th>\n",
       "      <td>10341</td>\n",
       "    </tr>\n",
       "    <tr>\n",
       "      <th>383</th>\n",
       "      <td>10351</td>\n",
       "    </tr>\n",
       "    <tr>\n",
       "      <th>449</th>\n",
       "      <td>10357</td>\n",
       "    </tr>\n",
       "    <tr>\n",
       "      <th>374</th>\n",
       "      <td>10358</td>\n",
       "    </tr>\n",
       "    <tr>\n",
       "      <th>384</th>\n",
       "      <td>10384</td>\n",
       "    </tr>\n",
       "    <tr>\n",
       "      <th>338</th>\n",
       "      <td>10394</td>\n",
       "    </tr>\n",
       "    <tr>\n",
       "      <th>394</th>\n",
       "      <td>10486</td>\n",
       "    </tr>\n",
       "    <tr>\n",
       "      <th>408</th>\n",
       "      <td>10494</td>\n",
       "    </tr>\n",
       "    <tr>\n",
       "      <th>418</th>\n",
       "      <td>10502</td>\n",
       "    </tr>\n",
       "    <tr>\n",
       "      <th>348</th>\n",
       "      <td>10512</td>\n",
       "    </tr>\n",
       "    <tr>\n",
       "      <th>378</th>\n",
       "      <td>10514</td>\n",
       "    </tr>\n",
       "    <tr>\n",
       "      <th>358</th>\n",
       "      <td>10611</td>\n",
       "    </tr>\n",
       "    <tr>\n",
       "      <th>368</th>\n",
       "      <td>10621</td>\n",
       "    </tr>\n",
       "    <tr>\n",
       "      <th>398</th>\n",
       "      <td>10657</td>\n",
       "    </tr>\n",
       "    <tr>\n",
       "      <th>388</th>\n",
       "      <td>10690</td>\n",
       "    </tr>\n",
       "  </tbody>\n",
       "</table>\n",
       "<p>1800 rows × 1 columns</p>\n",
       "</div>"
      ],
      "text/plain": [
       "     trip_time_sec\n",
       "1              178\n",
       "16             354\n",
       "17             375\n",
       "26             377\n",
       "22             379\n",
       "20             398\n",
       "18             403\n",
       "29             407\n",
       "36             409\n",
       "24             410\n",
       "27             414\n",
       "32             417\n",
       "14             419\n",
       "19             421\n",
       "28             423\n",
       "21             425\n",
       "13             429\n",
       "34             436\n",
       "23             446\n",
       "12             450\n",
       "33             452\n",
       "31             455\n",
       "30             462\n",
       "25             465\n",
       "11             471\n",
       "37             477\n",
       "38             484\n",
       "15             497\n",
       "39             505\n",
       "10             517\n",
       "..             ...\n",
       "352          10235\n",
       "459          10249\n",
       "337          10250\n",
       "376          10252\n",
       "343          10264\n",
       "307          10271\n",
       "363          10273\n",
       "344          10286\n",
       "347          10290\n",
       "354          10294\n",
       "390          10298\n",
       "439          10304\n",
       "479          10316\n",
       "404          10336\n",
       "438          10340\n",
       "328          10341\n",
       "383          10351\n",
       "449          10357\n",
       "374          10358\n",
       "384          10384\n",
       "338          10394\n",
       "394          10486\n",
       "408          10494\n",
       "418          10502\n",
       "348          10512\n",
       "378          10514\n",
       "358          10611\n",
       "368          10621\n",
       "398          10657\n",
       "388          10690\n",
       "\n",
       "[1800 rows x 1 columns]"
      ]
     },
     "execution_count": 13,
     "metadata": {},
     "output_type": "execute_result"
    }
   ],
   "source": [
    "# value and their appearance\n",
    "pd.DataFrame(temp.loc[:,'trip_time_sec'].value_counts().sort_values())"
   ]
  },
  {
   "cell_type": "markdown",
   "metadata": {},
   "source": [
    "More than 50% of the trips have trip time between 6 to 15 minutes, with a median of 10 minutes.\n",
    "\n",
    "#### As a result, we primarily decide to use 10 minutes as time interval."
   ]
  },
  {
   "cell_type": "markdown",
   "metadata": {},
   "source": [
    "### 4. From tabular data to graph"
   ]
  },
  {
   "cell_type": "markdown",
   "metadata": {},
   "source": [
    "Since we have decided a time interval, it's time to generate matrices. Basically, the idea is shown as figure below:\n",
    "\n",
    "<img src=\"images/matrices.png\" align=\"left\" width=\"85%\">"
   ]
  },
  {
   "cell_type": "markdown",
   "metadata": {},
   "source": [
    "Apart from **outgoin** and **incoming** matrices shown above, an additional **Domestic** matrix is add because 50% of trips last less than the **chosen interval 10 minutes**. Such matrices can be combined into a **Tensor** illustrated as follows:\n",
    "\n",
    "<img src=\"images/layers.png\" align=\"center\" width=\"35%\">"
   ]
  },
  {
   "cell_type": "markdown",
   "metadata": {},
   "source": [
    "#### STRICT DEFINITION OF OID layers\n",
    "\n",
    "+ **F**uture layer\n",
    "    Condition: \n",
    "\n",
    "    1. left bound of interval  <= tpep_pickup_datetime  < right bound of interval\n",
    "    2. right bound of interval <= tpep_dropoff_datetime\n",
    "\n",
    "\n",
    "+ **P**ast layer\n",
    "    Condition: \n",
    "\n",
    "    1. left bound of interval  <= tpep_dropoff_datetime  < right bound of interval\n",
    "    2. tpep_pickup_datetime < left bound of interval\n",
    "\n",
    "\n",
    "+ **N**ow layer\n",
    "    Condition: \n",
    "\n",
    "    1. left bound of interval  <= tpep_pickup_datetime < tpep_dropoff_datetime  < right bound of interval\n",
    "\n",
    "### Notice: The PNF layers are redefined and renamed from OID layers."
   ]
  },
  {
   "cell_type": "markdown",
   "metadata": {},
   "source": [
    "#### Extract relevant columns:\n",
    "\n",
    "To generate tensor defined above, **four** key columns are needed.They are `tpep_pickup_datetime`, `tpep_dropoff_datetime`, `pulocationid` and `dolocationid`.\n",
    "\n",
    "We first extract them from original table:"
   ]
  },
  {
   "cell_type": "code",
   "execution_count": 14,
   "metadata": {},
   "outputs": [
    {
     "data": {
      "text/html": [
       "<div>\n",
       "<style scoped>\n",
       "    .dataframe tbody tr th:only-of-type {\n",
       "        vertical-align: middle;\n",
       "    }\n",
       "\n",
       "    .dataframe tbody tr th {\n",
       "        vertical-align: top;\n",
       "    }\n",
       "\n",
       "    .dataframe thead th {\n",
       "        text-align: right;\n",
       "    }\n",
       "</style>\n",
       "<table border=\"1\" class=\"dataframe\">\n",
       "  <thead>\n",
       "    <tr style=\"text-align: right;\">\n",
       "      <th></th>\n",
       "      <th>tripid</th>\n",
       "      <th>tpep_pickup_datetime</th>\n",
       "      <th>tpep_dropoff_datetime</th>\n",
       "      <th>pulocationid</th>\n",
       "      <th>dolocationid</th>\n",
       "    </tr>\n",
       "  </thead>\n",
       "  <tbody>\n",
       "    <tr>\n",
       "      <th>0</th>\n",
       "      <td>46266925</td>\n",
       "      <td>2017-04-01 00:00:00</td>\n",
       "      <td>2017-04-01 00:15:07</td>\n",
       "      <td>158</td>\n",
       "      <td>113</td>\n",
       "    </tr>\n",
       "    <tr>\n",
       "      <th>1</th>\n",
       "      <td>46266926</td>\n",
       "      <td>2017-04-01 00:00:00</td>\n",
       "      <td>2017-04-01 00:16:23</td>\n",
       "      <td>87</td>\n",
       "      <td>158</td>\n",
       "    </tr>\n",
       "    <tr>\n",
       "      <th>6</th>\n",
       "      <td>46266932</td>\n",
       "      <td>2017-04-01 00:00:01</td>\n",
       "      <td>2017-04-01 00:02:40</td>\n",
       "      <td>166</td>\n",
       "      <td>166</td>\n",
       "    </tr>\n",
       "    <tr>\n",
       "      <th>3</th>\n",
       "      <td>46266929</td>\n",
       "      <td>2017-04-01 00:00:01</td>\n",
       "      <td>2017-04-01 00:02:56</td>\n",
       "      <td>142</td>\n",
       "      <td>143</td>\n",
       "    </tr>\n",
       "    <tr>\n",
       "      <th>15</th>\n",
       "      <td>46266941</td>\n",
       "      <td>2017-04-01 00:00:01</td>\n",
       "      <td>2017-04-01 00:06:09</td>\n",
       "      <td>230</td>\n",
       "      <td>142</td>\n",
       "    </tr>\n",
       "  </tbody>\n",
       "</table>\n",
       "</div>"
      ],
      "text/plain": [
       "      tripid tpep_pickup_datetime tpep_dropoff_datetime  pulocationid  \\\n",
       "0   46266925  2017-04-01 00:00:00   2017-04-01 00:15:07           158   \n",
       "1   46266926  2017-04-01 00:00:00   2017-04-01 00:16:23            87   \n",
       "6   46266932  2017-04-01 00:00:01   2017-04-01 00:02:40           166   \n",
       "3   46266929  2017-04-01 00:00:01   2017-04-01 00:02:56           142   \n",
       "15  46266941  2017-04-01 00:00:01   2017-04-01 00:06:09           230   \n",
       "\n",
       "    dolocationid  \n",
       "0            113  \n",
       "1            158  \n",
       "6            166  \n",
       "3            143  \n",
       "15           142  "
      ]
     },
     "execution_count": 14,
     "metadata": {},
     "output_type": "execute_result"
    }
   ],
   "source": [
    "# draw four needed columns and a id column, then sort according to time.\n",
    "# the `tripid` column is for the sake of naming.\n",
    "tensor_gen_f = table.loc[:,['tripid',\n",
    "                          'tpep_pickup_datetime',\n",
    "                          'tpep_dropoff_datetime',\n",
    "                          'pulocationid', 'dolocationid']\n",
    "                      ].sort_values(by=['tpep_pickup_datetime', 'tpep_dropoff_datetime']) # the first sort condition rules\n",
    "tensor_gen_f.head()"
   ]
  },
  {
   "cell_type": "markdown",
   "metadata": {},
   "source": [
    "#### Slice the table to sub-tables according to time interval (10 min)\n",
    "\n",
    "Since the columns are extracted, now it's time to generate tensors.\n",
    "\n",
    "The dataset is trip data of all yellow taxi cabs in Manhattan area in **January**, 2017.As we are making 10-minute-splices, there will be total:\n",
    "\n",
    "$$\n",
    "6 \\times 24 \\times 31 = 4464 \\space slices(i.e. \\space snapshots)\n",
    "$$\n",
    "\n",
    "Each slice has 3 layers, that is in total\n",
    "\n",
    "$$\n",
    "4464 \\times 3 = 13392 \\space matrices\n",
    "$$\n",
    "to be generated. \n",
    "\n",
    "First, let's try to generate one image (i.e. a *tensor* with **3** layers).\n",
    "\n",
    "The time columns need to be converted to pandas timestamp type in order to compare:"
   ]
  },
  {
   "cell_type": "code",
   "execution_count": 15,
   "metadata": {},
   "outputs": [
    {
     "data": {
      "text/plain": [
       "str"
      ]
     },
     "execution_count": 15,
     "metadata": {},
     "output_type": "execute_result"
    }
   ],
   "source": [
    "# current type is python str\n",
    "type(tensor_gen_f.iloc[0,1])"
   ]
  },
  {
   "cell_type": "code",
   "execution_count": 16,
   "metadata": {},
   "outputs": [
    {
     "data": {
      "text/plain": [
       "Timestamp('2017-04-01 00:00:00')"
      ]
     },
     "execution_count": 16,
     "metadata": {},
     "output_type": "execute_result"
    }
   ],
   "source": [
    "# convert to timestamp\n",
    "pd.to_datetime(tensor_gen_f.iloc[0,1])"
   ]
  },
  {
   "cell_type": "code",
   "execution_count": 17,
   "metadata": {},
   "outputs": [
    {
     "data": {
      "text/plain": [
       "True"
      ]
     },
     "execution_count": 17,
     "metadata": {},
     "output_type": "execute_result"
    }
   ],
   "source": [
    "t1 = pd.to_datetime(tensor_gen_f.iloc[0,1]) # 2017-01-01 00:00:00\n",
    "t2 = pd.to_datetime(tensor_gen_f.iloc[0,2]) # 2017-01-01 00:01:00\n",
    "t1 < t2 # test if can compare time"
   ]
  },
  {
   "cell_type": "code",
   "execution_count": 18,
   "metadata": {},
   "outputs": [
    {
     "data": {
      "text/plain": [
       "tripid                            int64\n",
       "tpep_pickup_datetime     datetime64[ns]\n",
       "tpep_dropoff_datetime    datetime64[ns]\n",
       "pulocationid                      int64\n",
       "dolocationid                      int64\n",
       "dtype: object"
      ]
     },
     "execution_count": 18,
     "metadata": {},
     "output_type": "execute_result"
    }
   ],
   "source": [
    "# apply type cast to all values:\n",
    "tensor_gen_f['tpep_pickup_datetime'] = pd.to_datetime(tensor_gen_f['tpep_pickup_datetime'])\n",
    "tensor_gen_f['tpep_dropoff_datetime'] = pd.to_datetime(tensor_gen_f['tpep_dropoff_datetime'])\n",
    "\n",
    "tensor_gen_f.dtypes"
   ]
  },
  {
   "cell_type": "code",
   "execution_count": 19,
   "metadata": {},
   "outputs": [
    {
     "data": {
      "text/html": [
       "<div>\n",
       "<style scoped>\n",
       "    .dataframe tbody tr th:only-of-type {\n",
       "        vertical-align: middle;\n",
       "    }\n",
       "\n",
       "    .dataframe tbody tr th {\n",
       "        vertical-align: top;\n",
       "    }\n",
       "\n",
       "    .dataframe thead th {\n",
       "        text-align: right;\n",
       "    }\n",
       "</style>\n",
       "<table border=\"1\" class=\"dataframe\">\n",
       "  <thead>\n",
       "    <tr style=\"text-align: right;\">\n",
       "      <th></th>\n",
       "      <th>tripid</th>\n",
       "      <th>tpep_pickup_datetime</th>\n",
       "      <th>tpep_dropoff_datetime</th>\n",
       "      <th>pulocationid</th>\n",
       "      <th>dolocationid</th>\n",
       "    </tr>\n",
       "  </thead>\n",
       "  <tbody>\n",
       "    <tr>\n",
       "      <th>0</th>\n",
       "      <td>46266925</td>\n",
       "      <td>2017-04-01 00:00:00</td>\n",
       "      <td>2017-04-01 00:15:07</td>\n",
       "      <td>158</td>\n",
       "      <td>113</td>\n",
       "    </tr>\n",
       "    <tr>\n",
       "      <th>1</th>\n",
       "      <td>46266926</td>\n",
       "      <td>2017-04-01 00:00:00</td>\n",
       "      <td>2017-04-01 00:16:23</td>\n",
       "      <td>87</td>\n",
       "      <td>158</td>\n",
       "    </tr>\n",
       "    <tr>\n",
       "      <th>6</th>\n",
       "      <td>46266932</td>\n",
       "      <td>2017-04-01 00:00:01</td>\n",
       "      <td>2017-04-01 00:02:40</td>\n",
       "      <td>166</td>\n",
       "      <td>166</td>\n",
       "    </tr>\n",
       "    <tr>\n",
       "      <th>3</th>\n",
       "      <td>46266929</td>\n",
       "      <td>2017-04-01 00:00:01</td>\n",
       "      <td>2017-04-01 00:02:56</td>\n",
       "      <td>142</td>\n",
       "      <td>143</td>\n",
       "    </tr>\n",
       "    <tr>\n",
       "      <th>15</th>\n",
       "      <td>46266941</td>\n",
       "      <td>2017-04-01 00:00:01</td>\n",
       "      <td>2017-04-01 00:06:09</td>\n",
       "      <td>230</td>\n",
       "      <td>142</td>\n",
       "    </tr>\n",
       "  </tbody>\n",
       "</table>\n",
       "</div>"
      ],
      "text/plain": [
       "      tripid tpep_pickup_datetime tpep_dropoff_datetime  pulocationid  \\\n",
       "0   46266925  2017-04-01 00:00:00   2017-04-01 00:15:07           158   \n",
       "1   46266926  2017-04-01 00:00:00   2017-04-01 00:16:23            87   \n",
       "6   46266932  2017-04-01 00:00:01   2017-04-01 00:02:40           166   \n",
       "3   46266929  2017-04-01 00:00:01   2017-04-01 00:02:56           142   \n",
       "15  46266941  2017-04-01 00:00:01   2017-04-01 00:06:09           230   \n",
       "\n",
       "    dolocationid  \n",
       "0            113  \n",
       "1            158  \n",
       "6            166  \n",
       "3            143  \n",
       "15           142  "
      ]
     },
     "execution_count": 19,
     "metadata": {},
     "output_type": "execute_result"
    }
   ],
   "source": [
    "tensor_gen_f.head()"
   ]
  },
  {
   "cell_type": "markdown",
   "metadata": {},
   "source": [
    "The interval **boundaries** are fixed when interval is set."
   ]
  },
  {
   "cell_type": "code",
   "execution_count": 20,
   "metadata": {},
   "outputs": [
    {
     "name": "stdout",
     "output_type": "stream",
     "text": [
      "4321\n"
     ]
    },
    {
     "data": {
      "text/plain": [
       "DatetimeIndex(['2017-04-01 00:00:00', '2017-04-01 00:10:00',\n",
       "               '2017-04-01 00:20:00', '2017-04-01 00:30:00',\n",
       "               '2017-04-01 00:40:00', '2017-04-01 00:50:00',\n",
       "               '2017-04-01 01:00:00', '2017-04-01 01:10:00',\n",
       "               '2017-04-01 01:20:00', '2017-04-01 01:30:00',\n",
       "               ...\n",
       "               '2017-04-30 22:30:00', '2017-04-30 22:40:00',\n",
       "               '2017-04-30 22:50:00', '2017-04-30 23:00:00',\n",
       "               '2017-04-30 23:10:00', '2017-04-30 23:20:00',\n",
       "               '2017-04-30 23:30:00', '2017-04-30 23:40:00',\n",
       "               '2017-04-30 23:50:00', '2017-05-01 00:00:00'],\n",
       "              dtype='datetime64[ns]', length=4321, freq='10T')"
      ]
     },
     "execution_count": 20,
     "metadata": {},
     "output_type": "execute_result"
    }
   ],
   "source": [
    "# create intervals\n",
    "intervals = pd.date_range('2017-04-01 00:00:00', '2017-05-01 00:00:00', freq='10min')\n",
    "print(len(intervals))\n",
    "intervals"
   ]
  },
  {
   "cell_type": "code",
   "execution_count": 21,
   "metadata": {},
   "outputs": [
    {
     "data": {
      "text/plain": [
       "pandas.core.indexes.datetimes.DatetimeIndex"
      ]
     },
     "execution_count": 21,
     "metadata": {},
     "output_type": "execute_result"
    }
   ],
   "source": [
    "type(intervals)"
   ]
  },
  {
   "cell_type": "markdown",
   "metadata": {},
   "source": [
    "**Notice**:\n",
    "\n",
    "When slicing time interval in such manner, we are assuming the **entire** month is monitored. Under this setting, we do not consider another day as a 'fresh start'.\n",
    "\n"
   ]
  },
  {
   "cell_type": "code",
   "execution_count": 22,
   "metadata": {},
   "outputs": [
    {
     "data": {
      "text/plain": [
       "'2017-04-01 00:10:00'"
      ]
     },
     "execution_count": 22,
     "metadata": {},
     "output_type": "execute_result"
    }
   ],
   "source": [
    "str(intervals[1])"
   ]
  },
  {
   "cell_type": "code",
   "execution_count": 23,
   "metadata": {},
   "outputs": [
    {
     "name": "stdout",
     "output_type": "stream",
     "text": [
      "shape is: (3092, 5)\n"
     ]
    },
    {
     "data": {
      "text/html": [
       "<div>\n",
       "<style scoped>\n",
       "    .dataframe tbody tr th:only-of-type {\n",
       "        vertical-align: middle;\n",
       "    }\n",
       "\n",
       "    .dataframe tbody tr th {\n",
       "        vertical-align: top;\n",
       "    }\n",
       "\n",
       "    .dataframe thead th {\n",
       "        text-align: right;\n",
       "    }\n",
       "</style>\n",
       "<table border=\"1\" class=\"dataframe\">\n",
       "  <thead>\n",
       "    <tr style=\"text-align: right;\">\n",
       "      <th></th>\n",
       "      <th>tripid</th>\n",
       "      <th>tpep_pickup_datetime</th>\n",
       "      <th>tpep_dropoff_datetime</th>\n",
       "      <th>pulocationid</th>\n",
       "      <th>dolocationid</th>\n",
       "    </tr>\n",
       "  </thead>\n",
       "  <tbody>\n",
       "    <tr>\n",
       "      <th>0</th>\n",
       "      <td>46266925</td>\n",
       "      <td>2017-04-01 00:00:00</td>\n",
       "      <td>2017-04-01 00:15:07</td>\n",
       "      <td>158</td>\n",
       "      <td>113</td>\n",
       "    </tr>\n",
       "    <tr>\n",
       "      <th>1</th>\n",
       "      <td>46266926</td>\n",
       "      <td>2017-04-01 00:00:00</td>\n",
       "      <td>2017-04-01 00:16:23</td>\n",
       "      <td>87</td>\n",
       "      <td>158</td>\n",
       "    </tr>\n",
       "    <tr>\n",
       "      <th>6</th>\n",
       "      <td>46266932</td>\n",
       "      <td>2017-04-01 00:00:01</td>\n",
       "      <td>2017-04-01 00:02:40</td>\n",
       "      <td>166</td>\n",
       "      <td>166</td>\n",
       "    </tr>\n",
       "    <tr>\n",
       "      <th>3</th>\n",
       "      <td>46266929</td>\n",
       "      <td>2017-04-01 00:00:01</td>\n",
       "      <td>2017-04-01 00:02:56</td>\n",
       "      <td>142</td>\n",
       "      <td>143</td>\n",
       "    </tr>\n",
       "    <tr>\n",
       "      <th>15</th>\n",
       "      <td>46266941</td>\n",
       "      <td>2017-04-01 00:00:01</td>\n",
       "      <td>2017-04-01 00:06:09</td>\n",
       "      <td>230</td>\n",
       "      <td>142</td>\n",
       "    </tr>\n",
       "  </tbody>\n",
       "</table>\n",
       "</div>"
      ],
      "text/plain": [
       "      tripid tpep_pickup_datetime tpep_dropoff_datetime  pulocationid  \\\n",
       "0   46266925  2017-04-01 00:00:00   2017-04-01 00:15:07           158   \n",
       "1   46266926  2017-04-01 00:00:00   2017-04-01 00:16:23            87   \n",
       "6   46266932  2017-04-01 00:00:01   2017-04-01 00:02:40           166   \n",
       "3   46266929  2017-04-01 00:00:01   2017-04-01 00:02:56           142   \n",
       "15  46266941  2017-04-01 00:00:01   2017-04-01 00:06:09           230   \n",
       "\n",
       "    dolocationid  \n",
       "0            113  \n",
       "1            158  \n",
       "6            166  \n",
       "3            143  \n",
       "15           142  "
      ]
     },
     "execution_count": 23,
     "metadata": {},
     "output_type": "execute_result"
    }
   ],
   "source": [
    "# First sub table:\n",
    "first = tensor_gen_f.loc[tensor_gen_f['tpep_pickup_datetime'] < intervals[1]]\n",
    "print(f'shape is: {first.shape}')\n",
    "first.head()"
   ]
  },
  {
   "cell_type": "code",
   "execution_count": 24,
   "metadata": {},
   "outputs": [
    {
     "data": {
      "text/html": [
       "<div>\n",
       "<style scoped>\n",
       "    .dataframe tbody tr th:only-of-type {\n",
       "        vertical-align: middle;\n",
       "    }\n",
       "\n",
       "    .dataframe tbody tr th {\n",
       "        vertical-align: top;\n",
       "    }\n",
       "\n",
       "    .dataframe thead th {\n",
       "        text-align: right;\n",
       "    }\n",
       "</style>\n",
       "<table border=\"1\" class=\"dataframe\">\n",
       "  <thead>\n",
       "    <tr style=\"text-align: right;\">\n",
       "      <th></th>\n",
       "      <th>tripid</th>\n",
       "      <th>tpep_pickup_datetime</th>\n",
       "      <th>tpep_dropoff_datetime</th>\n",
       "      <th>pulocationid</th>\n",
       "      <th>dolocationid</th>\n",
       "    </tr>\n",
       "  </thead>\n",
       "  <tbody>\n",
       "    <tr>\n",
       "      <th>3996</th>\n",
       "      <td>46270954</td>\n",
       "      <td>2017-04-01 00:02:16</td>\n",
       "      <td>2017-04-01 00:11:25</td>\n",
       "      <td>4</td>\n",
       "      <td>13</td>\n",
       "    </tr>\n",
       "    <tr>\n",
       "      <th>6265</th>\n",
       "      <td>46273233</td>\n",
       "      <td>2017-04-01 00:09:34</td>\n",
       "      <td>2017-04-01 00:21:24</td>\n",
       "      <td>4</td>\n",
       "      <td>13</td>\n",
       "    </tr>\n",
       "    <tr>\n",
       "      <th>4236</th>\n",
       "      <td>46271196</td>\n",
       "      <td>2017-04-01 00:03:01</td>\n",
       "      <td>2017-04-01 00:51:41</td>\n",
       "      <td>4</td>\n",
       "      <td>40</td>\n",
       "    </tr>\n",
       "    <tr>\n",
       "      <th>4602</th>\n",
       "      <td>46271563</td>\n",
       "      <td>2017-04-01 00:04:09</td>\n",
       "      <td>2017-04-01 00:24:18</td>\n",
       "      <td>4</td>\n",
       "      <td>48</td>\n",
       "    </tr>\n",
       "    <tr>\n",
       "      <th>3874</th>\n",
       "      <td>46270832</td>\n",
       "      <td>2017-04-01 00:01:48</td>\n",
       "      <td>2017-04-01 00:18:32</td>\n",
       "      <td>4</td>\n",
       "      <td>75</td>\n",
       "    </tr>\n",
       "    <tr>\n",
       "      <th>4661</th>\n",
       "      <td>46271622</td>\n",
       "      <td>2017-04-01 00:04:22</td>\n",
       "      <td>2017-04-01 00:11:30</td>\n",
       "      <td>4</td>\n",
       "      <td>79</td>\n",
       "    </tr>\n",
       "    <tr>\n",
       "      <th>5390</th>\n",
       "      <td>46272354</td>\n",
       "      <td>2017-04-01 00:06:43</td>\n",
       "      <td>2017-04-01 00:21:36</td>\n",
       "      <td>4</td>\n",
       "      <td>114</td>\n",
       "    </tr>\n",
       "    <tr>\n",
       "      <th>5985</th>\n",
       "      <td>46272951</td>\n",
       "      <td>2017-04-01 00:08:35</td>\n",
       "      <td>2017-04-01 00:20:34</td>\n",
       "      <td>4</td>\n",
       "      <td>114</td>\n",
       "    </tr>\n",
       "    <tr>\n",
       "      <th>5233</th>\n",
       "      <td>46272197</td>\n",
       "      <td>2017-04-01 00:06:13</td>\n",
       "      <td>2017-04-01 00:12:33</td>\n",
       "      <td>4</td>\n",
       "      <td>148</td>\n",
       "    </tr>\n",
       "    <tr>\n",
       "      <th>4299</th>\n",
       "      <td>46271259</td>\n",
       "      <td>2017-04-01 00:03:13</td>\n",
       "      <td>2017-04-01 00:23:00</td>\n",
       "      <td>4</td>\n",
       "      <td>163</td>\n",
       "    </tr>\n",
       "    <tr>\n",
       "      <th>4246</th>\n",
       "      <td>46271206</td>\n",
       "      <td>2017-04-01 00:03:03</td>\n",
       "      <td>2017-04-01 00:30:16</td>\n",
       "      <td>4</td>\n",
       "      <td>165</td>\n",
       "    </tr>\n",
       "    <tr>\n",
       "      <th>4076</th>\n",
       "      <td>46271034</td>\n",
       "      <td>2017-04-01 00:02:29</td>\n",
       "      <td>2017-04-01 00:19:21</td>\n",
       "      <td>4</td>\n",
       "      <td>186</td>\n",
       "    </tr>\n",
       "    <tr>\n",
       "      <th>6323</th>\n",
       "      <td>46273291</td>\n",
       "      <td>2017-04-01 00:09:46</td>\n",
       "      <td>2017-04-01 00:24:39</td>\n",
       "      <td>4</td>\n",
       "      <td>231</td>\n",
       "    </tr>\n",
       "    <tr>\n",
       "      <th>6329</th>\n",
       "      <td>46273297</td>\n",
       "      <td>2017-04-01 00:09:47</td>\n",
       "      <td>2017-04-01 00:25:54</td>\n",
       "      <td>4</td>\n",
       "      <td>234</td>\n",
       "    </tr>\n",
       "    <tr>\n",
       "      <th>157</th>\n",
       "      <td>46267084</td>\n",
       "      <td>2017-04-01 00:00:30</td>\n",
       "      <td>2017-04-01 00:11:45</td>\n",
       "      <td>4</td>\n",
       "      <td>249</td>\n",
       "    </tr>\n",
       "    <tr>\n",
       "      <th>3696</th>\n",
       "      <td>46270654</td>\n",
       "      <td>2017-04-01 00:01:13</td>\n",
       "      <td>2017-04-01 00:32:15</td>\n",
       "      <td>4</td>\n",
       "      <td>265</td>\n",
       "    </tr>\n",
       "    <tr>\n",
       "      <th>4031</th>\n",
       "      <td>46270989</td>\n",
       "      <td>2017-04-01 00:02:22</td>\n",
       "      <td>2017-04-01 00:09:19</td>\n",
       "      <td>7</td>\n",
       "      <td>7</td>\n",
       "    </tr>\n",
       "    <tr>\n",
       "      <th>5721</th>\n",
       "      <td>46272687</td>\n",
       "      <td>2017-04-01 00:07:38</td>\n",
       "      <td>2017-04-01 00:12:17</td>\n",
       "      <td>7</td>\n",
       "      <td>7</td>\n",
       "    </tr>\n",
       "    <tr>\n",
       "      <th>5034</th>\n",
       "      <td>46271996</td>\n",
       "      <td>2017-04-01 00:05:31</td>\n",
       "      <td>2017-04-01 00:13:47</td>\n",
       "      <td>7</td>\n",
       "      <td>223</td>\n",
       "    </tr>\n",
       "    <tr>\n",
       "      <th>3684</th>\n",
       "      <td>46270642</td>\n",
       "      <td>2017-04-01 00:01:10</td>\n",
       "      <td>2017-04-01 00:08:08</td>\n",
       "      <td>7</td>\n",
       "      <td>226</td>\n",
       "    </tr>\n",
       "  </tbody>\n",
       "</table>\n",
       "</div>"
      ],
      "text/plain": [
       "        tripid tpep_pickup_datetime tpep_dropoff_datetime  pulocationid  \\\n",
       "3996  46270954  2017-04-01 00:02:16   2017-04-01 00:11:25             4   \n",
       "6265  46273233  2017-04-01 00:09:34   2017-04-01 00:21:24             4   \n",
       "4236  46271196  2017-04-01 00:03:01   2017-04-01 00:51:41             4   \n",
       "4602  46271563  2017-04-01 00:04:09   2017-04-01 00:24:18             4   \n",
       "3874  46270832  2017-04-01 00:01:48   2017-04-01 00:18:32             4   \n",
       "4661  46271622  2017-04-01 00:04:22   2017-04-01 00:11:30             4   \n",
       "5390  46272354  2017-04-01 00:06:43   2017-04-01 00:21:36             4   \n",
       "5985  46272951  2017-04-01 00:08:35   2017-04-01 00:20:34             4   \n",
       "5233  46272197  2017-04-01 00:06:13   2017-04-01 00:12:33             4   \n",
       "4299  46271259  2017-04-01 00:03:13   2017-04-01 00:23:00             4   \n",
       "4246  46271206  2017-04-01 00:03:03   2017-04-01 00:30:16             4   \n",
       "4076  46271034  2017-04-01 00:02:29   2017-04-01 00:19:21             4   \n",
       "6323  46273291  2017-04-01 00:09:46   2017-04-01 00:24:39             4   \n",
       "6329  46273297  2017-04-01 00:09:47   2017-04-01 00:25:54             4   \n",
       "157   46267084  2017-04-01 00:00:30   2017-04-01 00:11:45             4   \n",
       "3696  46270654  2017-04-01 00:01:13   2017-04-01 00:32:15             4   \n",
       "4031  46270989  2017-04-01 00:02:22   2017-04-01 00:09:19             7   \n",
       "5721  46272687  2017-04-01 00:07:38   2017-04-01 00:12:17             7   \n",
       "5034  46271996  2017-04-01 00:05:31   2017-04-01 00:13:47             7   \n",
       "3684  46270642  2017-04-01 00:01:10   2017-04-01 00:08:08             7   \n",
       "\n",
       "      dolocationid  \n",
       "3996            13  \n",
       "6265            13  \n",
       "4236            40  \n",
       "4602            48  \n",
       "3874            75  \n",
       "4661            79  \n",
       "5390           114  \n",
       "5985           114  \n",
       "5233           148  \n",
       "4299           163  \n",
       "4246           165  \n",
       "4076           186  \n",
       "6323           231  \n",
       "6329           234  \n",
       "157            249  \n",
       "3696           265  \n",
       "4031             7  \n",
       "5721             7  \n",
       "5034           223  \n",
       "3684           226  "
      ]
     },
     "execution_count": 24,
     "metadata": {},
     "output_type": "execute_result"
    }
   ],
   "source": [
    "# sort to have a clearer look:\n",
    "first.sort_values(by=['pulocationid', 'dolocationid']).head(20)"
   ]
  },
  {
   "cell_type": "markdown",
   "metadata": {},
   "source": [
    "The `first` will generate Outgoing, Incoming and Domestic layers, that is, 3 matrices of size: \n",
    "\n",
    "$$\n",
    "(number \\space of\\space zones)\\space \\times \\space (number\\space of\\space zones)\n",
    "$$\n",
    "\n",
    "Let's see the zone numbers:"
   ]
  },
  {
   "cell_type": "code",
   "execution_count": 25,
   "metadata": {},
   "outputs": [
    {
     "name": "stdout",
     "output_type": "stream",
     "text": [
      "shape is: (265, 4)\n"
     ]
    }
   ],
   "source": [
    "# Load zone lookup table\n",
    "zones = pd.read_csv('dataset/taxi_zone_lookup.csv')\n",
    "print(f'shape is: {zones.shape}')"
   ]
  },
  {
   "cell_type": "markdown",
   "metadata": {},
   "source": [
    "Total 265 zones, indexing from 0 to 264.\n",
    "\n",
    "Among which, we only care about `Yellow Zone` or `Manhattan` area:"
   ]
  },
  {
   "cell_type": "code",
   "execution_count": 26,
   "metadata": {},
   "outputs": [
    {
     "name": "stdout",
     "output_type": "stream",
     "text": [
      "(69, 4)\n"
     ]
    }
   ],
   "source": [
    "y_zone = zones.loc[zones['Borough'] == 'Manhattan']\n",
    "print(y_zone.shape)\n",
    "img_size = y_zone.shape[0]"
   ]
  },
  {
   "cell_type": "markdown",
   "metadata": {},
   "source": [
    "Thus, the layers should be matrices of size (69, 69), and each timeslice(snapshot) should be tensors of size (69, 69, 3).\n",
    "\n",
    "Create the first tensor:"
   ]
  },
  {
   "cell_type": "markdown",
   "metadata": {},
   "source": [
    "### The key is to use generated intervals to 'catch' trips."
   ]
  },
  {
   "cell_type": "code",
   "execution_count": 38,
   "metadata": {},
   "outputs": [
    {
     "name": "stdout",
     "output_type": "stream",
     "text": [
      "sorted_table.shape -> (9976305, 5)\n",
      "snap.shape -> (3020, 5)\n",
      "f_flayer.shape: (1241, 5)\n",
      "f_player.shape: (1270, 5)\n",
      "f_nlayer.shape: (509, 5)\n"
     ]
    }
   ],
   "source": [
    "# legacy code, currently in use\n",
    "left = 1481\n",
    "right = 1482\n",
    "\n",
    "# convert dtype for entire table here:\n",
    "table['tpep_pickup_datetime'] = pd.to_datetime(table['tpep_pickup_datetime'])\n",
    "table['tpep_dropoff_datetime'] = pd.to_datetime(table['tpep_dropoff_datetime'])\n",
    "\n",
    "sorted_table = table.loc[:,['tripid',\n",
    "                          'tpep_pickup_datetime',\n",
    "                          'tpep_dropoff_datetime',\n",
    "                          'pulocationid', 'dolocationid']\n",
    "                        ].sort_values(by=['tpep_pickup_datetime', 'tpep_dropoff_datetime'])\n",
    "\n",
    "# The condition of making snapshot should be: at least one temporal end of a trip should be within the bounds:\n",
    "snap = sorted_table.loc[((sorted_table['tpep_pickup_datetime'] >= intervals[left]) &\n",
    "                        (sorted_table['tpep_pickup_datetime'] < intervals[right])) |\n",
    "                        ((sorted_table['tpep_dropoff_datetime'] >= intervals[left]) &\n",
    "                        (sorted_table['tpep_dropoff_datetime'] < intervals[right]))\n",
    "                        ]\n",
    "print(f'sorted_table.shape -> {sorted_table.shape}')\n",
    "print(f'snap.shape -> {snap.shape}')\n",
    "\n",
    "# temp table to generate F,P,N layers\n",
    "# No need to sort\n",
    "temp_snap = snap.loc[:,['tripid',\n",
    "                          'tpep_pickup_datetime',\n",
    "                          'tpep_dropoff_datetime',\n",
    "                          'pulocationid', 'dolocationid']\n",
    "                    ]\n",
    "\n",
    "\n",
    "# Use the interval to 'catch' trips.\n",
    "f_flayer = temp_snap.loc[(temp_snap['tpep_pickup_datetime'] < intervals[right]) &\n",
    "                            (temp_snap['tpep_pickup_datetime'] >= intervals[left]) &\n",
    "                            (temp_snap['tpep_dropoff_datetime'] >= intervals[right])\n",
    "                           ]\n",
    "\n",
    "f_player = temp_snap.loc[(temp_snap['tpep_pickup_datetime'] < intervals[left]) &\n",
    "                            (temp_snap['tpep_dropoff_datetime'] >= intervals[left]) &\n",
    "                            (temp_snap['tpep_dropoff_datetime'] < intervals[right])\n",
    "                           ]\n",
    "\n",
    "f_nlayer = temp_snap.loc[(temp_snap['tpep_pickup_datetime'] >= intervals[left]) &\n",
    "                            (temp_snap['tpep_dropoff_datetime'] < intervals[right])\n",
    "                           ]\n",
    "\n",
    "print(f'f_flayer.shape: {f_flayer.shape}')\n",
    "print(f'f_player.shape: {f_player.shape}') # There will be no incoming trips for the first snapshot.\n",
    "print(f'f_nlayer.shape: {f_nlayer.shape}')\n",
    "\n",
    "# Their shape should be the same\n",
    "assert temp_snap.shape[0] == f_flayer.shape[0] + f_player.shape[0] + f_nlayer.shape[0]"
   ]
  },
  {
   "cell_type": "markdown",
   "metadata": {},
   "source": [
    "### Wrap the above procedure into a function for later use:"
   ]
  },
  {
   "cell_type": "code",
   "execution_count": 39,
   "metadata": {},
   "outputs": [],
   "source": [
    "def gen_snap_layers(table, bound):\n",
    "    '''\n",
    "    Generate Past layer, Now layer and Future layer for one snapshot.\n",
    "    Params:\n",
    "        table:\n",
    "        bounds:\n",
    "    Return:\n",
    "        PNF layers, a list.\n",
    "    '''\n",
    "    # left bound and right bound of time interval\n",
    "    assert type(bound) == tuple\n",
    "    left = bound[0]\n",
    "    right = bound[1]\n",
    "    \n",
    "    print(left, right)\n",
    "\n",
    "    sorted_table = table.loc[:, ['tripid',\n",
    "                                 'tpep_pickup_datetime',\n",
    "                                 'tpep_dropoff_datetime',\n",
    "                                 'pulocationid',\n",
    "                                 'dolocationid']].sort_values(by=['tpep_pickup_datetime',\n",
    "                                                                  'tpep_dropoff_datetime'])\n",
    "\n",
    "    # The condition of making snapshot should be:\n",
    "    # at least one temporal end of a trip should be within the bounds:\n",
    "    snap = sorted_table.loc[\n",
    "        ((sorted_table['tpep_pickup_datetime'] >= left) &\n",
    "         (sorted_table['tpep_pickup_datetime'] < right)) |\n",
    "        ((sorted_table['tpep_dropoff_datetime'] >= left) &\n",
    "         (sorted_table['tpep_dropoff_datetime'] < right))]\n",
    "\n",
    "    # temp table to generate F,P,N layers\n",
    "    # keep snap intact\n",
    "    temp_snap = snap.loc[:, ['tripid',\n",
    "                             'tpep_pickup_datetime',\n",
    "                             'tpep_dropoff_datetime',\n",
    "                             'pulocationid',\n",
    "                             'dolocationid']]\n",
    "\n",
    "    # Use the interval to 'catch' corresponding trips.\n",
    "    # future layer\n",
    "    f_layer = temp_snap.loc[(temp_snap['tpep_pickup_datetime'] < right) &\n",
    "                             (temp_snap['tpep_pickup_datetime'] >= left) &\n",
    "                             (temp_snap['tpep_dropoff_datetime'] >= right)]\n",
    "    # past layer\n",
    "    p_layer = temp_snap.loc[(temp_snap['tpep_pickup_datetime'] < left) &\n",
    "                             (temp_snap['tpep_dropoff_datetime'] >= left) &\n",
    "                             (temp_snap['tpep_dropoff_datetime'] < right)]\n",
    "    # now layer\n",
    "    n_layer = temp_snap.loc[(temp_snap['tpep_pickup_datetime'] >= left) &\n",
    "                             (temp_snap['tpep_dropoff_datetime'] < right)]\n",
    "\n",
    "    # Their count should add up to total trips caught\n",
    "    assert temp_snap.shape[0] == f_layer.shape[0] + p_layer.shape[0] + n_layer.shape[0]\n",
    "\n",
    "    return p_layer, n_layer, f_layer"
   ]
  },
  {
   "cell_type": "markdown",
   "metadata": {},
   "source": [
    "Sanity check:"
   ]
  },
  {
   "cell_type": "code",
   "execution_count": 40,
   "metadata": {},
   "outputs": [
    {
     "name": "stdout",
     "output_type": "stream",
     "text": [
      "(3020, 5)\n",
      "3020\n"
     ]
    },
    {
     "data": {
      "text/html": [
       "<div>\n",
       "<style scoped>\n",
       "    .dataframe tbody tr th:only-of-type {\n",
       "        vertical-align: middle;\n",
       "    }\n",
       "\n",
       "    .dataframe tbody tr th {\n",
       "        vertical-align: top;\n",
       "    }\n",
       "\n",
       "    .dataframe thead th {\n",
       "        text-align: right;\n",
       "    }\n",
       "</style>\n",
       "<table border=\"1\" class=\"dataframe\">\n",
       "  <thead>\n",
       "    <tr style=\"text-align: right;\">\n",
       "      <th></th>\n",
       "      <th>tripid</th>\n",
       "      <th>tpep_pickup_datetime</th>\n",
       "      <th>tpep_dropoff_datetime</th>\n",
       "      <th>pulocationid</th>\n",
       "      <th>dolocationid</th>\n",
       "    </tr>\n",
       "  </thead>\n",
       "  <tbody>\n",
       "    <tr>\n",
       "      <th>8827978</th>\n",
       "      <td>55156712</td>\n",
       "      <td>2017-04-11 06:50:00</td>\n",
       "      <td>2017-04-11 07:02:15</td>\n",
       "      <td>144</td>\n",
       "      <td>162</td>\n",
       "    </tr>\n",
       "    <tr>\n",
       "      <th>8827980</th>\n",
       "      <td>55156714</td>\n",
       "      <td>2017-04-11 06:50:00</td>\n",
       "      <td>2017-04-11 07:04:25</td>\n",
       "      <td>233</td>\n",
       "      <td>74</td>\n",
       "    </tr>\n",
       "    <tr>\n",
       "      <th>8827981</th>\n",
       "      <td>55156715</td>\n",
       "      <td>2017-04-11 06:50:00</td>\n",
       "      <td>2017-04-11 07:10:40</td>\n",
       "      <td>48</td>\n",
       "      <td>12</td>\n",
       "    </tr>\n",
       "    <tr>\n",
       "      <th>8827982</th>\n",
       "      <td>55156716</td>\n",
       "      <td>2017-04-11 06:50:01</td>\n",
       "      <td>2017-04-11 07:01:54</td>\n",
       "      <td>238</td>\n",
       "      <td>170</td>\n",
       "    </tr>\n",
       "    <tr>\n",
       "      <th>8827987</th>\n",
       "      <td>55156721</td>\n",
       "      <td>2017-04-11 06:50:02</td>\n",
       "      <td>2017-04-11 07:25:20</td>\n",
       "      <td>231</td>\n",
       "      <td>138</td>\n",
       "    </tr>\n",
       "    <tr>\n",
       "      <th>8827990</th>\n",
       "      <td>55156724</td>\n",
       "      <td>2017-04-11 06:50:03</td>\n",
       "      <td>2017-04-11 07:01:38</td>\n",
       "      <td>68</td>\n",
       "      <td>209</td>\n",
       "    </tr>\n",
       "    <tr>\n",
       "      <th>8827992</th>\n",
       "      <td>55156726</td>\n",
       "      <td>2017-04-11 06:50:04</td>\n",
       "      <td>2017-04-11 07:05:25</td>\n",
       "      <td>107</td>\n",
       "      <td>142</td>\n",
       "    </tr>\n",
       "    <tr>\n",
       "      <th>8827995</th>\n",
       "      <td>55156729</td>\n",
       "      <td>2017-04-11 06:50:05</td>\n",
       "      <td>2017-04-11 07:03:56</td>\n",
       "      <td>261</td>\n",
       "      <td>162</td>\n",
       "    </tr>\n",
       "    <tr>\n",
       "      <th>8827994</th>\n",
       "      <td>55156728</td>\n",
       "      <td>2017-04-11 06:50:05</td>\n",
       "      <td>2017-04-11 07:26:33</td>\n",
       "      <td>166</td>\n",
       "      <td>223</td>\n",
       "    </tr>\n",
       "    <tr>\n",
       "      <th>8828002</th>\n",
       "      <td>55156736</td>\n",
       "      <td>2017-04-11 06:50:07</td>\n",
       "      <td>2017-04-11 07:02:04</td>\n",
       "      <td>158</td>\n",
       "      <td>137</td>\n",
       "    </tr>\n",
       "    <tr>\n",
       "      <th>8828001</th>\n",
       "      <td>55156735</td>\n",
       "      <td>2017-04-11 06:50:07</td>\n",
       "      <td>2017-04-11 07:02:18</td>\n",
       "      <td>161</td>\n",
       "      <td>140</td>\n",
       "    </tr>\n",
       "    <tr>\n",
       "      <th>8828003</th>\n",
       "      <td>55156737</td>\n",
       "      <td>2017-04-11 06:50:07</td>\n",
       "      <td>2017-04-11 07:22:32</td>\n",
       "      <td>48</td>\n",
       "      <td>138</td>\n",
       "    </tr>\n",
       "    <tr>\n",
       "      <th>8828008</th>\n",
       "      <td>55156742</td>\n",
       "      <td>2017-04-11 06:50:08</td>\n",
       "      <td>2017-04-11 07:05:49</td>\n",
       "      <td>236</td>\n",
       "      <td>170</td>\n",
       "    </tr>\n",
       "    <tr>\n",
       "      <th>8828009</th>\n",
       "      <td>55156743</td>\n",
       "      <td>2017-04-11 06:50:09</td>\n",
       "      <td>2017-04-11 07:01:40</td>\n",
       "      <td>48</td>\n",
       "      <td>114</td>\n",
       "    </tr>\n",
       "    <tr>\n",
       "      <th>8828014</th>\n",
       "      <td>55156748</td>\n",
       "      <td>2017-04-11 06:50:11</td>\n",
       "      <td>2017-04-11 07:02:05</td>\n",
       "      <td>75</td>\n",
       "      <td>166</td>\n",
       "    </tr>\n",
       "    <tr>\n",
       "      <th>8828021</th>\n",
       "      <td>55156755</td>\n",
       "      <td>2017-04-11 06:50:14</td>\n",
       "      <td>2017-04-11 07:17:52</td>\n",
       "      <td>158</td>\n",
       "      <td>138</td>\n",
       "    </tr>\n",
       "    <tr>\n",
       "      <th>8828024</th>\n",
       "      <td>55156758</td>\n",
       "      <td>2017-04-11 06:50:15</td>\n",
       "      <td>2017-04-11 07:00:52</td>\n",
       "      <td>143</td>\n",
       "      <td>161</td>\n",
       "    </tr>\n",
       "    <tr>\n",
       "      <th>8828027</th>\n",
       "      <td>55156761</td>\n",
       "      <td>2017-04-11 06:50:15</td>\n",
       "      <td>2017-04-11 07:01:28</td>\n",
       "      <td>237</td>\n",
       "      <td>75</td>\n",
       "    </tr>\n",
       "    <tr>\n",
       "      <th>8828022</th>\n",
       "      <td>55156756</td>\n",
       "      <td>2017-04-11 06:50:15</td>\n",
       "      <td>2017-04-11 07:04:34</td>\n",
       "      <td>24</td>\n",
       "      <td>161</td>\n",
       "    </tr>\n",
       "    <tr>\n",
       "      <th>8828023</th>\n",
       "      <td>55156757</td>\n",
       "      <td>2017-04-11 06:50:15</td>\n",
       "      <td>2017-04-11 07:14:23</td>\n",
       "      <td>236</td>\n",
       "      <td>138</td>\n",
       "    </tr>\n",
       "  </tbody>\n",
       "</table>\n",
       "</div>"
      ],
      "text/plain": [
       "           tripid tpep_pickup_datetime tpep_dropoff_datetime  pulocationid  \\\n",
       "8827978  55156712  2017-04-11 06:50:00   2017-04-11 07:02:15           144   \n",
       "8827980  55156714  2017-04-11 06:50:00   2017-04-11 07:04:25           233   \n",
       "8827981  55156715  2017-04-11 06:50:00   2017-04-11 07:10:40            48   \n",
       "8827982  55156716  2017-04-11 06:50:01   2017-04-11 07:01:54           238   \n",
       "8827987  55156721  2017-04-11 06:50:02   2017-04-11 07:25:20           231   \n",
       "8827990  55156724  2017-04-11 06:50:03   2017-04-11 07:01:38            68   \n",
       "8827992  55156726  2017-04-11 06:50:04   2017-04-11 07:05:25           107   \n",
       "8827995  55156729  2017-04-11 06:50:05   2017-04-11 07:03:56           261   \n",
       "8827994  55156728  2017-04-11 06:50:05   2017-04-11 07:26:33           166   \n",
       "8828002  55156736  2017-04-11 06:50:07   2017-04-11 07:02:04           158   \n",
       "8828001  55156735  2017-04-11 06:50:07   2017-04-11 07:02:18           161   \n",
       "8828003  55156737  2017-04-11 06:50:07   2017-04-11 07:22:32            48   \n",
       "8828008  55156742  2017-04-11 06:50:08   2017-04-11 07:05:49           236   \n",
       "8828009  55156743  2017-04-11 06:50:09   2017-04-11 07:01:40            48   \n",
       "8828014  55156748  2017-04-11 06:50:11   2017-04-11 07:02:05            75   \n",
       "8828021  55156755  2017-04-11 06:50:14   2017-04-11 07:17:52           158   \n",
       "8828024  55156758  2017-04-11 06:50:15   2017-04-11 07:00:52           143   \n",
       "8828027  55156761  2017-04-11 06:50:15   2017-04-11 07:01:28           237   \n",
       "8828022  55156756  2017-04-11 06:50:15   2017-04-11 07:04:34            24   \n",
       "8828023  55156757  2017-04-11 06:50:15   2017-04-11 07:14:23           236   \n",
       "\n",
       "         dolocationid  \n",
       "8827978           162  \n",
       "8827980            74  \n",
       "8827981            12  \n",
       "8827982           170  \n",
       "8827987           138  \n",
       "8827990           209  \n",
       "8827992           142  \n",
       "8827995           162  \n",
       "8827994           223  \n",
       "8828002           137  \n",
       "8828001           140  \n",
       "8828003           138  \n",
       "8828008           170  \n",
       "8828009           114  \n",
       "8828014           166  \n",
       "8828021           138  \n",
       "8828024           161  \n",
       "8828027            75  \n",
       "8828022           161  \n",
       "8828023           138  "
      ]
     },
     "execution_count": 40,
     "metadata": {},
     "output_type": "execute_result"
    }
   ],
   "source": [
    "# Check if the trips add up:\n",
    "print(snap.shape)\n",
    "print(f_flayer.shape[0] + f_player.shape[0] + f_nlayer.shape[0])\n",
    "assert snap.shape[0] == f_flayer.shape[0] + f_player.shape[0] + f_nlayer.shape[0]\n",
    "f_flayer.head(20)"
   ]
  },
  {
   "cell_type": "markdown",
   "metadata": {},
   "source": [
    "Each pair of (pulocationid - 1, dolocationid - 1) indicates adding one to the snapshot:"
   ]
  },
  {
   "cell_type": "markdown",
   "metadata": {},
   "source": [
    "### 5. Generating Image"
   ]
  },
  {
   "cell_type": "markdown",
   "metadata": {},
   "source": [
    "Before generating image, we have to map the zone id to a range from 0 to 54:"
   ]
  },
  {
   "cell_type": "code",
   "execution_count": 41,
   "metadata": {},
   "outputs": [],
   "source": [
    "real_id = list(map(str, list(y_zone.loc[:,'LocationID'])))\n",
    "conv_id = [i for i in range(img_size)]\n",
    "assert len(real_id) == len(conv_id)\n",
    "mp = dict(zip(real_id, conv_id))\n",
    "# the line below is a dirty fix, be causious in future!"
   ]
  },
  {
   "cell_type": "code",
   "execution_count": 42,
   "metadata": {},
   "outputs": [
    {
     "name": "stdout",
     "output_type": "stream",
     "text": [
      "(69, 69, 3)\n",
      "0.0\n",
      "left_zones: {'107', '162', '238', '263', '89', '244', '142', '233', '144', '50', '209', '165', '186', '174', '211', '223', '170', '212', '49', '232', '166', '90', '198', '75', '98', '160', '151', '161', '33', '168', '129', '140', '262', '14', '181', '69', '100', '189', '260', '61', '225', '106', '113', '229', '146', '234', '7', '132', '167', '19', '193', '226', '137', '22', '56', '25', '261', '71', '163', '158', '215', '68', '254', '224', '192', '95', '188', '125', '45', '52', '87', '65', '157', '197', '79', '145', '190', '179', '74', '164', '47', '231', '148', '37', '249', '88', '246', '185', '143', '159', '97', '40', '237', '134', '219', '255', '264', '116', '4', '43', '138', '83', '155', '66', '265', '82', '239', '141', '114', '1', '202', '236', '13', '230', '48', '80', '169', '78', '256', '247', '24', '112'}\n",
      "left_zones length: 122\n",
      "F max -> 16.0\n",
      "P max -> 16.0\n",
      "N max -> 14.0\n"
     ]
    }
   ],
   "source": [
    "# create a snapshot:\n",
    "first_snapshot = np.zeros([img_size, img_size, 3], dtype='float64')\n",
    "print(first_snapshot.shape)\n",
    "print(first_snapshot[1,2,1])\n",
    "\n",
    "left_zones = set()\n",
    "\n",
    "# future-Red: 0  \n",
    "for _, row in f_flayer.iterrows():\n",
    "    try:\n",
    "        first_snapshot[mp[str(row['pulocationid'])], mp[str(row['dolocationid'])], 0] += 1 # inplace increment 1 in numpy\n",
    "    except Exception as e:\n",
    "        left_zones.add(str(row['pulocationid']))\n",
    "        left_zones.add(str(row['dolocationid']))\n",
    "\n",
    "# past-Green: 1\n",
    "for _, row in f_player.iterrows():\n",
    "    try:\n",
    "        first_snapshot[mp[str(row['pulocationid'])], mp[str(row['dolocationid'])], 1] += 1\n",
    "    except Exception as e:\n",
    "        left_zones.add(str(row['pulocationid']))\n",
    "        left_zones.add(str(row['dolocationid']))\n",
    "\n",
    "# now-Blue: 2        \n",
    "for _, row in f_nlayer.iterrows():\n",
    "    try:\n",
    "        first_snapshot[mp[str(row['pulocationid'])], mp[str(row['dolocationid'])], 2] += 1\n",
    "    except Exception as e:\n",
    "        left_zones.add(str(row['pulocationid']))\n",
    "        left_zones.add(str(row['dolocationid']))\n",
    "\n",
    "print(f'left_zones: {left_zones}')\n",
    "print(f'left_zones length: {len(left_zones)}')\n",
    "\n",
    "print(f'F max -> {first_snapshot[:,:,0].max()}')\n",
    "print(f'P max -> {first_snapshot[:,:,1].max()}')\n",
    "print(f'N max -> {first_snapshot[:,:,2].max()}')\n",
    "\n",
    "# convert numpy array to a image:\n",
    "# tb = pd.DataFrame(first_snapshot[:,:,0])\n",
    "first_snapshot *= 255//first_snapshot.max()"
   ]
  },
  {
   "cell_type": "code",
   "execution_count": 43,
   "metadata": {},
   "outputs": [],
   "source": [
    "# Plot FPN layer values:\n",
    "temp_f = np.reshape(first_snapshot[:,:,0], (1,-1))\n",
    "temp_p = np.reshape(first_snapshot[:,:,1], (1,-1))\n",
    "temp_n = np.reshape(first_snapshot[:,:,2], (1,-1))"
   ]
  },
  {
   "cell_type": "code",
   "execution_count": 44,
   "metadata": {},
   "outputs": [
    {
     "data": {
      "image/png": "[encoded data removed]",
      "text/plain": [
       "<Figure size 432x288 with 1 Axes>"
      ]
     },
     "metadata": {
      "image/png": {
       "height": 269,
       "width": 392
      }
     },
     "output_type": "display_data"
    }
   ],
   "source": [
    "sns.distplot(temp_f, axlabel='Future (Red)', color='red');"
   ]
  },
  {
   "cell_type": "code",
   "execution_count": 45,
   "metadata": {},
   "outputs": [
    {
     "data": {
      "image/png": "[encoded data removed]",
      "text/plain": [
       "<Figure size 432x288 with 1 Axes>"
      ]
     },
     "metadata": {
      "image/png": {
       "height": 269,
       "width": 392
      }
     },
     "output_type": "display_data"
    }
   ],
   "source": [
    "sns.distplot(temp_p, axlabel='Past (Green)', color='green');"
   ]
  },
  {
   "cell_type": "code",
   "execution_count": 46,
   "metadata": {},
   "outputs": [
    {
     "data": {
      "image/png": "[encoded data removed]",
      "text/plain": [
       "<Figure size 432x288 with 1 Axes>"
      ]
     },
     "metadata": {
      "image/png": {
       "height": 269,
       "width": 383
      }
     },
     "output_type": "display_data"
    }
   ],
   "source": [
    "sns.distplot(temp_n, axlabel='Now (Blue)', color='blue');"
   ]
  },
  {
   "cell_type": "code",
   "execution_count": 47,
   "metadata": {},
   "outputs": [
    {
     "data": {
      "image/png": "[encoded data removed]",
      "text/plain": [
       "<PIL.Image.Image image mode=RGB size=690x690 at 0x1350A736EF0>"
      ]
     },
     "execution_count": 47,
     "metadata": {},
     "output_type": "execute_result"
    }
   ],
   "source": [
    "first_snapshot = first_snapshot.astype('uint8')\n",
    "first_image = Image.fromarray(first_snapshot)\n",
    "first_image.resize((690,690))"
   ]
  },
  {
   "cell_type": "code",
   "execution_count": 48,
   "metadata": {},
   "outputs": [],
   "source": [
    "# image save directory:\n",
    "img_path = r'D:\\GITHUB\\GSPNet\\snapshots'\n",
    "\n",
    "# save image\n",
    "# first_image.save(f'{img_path}\\\\1.jpg')\n",
    "# first_image.resize((690,690)) # multiply by factor of 100"
   ]
  },
  {
   "cell_type": "markdown",
   "metadata": {},
   "source": [
    "### Put above codes into a function:"
   ]
  },
  {
   "cell_type": "code",
   "execution_count": null,
   "metadata": {},
   "outputs": [],
   "source": [
    "# Function that combines layers to an image\n",
    "def gen_image(p_layer, n_layer, f_layer):\n",
    "    '''\n",
    "    Generate an image using given matrices.\n",
    "    Params:\n",
    "        p_layer: matrix of past layer\n",
    "        n_layer: matrix of now layer\n",
    "        f_layer: matrix of future layer\n",
    "    Return:\n",
    "        A PIL image.\n",
    "    '''\n",
    "    # create a snapshot\n",
    "    snapshot = np.zeros([img_size, img_size, 3], dtype='float64')\n",
    "\n",
    "    # unexpected zones\n",
    "    left_zones = set()\n",
    "\n",
    "    # future-Red: 0\n",
    "    for _, row in f_layer.iterrows():\n",
    "        try:\n",
    "            snapshot[mp[str(row['pulocationid'])], mp[str(row['dolocationid'])], 0] += 1\n",
    "        except Exception as e:\n",
    "            left_zones.add(str(row['pulocationid']))\n",
    "            left_zones.add(str(row['dolocationid']))\n",
    "\n",
    "    # past-Green: 1\n",
    "    for _, row in p_layer.iterrows():\n",
    "        try:\n",
    "            snapshot[mp[str(row['pulocationid'])], mp[str(row['dolocationid'])], 1] += 1\n",
    "        except Exception as e:\n",
    "            left_zones.add(str(row['pulocationid']))\n",
    "            left_zones.add(str(row['dolocationid']))\n",
    "\n",
    "    # now-Blue: 2\n",
    "    for _, row in n_layer.iterrows():\n",
    "        try:\n",
    "            snapshot[mp[str(row['pulocationid'])], mp[str(row['dolocationid'])], 2] += 1\n",
    "        except Exception as e:\n",
    "            left_zones.add(str(row['pulocationid']))\n",
    "            left_zones.add(str(row['dolocationid']))\n",
    "\n",
    "    # normalize\n",
    "    snapshot *= 255 // snapshot.max()\n",
    "    snapshot = snapshot.astype('uint8')\n",
    "    image = Image.fromarray(snapshot)\n",
    "    return image\n",
    "\n",
    "# generate tensor, because saving image as intermediate data is not efficient\n",
    "def gen_tensor(p_layer, n_layer, f_layer):\n",
    "    '''\n",
    "    Generate a tensor using given matrices.\n",
    "    Params:\n",
    "        p_layer: matrix of past layer\n",
    "        n_layer: matrix of now layer\n",
    "        f_layer: matrix of future layer\n",
    "    Return:\n",
    "        A torch tensor.\n",
    "    '''\n",
    "    # create a snapshot\n",
    "    snapshot = np.zeros([img_size, img_size, 3], dtype='float64')\n",
    "\n",
    "    # unexpected zones\n",
    "    left_zones = set()\n",
    "\n",
    "    # future-Red: 0\n",
    "    for _, row in f_layer.iterrows():\n",
    "        try:\n",
    "            snapshot[mp[str(row['pulocationid'])], mp[str(row['dolocationid'])], 0] += 1\n",
    "        except Exception as e:\n",
    "            left_zones.add(str(row['pulocationid']))\n",
    "            left_zones.add(str(row['dolocationid']))\n",
    "\n",
    "    # past-Green: 1\n",
    "    for _, row in p_layer.iterrows():\n",
    "        try:\n",
    "            snapshot[mp[str(row['pulocationid'])], mp[str(row['dolocationid'])], 1] += 1\n",
    "        except Exception as e:\n",
    "            left_zones.add(str(row['pulocationid']))\n",
    "            left_zones.add(str(row['dolocationid']))\n",
    "\n",
    "    # now-Blue: 2\n",
    "    for _, row in n_layer.iterrows():\n",
    "        try:\n",
    "            snapshot[mp[str(row['pulocationid'])], mp[str(row['dolocationid'])], 2] += 1\n",
    "        except Exception as e:\n",
    "            left_zones.add(str(row['pulocationid']))\n",
    "            left_zones.add(str(row['dolocationid']))\n",
    "\n",
    "    # normalize\n",
    "    snapshot *= 255 // snapshot.max()\n",
    "    snapshot = torch.from_numpy(snapshot)\n",
    "    return snapshot"
   ]
  },
  {
   "cell_type": "code",
   "execution_count": null,
   "metadata": {},
   "outputs": [],
   "source": [
    "# Function that gets a specific layer of snapshot.\n",
    "def get_channel(image, layer:str):\n",
    "    '''\n",
    "    Get a layer of the snapshot.\n",
    "    Params:\n",
    "        image: PIL image\n",
    "        channel: one of R-F,G-P,B-N\n",
    "    Return:\n",
    "        single channel image\n",
    "    '''\n",
    "    assert layer in ['P', 'N', 'F']\n",
    "    namedict = {'P': 'G', 'N': 'B', 'F': 'R'}\n",
    "    chandict = {'R':0, 'G':1, 'B':2}\n",
    "    template = np.array(image)\n",
    "    chan = np.zeros([*template.shape], dtype='uint8')\n",
    "    chan[:,:,chandict[namedict[layer]]] = image.getchannel(namedict[layer])\n",
    "    chan = Image.fromarray(chan)\n",
    "    return chan"
   ]
  },
  {
   "cell_type": "code",
   "execution_count": null,
   "metadata": {},
   "outputs": [],
   "source": [
    "# future layer\n",
    "# first_image.getchannel('R').resize((345,345))\n",
    "red = get_channel(first_image, 'F')\n",
    "red = red.resize((345,345))\n",
    "red_bright = first_image.getchannel('R').resize((345,345))\n",
    "\n",
    "display(red, red_bright)"
   ]
  },
  {
   "cell_type": "code",
   "execution_count": null,
   "metadata": {},
   "outputs": [],
   "source": [
    "# Past layer\n",
    "green = get_channel(first_image, 'P')\n",
    "green = green.resize((345,345))\n",
    "\n",
    "# Past layer (green) in brightness.\n",
    "green_bright = first_image.getchannel('G').resize((345,345))\n",
    "display(green, green_bright)"
   ]
  },
  {
   "cell_type": "code",
   "execution_count": null,
   "metadata": {},
   "outputs": [],
   "source": [
    "# Now layer\n",
    "# first_image.getchannel('B').resize((345,345))\n",
    "blue = get_channel(first_image, 'N')\n",
    "blue = blue.resize((345,345))\n",
    "\n",
    "# Now layer (blue) in brightness.\n",
    "blue_bright = first_image.getchannel('B').resize((345,345))\n",
    "\n",
    "display(blue, blue_bright)"
   ]
  },
  {
   "cell_type": "markdown",
   "metadata": {},
   "source": [
    "### Using the above procedure, all 4464 tensors can be generated.\n",
    "\n",
    "**Possible variations:**\n",
    "+ Weight the value with passenger number\n",
    "+ Design a method to achieve finer granularity to distinguish trips with much longer time (3X std.)"
   ]
  },
  {
   "cell_type": "markdown",
   "metadata": {},
   "source": [
    "### 6. Parallel Batch Image Generation"
   ]
  },
  {
   "cell_type": "markdown",
   "metadata": {},
   "source": [
    "Now let's define a batch processing function to generate tonsors like above according to time interval. For the sake of effitiency, parallel boost is used (i.e. dask). The **computation graphs** of the generator is as follows:\n",
    "\n",
    "<img src=\"images/flowgraph_imggen.png\" align=\"left\" width=\"70%\">"
   ]
  },
  {
   "cell_type": "markdown",
   "metadata": {},
   "source": [
    "#### Individual functions:"
   ]
  },
  {
   "cell_type": "markdown",
   "metadata": {},
   "source": [
    "Create a list of time bounds given the starting point and ending point of a time interval:"
   ]
  },
  {
   "cell_type": "code",
   "execution_count": null,
   "metadata": {},
   "outputs": [],
   "source": [
    "def timesplit(stp: str, etp: str, freq='10min'):\n",
    "    '''\n",
    "    Create a DatetimeIndx interval.\n",
    "    \n",
    "    Params:\n",
    "        stp: string, starting time point, first left bound\n",
    "        etp: string, ending time point, last right bound\n",
    "        freq: frequency, time interval unit of the splice operation\n",
    "    The stp and etp must of pattern \"yyyy-mm-dd hh:mm:ss\", otherwise exception will be raised.\n",
    "    \n",
    "    Return:\n",
    "        A list of time intervals tuples,each item is a tuple of two\n",
    "        interval(i.e., pandas.core.indexes.datetimes.DatetimeIndex object)\n",
    "        For example, a possible return could be [(2017-01-01 00:00:00, 2017-01-01 00:10:00),\n",
    "                                                 (2017-01-01 00:10:00, 2017-01-01 00:20:00)]\n",
    "    '''\n",
    "    pattern = re.compile('^([0-9]{4})-([0-1][0-9])-([0-3][0-9])\\s([0-1][0-9]|[2][0-3]):([0-5][0-9]):([0-5][0-9])$')\n",
    "    if pattern.match(stp) and pattern.match(etp):\n",
    "        time_bounds = pd.date_range(stp, etp, freq=freq)\n",
    "        sub_intervals = list(zip(time_bounds[:-1], time_bounds[1:]))\n",
    "        print(len(time_bounds), len(sub_intervals))\n",
    "        return sub_intervals\n",
    "    else:\n",
    "        raise Exception('Provided time bound is of invalid format.')\n"
   ]
  },
  {
   "cell_type": "code",
   "execution_count": null,
   "metadata": {},
   "outputs": [],
   "source": [
    "timelist = timesplit('2017-01-01 00:00:00', '2017-02-01 00:00:00')"
   ]
  },
  {
   "cell_type": "code",
   "execution_count": null,
   "metadata": {},
   "outputs": [],
   "source": [
    "# Number of characters needed to save a time pair\n",
    "sum(list(map(len, ['2017-01-01 00:00:00', '2017-02-01 00:00:00'])))"
   ]
  },
  {
   "cell_type": "code",
   "execution_count": null,
   "metadata": {},
   "outputs": [],
   "source": [
    "# test functions\n",
    "timelist = timesplit('2017-01-01 00:00:00', '2017-02-01 00:00:00')\n",
    "print(f'timelist length: {len(timelist)}')\n",
    "\n",
    "bound = timelist[100]\n",
    "print(type(bound))\n",
    "print(bound[0])\n",
    "print(bound[1])\n",
    "\n",
    "f_player, f_nlayer, f_flayer = gen_snap_layers(table, bound)\n",
    "image = gen_image(f_player, f_nlayer, f_flayer)\n",
    "\n",
    "# image save directory:\n",
    "visual_path = r'D:\\GITHUB\\GSPNet\\snapshots\\visualization'\n",
    "data_path = r'D:\\GITHUB\\GSPNet\\snapshots\\data'\n",
    "\n",
    "# save image\n",
    "image.save(f'{data_path}\\\\d1.bmp')\n",
    "vimage = image.resize((690,690)) # multiply by factor of 100\n",
    "vimage.save(f'{visual_path}\\\\v1.bmp')\n",
    "vimage"
   ]
  },
  {
   "cell_type": "code",
   "execution_count": null,
   "metadata": {},
   "outputs": [],
   "source": [
    "rdtbt = time.time()\n",
    "timelist = timesplit('2017-02-01 00:00:00', '2017-03-01 00:00:00')\n",
    "table = pd.read_csv('dataset/nytaxi_yellow_2017_feb.csv')\n",
    "print(f'data loaded in {time.time() - rdtbt}')"
   ]
  },
  {
   "cell_type": "code",
   "execution_count": null,
   "metadata": {},
   "outputs": [],
   "source": [
    "table.head()"
   ]
  },
  {
   "cell_type": "code",
   "execution_count": null,
   "metadata": {},
   "outputs": [],
   "source": [
    "start = time.time()\n",
    "# convert dtype for entire table here:\n",
    "table['tpep_pickup_datetime'] = pd.to_datetime(table['tpep_pickup_datetime'])\n",
    "table['tpep_dropoff_datetime'] = pd.to_datetime(table['tpep_dropoff_datetime'])\n",
    "for i, bound in enumerate(timelist):\n",
    "    p_layer, n_layer, f_layer = gen_snap_layers(table, bound)\n",
    "    tensor = gen_tensor(p_layer, n_layer, f_layer)\n",
    "    torch.save(tensor, f'{data_path}\\\\nytaxi_yellow_2017_feb_d{i}.pt')\n",
    "    image = gen_image(p_layer, n_layer, f_layer)\n",
    "    vimage = image.resize((690,690)) # multiply by factor of 100\n",
    "    vimage.save(f'{visual_path}\\\\nytaxi_yellow_2017_feb_v{i}.jpg')\n",
    "print(f'Image and tensor generation done in {time.time() - start :.2f} seconds.')"
   ]
  },
  {
   "cell_type": "code",
   "execution_count": null,
   "metadata": {},
   "outputs": [],
   "source": [
    "26155 / 60 / 60"
   ]
  },
  {
   "cell_type": "markdown",
   "metadata": {},
   "source": [
    "## Part 2: Modeling"
   ]
  },
  {
   "cell_type": "markdown",
   "metadata": {},
   "source": [
    "## Part 3: Prediction & per demand modification of states (to be done)"
   ]
  },
  {
   "cell_type": "code",
   "execution_count": null,
   "metadata": {},
   "outputs": [],
   "source": []
  }
 ],
 "metadata": {
  "kernelspec": {
   "display_name": "Python 3",
   "language": "python",
   "name": "python3"
  },
  "language_info": {
   "codemirror_mode": {
    "name": "ipython",
    "version": 3
   },
   "file_extension": ".py",
   "mimetype": "text/x-python",
   "name": "python",
   "nbconvert_exporter": "python",
   "pygments_lexer": "ipython3",
   "version": "3.7.1"
  }
 },
 "nbformat": 4,
 "nbformat_minor": 2
}
