{
 "cells": [
  {
   "cell_type": "markdown",
   "metadata": {},
   "source": [
    "<img src=\"images/logo_city.png\" align=\"right\" width=\"20%\">"
   ]
  },
  {
   "cell_type": "markdown",
   "metadata": {},
   "source": [
    "# Training A Graph State Prediction Network (GSPNet)"
   ]
  },
  {
   "cell_type": "markdown",
   "metadata": {},
   "source": [
    "This notebook is a prototype on how to train a graph state prediction network using CNN and LSTM.\n",
    "The content is devided into __3__ parts:\n",
    "\n",
    "1. Data preprocessing\n",
    "2. Model building, Training and Tuning\n",
    "3. Prediction and per demand modifacation\n",
    "\n",
    "The model is built with [PyTorch](https://pytorch.org/)."
   ]
  },
  {
   "cell_type": "markdown",
   "metadata": {},
   "source": [
    "## Part 1: Data Preprocessing"
   ]
  },
  {
   "cell_type": "markdown",
   "metadata": {},
   "source": [
    "### 1. Import necessary libraries:"
   ]
  },
  {
   "cell_type": "markdown",
   "metadata": {},
   "source": [
    "We will use pandas and numpy as main data examine and cleansing util and use dask to handle parallel computing cases"
   ]
  },
  {
   "cell_type": "code",
   "execution_count": 1,
   "metadata": {},
   "outputs": [],
   "source": [
    "import pandas as pd\n",
    "import numpy as np\n",
    "import seaborn as sns\n",
    "import sqlalchemy\n",
    "import dask\n",
    "import time\n",
    "import psycopg2\n",
    "import warnings\n",
    "import re\n",
    "from PIL import Image\n",
    "from IPython.display import display\n",
    "from scipy import stats\n",
    "from matplotlib import pyplot as plt\n",
    "\n",
    "%matplotlib inline\n",
    "%config InlineBackend.figure_format = 'retina'"
   ]
  },
  {
   "cell_type": "markdown",
   "metadata": {},
   "source": [
    "We'll first, use a small sample data (approximately 1 million rows):"
   ]
  },
  {
   "cell_type": "code",
   "execution_count": 2,
   "metadata": {},
   "outputs": [
    {
     "data": {
      "text/html": [
       "<div>\n",
       "<style scoped>\n",
       "    .dataframe tbody tr th:only-of-type {\n",
       "        vertical-align: middle;\n",
       "    }\n",
       "\n",
       "    .dataframe tbody tr th {\n",
       "        vertical-align: top;\n",
       "    }\n",
       "\n",
       "    .dataframe thead th {\n",
       "        text-align: right;\n",
       "    }\n",
       "</style>\n",
       "<table border=\"1\" class=\"dataframe\">\n",
       "  <thead>\n",
       "    <tr style=\"text-align: right;\">\n",
       "      <th></th>\n",
       "      <th>tripid</th>\n",
       "      <th>tpep_pickup_datetime</th>\n",
       "      <th>tpep_dropoff_datetime</th>\n",
       "      <th>pulocationid</th>\n",
       "      <th>dolocationid</th>\n",
       "      <th>trip_distance</th>\n",
       "      <th>passenger_count</th>\n",
       "      <th>total_amount</th>\n",
       "      <th>trip_time</th>\n",
       "      <th>trip_avg_speed</th>\n",
       "      <th>trip_time_sec</th>\n",
       "    </tr>\n",
       "  </thead>\n",
       "  <tbody>\n",
       "    <tr>\n",
       "      <th>0</th>\n",
       "      <td>25754898</td>\n",
       "      <td>2017-01-09 11:13:00</td>\n",
       "      <td>2017-01-09 11:25:00</td>\n",
       "      <td>263</td>\n",
       "      <td>161</td>\n",
       "      <td>3.3</td>\n",
       "      <td>1</td>\n",
       "      <td>15.30</td>\n",
       "      <td>00:12:00</td>\n",
       "      <td>16.5</td>\n",
       "      <td>720</td>\n",
       "    </tr>\n",
       "    <tr>\n",
       "      <th>1</th>\n",
       "      <td>25754899</td>\n",
       "      <td>2017-01-09 11:32:00</td>\n",
       "      <td>2017-01-09 11:36:00</td>\n",
       "      <td>186</td>\n",
       "      <td>234</td>\n",
       "      <td>0.9</td>\n",
       "      <td>1</td>\n",
       "      <td>7.25</td>\n",
       "      <td>00:04:00</td>\n",
       "      <td>13.5</td>\n",
       "      <td>240</td>\n",
       "    </tr>\n",
       "    <tr>\n",
       "      <th>2</th>\n",
       "      <td>25754900</td>\n",
       "      <td>2017-01-09 11:38:00</td>\n",
       "      <td>2017-01-09 11:42:00</td>\n",
       "      <td>164</td>\n",
       "      <td>161</td>\n",
       "      <td>1.1</td>\n",
       "      <td>1</td>\n",
       "      <td>7.30</td>\n",
       "      <td>00:04:00</td>\n",
       "      <td>16.5</td>\n",
       "      <td>240</td>\n",
       "    </tr>\n",
       "    <tr>\n",
       "      <th>3</th>\n",
       "      <td>25754901</td>\n",
       "      <td>2017-01-09 11:52:00</td>\n",
       "      <td>2017-01-09 11:57:00</td>\n",
       "      <td>236</td>\n",
       "      <td>75</td>\n",
       "      <td>1.1</td>\n",
       "      <td>1</td>\n",
       "      <td>8.50</td>\n",
       "      <td>00:05:00</td>\n",
       "      <td>13.2</td>\n",
       "      <td>300</td>\n",
       "    </tr>\n",
       "    <tr>\n",
       "      <th>4</th>\n",
       "      <td>25754903</td>\n",
       "      <td>2017-01-01 00:00:00</td>\n",
       "      <td>2017-01-01 00:03:00</td>\n",
       "      <td>48</td>\n",
       "      <td>48</td>\n",
       "      <td>0.5</td>\n",
       "      <td>1</td>\n",
       "      <td>5.30</td>\n",
       "      <td>00:03:00</td>\n",
       "      <td>10.0</td>\n",
       "      <td>180</td>\n",
       "    </tr>\n",
       "  </tbody>\n",
       "</table>\n",
       "</div>"
      ],
      "text/plain": [
       "     tripid tpep_pickup_datetime tpep_dropoff_datetime  pulocationid  \\\n",
       "0  25754898  2017-01-09 11:13:00   2017-01-09 11:25:00           263   \n",
       "1  25754899  2017-01-09 11:32:00   2017-01-09 11:36:00           186   \n",
       "2  25754900  2017-01-09 11:38:00   2017-01-09 11:42:00           164   \n",
       "3  25754901  2017-01-09 11:52:00   2017-01-09 11:57:00           236   \n",
       "4  25754903  2017-01-01 00:00:00   2017-01-01 00:03:00            48   \n",
       "\n",
       "   dolocationid  trip_distance  passenger_count  total_amount trip_time  \\\n",
       "0           161            3.3                1         15.30  00:12:00   \n",
       "1           234            0.9                1          7.25  00:04:00   \n",
       "2           161            1.1                1          7.30  00:04:00   \n",
       "3            75            1.1                1          8.50  00:05:00   \n",
       "4            48            0.5                1          5.30  00:03:00   \n",
       "\n",
       "   trip_avg_speed  trip_time_sec  \n",
       "0            16.5            720  \n",
       "1            13.5            240  \n",
       "2            16.5            240  \n",
       "3            13.2            300  \n",
       "4            10.0            180  "
      ]
     },
     "execution_count": 2,
     "metadata": {},
     "output_type": "execute_result"
    }
   ],
   "source": [
    "# Load already cleaned data sample\n",
    "table = pd.read_csv('dataset/nytaxi_yellow_2017_jan.csv')\n",
    "table.head()"
   ]
  },
  {
   "cell_type": "markdown",
   "metadata": {},
   "source": [
    "### 2. First sight of the data"
   ]
  },
  {
   "cell_type": "markdown",
   "metadata": {},
   "source": [
    "Let's see the the type of columns and some basic statistics of the sample data:"
   ]
  },
  {
   "cell_type": "code",
   "execution_count": 3,
   "metadata": {},
   "outputs": [
    {
     "data": {
      "text/plain": [
       "tripid                     int64\n",
       "tpep_pickup_datetime      object\n",
       "tpep_dropoff_datetime     object\n",
       "pulocationid               int64\n",
       "dolocationid               int64\n",
       "trip_distance            float64\n",
       "passenger_count            int64\n",
       "total_amount             float64\n",
       "trip_time                 object\n",
       "trip_avg_speed           float64\n",
       "trip_time_sec              int64\n",
       "dtype: object"
      ]
     },
     "execution_count": 3,
     "metadata": {},
     "output_type": "execute_result"
    }
   ],
   "source": [
    "# column data types\n",
    "table.dtypes"
   ]
  },
  {
   "cell_type": "code",
   "execution_count": 4,
   "metadata": {},
   "outputs": [
    {
     "data": {
      "text/plain": [
       "(1040001, 11)"
      ]
     },
     "execution_count": 4,
     "metadata": {},
     "output_type": "execute_result"
    }
   ],
   "source": [
    "# rows and columns\n",
    "table.shape"
   ]
  },
  {
   "cell_type": "code",
   "execution_count": 5,
   "metadata": {},
   "outputs": [
    {
     "data": {
      "text/html": [
       "<div>\n",
       "<style scoped>\n",
       "    .dataframe tbody tr th:only-of-type {\n",
       "        vertical-align: middle;\n",
       "    }\n",
       "\n",
       "    .dataframe tbody tr th {\n",
       "        vertical-align: top;\n",
       "    }\n",
       "\n",
       "    .dataframe thead th {\n",
       "        text-align: right;\n",
       "    }\n",
       "</style>\n",
       "<table border=\"1\" class=\"dataframe\">\n",
       "  <thead>\n",
       "    <tr style=\"text-align: right;\">\n",
       "      <th></th>\n",
       "      <th>tripid</th>\n",
       "      <th>pulocationid</th>\n",
       "      <th>dolocationid</th>\n",
       "      <th>trip_distance</th>\n",
       "      <th>passenger_count</th>\n",
       "      <th>total_amount</th>\n",
       "      <th>trip_avg_speed</th>\n",
       "      <th>trip_time_sec</th>\n",
       "    </tr>\n",
       "  </thead>\n",
       "  <tbody>\n",
       "    <tr>\n",
       "      <th>count</th>\n",
       "      <td>1.040001e+06</td>\n",
       "      <td>1.040001e+06</td>\n",
       "      <td>1.040001e+06</td>\n",
       "      <td>1.040001e+06</td>\n",
       "      <td>1.040001e+06</td>\n",
       "      <td>1.040001e+06</td>\n",
       "      <td>1.040001e+06</td>\n",
       "      <td>1.040001e+06</td>\n",
       "    </tr>\n",
       "    <tr>\n",
       "      <th>mean</th>\n",
       "      <td>2.627946e+07</td>\n",
       "      <td>1.610259e+02</td>\n",
       "      <td>1.591211e+02</td>\n",
       "      <td>3.033442e+00</td>\n",
       "      <td>1.681332e+00</td>\n",
       "      <td>1.552271e+01</td>\n",
       "      <td>1.294343e+01</td>\n",
       "      <td>9.029197e+02</td>\n",
       "    </tr>\n",
       "    <tr>\n",
       "      <th>std</th>\n",
       "      <td>3.026837e+05</td>\n",
       "      <td>6.767791e+01</td>\n",
       "      <td>7.193925e+01</td>\n",
       "      <td>3.800200e+00</td>\n",
       "      <td>1.291006e+00</td>\n",
       "      <td>1.342812e+01</td>\n",
       "      <td>1.041047e+01</td>\n",
       "      <td>3.373064e+03</td>\n",
       "    </tr>\n",
       "    <tr>\n",
       "      <th>min</th>\n",
       "      <td>2.575490e+07</td>\n",
       "      <td>1.000000e+00</td>\n",
       "      <td>1.000000e+00</td>\n",
       "      <td>1.000000e-02</td>\n",
       "      <td>0.000000e+00</td>\n",
       "      <td>-9.470000e+01</td>\n",
       "      <td>4.341534e-04</td>\n",
       "      <td>6.000000e+01</td>\n",
       "    </tr>\n",
       "    <tr>\n",
       "      <th>25%</th>\n",
       "      <td>2.601747e+07</td>\n",
       "      <td>1.130000e+02</td>\n",
       "      <td>1.070000e+02</td>\n",
       "      <td>1.000000e+00</td>\n",
       "      <td>1.000000e+00</td>\n",
       "      <td>8.160000e+00</td>\n",
       "      <td>8.400000e+00</td>\n",
       "      <td>3.600000e+02</td>\n",
       "    </tr>\n",
       "    <tr>\n",
       "      <th>50%</th>\n",
       "      <td>2.627957e+07</td>\n",
       "      <td>1.610000e+02</td>\n",
       "      <td>1.620000e+02</td>\n",
       "      <td>1.700000e+00</td>\n",
       "      <td>1.000000e+00</td>\n",
       "      <td>1.130000e+01</td>\n",
       "      <td>1.133333e+01</td>\n",
       "      <td>6.000000e+02</td>\n",
       "    </tr>\n",
       "    <tr>\n",
       "      <th>75%</th>\n",
       "      <td>2.654161e+07</td>\n",
       "      <td>2.320000e+02</td>\n",
       "      <td>2.330000e+02</td>\n",
       "      <td>3.200000e+00</td>\n",
       "      <td>2.000000e+00</td>\n",
       "      <td>1.680000e+01</td>\n",
       "      <td>1.530000e+01</td>\n",
       "      <td>9.600000e+02</td>\n",
       "    </tr>\n",
       "    <tr>\n",
       "      <th>max</th>\n",
       "      <td>2.680347e+07</td>\n",
       "      <td>2.650000e+02</td>\n",
       "      <td>2.650000e+02</td>\n",
       "      <td>1.517000e+02</td>\n",
       "      <td>6.000000e+00</td>\n",
       "      <td>1.000290e+03</td>\n",
       "      <td>1.914000e+03</td>\n",
       "      <td>8.640000e+04</td>\n",
       "    </tr>\n",
       "  </tbody>\n",
       "</table>\n",
       "</div>"
      ],
      "text/plain": [
       "             tripid  pulocationid  dolocationid  trip_distance  \\\n",
       "count  1.040001e+06  1.040001e+06  1.040001e+06   1.040001e+06   \n",
       "mean   2.627946e+07  1.610259e+02  1.591211e+02   3.033442e+00   \n",
       "std    3.026837e+05  6.767791e+01  7.193925e+01   3.800200e+00   \n",
       "min    2.575490e+07  1.000000e+00  1.000000e+00   1.000000e-02   \n",
       "25%    2.601747e+07  1.130000e+02  1.070000e+02   1.000000e+00   \n",
       "50%    2.627957e+07  1.610000e+02  1.620000e+02   1.700000e+00   \n",
       "75%    2.654161e+07  2.320000e+02  2.330000e+02   3.200000e+00   \n",
       "max    2.680347e+07  2.650000e+02  2.650000e+02   1.517000e+02   \n",
       "\n",
       "       passenger_count  total_amount  trip_avg_speed  trip_time_sec  \n",
       "count     1.040001e+06  1.040001e+06    1.040001e+06   1.040001e+06  \n",
       "mean      1.681332e+00  1.552271e+01    1.294343e+01   9.029197e+02  \n",
       "std       1.291006e+00  1.342812e+01    1.041047e+01   3.373064e+03  \n",
       "min       0.000000e+00 -9.470000e+01    4.341534e-04   6.000000e+01  \n",
       "25%       1.000000e+00  8.160000e+00    8.400000e+00   3.600000e+02  \n",
       "50%       1.000000e+00  1.130000e+01    1.133333e+01   6.000000e+02  \n",
       "75%       2.000000e+00  1.680000e+01    1.530000e+01   9.600000e+02  \n",
       "max       6.000000e+00  1.000290e+03    1.914000e+03   8.640000e+04  "
      ]
     },
     "execution_count": 5,
     "metadata": {},
     "output_type": "execute_result"
    }
   ],
   "source": [
    "# basic statistics\n",
    "table.describe()"
   ]
  },
  {
   "cell_type": "markdown",
   "metadata": {},
   "source": [
    "The columns we will use are: **tpep_pickup_datetime, pulocationid, tpep_dropoff_datetime, dolocationid.**\n",
    "These information are used to generate graphs that are used to discribe the general traffic state of New York.\n",
    "\n",
    "Notice currently the **tpep_pickup_datetime** and **tpep_dropoff_datetime** are of type `object`:"
   ]
  },
  {
   "cell_type": "code",
   "execution_count": 6,
   "metadata": {},
   "outputs": [
    {
     "data": {
      "text/html": [
       "<div>\n",
       "<style scoped>\n",
       "    .dataframe tbody tr th:only-of-type {\n",
       "        vertical-align: middle;\n",
       "    }\n",
       "\n",
       "    .dataframe tbody tr th {\n",
       "        vertical-align: top;\n",
       "    }\n",
       "\n",
       "    .dataframe thead th {\n",
       "        text-align: right;\n",
       "    }\n",
       "</style>\n",
       "<table border=\"1\" class=\"dataframe\">\n",
       "  <thead>\n",
       "    <tr style=\"text-align: right;\">\n",
       "      <th></th>\n",
       "      <th>tpep_pickup_datetime</th>\n",
       "      <th>tpep_dropoff_datetime</th>\n",
       "    </tr>\n",
       "  </thead>\n",
       "  <tbody>\n",
       "    <tr>\n",
       "      <th>0</th>\n",
       "      <td>2017-01-09 11:13:00</td>\n",
       "      <td>2017-01-09 11:25:00</td>\n",
       "    </tr>\n",
       "    <tr>\n",
       "      <th>1</th>\n",
       "      <td>2017-01-09 11:32:00</td>\n",
       "      <td>2017-01-09 11:36:00</td>\n",
       "    </tr>\n",
       "    <tr>\n",
       "      <th>2</th>\n",
       "      <td>2017-01-09 11:38:00</td>\n",
       "      <td>2017-01-09 11:42:00</td>\n",
       "    </tr>\n",
       "    <tr>\n",
       "      <th>3</th>\n",
       "      <td>2017-01-09 11:52:00</td>\n",
       "      <td>2017-01-09 11:57:00</td>\n",
       "    </tr>\n",
       "    <tr>\n",
       "      <th>4</th>\n",
       "      <td>2017-01-01 00:00:00</td>\n",
       "      <td>2017-01-01 00:03:00</td>\n",
       "    </tr>\n",
       "  </tbody>\n",
       "</table>\n",
       "</div>"
      ],
      "text/plain": [
       "  tpep_pickup_datetime tpep_dropoff_datetime\n",
       "0  2017-01-09 11:13:00   2017-01-09 11:25:00\n",
       "1  2017-01-09 11:32:00   2017-01-09 11:36:00\n",
       "2  2017-01-09 11:38:00   2017-01-09 11:42:00\n",
       "3  2017-01-09 11:52:00   2017-01-09 11:57:00\n",
       "4  2017-01-01 00:00:00   2017-01-01 00:03:00"
      ]
     },
     "execution_count": 6,
     "metadata": {},
     "output_type": "execute_result"
    }
   ],
   "source": [
    "table.loc[:,['tpep_pickup_datetime', 'tpep_dropoff_datetime']].head()"
   ]
  },
  {
   "cell_type": "markdown",
   "metadata": {},
   "source": [
    "In order to do **time slice** later, these two feilds must be sorted in chronological mananer, first by `tpep_pickup_datetime` and then by `tpep_dropoff_datetime`, as follows:"
   ]
  },
  {
   "cell_type": "code",
   "execution_count": 7,
   "metadata": {},
   "outputs": [
    {
     "data": {
      "text/html": [
       "<div>\n",
       "<style scoped>\n",
       "    .dataframe tbody tr th:only-of-type {\n",
       "        vertical-align: middle;\n",
       "    }\n",
       "\n",
       "    .dataframe tbody tr th {\n",
       "        vertical-align: top;\n",
       "    }\n",
       "\n",
       "    .dataframe thead th {\n",
       "        text-align: right;\n",
       "    }\n",
       "</style>\n",
       "<table border=\"1\" class=\"dataframe\">\n",
       "  <thead>\n",
       "    <tr style=\"text-align: right;\">\n",
       "      <th></th>\n",
       "      <th>tripid</th>\n",
       "      <th>tpep_pickup_datetime</th>\n",
       "      <th>tpep_dropoff_datetime</th>\n",
       "      <th>pulocationid</th>\n",
       "      <th>dolocationid</th>\n",
       "      <th>trip_distance</th>\n",
       "      <th>passenger_count</th>\n",
       "      <th>total_amount</th>\n",
       "      <th>trip_time</th>\n",
       "      <th>trip_avg_speed</th>\n",
       "      <th>trip_time_sec</th>\n",
       "    </tr>\n",
       "  </thead>\n",
       "  <tbody>\n",
       "    <tr>\n",
       "      <th>23</th>\n",
       "      <td>25754922</td>\n",
       "      <td>2017-01-01 00:00:00</td>\n",
       "      <td>2017-01-01 00:01:00</td>\n",
       "      <td>143</td>\n",
       "      <td>143</td>\n",
       "      <td>0.20</td>\n",
       "      <td>2</td>\n",
       "      <td>4.30</td>\n",
       "      <td>00:01:00</td>\n",
       "      <td>12.0</td>\n",
       "      <td>60</td>\n",
       "    </tr>\n",
       "    <tr>\n",
       "      <th>37</th>\n",
       "      <td>25754937</td>\n",
       "      <td>2017-01-01 00:00:00</td>\n",
       "      <td>2017-01-01 00:01:00</td>\n",
       "      <td>243</td>\n",
       "      <td>243</td>\n",
       "      <td>0.10</td>\n",
       "      <td>1</td>\n",
       "      <td>4.30</td>\n",
       "      <td>00:01:00</td>\n",
       "      <td>6.0</td>\n",
       "      <td>60</td>\n",
       "    </tr>\n",
       "    <tr>\n",
       "      <th>68</th>\n",
       "      <td>25754969</td>\n",
       "      <td>2017-01-01 00:00:00</td>\n",
       "      <td>2017-01-01 00:01:00</td>\n",
       "      <td>239</td>\n",
       "      <td>238</td>\n",
       "      <td>0.41</td>\n",
       "      <td>2</td>\n",
       "      <td>5.52</td>\n",
       "      <td>00:01:00</td>\n",
       "      <td>24.6</td>\n",
       "      <td>60</td>\n",
       "    </tr>\n",
       "    <tr>\n",
       "      <th>19</th>\n",
       "      <td>25754918</td>\n",
       "      <td>2017-01-01 00:00:00</td>\n",
       "      <td>2017-01-01 00:02:00</td>\n",
       "      <td>36</td>\n",
       "      <td>37</td>\n",
       "      <td>0.50</td>\n",
       "      <td>1</td>\n",
       "      <td>5.30</td>\n",
       "      <td>00:02:00</td>\n",
       "      <td>15.0</td>\n",
       "      <td>120</td>\n",
       "    </tr>\n",
       "    <tr>\n",
       "      <th>4</th>\n",
       "      <td>25754903</td>\n",
       "      <td>2017-01-01 00:00:00</td>\n",
       "      <td>2017-01-01 00:03:00</td>\n",
       "      <td>48</td>\n",
       "      <td>48</td>\n",
       "      <td>0.50</td>\n",
       "      <td>1</td>\n",
       "      <td>5.30</td>\n",
       "      <td>00:03:00</td>\n",
       "      <td>10.0</td>\n",
       "      <td>180</td>\n",
       "    </tr>\n",
       "    <tr>\n",
       "      <th>38</th>\n",
       "      <td>25754938</td>\n",
       "      <td>2017-01-01 00:00:00</td>\n",
       "      <td>2017-01-01 00:03:00</td>\n",
       "      <td>161</td>\n",
       "      <td>161</td>\n",
       "      <td>0.24</td>\n",
       "      <td>1</td>\n",
       "      <td>6.36</td>\n",
       "      <td>00:03:00</td>\n",
       "      <td>4.8</td>\n",
       "      <td>180</td>\n",
       "    </tr>\n",
       "    <tr>\n",
       "      <th>39</th>\n",
       "      <td>25754939</td>\n",
       "      <td>2017-01-01 00:00:00</td>\n",
       "      <td>2017-01-01 00:03:00</td>\n",
       "      <td>50</td>\n",
       "      <td>246</td>\n",
       "      <td>0.92</td>\n",
       "      <td>1</td>\n",
       "      <td>7.25</td>\n",
       "      <td>00:03:00</td>\n",
       "      <td>18.4</td>\n",
       "      <td>180</td>\n",
       "    </tr>\n",
       "    <tr>\n",
       "      <th>43</th>\n",
       "      <td>25754943</td>\n",
       "      <td>2017-01-01 00:00:00</td>\n",
       "      <td>2017-01-01 00:03:00</td>\n",
       "      <td>74</td>\n",
       "      <td>75</td>\n",
       "      <td>0.56</td>\n",
       "      <td>3</td>\n",
       "      <td>5.80</td>\n",
       "      <td>00:03:00</td>\n",
       "      <td>11.2</td>\n",
       "      <td>180</td>\n",
       "    </tr>\n",
       "    <tr>\n",
       "      <th>49</th>\n",
       "      <td>25754949</td>\n",
       "      <td>2017-01-01 00:00:00</td>\n",
       "      <td>2017-01-01 00:03:00</td>\n",
       "      <td>236</td>\n",
       "      <td>236</td>\n",
       "      <td>0.90</td>\n",
       "      <td>4</td>\n",
       "      <td>6.30</td>\n",
       "      <td>00:03:00</td>\n",
       "      <td>18.0</td>\n",
       "      <td>180</td>\n",
       "    </tr>\n",
       "    <tr>\n",
       "      <th>70</th>\n",
       "      <td>25754971</td>\n",
       "      <td>2017-01-01 00:00:00</td>\n",
       "      <td>2017-01-01 00:03:00</td>\n",
       "      <td>137</td>\n",
       "      <td>137</td>\n",
       "      <td>2.20</td>\n",
       "      <td>1</td>\n",
       "      <td>4.80</td>\n",
       "      <td>00:03:00</td>\n",
       "      <td>44.0</td>\n",
       "      <td>180</td>\n",
       "    </tr>\n",
       "  </tbody>\n",
       "</table>\n",
       "</div>"
      ],
      "text/plain": [
       "      tripid tpep_pickup_datetime tpep_dropoff_datetime  pulocationid  \\\n",
       "23  25754922  2017-01-01 00:00:00   2017-01-01 00:01:00           143   \n",
       "37  25754937  2017-01-01 00:00:00   2017-01-01 00:01:00           243   \n",
       "68  25754969  2017-01-01 00:00:00   2017-01-01 00:01:00           239   \n",
       "19  25754918  2017-01-01 00:00:00   2017-01-01 00:02:00            36   \n",
       "4   25754903  2017-01-01 00:00:00   2017-01-01 00:03:00            48   \n",
       "38  25754938  2017-01-01 00:00:00   2017-01-01 00:03:00           161   \n",
       "39  25754939  2017-01-01 00:00:00   2017-01-01 00:03:00            50   \n",
       "43  25754943  2017-01-01 00:00:00   2017-01-01 00:03:00            74   \n",
       "49  25754949  2017-01-01 00:00:00   2017-01-01 00:03:00           236   \n",
       "70  25754971  2017-01-01 00:00:00   2017-01-01 00:03:00           137   \n",
       "\n",
       "    dolocationid  trip_distance  passenger_count  total_amount trip_time  \\\n",
       "23           143           0.20                2          4.30  00:01:00   \n",
       "37           243           0.10                1          4.30  00:01:00   \n",
       "68           238           0.41                2          5.52  00:01:00   \n",
       "19            37           0.50                1          5.30  00:02:00   \n",
       "4             48           0.50                1          5.30  00:03:00   \n",
       "38           161           0.24                1          6.36  00:03:00   \n",
       "39           246           0.92                1          7.25  00:03:00   \n",
       "43            75           0.56                3          5.80  00:03:00   \n",
       "49           236           0.90                4          6.30  00:03:00   \n",
       "70           137           2.20                1          4.80  00:03:00   \n",
       "\n",
       "    trip_avg_speed  trip_time_sec  \n",
       "23            12.0             60  \n",
       "37             6.0             60  \n",
       "68            24.6             60  \n",
       "19            15.0            120  \n",
       "4             10.0            180  \n",
       "38             4.8            180  \n",
       "39            18.4            180  \n",
       "43            11.2            180  \n",
       "49            18.0            180  \n",
       "70            44.0            180  "
      ]
     },
     "execution_count": 7,
     "metadata": {},
     "output_type": "execute_result"
    }
   ],
   "source": [
    " # pick first 10 rows\n",
    "table.sort_values(by=['tpep_pickup_datetime', 'tpep_dropoff_datetime']).head(10)"
   ]
  },
  {
   "cell_type": "markdown",
   "metadata": {},
   "source": [
    "We can see from above that the taxi trips are nicely sorted according to **time**. What we need to do is convert this tabular date into graphs that described by **adjacency matrice**.\n",
    "\n",
    "First, let's see what are `pulocationid` and `dolocationid`:\n",
    "\n",
    "<img src=\"images/map.jpg\" align=\"center\" width=\"60%\">"
   ]
  },
  {
   "cell_type": "markdown",
   "metadata": {},
   "source": [
    "They are code number for a district in Manhattan, New York. We will mainly describe the traffic state and prediction at **this** level."
   ]
  },
  {
   "cell_type": "markdown",
   "metadata": {},
   "source": [
    "### 3. Time slicing\n",
    "\n",
    "Now we've done a very superficial exploration of the data. It's time to convert the tabular data to graphs that are to be fed into our neural network model.\n",
    "\n",
    "The first problem is, **how to decide a feasible time interval?**\n",
    "\n",
    "Of course, the time interval should be a varaible that is to be selected **per need. However,** it is a reasonable thinking to let a time interval (i.e. a **snapshot**) to contain as many as **complete trip** as possible. See the diagram below:\n",
    "\n",
    "<img src=\"images/snapshot.png\" align=\"center\" width=\"70%\">"
   ]
  },
  {
   "cell_type": "markdown",
   "metadata": {},
   "source": [
    "#### **If the time interval is too small**:\n",
    "\n",
    "The majority of the matrices will be very sparse or even completely blank.\n",
    "\n",
    "#### If the time interval is too big:\n",
    "\n",
    "Then information about trips will be densely squeezed into one matrix and a lot of details on changes along time will be lost.\n",
    "\n",
    "Thus, it is important to choose time interval wisely. Let's look at the data again:"
   ]
  },
  {
   "cell_type": "code",
   "execution_count": 8,
   "metadata": {},
   "outputs": [
    {
     "data": {
      "text/html": [
       "<div>\n",
       "<style scoped>\n",
       "    .dataframe tbody tr th:only-of-type {\n",
       "        vertical-align: middle;\n",
       "    }\n",
       "\n",
       "    .dataframe tbody tr th {\n",
       "        vertical-align: top;\n",
       "    }\n",
       "\n",
       "    .dataframe thead th {\n",
       "        text-align: right;\n",
       "    }\n",
       "</style>\n",
       "<table border=\"1\" class=\"dataframe\">\n",
       "  <thead>\n",
       "    <tr style=\"text-align: right;\">\n",
       "      <th></th>\n",
       "      <th>trip_distance</th>\n",
       "      <th>trip_time_sec</th>\n",
       "      <th>trip_avg_speed</th>\n",
       "    </tr>\n",
       "  </thead>\n",
       "  <tbody>\n",
       "    <tr>\n",
       "      <th>count</th>\n",
       "      <td>1.040001e+06</td>\n",
       "      <td>1.040001e+06</td>\n",
       "      <td>1.040001e+06</td>\n",
       "    </tr>\n",
       "    <tr>\n",
       "      <th>mean</th>\n",
       "      <td>3.033442e+00</td>\n",
       "      <td>9.029197e+02</td>\n",
       "      <td>1.294343e+01</td>\n",
       "    </tr>\n",
       "    <tr>\n",
       "      <th>std</th>\n",
       "      <td>3.800200e+00</td>\n",
       "      <td>3.373064e+03</td>\n",
       "      <td>1.041047e+01</td>\n",
       "    </tr>\n",
       "    <tr>\n",
       "      <th>min</th>\n",
       "      <td>1.000000e-02</td>\n",
       "      <td>6.000000e+01</td>\n",
       "      <td>4.341534e-04</td>\n",
       "    </tr>\n",
       "    <tr>\n",
       "      <th>25%</th>\n",
       "      <td>1.000000e+00</td>\n",
       "      <td>3.600000e+02</td>\n",
       "      <td>8.400000e+00</td>\n",
       "    </tr>\n",
       "    <tr>\n",
       "      <th>50%</th>\n",
       "      <td>1.700000e+00</td>\n",
       "      <td>6.000000e+02</td>\n",
       "      <td>1.133333e+01</td>\n",
       "    </tr>\n",
       "    <tr>\n",
       "      <th>75%</th>\n",
       "      <td>3.200000e+00</td>\n",
       "      <td>9.600000e+02</td>\n",
       "      <td>1.530000e+01</td>\n",
       "    </tr>\n",
       "    <tr>\n",
       "      <th>max</th>\n",
       "      <td>1.517000e+02</td>\n",
       "      <td>8.640000e+04</td>\n",
       "      <td>1.914000e+03</td>\n",
       "    </tr>\n",
       "  </tbody>\n",
       "</table>\n",
       "</div>"
      ],
      "text/plain": [
       "       trip_distance  trip_time_sec  trip_avg_speed\n",
       "count   1.040001e+06   1.040001e+06    1.040001e+06\n",
       "mean    3.033442e+00   9.029197e+02    1.294343e+01\n",
       "std     3.800200e+00   3.373064e+03    1.041047e+01\n",
       "min     1.000000e-02   6.000000e+01    4.341534e-04\n",
       "25%     1.000000e+00   3.600000e+02    8.400000e+00\n",
       "50%     1.700000e+00   6.000000e+02    1.133333e+01\n",
       "75%     3.200000e+00   9.600000e+02    1.530000e+01\n",
       "max     1.517000e+02   8.640000e+04    1.914000e+03"
      ]
     },
     "execution_count": 8,
     "metadata": {},
     "output_type": "execute_result"
    }
   ],
   "source": [
    "table.loc[:,['trip_distance', 'trip_time_sec', 'trip_avg_speed']].describe()"
   ]
  },
  {
   "cell_type": "markdown",
   "metadata": {},
   "source": [
    "The an average trip lasts for roughly 900 seconds, which is **15 minutes**.\n",
    "\n",
    "The median(i.e. 50% percentile) is roughly 600 seconds, which is **10 minutes**.\n",
    "\n",
    "Let's plot the distribution of column `trip_time_sec` to have a better intuition:"
   ]
  },
  {
   "cell_type": "code",
   "execution_count": 9,
   "metadata": {},
   "outputs": [
    {
     "data": {
      "image/png": "[encoded data removed]",
      "text/plain": [
       "<Figure size 432x288 with 1 Axes>"
      ]
     },
     "metadata": {
      "image/png": {
       "height": 269,
       "width": 395
      }
     },
     "output_type": "display_data"
    }
   ],
   "source": [
    "warnings.simplefilter('ignore')\n",
    "sns.set(color_codes=True)\n",
    "sns.distplot(table.loc[:,'trip_time_sec']);"
   ]
  },
  {
   "cell_type": "markdown",
   "metadata": {},
   "source": [
    "It seems that the trips are mostly concentrated in a shorter time range, while some outliers may significantly biased the average.\n",
    "\n",
    "Let's see how how many trips are longer than 30 minutes (1800 secs):"
   ]
  },
  {
   "cell_type": "code",
   "execution_count": 10,
   "metadata": {},
   "outputs": [
    {
     "data": {
      "text/plain": [
       "0.05949609663836862"
      ]
     },
     "execution_count": 10,
     "metadata": {},
     "output_type": "execute_result"
    }
   ],
   "source": [
    "# rows with column 'trip_time_sec' value larger than 1800 divided by total number of rows\n",
    "table.loc[table['trip_time_sec'] > 1800].shape[0] / 1040001"
   ]
  },
  {
   "cell_type": "markdown",
   "metadata": {},
   "source": [
    "There are **95%** of the trips last shorter than 30 minutes, let's plot distribution at this range:"
   ]
  },
  {
   "cell_type": "code",
   "execution_count": 11,
   "metadata": {
    "scrolled": true
   },
   "outputs": [
    {
     "data": {
      "image/png": "[encoded data removed]",
      "text/plain": [
       "<Figure size 432x288 with 1 Axes>"
      ]
     },
     "metadata": {
      "image/png": {
       "height": 269,
       "width": 401
      }
     },
     "output_type": "display_data"
    }
   ],
   "source": [
    "# distribution of 95% trip data in time duration\n",
    "temp = table.loc[table['trip_time_sec'] <= 1800]\n",
    "sns.distplot(temp.loc[:,'trip_time_sec']);"
   ]
  },
  {
   "cell_type": "code",
   "execution_count": 12,
   "metadata": {
    "scrolled": true
   },
   "outputs": [
    {
     "data": {
      "text/html": [
       "<div>\n",
       "<style scoped>\n",
       "    .dataframe tbody tr th:only-of-type {\n",
       "        vertical-align: middle;\n",
       "    }\n",
       "\n",
       "    .dataframe tbody tr th {\n",
       "        vertical-align: top;\n",
       "    }\n",
       "\n",
       "    .dataframe thead th {\n",
       "        text-align: right;\n",
       "    }\n",
       "</style>\n",
       "<table border=\"1\" class=\"dataframe\">\n",
       "  <thead>\n",
       "    <tr style=\"text-align: right;\">\n",
       "      <th></th>\n",
       "      <th>trip_distance</th>\n",
       "      <th>trip_time_sec</th>\n",
       "      <th>trip_avg_speed</th>\n",
       "    </tr>\n",
       "  </thead>\n",
       "  <tbody>\n",
       "    <tr>\n",
       "      <th>count</th>\n",
       "      <td>978125.000000</td>\n",
       "      <td>978125.000000</td>\n",
       "      <td>978125.000000</td>\n",
       "    </tr>\n",
       "    <tr>\n",
       "      <th>mean</th>\n",
       "      <td>2.427105</td>\n",
       "      <td>665.150323</td>\n",
       "      <td>12.596047</td>\n",
       "    </tr>\n",
       "    <tr>\n",
       "      <th>std</th>\n",
       "      <td>2.550543</td>\n",
       "      <td>396.610534</td>\n",
       "      <td>10.371618</td>\n",
       "    </tr>\n",
       "    <tr>\n",
       "      <th>min</th>\n",
       "      <td>0.010000</td>\n",
       "      <td>60.000000</td>\n",
       "      <td>0.024000</td>\n",
       "    </tr>\n",
       "    <tr>\n",
       "      <th>25%</th>\n",
       "      <td>1.000000</td>\n",
       "      <td>360.000000</td>\n",
       "      <td>8.400000</td>\n",
       "    </tr>\n",
       "    <tr>\n",
       "      <th>50%</th>\n",
       "      <td>1.600000</td>\n",
       "      <td>600.000000</td>\n",
       "      <td>11.142857</td>\n",
       "    </tr>\n",
       "    <tr>\n",
       "      <th>75%</th>\n",
       "      <td>2.800000</td>\n",
       "      <td>900.000000</td>\n",
       "      <td>14.880000</td>\n",
       "    </tr>\n",
       "    <tr>\n",
       "      <th>max</th>\n",
       "      <td>31.900000</td>\n",
       "      <td>1800.000000</td>\n",
       "      <td>1914.000000</td>\n",
       "    </tr>\n",
       "  </tbody>\n",
       "</table>\n",
       "</div>"
      ],
      "text/plain": [
       "       trip_distance  trip_time_sec  trip_avg_speed\n",
       "count  978125.000000  978125.000000   978125.000000\n",
       "mean        2.427105     665.150323       12.596047\n",
       "std         2.550543     396.610534       10.371618\n",
       "min         0.010000      60.000000        0.024000\n",
       "25%         1.000000     360.000000        8.400000\n",
       "50%         1.600000     600.000000       11.142857\n",
       "75%         2.800000     900.000000       14.880000\n",
       "max        31.900000    1800.000000     1914.000000"
      ]
     },
     "execution_count": 12,
     "metadata": {},
     "output_type": "execute_result"
    }
   ],
   "source": [
    "# statistics on the 95% data\n",
    "temp.loc[:,['trip_distance', 'trip_time_sec', 'trip_avg_speed']].describe()"
   ]
  },
  {
   "cell_type": "code",
   "execution_count": 13,
   "metadata": {},
   "outputs": [
    {
     "data": {
      "text/html": [
       "<div>\n",
       "<style scoped>\n",
       "    .dataframe tbody tr th:only-of-type {\n",
       "        vertical-align: middle;\n",
       "    }\n",
       "\n",
       "    .dataframe tbody tr th {\n",
       "        vertical-align: top;\n",
       "    }\n",
       "\n",
       "    .dataframe thead th {\n",
       "        text-align: right;\n",
       "    }\n",
       "</style>\n",
       "<table border=\"1\" class=\"dataframe\">\n",
       "  <thead>\n",
       "    <tr style=\"text-align: right;\">\n",
       "      <th></th>\n",
       "      <th>trip_time_sec</th>\n",
       "    </tr>\n",
       "  </thead>\n",
       "  <tbody>\n",
       "    <tr>\n",
       "      <th>1800</th>\n",
       "      <td>6205</td>\n",
       "    </tr>\n",
       "    <tr>\n",
       "      <th>1740</th>\n",
       "      <td>6987</td>\n",
       "    </tr>\n",
       "    <tr>\n",
       "      <th>1680</th>\n",
       "      <td>7855</td>\n",
       "    </tr>\n",
       "    <tr>\n",
       "      <th>60</th>\n",
       "      <td>8456</td>\n",
       "    </tr>\n",
       "    <tr>\n",
       "      <th>1620</th>\n",
       "      <td>8530</td>\n",
       "    </tr>\n",
       "    <tr>\n",
       "      <th>1560</th>\n",
       "      <td>9536</td>\n",
       "    </tr>\n",
       "    <tr>\n",
       "      <th>1500</th>\n",
       "      <td>10683</td>\n",
       "    </tr>\n",
       "    <tr>\n",
       "      <th>1440</th>\n",
       "      <td>11952</td>\n",
       "    </tr>\n",
       "    <tr>\n",
       "      <th>1380</th>\n",
       "      <td>13315</td>\n",
       "    </tr>\n",
       "    <tr>\n",
       "      <th>1320</th>\n",
       "      <td>14691</td>\n",
       "    </tr>\n",
       "    <tr>\n",
       "      <th>1260</th>\n",
       "      <td>16640</td>\n",
       "    </tr>\n",
       "    <tr>\n",
       "      <th>1200</th>\n",
       "      <td>18963</td>\n",
       "    </tr>\n",
       "    <tr>\n",
       "      <th>1140</th>\n",
       "      <td>21257</td>\n",
       "    </tr>\n",
       "    <tr>\n",
       "      <th>1080</th>\n",
       "      <td>23772</td>\n",
       "    </tr>\n",
       "    <tr>\n",
       "      <th>120</th>\n",
       "      <td>25995</td>\n",
       "    </tr>\n",
       "    <tr>\n",
       "      <th>1020</th>\n",
       "      <td>26913</td>\n",
       "    </tr>\n",
       "    <tr>\n",
       "      <th>960</th>\n",
       "      <td>29735</td>\n",
       "    </tr>\n",
       "    <tr>\n",
       "      <th>900</th>\n",
       "      <td>33575</td>\n",
       "    </tr>\n",
       "    <tr>\n",
       "      <th>840</th>\n",
       "      <td>37748</td>\n",
       "    </tr>\n",
       "    <tr>\n",
       "      <th>780</th>\n",
       "      <td>41847</td>\n",
       "    </tr>\n",
       "    <tr>\n",
       "      <th>720</th>\n",
       "      <td>46776</td>\n",
       "    </tr>\n",
       "    <tr>\n",
       "      <th>180</th>\n",
       "      <td>47126</td>\n",
       "    </tr>\n",
       "    <tr>\n",
       "      <th>660</th>\n",
       "      <td>52232</td>\n",
       "    </tr>\n",
       "    <tr>\n",
       "      <th>600</th>\n",
       "      <td>56824</td>\n",
       "    </tr>\n",
       "    <tr>\n",
       "      <th>540</th>\n",
       "      <td>61762</td>\n",
       "    </tr>\n",
       "    <tr>\n",
       "      <th>240</th>\n",
       "      <td>62183</td>\n",
       "    </tr>\n",
       "    <tr>\n",
       "      <th>480</th>\n",
       "      <td>66475</td>\n",
       "    </tr>\n",
       "    <tr>\n",
       "      <th>300</th>\n",
       "      <td>69502</td>\n",
       "    </tr>\n",
       "    <tr>\n",
       "      <th>420</th>\n",
       "      <td>69771</td>\n",
       "    </tr>\n",
       "    <tr>\n",
       "      <th>360</th>\n",
       "      <td>70819</td>\n",
       "    </tr>\n",
       "  </tbody>\n",
       "</table>\n",
       "</div>"
      ],
      "text/plain": [
       "      trip_time_sec\n",
       "1800           6205\n",
       "1740           6987\n",
       "1680           7855\n",
       "60             8456\n",
       "1620           8530\n",
       "1560           9536\n",
       "1500          10683\n",
       "1440          11952\n",
       "1380          13315\n",
       "1320          14691\n",
       "1260          16640\n",
       "1200          18963\n",
       "1140          21257\n",
       "1080          23772\n",
       "120           25995\n",
       "1020          26913\n",
       "960           29735\n",
       "900           33575\n",
       "840           37748\n",
       "780           41847\n",
       "720           46776\n",
       "180           47126\n",
       "660           52232\n",
       "600           56824\n",
       "540           61762\n",
       "240           62183\n",
       "480           66475\n",
       "300           69502\n",
       "420           69771\n",
       "360           70819"
      ]
     },
     "execution_count": 13,
     "metadata": {},
     "output_type": "execute_result"
    }
   ],
   "source": [
    "# value and their appearance\n",
    "pd.DataFrame(temp.loc[:,'trip_time_sec'].value_counts().sort_values())"
   ]
  },
  {
   "cell_type": "markdown",
   "metadata": {},
   "source": [
    "More than 50% of the trips have trip time between 6 to 15 minutes, with a median of 10 minutes.\n",
    "\n",
    "#### As a result, we primarily decide to use 10 minutes as time interval."
   ]
  },
  {
   "cell_type": "markdown",
   "metadata": {},
   "source": [
    "### 4. From tabular data to graph"
   ]
  },
  {
   "cell_type": "markdown",
   "metadata": {},
   "source": [
    "Since we have decided a time interval, it's time to generate matrices. Basically, the idea is shown as figure below:\n",
    "\n",
    "<img src=\"images/matrices.png\" align=\"left\" width=\"85%\">"
   ]
  },
  {
   "cell_type": "markdown",
   "metadata": {},
   "source": [
    "Apart from **outgoin** and **incoming** matrices shown above, an additional **Domestic** matrix is add because 50% of trips last less than the **chosen interval 10 minutes**. Such matrices can be combined into a **Tensor** illustrated as follows:\n",
    "\n",
    "<img src=\"images/layers.png\" align=\"center\" width=\"35%\">"
   ]
  },
  {
   "cell_type": "markdown",
   "metadata": {},
   "source": [
    "#### STRICT DEFINITION OF OID layers\n",
    "\n",
    "+ **O**utgoing layer\n",
    "    Condition: \n",
    "    1. subtable sorted by tpep_**pickup**_datetime\n",
    "    2. left bound of interval  <= tpep_pickup_datetime  < right bound of interval\n",
    "    3. right bound of interval <= tpep_dropoff_datetime\n",
    "\n",
    "\n",
    "+ **I**ncoming layer\n",
    "    Condition: \n",
    "    1. subtable sorted by tpep_**dropoff**_datetime\n",
    "    2. left bound of interval  <= tpep_dropoff_datetime  < right bound of interval\n",
    "    3. tpep_pickup_datetime < left bound of interval\n",
    "\n",
    "\n",
    "+ **D**omestic layer\n",
    "    Condition: \n",
    "    1. subtable sorted by either tpep\\_**pickup**\\_datetime or tpep\\_**dropoff**\\_datetime, but only count **once*.\n",
    "    2. left bound of interval  <= tpep_pickup_datetime < tpep_dropoff_datetime  < right bound of interval\n",
    "\n",
    "### Notice: The OID layers are redefined and renamed to FPN layers."
   ]
  },
  {
   "cell_type": "markdown",
   "metadata": {},
   "source": [
    "#### Extract relevant columns:\n",
    "\n",
    "To generate tensor defined above, **four** key columns are needed.They are `tpep_pickup_datetime`, `tpep_dropoff_datetime`, `pulocationid` and `dolocationid`.\n",
    "\n",
    "We first extract them from original table:"
   ]
  },
  {
   "cell_type": "code",
   "execution_count": null,
   "metadata": {},
   "outputs": [],
   "source": [
    "# draw four needed columns and a id column, then sort according to time.\n",
    "# the `tripid` column is for the sake of naming.\n",
    "tensor_gen_f = table.loc[:,['tripid',\n",
    "                          'tpep_pickup_datetime',\n",
    "                          'tpep_dropoff_datetime',\n",
    "                          'pulocationid', 'dolocationid']\n",
    "                      ].sort_values(by=['tpep_pickup_datetime', 'tpep_dropoff_datetime']) # the first sort condition rules\n",
    "tensor_gen_f.head()"
   ]
  },
  {
   "cell_type": "markdown",
   "metadata": {},
   "source": [
    "#### Slice the table to sub-tables according to time interval (10 min)\n",
    "\n",
    "Since the columns are extracted, now it's time to generate tensors.\n",
    "\n",
    "The dataset is trip data of all yellow taxi cabs in Manhattan area in **January**, 2017.As we are making 10-minute-splices, there will be total:\n",
    "\n",
    "$$\n",
    "6 \\times 24 \\times 31 = 4464 \\space slices(i.e. \\space snapshots)\n",
    "$$\n",
    "\n",
    "Each slice has 3 layers, that is in total\n",
    "\n",
    "$$\n",
    "4464 \\times 3 = 13392 \\space matrices\n",
    "$$\n",
    "to be generated. \n",
    "\n",
    "First, let's try to generate one image (i.e. a *tensor* with **3** layers).\n",
    "\n",
    "The time columns need to be converted to pandas timestamp type in order to compare:"
   ]
  },
  {
   "cell_type": "code",
   "execution_count": null,
   "metadata": {},
   "outputs": [],
   "source": [
    "# current type is python str\n",
    "type(tensor_gen_f.iloc[0,1])"
   ]
  },
  {
   "cell_type": "code",
   "execution_count": null,
   "metadata": {},
   "outputs": [],
   "source": [
    "# convert to timestamp\n",
    "pd.to_datetime(tensor_gen_f.iloc[0,1])"
   ]
  },
  {
   "cell_type": "code",
   "execution_count": null,
   "metadata": {},
   "outputs": [],
   "source": [
    "t1 = pd.to_datetime(tensor_gen_f.iloc[0,1]) # 2017-01-01 00:00:00\n",
    "t2 = pd.to_datetime(tensor_gen_f.iloc[0,2]) # 2017-01-01 00:01:00\n",
    "t1 < t2 # test if can compare time"
   ]
  },
  {
   "cell_type": "code",
   "execution_count": null,
   "metadata": {},
   "outputs": [],
   "source": [
    "# apply type cast to all values:\n",
    "tensor_gen_f['tpep_pickup_datetime'] = pd.to_datetime(tensor_gen_f['tpep_pickup_datetime'])\n",
    "tensor_gen_f['tpep_dropoff_datetime'] = pd.to_datetime(tensor_gen_f['tpep_dropoff_datetime'])\n",
    "\n",
    "tensor_gen_f.dtypes"
   ]
  },
  {
   "cell_type": "code",
   "execution_count": null,
   "metadata": {},
   "outputs": [],
   "source": [
    "tensor_gen_f.head()"
   ]
  },
  {
   "cell_type": "markdown",
   "metadata": {},
   "source": [
    "The interval **boundaries** are fixed when interval is set."
   ]
  },
  {
   "cell_type": "code",
   "execution_count": null,
   "metadata": {},
   "outputs": [],
   "source": [
    "# create intervals\n",
    "intervals = pd.date_range('2017-01-01 00:00:00', '2017-02-01 00:00:00', freq='10min')\n",
    "\n",
    "intervals"
   ]
  },
  {
   "cell_type": "code",
   "execution_count": null,
   "metadata": {},
   "outputs": [],
   "source": [
    "type(intervals)"
   ]
  },
  {
   "cell_type": "markdown",
   "metadata": {},
   "source": [
    "**Notice**: When splicing time interval int such manner, we are assuming the **entire** month is monitored. Under this setting, we do not consider another day is a 'fresh start'.\n",
    "\n"
   ]
  },
  {
   "cell_type": "code",
   "execution_count": null,
   "metadata": {},
   "outputs": [],
   "source": [
    "intervals[1]"
   ]
  },
  {
   "cell_type": "code",
   "execution_count": null,
   "metadata": {},
   "outputs": [],
   "source": [
    "# First subtb:\n",
    "first = tensor_gen_f.loc[tensor_gen_f['tpep_pickup_datetime'] < intervals[1]]\n",
    "print(f'shape is: {first.shape}')\n",
    "first.head()"
   ]
  },
  {
   "cell_type": "code",
   "execution_count": null,
   "metadata": {},
   "outputs": [],
   "source": [
    "# sort to have a clearer look:\n",
    "first.sort_values(by=['pulocationid', 'dolocationid']).head(20)"
   ]
  },
  {
   "cell_type": "markdown",
   "metadata": {},
   "source": [
    "The `first` will generate Outgoing, Incoming and Domestic layers, that is, 3 matrices of size: \n",
    "\n",
    "$$\n",
    "(number \\space of\\space zones)\\space \\times \\space (number\\space of\\space zones)\n",
    "$$\n",
    "\n",
    "Let's see the zone numbers:"
   ]
  },
  {
   "cell_type": "code",
   "execution_count": null,
   "metadata": {},
   "outputs": [],
   "source": [
    "# Load zone lookup table\n",
    "zones = pd.read_csv('dataset/taxi_zone_lookup.csv')\n",
    "print(f'shape is: {zones.shape}')\n",
    "zones"
   ]
  },
  {
   "cell_type": "markdown",
   "metadata": {},
   "source": [
    "Total 265 zones, indexing from 0 to 264.\n",
    "\n",
    "Among which, we only care about `Yellow Zone` or `Manhattan` area:"
   ]
  },
  {
   "cell_type": "code",
   "execution_count": null,
   "metadata": {},
   "outputs": [],
   "source": [
    "y_zone = zones.loc[zones['Borough'] == 'Manhattan']\n",
    "print(y_zone.shape)\n",
    "img_size = y_zone.shape[0]\n",
    "y_zone"
   ]
  },
  {
   "cell_type": "markdown",
   "metadata": {},
   "source": [
    "Thus, the layers should be matrices of size (69, 69), and each timeslice(snapshot) should be tensors of size (69, 69, 3).\n",
    "\n",
    "Create the first tensor:"
   ]
  },
  {
   "cell_type": "code",
   "execution_count": null,
   "metadata": {},
   "outputs": [],
   "source": [
    "left = 72\n",
    "right = 73\n",
    "\n",
    "# convert dtype for entire table here:\n",
    "table['tpep_pickup_datetime'] = pd.to_datetime(table['tpep_pickup_datetime'])\n",
    "table['tpep_dropoff_datetime'] = pd.to_datetime(table['tpep_dropoff_datetime'])\n",
    "\n",
    "sorted_table = table.loc[:,['tripid',\n",
    "                          'tpep_pickup_datetime',\n",
    "                          'tpep_dropoff_datetime',\n",
    "                          'pulocationid', 'dolocationid']\n",
    "                        ].sort_values(by=['tpep_pickup_datetime', 'tpep_dropoff_datetime'])\n",
    "\n",
    "# The condition of making snapshot should be: at least one temporal end of a trip should be within the bounds:\n",
    "snap = sorted_table.loc[((sorted_table['tpep_pickup_datetime'] >= intervals[left]) &\n",
    "                        (sorted_table['tpep_pickup_datetime'] < intervals[right])) |\n",
    "                        ((sorted_table['tpep_dropoff_datetime'] >= intervals[left]) &\n",
    "                        (sorted_table['tpep_dropoff_datetime'] < intervals[right]))\n",
    "                        ]\n",
    "print(f'sorted_table.shape -> {sorted_table.shape}')\n",
    "print(f'snap.shape -> {snap.shape}')\n",
    "\n",
    "# temp table to generate F,P,N layers\n",
    "# No need to sort\n",
    "temp_snap = snap.loc[:,['tripid',\n",
    "                          'tpep_pickup_datetime',\n",
    "                          'tpep_dropoff_datetime',\n",
    "                          'pulocationid', 'dolocationid']\n",
    "                    ].sort_values(by=['tpep_pickup_datetime', 'tpep_dropoff_datetime'])\n",
    "\n",
    "# Their shape should be the same\n",
    "assert tensor_gen_f.shape == tensor_gen_p.shape == tensor_gen_n.shape\n",
    "\n",
    "# Check the condition of three layers above, if forgotten.\n",
    "# Use the interval to 'catch' trips.\n",
    "f_flayer = tensor_gen_f.loc[(temp_snap['tpep_pickup_datetime'] < intervals[right]) &\n",
    "                            (temp_snap['tpep_pickup_datetime'] >= intervals[left]) &\n",
    "                            (temp_snap['tpep_dropoff_datetime'] >= intervals[right])\n",
    "                           ]\n",
    "\n",
    "f_player = tensor_gen_p.loc[(temp_snap['tpep_pickup_datetime'] < intervals[left]) &\n",
    "                            (temp_snap['tpep_dropoff_datetime'] >= intervals[left]) &\n",
    "                            (temp_snap['tpep_dropoff_datetime'] < intervals[right])\n",
    "                           ]\n",
    "\n",
    "f_nlayer = tensor_gen_n.loc[(temp_snap['tpep_pickup_datetime'] >= intervals[left]) &\n",
    "                            (temp_snap['tpep_dropoff_datetime'] < intervals[right])\n",
    "                           ]\n",
    "\n",
    "print(f'f_flayer.shape: {f_flayer.shape}')\n",
    "print(f'f_player.shape: {f_player.shape}') # There will be no incoming trips for the first snapshot.\n",
    "print(f'f_nlayer.shape: {f_nlayer.shape}')"
   ]
  },
  {
   "cell_type": "markdown",
   "metadata": {},
   "source": [
    "### Wrap the above procedure into a function for later use:"
   ]
  },
  {
   "cell_type": "code",
   "execution_count": null,
   "metadata": {},
   "outputs": [],
   "source": [
    "# TODO: finish this! 2018/12/17\n",
    "def gen_one_snapshot(table, intervals, bounds):\n",
    "    '''\n",
    "    '''\n",
    "    left = 72\n",
    "    right = 73\n",
    "\n",
    "    # convert dtype for entire table here:\n",
    "    table['tpep_pickup_datetime'] = pd.to_datetime(table['tpep_pickup_datetime'])\n",
    "    table['tpep_dropoff_datetime'] = pd.to_datetime(table['tpep_dropoff_datetime'])\n",
    "\n",
    "    sorted_table = table.loc[:,['tripid',\n",
    "                              'tpep_pickup_datetime',\n",
    "                              'tpep_dropoff_datetime',\n",
    "                              'pulocationid', 'dolocationid']\n",
    "                            ].sort_values(by=['tpep_pickup_datetime', 'tpep_dropoff_datetime'])\n",
    "\n",
    "    # The condition of making snapshot should be: at least one temporal end of a trip should be within the bounds:\n",
    "    snap = sorted_table.loc[((sorted_table['tpep_pickup_datetime'] >= intervals[left]) &\n",
    "                            (sorted_table['tpep_pickup_datetime'] < intervals[right])) |\n",
    "                            ((sorted_table['tpep_dropoff_datetime'] >= intervals[left]) &\n",
    "                            (sorted_table['tpep_dropoff_datetime'] < intervals[right]))\n",
    "                            ]\n",
    "    print(f'sorted_table.shape -> {sorted_table.shape}')\n",
    "    print(f'snap.shape -> {snap.shape}')\n",
    "\n",
    "    # temp table to generate F,P,N layers\n",
    "    # No need to sort\n",
    "    temp_snap = snap.loc[:,['tripid',\n",
    "                              'tpep_pickup_datetime',\n",
    "                              'tpep_dropoff_datetime',\n",
    "                              'pulocationid', 'dolocationid']\n",
    "                        ].sort_values(by=['tpep_pickup_datetime', 'tpep_dropoff_datetime'])\n",
    "\n",
    "    # Their shape should be the same\n",
    "    assert tensor_gen_f.shape == tensor_gen_p.shape == tensor_gen_n.shape\n",
    "\n",
    "    # Check the condition of three layers above, if forgotten.\n",
    "    # Use the interval to 'catch' trips.\n",
    "    f_flayer = tensor_gen_f.loc[(temp_snap['tpep_pickup_datetime'] < intervals[right]) &\n",
    "                                (temp_snap['tpep_pickup_datetime'] >= intervals[left]) &\n",
    "                                (temp_snap['tpep_dropoff_datetime'] >= intervals[right])\n",
    "                               ]\n",
    "\n",
    "    f_player = tensor_gen_p.loc[(temp_snap['tpep_pickup_datetime'] < intervals[left]) &\n",
    "                                (temp_snap['tpep_dropoff_datetime'] >= intervals[left]) &\n",
    "                                (temp_snap['tpep_dropoff_datetime'] < intervals[right])\n",
    "                               ]\n",
    "\n",
    "    f_nlayer = tensor_gen_n.loc[(temp_snap['tpep_pickup_datetime'] >= intervals[left]) &\n",
    "                                (temp_snap['tpep_dropoff_datetime'] < intervals[right])\n",
    "                               ]\n",
    "\n",
    "    print(f'f_flayer.shape: {f_flayer.shape}')\n",
    "    print(f'f_player.shape: {f_player.shape}') # There will be no incoming trips for the first snapshot.\n",
    "    print(f'f_nlayer.shape: {f_nlayer.shape}')"
   ]
  },
  {
   "cell_type": "markdown",
   "metadata": {},
   "source": [
    "Sanity check:"
   ]
  },
  {
   "cell_type": "code",
   "execution_count": null,
   "metadata": {},
   "outputs": [],
   "source": [
    "# Check if the trips add up:\n",
    "print(snap.shape)\n",
    "print(f_flayer.shape[0] + f_player.shape[0] + f_nlayer.shape[0])\n",
    "assert snap.shape[0] == f_flayer.shape[0] + f_player.shape[0] + f_nlayer.shape[0]\n",
    "f_flayer.head(20)"
   ]
  },
  {
   "cell_type": "markdown",
   "metadata": {},
   "source": [
    "Each pair of (pulocationid - 1, dolocationid - 1) indicates adding one to the snapshot:"
   ]
  },
  {
   "cell_type": "markdown",
   "metadata": {},
   "source": [
    "### 5. Generating Image"
   ]
  },
  {
   "cell_type": "markdown",
   "metadata": {},
   "source": [
    "Before generating image, we have to map the zone id to a range from 0 to 54:"
   ]
  },
  {
   "cell_type": "code",
   "execution_count": null,
   "metadata": {},
   "outputs": [],
   "source": [
    "real_id = list(map(str, list(y_zone.loc[:,'LocationID'])))\n",
    "conv_id = [i for i in range(img_size)]\n",
    "assert len(real_id) == len(conv_id)\n",
    "mp = dict(zip(real_id, conv_id))\n",
    "# the line below is a dirty fix, be causious in future!"
   ]
  },
  {
   "cell_type": "code",
   "execution_count": null,
   "metadata": {},
   "outputs": [],
   "source": [
    "# create a snapshot:\n",
    "first_snapshot = np.zeros([img_size, img_size, 3], dtype='float64')\n",
    "print(first_snapshot.shape)\n",
    "print(first_snapshot[1,2,1])\n",
    "\n",
    "left_zones = set()\n",
    "\n",
    "# future-Red: 0  \n",
    "for _, row in f_flayer.iterrows():\n",
    "    try:\n",
    "        first_snapshot[mp[str(row['pulocationid'])], mp[str(row['dolocationid'])], 0] += 1 # inplace increment 1 in numpy\n",
    "    except Exception as e:\n",
    "        left_zones.add(str(row['pulocationid']))\n",
    "        left_zones.add(str(row['dolocationid']))\n",
    "\n",
    "# past-Green: 1\n",
    "for _, row in f_player.iterrows():\n",
    "    try:\n",
    "        first_snapshot[mp[str(row['pulocationid'])], mp[str(row['dolocationid'])], 1] += 1\n",
    "    except Exception as e:\n",
    "        left_zones.add(str(row['pulocationid']))\n",
    "        left_zones.add(str(row['dolocationid']))\n",
    "\n",
    "# now-Blue: 2        \n",
    "for _, row in f_nlayer.iterrows():\n",
    "    try:\n",
    "        first_snapshot[mp[str(row['pulocationid'])], mp[str(row['dolocationid'])], 2] += 1\n",
    "    except Exception as e:\n",
    "        left_zones.add(str(row['pulocationid']))\n",
    "        left_zones.add(str(row['dolocationid']))\n",
    "\n",
    "print(f'left_zones: {left_zones}')\n",
    "print(f'left_zones length: {len(left_zones)}')\n",
    "\n",
    "print(f'O max -> {first_snapshot[:,:,0].max()}')\n",
    "print(f'I max -> {first_snapshot[:,:,1].max()}')\n",
    "print(f'D max -> {first_snapshot[:,:,2].max()}')\n",
    "\n",
    "# convert numpy array to a image:\n",
    "tb = pd.DataFrame(first_snapshot[:,:,0])\n",
    "\n",
    "\n",
    "first_snapshot *= 255//first_snapshot.max()"
   ]
  },
  {
   "cell_type": "code",
   "execution_count": null,
   "metadata": {},
   "outputs": [],
   "source": [
    "# Plot FPN layer values:\n",
    "temp_f = np.reshape(first_snapshot[:,:,0], (1,-1))\n",
    "temp_p = np.reshape(first_snapshot[:,:,1], (1,-1))\n",
    "temp_n = np.reshape(first_snapshot[:,:,2], (1,-1))"
   ]
  },
  {
   "cell_type": "code",
   "execution_count": null,
   "metadata": {},
   "outputs": [],
   "source": [
    "sns.distplot(temp_f, axlabel='Future(Red)', color='red');"
   ]
  },
  {
   "cell_type": "code",
   "execution_count": null,
   "metadata": {},
   "outputs": [],
   "source": [
    "sns.distplot(temp_p, axlabel='Past(Green)', color='green');"
   ]
  },
  {
   "cell_type": "code",
   "execution_count": null,
   "metadata": {},
   "outputs": [],
   "source": [
    "sns.distplot(temp_n, axlabel='Now(Blue)', color='blue');"
   ]
  },
  {
   "cell_type": "code",
   "execution_count": null,
   "metadata": {},
   "outputs": [],
   "source": [
    "first_snapshot = first_snapshot.astype('uint8')\n",
    "first_image = Image.fromarray(first_snapshot)"
   ]
  },
  {
   "cell_type": "code",
   "execution_count": null,
   "metadata": {},
   "outputs": [],
   "source": [
    "first_image.resize((690,690)) # multiply by factor of 100"
   ]
  },
  {
   "cell_type": "code",
   "execution_count": null,
   "metadata": {},
   "outputs": [],
   "source": [
    "# Function that gets a specific layer of snapshot.\n",
    "def get_channel(image, layer:str):\n",
    "    '''\n",
    "    Get a layer of the snapshot.\n",
    "    Params:\n",
    "        image: PIL image\n",
    "        channel: one of R-F,G-P,B-N\n",
    "    Return:\n",
    "        single channel image\n",
    "    '''\n",
    "    assert layer in ['P', 'N', 'F']\n",
    "    namedict = {'P': 'G', 'N': 'B', 'F': 'R'}\n",
    "    chandict = {'R':0, 'G':1, 'B':2}\n",
    "    template = np.array(image)\n",
    "    chan = np.zeros([*template.shape], dtype='uint8')\n",
    "    chan[:,:,chandict[namedict[layer]]] = image.getchannel(namedict[layer])\n",
    "    chan = Image.fromarray(chan)\n",
    "    return chan"
   ]
  },
  {
   "cell_type": "code",
   "execution_count": null,
   "metadata": {},
   "outputs": [],
   "source": [
    "# future layer\n",
    "# first_image.getchannel('R').resize((345,345))\n",
    "red = get_channel(first_image, 'F')\n",
    "red = red.resize((345,345))\n",
    "red_bright = first_image.getchannel('R').resize((345,345))\n",
    "\n",
    "display(red, red_bright)"
   ]
  },
  {
   "cell_type": "code",
   "execution_count": null,
   "metadata": {},
   "outputs": [],
   "source": [
    "# Past layer\n",
    "green = get_channel(first_image, 'P')\n",
    "green = green.resize((345,345))\n",
    "\n",
    "# Past layer (green) in brightness.\n",
    "green_bright = first_image.getchannel('G').resize((345,345))\n",
    "display(green, green_bright)"
   ]
  },
  {
   "cell_type": "code",
   "execution_count": null,
   "metadata": {},
   "outputs": [],
   "source": [
    "# Now layer\n",
    "# first_image.getchannel('B').resize((345,345))\n",
    "blue = get_channel(first_image, 'N')\n",
    "blue = blue.resize((345,345))\n",
    "\n",
    "# Now layer (blue) in brightness.\n",
    "blue_bright = first_image.getchannel('B').resize((345,345))\n",
    "\n",
    "display(blue, blue_bright)"
   ]
  },
  {
   "cell_type": "markdown",
   "metadata": {},
   "source": [
    "### Using the above procedure, all 4464 tensors can be generated.\n",
    "\n",
    "**Possible variations:**\n",
    "+ Weight the value with passenger number\n",
    "+ Design a method to achieve finer granularity to distinguish trips with much longer time (3X std.)"
   ]
  },
  {
   "cell_type": "markdown",
   "metadata": {},
   "source": [
    "### 6. Parallel Batch Image Generation"
   ]
  },
  {
   "cell_type": "markdown",
   "metadata": {},
   "source": [
    "Now let's define a batch processing function to generate tonsors like above according to time interval. For the sake of effitiency, parallel boost is used (i.e. dask). The **computation graphs** of the generator is as follows:\n",
    "\n",
    "<img src=\"images/flowgraph_imggen.png\" align=\"left\" width=\"70%\">"
   ]
  },
  {
   "cell_type": "markdown",
   "metadata": {},
   "source": [
    "#### Individual functions:"
   ]
  },
  {
   "cell_type": "markdown",
   "metadata": {},
   "source": [
    "Create a list of time bounds given the starting point and ending point of a time interval:"
   ]
  },
  {
   "cell_type": "code",
   "execution_count": null,
   "metadata": {},
   "outputs": [],
   "source": [
    "def timesplit(stp: str, etp: str, freq='10min'):\n",
    "    '''\n",
    "    Create a DatetimeIndx interval.\n",
    "    \n",
    "    Params:\n",
    "        stp: string, starting time point, first left bound\n",
    "        etp: string, ending time point, last right bound\n",
    "        freq: frequency, time interval unit of the splice operation\n",
    "    The stp and etp must of pattern \"yyyy-mm-dd hh:mm:ss\", otherwise exception will be raised.\n",
    "    \n",
    "    Return:\n",
    "        A list of time intervals tuples,each item is a tuple of two\n",
    "        interval(i.e., pandas.core.indexes.datetimes.DatetimeIndex object)\n",
    "        For example, a possible return could be [(2017-01-01 00:00:00, 2017-01-01 00:10:00),\n",
    "                                                 (2017-01-01 00:10:00, 2017-01-01 00:20:00)]\n",
    "    '''\n",
    "    pattern = re.compile('^([0-9]{4})-([0-1][0-9])-([0-3][0-9])\\s([0-1][0-9]|[2][0-3]):([0-5][0-9]):([0-5][0-9])$')\n",
    "    if pattern.match(stp) and pattern.match(etp):\n",
    "        time_bounds = pd.date_range(stp, etp, freq='10min')\n",
    "        sub_intervals = list(zip(time_bounds[:-1], time_bounds[1:]))\n",
    "        print(len(time_bounds), len(sub_intervals))\n",
    "        return sub_intervals\n",
    "    else:\n",
    "        raise Exception('Provided time bound is of invalid format.')\n",
    "        \n",
    "timelist = timesplit('2017-01-01 00:00:00', '2017-02-01 00:00:00')\n",
    "print(timelist[0])"
   ]
  },
  {
   "cell_type": "markdown",
   "metadata": {},
   "source": [
    "### The key is to use generated intervals to 'catch' trips."
   ]
  },
  {
   "cell_type": "code",
   "execution_count": null,
   "metadata": {},
   "outputs": [],
   "source": [
    "timelist = timesplit('2017-01-01 00:00:00', '2017-02-01 00:00:00')\n",
    "\n",
    "print(len(timelist))\n",
    "for interval in timelist:\n",
    "    pass"
   ]
  },
  {
   "cell_type": "code",
   "execution_count": null,
   "metadata": {},
   "outputs": [],
   "source": [
    "sum(list(map(len, ['2017-01-01 00:00:00', '2017-02-01 00:00:00'])))"
   ]
  },
  {
   "cell_type": "markdown",
   "metadata": {},
   "source": [
    "## Part 2: Modeling"
   ]
  },
  {
   "cell_type": "markdown",
   "metadata": {},
   "source": [
    "## Part 3: Prediction & per demand modification of states (to be done)"
   ]
  },
  {
   "cell_type": "code",
   "execution_count": null,
   "metadata": {},
   "outputs": [],
   "source": []
  }
 ],
 "metadata": {
  "kernelspec": {
   "display_name": "Python 3",
   "language": "python",
   "name": "python3"
  },
  "language_info": {
   "codemirror_mode": {
    "name": "ipython",
    "version": 3
   },
   "file_extension": ".py",
   "mimetype": "text/x-python",
   "name": "python",
   "nbconvert_exporter": "python",
   "pygments_lexer": "ipython3",
   "version": "3.7.1"
  }
 },
 "nbformat": 4,
 "nbformat_minor": 2
}
