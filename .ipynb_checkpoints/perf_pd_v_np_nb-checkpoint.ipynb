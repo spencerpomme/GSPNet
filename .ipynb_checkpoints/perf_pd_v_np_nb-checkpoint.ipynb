{
 "cells": [
  {
   "cell_type": "markdown",
   "metadata": {},
   "source": [
    "<img src=\"images/logo_city.png\" align=\"right\" width=\"20%\">"
   ]
  },
  {
   "cell_type": "markdown",
   "metadata": {},
   "source": [
    "# Comparing Performance of Pandas and Numpy + Numba\n",
    "\n",
    "In this tutorial, we will benchmark plain Pandas and Numba inhanced Numpy.\n",
    "\n",
    "First, import needed libraries:"
   ]
  },
  {
   "cell_type": "code",
   "execution_count": 1,
   "metadata": {
    "ExecuteTime": {
     "end_time": "2019-03-31T13:18:36.145379Z",
     "start_time": "2019-03-31T13:18:34.139746Z"
    }
   },
   "outputs": [],
   "source": [
    "import numpy as np\n",
    "import pandas as pd\n",
    "import numba\n",
    "\n",
    "from numba import jit"
   ]
  },
  {
   "cell_type": "markdown",
   "metadata": {},
   "source": [
    "### 1. The original slow function\n",
    "\n",
    "Our journey starts with a simple function that using pandas to do row selection:"
   ]
  },
  {
   "cell_type": "code",
   "execution_count": 9,
   "metadata": {
    "ExecuteTime": {
     "end_time": "2019-03-31T14:14:58.378133Z",
     "start_time": "2019-03-31T14:14:58.371153Z"
    }
   },
   "outputs": [],
   "source": [
    "def gen_snap_layers(table, bound):\n",
    "    '''\n",
    "    Generate Past layer, Now layer and Future layer for one snapshot.\n",
    "    Params:\n",
    "        table: pandas dataframe\n",
    "        bounds: time bound tuple, for example: (left_timestring, right_timestring)\n",
    "    Return:\n",
    "        PNF layers, a list.\n",
    "    '''\n",
    "    # left bound and right bound of time interval\n",
    "    assert type(bound) == tuple\n",
    "    left = bound[0]\n",
    "    right = bound[1]\n",
    "    \n",
    "    table = table.loc[:, ['tripid',\n",
    "                          'tpep_pickup_datetime',\n",
    "                          'tpep_dropoff_datetime',\n",
    "                          'pulocationid',\n",
    "                          'dolocationid']]\n",
    "\n",
    "    # The condition of making snapshot should be:\n",
    "    # AT LEAST ONE temporal end of a trip should be within the bounds:\n",
    "    snap = table.loc[\n",
    "        ((table['tpep_pickup_datetime'] >= left) &\n",
    "         (table['tpep_pickup_datetime'] < right)) |\n",
    "        ((table['tpep_dropoff_datetime'] >= left) &\n",
    "         (table['tpep_dropoff_datetime'] < right))]\n",
    "\n",
    "    # generate F,P,N layers\n",
    "    # Use the interval to 'catch' corresponding trips.\n",
    "    # future layer\n",
    "    f_layer = snap.loc[(snap['tpep_pickup_datetime'] < right) &\n",
    "                       (snap['tpep_pickup_datetime'] >= left) &\n",
    "                       (snap['tpep_dropoff_datetime'] >= right)]\n",
    "    # past layer\n",
    "    p_layer = snap.loc[(snap['tpep_pickup_datetime'] < left) &\n",
    "                       (snap['tpep_dropoff_datetime'] >= left) &\n",
    "                       (snap['tpep_dropoff_datetime'] < right)]\n",
    "    # now layer\n",
    "    n_layer = snap.loc[(snap['tpep_pickup_datetime'] >= left) &\n",
    "                       (snap['tpep_dropoff_datetime'] < right)]\n",
    "\n",
    "    # Their count should add up to total trips caught\n",
    "    assert snap.shape[0] == f_layer.shape[0] + p_layer.shape[0] + n_layer.shape[0]\n",
    "\n",
    "    return p_layer, n_layer, f_layer"
   ]
  },
  {
   "cell_type": "markdown",
   "metadata": {},
   "source": [
    "The above function is used process a .csv file for a certain purpose. For now, that purpose is irrelvant and we just need to understand this function somehow does some cumbersome data operation (which is computation intense).\n",
    "\n",
    "In order to use the function, let's load in a sample data:"
   ]
  },
  {
   "cell_type": "code",
   "execution_count": 2,
   "metadata": {
    "ExecuteTime": {
     "end_time": "2019-03-31T13:44:05.598526Z",
     "start_time": "2019-03-31T13:43:26.431048Z"
    }
   },
   "outputs": [],
   "source": [
    "file = 'dataset/nytaxi_yellow_2017_09.csv'\n",
    "# this load may take some time\n",
    "table = pd.read_csv(file)"
   ]
  },
  {
   "cell_type": "code",
   "execution_count": 3,
   "metadata": {
    "ExecuteTime": {
     "end_time": "2019-03-31T13:48:52.241064Z",
     "start_time": "2019-03-31T13:48:52.233086Z"
    }
   },
   "outputs": [
    {
     "data": {
      "text/plain": [
       "(8879929, 11)"
      ]
     },
     "execution_count": 3,
     "metadata": {},
     "output_type": "execute_result"
    }
   ],
   "source": [
    "# the table has 11 columns and MANY MANY rows\n",
    "table.shape"
   ]
  },
  {
   "cell_type": "markdown",
   "metadata": {},
   "source": [
    "To utilize the function, one more argument should be defined.\n",
    "\n",
    "Let's again, ignore what this argument indicates in a certain context, but rather focus on code itself:"
   ]
  },
  {
   "cell_type": "code",
   "execution_count": 5,
   "metadata": {
    "ExecuteTime": {
     "end_time": "2019-03-31T14:13:20.755852Z",
     "start_time": "2019-03-31T14:13:05.915542Z"
    }
   },
   "outputs": [],
   "source": [
    "bound = (pd.Timestamp('2017-09-18 12:00:00'), pd.Timestamp('2017-09-18 12:15:00'))\n",
    "\n",
    "# format two columns\n",
    "table['tpep_pickup_datetime'] = pd.to_datetime(table['tpep_pickup_datetime'])\n",
    "table['tpep_dropoff_datetime'] = pd.to_datetime(table['tpep_dropoff_datetime'])"
   ]
  },
  {
   "cell_type": "markdown",
   "metadata": {},
   "source": [
    "Preparations are all done now. Let time the function:"
   ]
  },
  {
   "cell_type": "code",
   "execution_count": 10,
   "metadata": {
    "ExecuteTime": {
     "end_time": "2019-03-31T14:15:08.851124Z",
     "start_time": "2019-03-31T14:15:02.933948Z"
    }
   },
   "outputs": [
    {
     "name": "stdout",
     "output_type": "stream",
     "text": [
      "758 ms ± 244 ms per loop (mean ± std. dev. of 7 runs, 1 loop each)\n"
     ]
    }
   ],
   "source": [
    "%timeit gen_snap_layers(table, bound)"
   ]
  },
  {
   "cell_type": "markdown",
   "metadata": {},
   "source": [
    "### 2. Rewrite Pandas code with Numpy"
   ]
  },
  {
   "cell_type": "markdown",
   "metadata": {},
   "source": [
    "Can we improve performance by rewrite the function using Numpy? Let's try!"
   ]
  },
  {
   "cell_type": "code",
   "execution_count": null,
   "metadata": {},
   "outputs": [],
   "source": [
    "def gen_snap_layers(table, bound):\n",
    "    '''\n",
    "    Generate Past layer, Now layer and Future layer for one snapshot.\n",
    "    Params:\n",
    "        table: pandas dataframe\n",
    "        bounds: time bound tuple, for example: (left_timestring, right_timestring)\n",
    "    Return:\n",
    "        PNF layers, a list.\n",
    "    '''\n",
    "    # left bound and right bound of time interval\n",
    "    assert type(bound) == tuple\n",
    "    left = bound[0]\n",
    "    right = bound[1]\n",
    "    \n",
    "    table = table.loc[:, ['tripid',\n",
    "                          'tpep_pickup_datetime',\n",
    "                          'tpep_dropoff_datetime',\n",
    "                          'pulocationid',\n",
    "                          'dolocationid']]\n",
    "\n",
    "    # The condition of making snapshot should be:\n",
    "    # AT LEAST ONE temporal end of a trip should be within the bounds:\n",
    "    snap = table.loc[\n",
    "        ((table['tpep_pickup_datetime'] >= left) &\n",
    "         (table['tpep_pickup_datetime'] < right)) |\n",
    "        ((table['tpep_dropoff_datetime'] >= left) &\n",
    "         (table['tpep_dropoff_datetime'] < right))]\n",
    "\n",
    "    # generate F,P,N layers\n",
    "    # Use the interval to 'catch' corresponding trips.\n",
    "    # future layer\n",
    "    f_layer = snap.loc[(snap['tpep_pickup_datetime'] < right) &\n",
    "                       (snap['tpep_pickup_datetime'] >= left) &\n",
    "                       (snap['tpep_dropoff_datetime'] >= right)]\n",
    "    # past layer\n",
    "    p_layer = snap.loc[(snap['tpep_pickup_datetime'] < left) &\n",
    "                       (snap['tpep_dropoff_datetime'] >= left) &\n",
    "                       (snap['tpep_dropoff_datetime'] < right)]\n",
    "    # now layer\n",
    "    n_layer = snap.loc[(snap['tpep_pickup_datetime'] >= left) &\n",
    "                       (snap['tpep_dropoff_datetime'] < right)]\n",
    "\n",
    "    # Their count should add up to total trips caught\n",
    "    assert snap.shape[0] == f_layer.shape[0] + p_layer.shape[0] + n_layer.shape[0]\n",
    "\n",
    "    return p_layer, n_layer, f_layer"
   ]
  },
  {
   "cell_type": "markdown",
   "metadata": {},
   "source": [
    "### 3. Enhance Numpy with Numba"
   ]
  },
  {
   "cell_type": "code",
   "execution_count": null,
   "metadata": {},
   "outputs": [],
   "source": []
  },
  {
   "cell_type": "markdown",
   "metadata": {},
   "source": [
    "### 4. Discussion"
   ]
  },
  {
   "cell_type": "code",
   "execution_count": null,
   "metadata": {},
   "outputs": [],
   "source": []
  }
 ],
 "metadata": {
  "kernelspec": {
   "display_name": "Python 3",
   "language": "python",
   "name": "python3"
  },
  "language_info": {
   "codemirror_mode": {
    "name": "ipython",
    "version": 3
   },
   "file_extension": ".py",
   "mimetype": "text/x-python",
   "name": "python",
   "nbconvert_exporter": "python",
   "pygments_lexer": "ipython3",
   "version": "3.7.1"
  }
 },
 "nbformat": 4,
 "nbformat_minor": 2
}
