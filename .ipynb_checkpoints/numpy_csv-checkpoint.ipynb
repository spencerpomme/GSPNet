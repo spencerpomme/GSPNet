{
 "cells": [
  {
   "cell_type": "markdown",
   "metadata": {},
   "source": [
    "# Numpy CSV minipulater"
   ]
  },
  {
   "cell_type": "code",
   "execution_count": 1,
   "metadata": {
    "ExecuteTime": {
     "end_time": "2019-04-09T03:38:11.349281Z",
     "start_time": "2019-04-09T03:38:10.806706Z"
    }
   },
   "outputs": [],
   "source": [
    "import pandas as pd\n",
    "import glob"
   ]
  },
  {
   "cell_type": "code",
   "execution_count": 2,
   "metadata": {
    "ExecuteTime": {
     "end_time": "2019-04-09T03:38:13.226038Z",
     "start_time": "2019-04-09T03:38:13.222074Z"
    }
   },
   "outputs": [],
   "source": [
    "pattern = 'F:\\\\NY_taxi\\\\2018\\\\*.csv'\n",
    "dirs = glob.glob(pattern)"
   ]
  },
  {
   "cell_type": "code",
   "execution_count": 4,
   "metadata": {
    "ExecuteTime": {
     "end_time": "2019-04-09T03:50:23.030583Z",
     "start_time": "2019-04-09T03:38:24.259551Z"
    }
   },
   "outputs": [
    {
     "name": "stdout",
     "output_type": "stream",
     "text": [
      "F:\\NY_taxi\\2018\\yellow_tripdata_2018-01.csv finished..\n",
      "F:\\NY_taxi\\2018\\yellow_tripdata_2018-02.csv finished..\n",
      "F:\\NY_taxi\\2018\\yellow_tripdata_2018-03.csv finished..\n",
      "F:\\NY_taxi\\2018\\yellow_tripdata_2018-04.csv finished..\n",
      "F:\\NY_taxi\\2018\\yellow_tripdata_2018-05.csv finished..\n",
      "F:\\NY_taxi\\2018\\yellow_tripdata_2018-06.csv finished..\n",
      "F:\\NY_taxi\\2018\\yellow_tripdata_2018-07.csv finished..\n",
      "F:\\NY_taxi\\2018\\yellow_tripdata_2018-08.csv finished..\n",
      "F:\\NY_taxi\\2018\\yellow_tripdata_2018-09.csv finished..\n",
      "F:\\NY_taxi\\2018\\yellow_tripdata_2018-10.csv finished..\n",
      "F:\\NY_taxi\\2018\\yellow_tripdata_2018-11.csv finished..\n",
      "F:\\NY_taxi\\2018\\yellow_tripdata_2018-12.csv finished..\n"
     ]
    }
   ],
   "source": [
    "for path in dirs:\n",
    "    file = pd.read_csv(path)\n",
    "    table = file.loc[2:, [\n",
    "                        'tpep_pickup_datetime',\n",
    "                        'tpep_dropoff_datetime',\n",
    "                        'PULocationID',\n",
    "                        'DOLocationID',\n",
    "                        'trip_distance',\n",
    "                        'passenger_count',\n",
    "                        'total_amount']]\n",
    "    \n",
    "    table.to_csv(path[:-4]+'_projected.csv', index=False, columns=[\n",
    "                                                        'tpep_pickup_datetime',\n",
    "                                                        'tpep_dropoff_datetime',\n",
    "                                                        'PULocationID',\n",
    "                                                        'DOLocationID',\n",
    "                                                        'trip_distance',\n",
    "                                                        'passenger_count',\n",
    "                                                        'total_amount'])\n",
    "    print(f'{path} finished..')\n",
    "    del table\n",
    "    del file"
   ]
  }
 ],
 "metadata": {
  "kernelspec": {
   "display_name": "Python 3",
   "language": "python",
   "name": "python3"
  },
  "language_info": {
   "codemirror_mode": {
    "name": "ipython",
    "version": 3
   },
   "file_extension": ".py",
   "mimetype": "text/x-python",
   "name": "python",
   "nbconvert_exporter": "python",
   "pygments_lexer": "ipython3",
   "version": "3.7.1"
  }
 },
 "nbformat": 4,
 "nbformat_minor": 2
}
