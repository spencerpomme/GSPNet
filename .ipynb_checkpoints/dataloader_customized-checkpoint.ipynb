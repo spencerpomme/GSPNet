{
 "cells": [
  {
   "cell_type": "code",
   "execution_count": 1,
   "metadata": {
    "ExecuteTime": {
     "end_time": "2019-04-10T13:45:33.297774Z",
     "start_time": "2019-04-10T13:45:32.594654Z"
    }
   },
   "outputs": [
    {
     "data": {
      "text/plain": [
       "['tensor_dataset/full_year_2018_15min/tensors\\\\2018-01-01_00;00;00-2018-01-01_00;15;00--2018-01-01_00;00;00-2018-01-08_00;00;00--p1-0.pkl',\n",
       " 'tensor_dataset/full_year_2018_15min/tensors\\\\2018-01-01_00;15;00-2018-01-01_00;30;00--2018-01-01_00;00;00-2018-01-08_00;00;00--p1-1.pkl',\n",
       " 'tensor_dataset/full_year_2018_15min/tensors\\\\2018-01-01_00;30;00-2018-01-01_00;45;00--2018-01-01_00;00;00-2018-01-08_00;00;00--p1-2.pkl',\n",
       " 'tensor_dataset/full_year_2018_15min/tensors\\\\2018-01-01_00;45;00-2018-01-01_01;00;00--2018-01-01_00;00;00-2018-01-08_00;00;00--p1-3.pkl',\n",
       " 'tensor_dataset/full_year_2018_15min/tensors\\\\2018-01-01_01;00;00-2018-01-01_01;15;00--2018-01-01_00;00;00-2018-01-08_00;00;00--p1-4.pkl',\n",
       " 'tensor_dataset/full_year_2018_15min/tensors\\\\2018-01-01_01;15;00-2018-01-01_01;30;00--2018-01-01_00;00;00-2018-01-08_00;00;00--p1-5.pkl',\n",
       " 'tensor_dataset/full_year_2018_15min/tensors\\\\2018-01-01_01;30;00-2018-01-01_01;45;00--2018-01-01_00;00;00-2018-01-08_00;00;00--p1-6.pkl',\n",
       " 'tensor_dataset/full_year_2018_15min/tensors\\\\2018-01-01_01;45;00-2018-01-01_02;00;00--2018-01-01_00;00;00-2018-01-08_00;00;00--p1-7.pkl',\n",
       " 'tensor_dataset/full_year_2018_15min/tensors\\\\2018-01-01_02;00;00-2018-01-01_02;15;00--2018-01-01_00;00;00-2018-01-08_00;00;00--p1-8.pkl',\n",
       " 'tensor_dataset/full_year_2018_15min/tensors\\\\2018-01-01_02;15;00-2018-01-01_02;30;00--2018-01-01_00;00;00-2018-01-08_00;00;00--p1-9.pkl']"
      ]
     },
     "execution_count": 1,
     "metadata": {},
     "output_type": "execute_result"
    }
   ],
   "source": [
    "import pandas as pd\n",
    "import glob\n",
    "\n",
    "pattern = 'tensor_dataset/full_year_2018_15min/tensors/*.pkl'\n",
    "dirs = glob.glob(pattern)\n",
    "\n",
    "dirs[:10]"
   ]
  },
  {
   "cell_type": "code",
   "execution_count": 2,
   "metadata": {
    "ExecuteTime": {
     "end_time": "2019-04-10T13:45:33.303759Z",
     "start_time": "2019-04-10T13:45:33.298771Z"
    }
   },
   "outputs": [
    {
     "data": {
      "text/plain": [
       "[0, 1, 2, 3, 4, 5, 6, 7, 8, 9]"
      ]
     },
     "execution_count": 2,
     "metadata": {},
     "output_type": "execute_result"
    }
   ],
   "source": [
    "list(range(10))"
   ]
  },
  {
   "cell_type": "code",
   "execution_count": 3,
   "metadata": {
    "ExecuteTime": {
     "end_time": "2019-04-10T13:45:33.525165Z",
     "start_time": "2019-04-10T13:45:33.304756Z"
    }
   },
   "outputs": [
    {
     "data": {
      "text/plain": [
       "torch.Size([69, 69, 3])"
      ]
     },
     "execution_count": 3,
     "metadata": {},
     "output_type": "execute_result"
    }
   ],
   "source": [
    "import torch\n",
    "\n",
    "ts = torch.load(dirs[0])\n",
    "ts.shape"
   ]
  },
  {
   "cell_type": "code",
   "execution_count": 10,
   "metadata": {
    "ExecuteTime": {
     "end_time": "2019-04-10T13:48:08.484765Z",
     "start_time": "2019-04-10T13:48:08.481773Z"
    }
   },
   "outputs": [],
   "source": [
    "d = dirs[0]"
   ]
  },
  {
   "cell_type": "code",
   "execution_count": 17,
   "metadata": {
    "ExecuteTime": {
     "end_time": "2019-04-10T13:49:23.060316Z",
     "start_time": "2019-04-10T13:49:23.056324Z"
    }
   },
   "outputs": [
    {
     "data": {
      "text/plain": [
       "0"
      ]
     },
     "execution_count": 17,
     "metadata": {},
     "output_type": "execute_result"
    }
   ],
   "source": [
    "import re\n",
    "\n",
    "pattern = re.compile('(?<=-)\\d+(?=.pkl)')\n",
    "int(pattern.findall(d)[0])"
   ]
  },
  {
   "cell_type": "code",
   "execution_count": 18,
   "metadata": {
    "ExecuteTime": {
     "end_time": "2019-04-10T13:57:46.016075Z",
     "start_time": "2019-04-10T13:57:46.011112Z"
    }
   },
   "outputs": [
    {
     "data": {
      "text/plain": [
       "True"
      ]
     },
     "execution_count": 18,
     "metadata": {},
     "output_type": "execute_result"
    }
   ],
   "source": [
    "1.0 == 1"
   ]
  },
  {
   "cell_type": "code",
   "execution_count": null,
   "metadata": {},
   "outputs": [],
   "source": []
  }
 ],
 "metadata": {
  "kernelspec": {
   "display_name": "Python 3",
   "language": "python",
   "name": "python3"
  },
  "language_info": {
   "codemirror_mode": {
    "name": "ipython",
    "version": 3
   },
   "file_extension": ".py",
   "mimetype": "text/x-python",
   "name": "python",
   "nbconvert_exporter": "python",
   "pygments_lexer": "ipython3",
   "version": "3.7.1"
  }
 },
 "nbformat": 4,
 "nbformat_minor": 2
}
