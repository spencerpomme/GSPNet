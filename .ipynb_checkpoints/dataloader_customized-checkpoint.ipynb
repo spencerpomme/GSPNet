{
 "cells": [
  {
   "cell_type": "code",
   "execution_count": null,
   "metadata": {
    "ExecuteTime": {
     "end_time": "2019-04-14T09:18:18.424390Z",
     "start_time": "2019-04-14T09:18:18.264791Z"
    }
   },
   "outputs": [],
   "source": [
    "import pandas as pd\n",
    "import glob\n",
    "\n",
    "pattern = 'tensor_dataset/full_year_2018_15min/tensors/*.pkl'\n",
    "dirs = glob.glob(pattern)\n",
    "\n",
    "dirs[:10]"
   ]
  },
  {
   "cell_type": "code",
   "execution_count": null,
   "metadata": {
    "ExecuteTime": {
     "end_time": "2019-04-10T13:45:33.303759Z",
     "start_time": "2019-04-10T13:45:33.298771Z"
    }
   },
   "outputs": [],
   "source": [
    "list(range(10))"
   ]
  },
  {
   "cell_type": "code",
   "execution_count": null,
   "metadata": {
    "ExecuteTime": {
     "end_time": "2019-04-14T09:18:27.376069Z",
     "start_time": "2019-04-14T09:18:27.370061Z"
    }
   },
   "outputs": [],
   "source": [
    "import re\n",
    "\n",
    "d = dirs[6]\n",
    "pattern = re.compile('(?<=-)\\d+(?=.pkl)')\n",
    "int(pattern.findall(d)[0])\n",
    "d = d.split('\\\\')[1]\n",
    "d"
   ]
  },
  {
   "cell_type": "code",
   "execution_count": null,
   "metadata": {
    "ExecuteTime": {
     "end_time": "2019-04-14T09:18:29.444946Z",
     "start_time": "2019-04-14T09:18:29.441977Z"
    }
   },
   "outputs": [],
   "source": [
    "pattern = re.compile(\n",
    "        '^(\\d{4})-([0-1]\\d)-([0-3]\\d)_([0-1]\\d|[2][0-3]);([0-5]\\d);([0-5]\\d)-(\\d{4})-([0-1]\\d)-([0-3]\\d)_([0-1]\\d|[2][0-3]);([0-5]\\d);([0-5]\\d)')"
   ]
  },
  {
   "cell_type": "code",
   "execution_count": null,
   "metadata": {
    "ExecuteTime": {
     "end_time": "2019-04-14T09:18:43.375188Z",
     "start_time": "2019-04-14T09:18:43.370201Z"
    }
   },
   "outputs": [],
   "source": [
    "res = pattern.findall(d)\n",
    "res"
   ]
  },
  {
   "cell_type": "code",
   "execution_count": null,
   "metadata": {
    "ExecuteTime": {
     "end_time": "2019-04-14T09:18:47.649306Z",
     "start_time": "2019-04-14T09:18:47.645316Z"
    }
   },
   "outputs": [],
   "source": [
    "res[0]"
   ]
  },
  {
   "cell_type": "code",
   "execution_count": null,
   "metadata": {
    "ExecuteTime": {
     "end_time": "2019-04-14T09:25:52.558135Z",
     "start_time": "2019-04-14T09:25:52.554146Z"
    }
   },
   "outputs": [],
   "source": [
    "int(res[0][3])"
   ]
  },
  {
   "cell_type": "code",
   "execution_count": null,
   "metadata": {
    "ExecuteTime": {
     "end_time": "2019-04-14T10:11:34.455910Z",
     "start_time": "2019-04-14T10:11:34.452894Z"
    }
   },
   "outputs": [],
   "source": [
    "ls = [[i,i,i] for i in range(10)]"
   ]
  },
  {
   "cell_type": "code",
   "execution_count": null,
   "metadata": {
    "ExecuteTime": {
     "end_time": "2019-04-14T10:11:44.090059Z",
     "start_time": "2019-04-14T10:11:44.083058Z"
    }
   },
   "outputs": [],
   "source": [
    "flatten(ls)"
   ]
  },
  {
   "cell_type": "code",
   "execution_count": null,
   "metadata": {
    "ExecuteTime": {
     "end_time": "2019-04-14T12:47:25.995366Z",
     "start_time": "2019-04-14T12:47:25.991347Z"
    }
   },
   "outputs": [],
   "source": [
    "labels = [0,0,0,1,1,1,2,2,2,3,3,3,4,4,4,5,5,5,6,6,6,7,7,7]\n",
    "len(labels)"
   ]
  }
 ],
 "metadata": {
  "kernelspec": {
   "display_name": "Python 3",
   "language": "python",
   "name": "python3"
  },
  "language_info": {
   "codemirror_mode": {
    "name": "ipython",
    "version": 3
   },
   "file_extension": ".py",
   "mimetype": "text/x-python",
   "name": "python",
   "nbconvert_exporter": "python",
   "pygments_lexer": "ipython3",
   "version": "3.7.1"
  }
 },
 "nbformat": 4,
 "nbformat_minor": 2
}
