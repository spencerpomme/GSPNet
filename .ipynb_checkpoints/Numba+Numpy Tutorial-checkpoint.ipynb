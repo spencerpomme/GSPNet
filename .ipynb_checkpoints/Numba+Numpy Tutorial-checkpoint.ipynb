{
 "cells": [
  {
   "cell_type": "markdown",
   "metadata": {},
   "source": [
    "<img src=\"images/logo_city.png\" align=\"right\" width=\"20%\">"
   ]
  },
  {
   "cell_type": "markdown",
   "metadata": {},
   "source": [
    "# A Short Introduction on Parallel Computation Library\n",
    "\n",
    "In this tutorial, we will benchmark plain Numpy and Numba inhanced counterpart. As a complement, Pandas is also compared."
   ]
  },
  {
   "cell_type": "code",
   "execution_count": 1,
   "metadata": {
    "ExecuteTime": {
     "end_time": "2019-03-26T13:31:04.919869Z",
     "start_time": "2019-03-26T13:31:03.971293Z"
    }
   },
   "outputs": [],
   "source": [
    "from numba import jit, int32, float64\n",
    "import numpy as np\n",
    "import pandas as pd"
   ]
  },
  {
   "cell_type": "markdown",
   "metadata": {},
   "source": [
    "Create random 2d array using numpy:"
   ]
  },
  {
   "cell_type": "code",
   "execution_count": 3,
   "metadata": {
    "ExecuteTime": {
     "end_time": "2019-03-26T13:31:36.988777Z",
     "start_time": "2019-03-26T13:31:35.386033Z"
    }
   },
   "outputs": [
    {
     "name": "stdout",
     "output_type": "stream",
     "text": [
      "(10000, 10000) (10000, 10000)\n",
      "<class 'numpy.ndarray'> <class 'numpy.ndarray'>\n",
      "<class 'numpy.float64'>\n"
     ]
    }
   ],
   "source": [
    "m1 = np.random.rand(10000,10000)\n",
    "m2 = np.random.rand(10000,10000)\n",
    "print(m1.shape, m2.shape)\n",
    "print(type(m1), type(m2))\n",
    "print(type(m1[0][0]))"
   ]
  },
  {
   "cell_type": "markdown",
   "metadata": {},
   "source": [
    "Create pandas dataframe from numpy array:"
   ]
  },
  {
   "cell_type": "code",
   "execution_count": 4,
   "metadata": {
    "ExecuteTime": {
     "end_time": "2019-03-26T13:31:42.106358Z",
     "start_time": "2019-03-26T13:31:41.830121Z"
    }
   },
   "outputs": [
    {
     "name": "stdout",
     "output_type": "stream",
     "text": [
      "(10000, 10000) (10000, 10000)\n",
      "<class 'pandas.core.frame.DataFrame'> <class 'pandas.core.frame.DataFrame'>\n"
     ]
    }
   ],
   "source": [
    "d1 = pd.DataFrame(m1.copy())\n",
    "d2 = pd.DataFrame(m2.copy())\n",
    "print(d1.shape, d2.shape)\n",
    "print(type(d1), type(d2))"
   ]
  },
  {
   "cell_type": "markdown",
   "metadata": {
    "ExecuteTime": {
     "end_time": "2019-03-26T04:31:15.246742Z",
     "start_time": "2019-03-26T04:31:15.242728Z"
    }
   },
   "source": [
    "Define two functions to do simple multiplication, one with numba and the other without numba:"
   ]
  },
  {
   "cell_type": "code",
   "execution_count": 6,
   "metadata": {
    "ExecuteTime": {
     "end_time": "2019-03-26T13:32:03.452699Z",
     "start_time": "2019-03-26T13:32:03.423691Z"
    }
   },
   "outputs": [],
   "source": [
    "def mul1(a, b):\n",
    "    return a @ b\n",
    "\n",
    "@jit(float64(float64, float64))\n",
    "def mul2(a, b):\n",
    "    return a @ b"
   ]
  },
  {
   "cell_type": "code",
   "execution_count": 7,
   "metadata": {
    "ExecuteTime": {
     "end_time": "2019-03-26T13:32:29.062741Z",
     "start_time": "2019-03-26T13:32:22.422500Z"
    }
   },
   "outputs": [
    {
     "data": {
      "text/plain": [
       "array([[2524.45848072, 2500.61489058, 2494.52924526, ..., 2500.99653553,\n",
       "        2489.49554848, 2525.04512124],\n",
       "       [2526.49282344, 2522.39885462, 2510.75295196, ..., 2492.49858462,\n",
       "        2507.47116978, 2515.17818179],\n",
       "       [2552.56739121, 2540.8106148 , 2556.13832468, ..., 2530.24618031,\n",
       "        2533.68560033, 2542.78213519],\n",
       "       ...,\n",
       "       [2528.50117582, 2506.52221962, 2506.59738553, ..., 2486.95490472,\n",
       "        2505.12250986, 2511.34173808],\n",
       "       [2483.84899305, 2482.3463034 , 2486.6916434 , ..., 2459.5325    ,\n",
       "        2469.87989244, 2487.44043371],\n",
       "       [2510.21787981, 2508.42915961, 2519.1323762 , ..., 2497.29655847,\n",
       "        2498.60412661, 2501.29600392]])"
      ]
     },
     "execution_count": 7,
     "metadata": {},
     "output_type": "execute_result"
    }
   ],
   "source": [
    "mul1(m1, m2)"
   ]
  },
  {
   "cell_type": "code",
   "execution_count": 8,
   "metadata": {
    "ExecuteTime": {
     "end_time": "2019-03-26T13:32:43.548187Z",
     "start_time": "2019-03-26T13:32:37.033613Z"
    }
   },
   "outputs": [
    {
     "data": {
      "text/plain": [
       "array([[2524.45848072, 2500.61489058, 2494.52924526, ..., 2500.99653553,\n",
       "        2489.49554848, 2525.04512124],\n",
       "       [2526.49282344, 2522.39885462, 2510.75295196, ..., 2492.49858462,\n",
       "        2507.47116978, 2515.17818179],\n",
       "       [2552.56739121, 2540.8106148 , 2556.13832468, ..., 2530.24618031,\n",
       "        2533.68560033, 2542.78213519],\n",
       "       ...,\n",
       "       [2528.50117582, 2506.52221962, 2506.59738553, ..., 2486.95490472,\n",
       "        2505.12250986, 2511.34173808],\n",
       "       [2483.84899305, 2482.3463034 , 2486.6916434 , ..., 2459.5325    ,\n",
       "        2469.87989244, 2487.44043371],\n",
       "       [2510.21787981, 2508.42915961, 2519.1323762 , ..., 2497.29655847,\n",
       "        2498.60412661, 2501.29600392]])"
      ]
     },
     "execution_count": 8,
     "metadata": {},
     "output_type": "execute_result"
    }
   ],
   "source": [
    "mul2(m1, m2)"
   ]
  },
  {
   "cell_type": "code",
   "execution_count": 9,
   "metadata": {
    "ExecuteTime": {
     "end_time": "2019-03-26T13:33:32.421962Z",
     "start_time": "2019-03-26T13:33:32.397999Z"
    }
   },
   "outputs": [],
   "source": [
    "def add1(a, b):\n",
    "    return a + b\n",
    "\n",
    "@jit(float64(float64, float64))\n",
    "def add2(a, b):\n",
    "    return a + b"
   ]
  },
  {
   "cell_type": "code",
   "execution_count": 10,
   "metadata": {
    "ExecuteTime": {
     "end_time": "2019-03-26T13:33:37.882469Z",
     "start_time": "2019-03-26T13:33:37.708461Z"
    }
   },
   "outputs": [
    {
     "data": {
      "text/plain": [
       "array([[1.47728624, 0.86379204, 0.58509178, ..., 0.70964085, 0.79450356,\n",
       "        0.98905276],\n",
       "       [0.86726508, 1.3462099 , 1.18062923, ..., 0.31493821, 1.2718697 ,\n",
       "        0.68154605],\n",
       "       [1.28647682, 1.36472034, 0.33714686, ..., 0.67074604, 1.80992788,\n",
       "        0.43503219],\n",
       "       ...,\n",
       "       [1.31520705, 0.26098817, 1.19763439, ..., 1.52948987, 0.86261721,\n",
       "        1.10510544],\n",
       "       [1.54693317, 0.62564596, 1.50305884, ..., 0.39544253, 1.91906913,\n",
       "        0.8398906 ],\n",
       "       [1.60926024, 0.66440534, 1.02134395, ..., 1.18830306, 0.20827577,\n",
       "        0.87843998]])"
      ]
     },
     "execution_count": 10,
     "metadata": {},
     "output_type": "execute_result"
    }
   ],
   "source": [
    "add1(m1, m2)"
   ]
  },
  {
   "cell_type": "code",
   "execution_count": null,
   "metadata": {},
   "outputs": [],
   "source": []
  }
 ],
 "metadata": {
  "kernelspec": {
   "display_name": "Python 3",
   "language": "python",
   "name": "python3"
  },
  "language_info": {
   "codemirror_mode": {
    "name": "ipython",
    "version": 3
   },
   "file_extension": ".py",
   "mimetype": "text/x-python",
   "name": "python",
   "nbconvert_exporter": "python",
   "pygments_lexer": "ipython3",
   "version": "3.7.1"
  }
 },
 "nbformat": 4,
 "nbformat_minor": 2
}
