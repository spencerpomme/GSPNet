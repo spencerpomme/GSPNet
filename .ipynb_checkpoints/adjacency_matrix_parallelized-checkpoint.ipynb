{
 "cells": [
  {
   "cell_type": "markdown",
   "metadata": {},
   "source": [
    "# How to make your Pandas code faster\n",
    "\n",
    "### 1. Accelerated Array Computing"
   ]
  },
  {
   "cell_type": "code",
   "execution_count": 1,
   "metadata": {
    "ExecuteTime": {
     "end_time": "2019-04-04T12:41:46.640811Z",
     "start_time": "2019-04-04T12:41:45.790059Z"
    }
   },
   "outputs": [],
   "source": [
    "import numpy as np\n",
    "import pandas as pd\n",
    "from numba import jit\n",
    "\n",
    "# node numbers of the graph\n",
    "nodes = np.arange(0, 6, 1)\n",
    "\n",
    "# generate random fake connections\n",
    "record = np.array([np.random.choice(nodes, 2) for i in range(6000)])"
   ]
  },
  {
   "cell_type": "code",
   "execution_count": 2,
   "metadata": {
    "ExecuteTime": {
     "end_time": "2019-04-04T12:41:46.650758Z",
     "start_time": "2019-04-04T12:41:46.642778Z"
    }
   },
   "outputs": [
    {
     "data": {
      "text/plain": [
       "array([[1, 4],\n",
       "       [2, 4],\n",
       "       [4, 3],\n",
       "       ...,\n",
       "       [5, 2],\n",
       "       [3, 0],\n",
       "       [4, 4]])"
      ]
     },
     "execution_count": 2,
     "metadata": {},
     "output_type": "execute_result"
    }
   ],
   "source": [
    "record"
   ]
  },
  {
   "cell_type": "code",
   "execution_count": 3,
   "metadata": {
    "ExecuteTime": {
     "end_time": "2019-04-04T12:41:46.655750Z",
     "start_time": "2019-04-04T12:41:46.651754Z"
    }
   },
   "outputs": [
    {
     "data": {
      "text/plain": [
       "array([[0., 0., 0., 0., 0., 0.],\n",
       "       [0., 0., 0., 0., 0., 0.],\n",
       "       [0., 0., 0., 0., 0., 0.],\n",
       "       [0., 0., 0., 0., 0., 0.],\n",
       "       [0., 0., 0., 0., 0., 0.],\n",
       "       [0., 0., 0., 0., 0., 0.]])"
      ]
     },
     "execution_count": 3,
     "metadata": {},
     "output_type": "execute_result"
    }
   ],
   "source": [
    "# create adjacency matrix:\n",
    "am = np.zeros((len(nodes), len(nodes)))\n",
    "am"
   ]
  },
  {
   "cell_type": "code",
   "execution_count": 4,
   "metadata": {
    "ExecuteTime": {
     "end_time": "2019-04-04T12:41:46.671702Z",
     "start_time": "2019-04-04T12:41:46.657739Z"
    }
   },
   "outputs": [
    {
     "data": {
      "text/plain": [
       "array([[148., 156., 194., 153., 178., 177.],\n",
       "       [168., 150., 188., 163., 166., 177.],\n",
       "       [185., 151., 173., 177., 157., 179.],\n",
       "       [161., 148., 187., 163., 154., 162.],\n",
       "       [153., 159., 161., 176., 168., 178.],\n",
       "       [160., 173., 169., 169., 150., 169.]])"
      ]
     },
     "execution_count": 4,
     "metadata": {},
     "output_type": "execute_result"
    }
   ],
   "source": [
    "# simple iterate through the records:\n",
    "for row, col in record:\n",
    "    \n",
    "    am[row, col] += 1\n",
    "    \n",
    "am  "
   ]
  },
  {
   "cell_type": "code",
   "execution_count": 5,
   "metadata": {
    "ExecuteTime": {
     "end_time": "2019-04-04T12:41:46.738522Z",
     "start_time": "2019-04-04T12:41:46.674694Z"
    }
   },
   "outputs": [],
   "source": [
    "# let's wrap the above code into function and time it:\n",
    "\n",
    "def adjacent1(record, am):\n",
    "    for row, col in record:\n",
    "        am[row, col] += 1\n",
    "    return am\n",
    "\n",
    "# clear history\n",
    "record = np.array([np.random.choice(nodes, 2) for i in range(6000)])\n",
    "am = np.zeros((len(nodes), len(nodes)))"
   ]
  },
  {
   "cell_type": "code",
   "execution_count": 6,
   "metadata": {
    "ExecuteTime": {
     "end_time": "2019-04-04T12:41:52.980849Z",
     "start_time": "2019-04-04T12:41:46.739519Z"
    }
   },
   "outputs": [
    {
     "name": "stdout",
     "output_type": "stream",
     "text": [
      "7.68 ms ± 55.9 µs per loop (mean ± std. dev. of 7 runs, 100 loops each)\n"
     ]
    }
   ],
   "source": [
    "%timeit adjacent1(record, am)"
   ]
  },
  {
   "cell_type": "code",
   "execution_count": 7,
   "metadata": {
    "ExecuteTime": {
     "end_time": "2019-04-04T12:41:53.075583Z",
     "start_time": "2019-04-04T12:41:52.981821Z"
    }
   },
   "outputs": [],
   "source": [
    "# let's use the power of numba\n",
    "\n",
    "@jit(nopython=True, parallel=True)\n",
    "def adjacent2(record, am):\n",
    "    for row in range(record.shape[0]):\n",
    "        am[record[row,:][0], record[row, :][1]] += 1 # this twisted roundabout is due to not supported feature for iterating 2d arrays\n",
    "    return am\n",
    "\n",
    "# clear history\n",
    "record = np.array([np.random.choice(nodes, 2) for i in range(6000)])\n",
    "am = np.zeros((len(nodes), len(nodes)))"
   ]
  },
  {
   "cell_type": "code",
   "execution_count": 8,
   "metadata": {
    "ExecuteTime": {
     "end_time": "2019-04-04T12:41:53.336871Z",
     "start_time": "2019-04-04T12:41:53.076567Z"
    }
   },
   "outputs": [
    {
     "name": "stdout",
     "output_type": "stream",
     "text": [
      "8.7 µs ± 2.3 µs per loop (mean ± std. dev. of 7 runs, 1 loop each)\n"
     ]
    }
   ],
   "source": [
    "%timeit adjacent2(record, am)"
   ]
  },
  {
   "cell_type": "markdown",
   "metadata": {},
   "source": [
    "### 2. Converting a Pandas DataFrame to Numpy array"
   ]
  },
  {
   "cell_type": "code",
   "execution_count": 9,
   "metadata": {
    "ExecuteTime": {
     "end_time": "2019-04-04T12:41:53.359810Z",
     "start_time": "2019-04-04T12:41:53.338870Z"
    }
   },
   "outputs": [
    {
     "data": {
      "text/html": [
       "<div>\n",
       "<style scoped>\n",
       "    .dataframe tbody tr th:only-of-type {\n",
       "        vertical-align: middle;\n",
       "    }\n",
       "\n",
       "    .dataframe tbody tr th {\n",
       "        vertical-align: top;\n",
       "    }\n",
       "\n",
       "    .dataframe thead th {\n",
       "        text-align: right;\n",
       "    }\n",
       "</style>\n",
       "<table border=\"1\" class=\"dataframe\">\n",
       "  <thead>\n",
       "    <tr style=\"text-align: right;\">\n",
       "      <th></th>\n",
       "      <th>o</th>\n",
       "      <th>d</th>\n",
       "    </tr>\n",
       "  </thead>\n",
       "  <tbody>\n",
       "    <tr>\n",
       "      <th>0</th>\n",
       "      <td>1</td>\n",
       "      <td>2</td>\n",
       "    </tr>\n",
       "    <tr>\n",
       "      <th>1</th>\n",
       "      <td>3</td>\n",
       "      <td>1</td>\n",
       "    </tr>\n",
       "    <tr>\n",
       "      <th>2</th>\n",
       "      <td>2</td>\n",
       "      <td>2</td>\n",
       "    </tr>\n",
       "    <tr>\n",
       "      <th>3</th>\n",
       "      <td>4</td>\n",
       "      <td>3</td>\n",
       "    </tr>\n",
       "    <tr>\n",
       "      <th>4</th>\n",
       "      <td>0</td>\n",
       "      <td>5</td>\n",
       "    </tr>\n",
       "    <tr>\n",
       "      <th>5</th>\n",
       "      <td>4</td>\n",
       "      <td>0</td>\n",
       "    </tr>\n",
       "    <tr>\n",
       "      <th>6</th>\n",
       "      <td>2</td>\n",
       "      <td>3</td>\n",
       "    </tr>\n",
       "    <tr>\n",
       "      <th>7</th>\n",
       "      <td>5</td>\n",
       "      <td>2</td>\n",
       "    </tr>\n",
       "    <tr>\n",
       "      <th>8</th>\n",
       "      <td>1</td>\n",
       "      <td>4</td>\n",
       "    </tr>\n",
       "    <tr>\n",
       "      <th>9</th>\n",
       "      <td>4</td>\n",
       "      <td>3</td>\n",
       "    </tr>\n",
       "    <tr>\n",
       "      <th>10</th>\n",
       "      <td>3</td>\n",
       "      <td>0</td>\n",
       "    </tr>\n",
       "    <tr>\n",
       "      <th>11</th>\n",
       "      <td>2</td>\n",
       "      <td>3</td>\n",
       "    </tr>\n",
       "    <tr>\n",
       "      <th>12</th>\n",
       "      <td>0</td>\n",
       "      <td>0</td>\n",
       "    </tr>\n",
       "    <tr>\n",
       "      <th>13</th>\n",
       "      <td>2</td>\n",
       "      <td>2</td>\n",
       "    </tr>\n",
       "    <tr>\n",
       "      <th>14</th>\n",
       "      <td>1</td>\n",
       "      <td>1</td>\n",
       "    </tr>\n",
       "    <tr>\n",
       "      <th>15</th>\n",
       "      <td>1</td>\n",
       "      <td>3</td>\n",
       "    </tr>\n",
       "    <tr>\n",
       "      <th>16</th>\n",
       "      <td>5</td>\n",
       "      <td>4</td>\n",
       "    </tr>\n",
       "    <tr>\n",
       "      <th>17</th>\n",
       "      <td>2</td>\n",
       "      <td>5</td>\n",
       "    </tr>\n",
       "    <tr>\n",
       "      <th>18</th>\n",
       "      <td>1</td>\n",
       "      <td>1</td>\n",
       "    </tr>\n",
       "    <tr>\n",
       "      <th>19</th>\n",
       "      <td>4</td>\n",
       "      <td>1</td>\n",
       "    </tr>\n",
       "    <tr>\n",
       "      <th>20</th>\n",
       "      <td>1</td>\n",
       "      <td>0</td>\n",
       "    </tr>\n",
       "    <tr>\n",
       "      <th>21</th>\n",
       "      <td>4</td>\n",
       "      <td>0</td>\n",
       "    </tr>\n",
       "    <tr>\n",
       "      <th>22</th>\n",
       "      <td>3</td>\n",
       "      <td>1</td>\n",
       "    </tr>\n",
       "    <tr>\n",
       "      <th>23</th>\n",
       "      <td>5</td>\n",
       "      <td>1</td>\n",
       "    </tr>\n",
       "    <tr>\n",
       "      <th>24</th>\n",
       "      <td>4</td>\n",
       "      <td>3</td>\n",
       "    </tr>\n",
       "    <tr>\n",
       "      <th>25</th>\n",
       "      <td>1</td>\n",
       "      <td>0</td>\n",
       "    </tr>\n",
       "    <tr>\n",
       "      <th>26</th>\n",
       "      <td>0</td>\n",
       "      <td>3</td>\n",
       "    </tr>\n",
       "    <tr>\n",
       "      <th>27</th>\n",
       "      <td>2</td>\n",
       "      <td>2</td>\n",
       "    </tr>\n",
       "    <tr>\n",
       "      <th>28</th>\n",
       "      <td>1</td>\n",
       "      <td>5</td>\n",
       "    </tr>\n",
       "    <tr>\n",
       "      <th>29</th>\n",
       "      <td>5</td>\n",
       "      <td>3</td>\n",
       "    </tr>\n",
       "    <tr>\n",
       "      <th>...</th>\n",
       "      <td>...</td>\n",
       "      <td>...</td>\n",
       "    </tr>\n",
       "    <tr>\n",
       "      <th>5970</th>\n",
       "      <td>0</td>\n",
       "      <td>0</td>\n",
       "    </tr>\n",
       "    <tr>\n",
       "      <th>5971</th>\n",
       "      <td>1</td>\n",
       "      <td>3</td>\n",
       "    </tr>\n",
       "    <tr>\n",
       "      <th>5972</th>\n",
       "      <td>1</td>\n",
       "      <td>5</td>\n",
       "    </tr>\n",
       "    <tr>\n",
       "      <th>5973</th>\n",
       "      <td>2</td>\n",
       "      <td>1</td>\n",
       "    </tr>\n",
       "    <tr>\n",
       "      <th>5974</th>\n",
       "      <td>2</td>\n",
       "      <td>2</td>\n",
       "    </tr>\n",
       "    <tr>\n",
       "      <th>5975</th>\n",
       "      <td>5</td>\n",
       "      <td>4</td>\n",
       "    </tr>\n",
       "    <tr>\n",
       "      <th>5976</th>\n",
       "      <td>0</td>\n",
       "      <td>5</td>\n",
       "    </tr>\n",
       "    <tr>\n",
       "      <th>5977</th>\n",
       "      <td>2</td>\n",
       "      <td>0</td>\n",
       "    </tr>\n",
       "    <tr>\n",
       "      <th>5978</th>\n",
       "      <td>4</td>\n",
       "      <td>2</td>\n",
       "    </tr>\n",
       "    <tr>\n",
       "      <th>5979</th>\n",
       "      <td>3</td>\n",
       "      <td>5</td>\n",
       "    </tr>\n",
       "    <tr>\n",
       "      <th>5980</th>\n",
       "      <td>5</td>\n",
       "      <td>0</td>\n",
       "    </tr>\n",
       "    <tr>\n",
       "      <th>5981</th>\n",
       "      <td>0</td>\n",
       "      <td>1</td>\n",
       "    </tr>\n",
       "    <tr>\n",
       "      <th>5982</th>\n",
       "      <td>0</td>\n",
       "      <td>1</td>\n",
       "    </tr>\n",
       "    <tr>\n",
       "      <th>5983</th>\n",
       "      <td>2</td>\n",
       "      <td>5</td>\n",
       "    </tr>\n",
       "    <tr>\n",
       "      <th>5984</th>\n",
       "      <td>0</td>\n",
       "      <td>2</td>\n",
       "    </tr>\n",
       "    <tr>\n",
       "      <th>5985</th>\n",
       "      <td>3</td>\n",
       "      <td>3</td>\n",
       "    </tr>\n",
       "    <tr>\n",
       "      <th>5986</th>\n",
       "      <td>2</td>\n",
       "      <td>1</td>\n",
       "    </tr>\n",
       "    <tr>\n",
       "      <th>5987</th>\n",
       "      <td>4</td>\n",
       "      <td>5</td>\n",
       "    </tr>\n",
       "    <tr>\n",
       "      <th>5988</th>\n",
       "      <td>5</td>\n",
       "      <td>2</td>\n",
       "    </tr>\n",
       "    <tr>\n",
       "      <th>5989</th>\n",
       "      <td>0</td>\n",
       "      <td>3</td>\n",
       "    </tr>\n",
       "    <tr>\n",
       "      <th>5990</th>\n",
       "      <td>5</td>\n",
       "      <td>4</td>\n",
       "    </tr>\n",
       "    <tr>\n",
       "      <th>5991</th>\n",
       "      <td>5</td>\n",
       "      <td>1</td>\n",
       "    </tr>\n",
       "    <tr>\n",
       "      <th>5992</th>\n",
       "      <td>3</td>\n",
       "      <td>5</td>\n",
       "    </tr>\n",
       "    <tr>\n",
       "      <th>5993</th>\n",
       "      <td>1</td>\n",
       "      <td>0</td>\n",
       "    </tr>\n",
       "    <tr>\n",
       "      <th>5994</th>\n",
       "      <td>2</td>\n",
       "      <td>3</td>\n",
       "    </tr>\n",
       "    <tr>\n",
       "      <th>5995</th>\n",
       "      <td>1</td>\n",
       "      <td>0</td>\n",
       "    </tr>\n",
       "    <tr>\n",
       "      <th>5996</th>\n",
       "      <td>1</td>\n",
       "      <td>0</td>\n",
       "    </tr>\n",
       "    <tr>\n",
       "      <th>5997</th>\n",
       "      <td>2</td>\n",
       "      <td>2</td>\n",
       "    </tr>\n",
       "    <tr>\n",
       "      <th>5998</th>\n",
       "      <td>0</td>\n",
       "      <td>5</td>\n",
       "    </tr>\n",
       "    <tr>\n",
       "      <th>5999</th>\n",
       "      <td>0</td>\n",
       "      <td>3</td>\n",
       "    </tr>\n",
       "  </tbody>\n",
       "</table>\n",
       "<p>6000 rows × 2 columns</p>\n",
       "</div>"
      ],
      "text/plain": [
       "      o  d\n",
       "0     1  2\n",
       "1     3  1\n",
       "2     2  2\n",
       "3     4  3\n",
       "4     0  5\n",
       "5     4  0\n",
       "6     2  3\n",
       "7     5  2\n",
       "8     1  4\n",
       "9     4  3\n",
       "10    3  0\n",
       "11    2  3\n",
       "12    0  0\n",
       "13    2  2\n",
       "14    1  1\n",
       "15    1  3\n",
       "16    5  4\n",
       "17    2  5\n",
       "18    1  1\n",
       "19    4  1\n",
       "20    1  0\n",
       "21    4  0\n",
       "22    3  1\n",
       "23    5  1\n",
       "24    4  3\n",
       "25    1  0\n",
       "26    0  3\n",
       "27    2  2\n",
       "28    1  5\n",
       "29    5  3\n",
       "...  .. ..\n",
       "5970  0  0\n",
       "5971  1  3\n",
       "5972  1  5\n",
       "5973  2  1\n",
       "5974  2  2\n",
       "5975  5  4\n",
       "5976  0  5\n",
       "5977  2  0\n",
       "5978  4  2\n",
       "5979  3  5\n",
       "5980  5  0\n",
       "5981  0  1\n",
       "5982  0  1\n",
       "5983  2  5\n",
       "5984  0  2\n",
       "5985  3  3\n",
       "5986  2  1\n",
       "5987  4  5\n",
       "5988  5  2\n",
       "5989  0  3\n",
       "5990  5  4\n",
       "5991  5  1\n",
       "5992  3  5\n",
       "5993  1  0\n",
       "5994  2  3\n",
       "5995  1  0\n",
       "5996  1  0\n",
       "5997  2  2\n",
       "5998  0  5\n",
       "5999  0  3\n",
       "\n",
       "[6000 rows x 2 columns]"
      ]
     },
     "execution_count": 9,
     "metadata": {},
     "output_type": "execute_result"
    }
   ],
   "source": [
    "# let's create a pandas df from `record`\n",
    "\n",
    "df_record = pd.DataFrame(record, columns=['o', 'd'])\n",
    "df_record"
   ]
  },
  {
   "cell_type": "code",
   "execution_count": 10,
   "metadata": {
    "ExecuteTime": {
     "end_time": "2019-04-04T12:41:53.427628Z",
     "start_time": "2019-04-04T12:41:53.360807Z"
    }
   },
   "outputs": [],
   "source": [
    "# let's rewrite adjacent function with pandas\n",
    "\n",
    "def adjacent3(record, am):\n",
    "    for _, row in record.iterrows():\n",
    "        am[row['o'], row['d']] += 1\n",
    "    return am\n",
    "\n",
    "# clear history\n",
    "record = np.array([np.random.choice(nodes, 2) for i in range(6000)])\n",
    "df_record = pd.DataFrame(record, columns=['o', 'd'])\n",
    "am = np.zeros((len(nodes), len(nodes)))"
   ]
  },
  {
   "cell_type": "code",
   "execution_count": 11,
   "metadata": {
    "ExecuteTime": {
     "end_time": "2019-04-04T12:41:56.296955Z",
     "start_time": "2019-04-04T12:41:53.428625Z"
    }
   },
   "outputs": [
    {
     "name": "stdout",
     "output_type": "stream",
     "text": [
      "358 ms ± 5.13 ms per loop (mean ± std. dev. of 7 runs, 1 loop each)\n"
     ]
    }
   ],
   "source": [
    "# time the pandas version\n",
    "%timeit adjacent3(df_record, am)"
   ]
  },
  {
   "cell_type": "code",
   "execution_count": 12,
   "metadata": {
    "ExecuteTime": {
     "end_time": "2019-04-04T12:41:56.366793Z",
     "start_time": "2019-04-04T12:41:56.297950Z"
    }
   },
   "outputs": [],
   "source": [
    "# suppose the df_record is what we have in the first place.\n",
    "# we want to leverage numba power to speed up our code\n",
    "# so have to convert pandas df to numpy array first:\n",
    "\n",
    "def adjacent4(record, am):\n",
    "    record = record.to_numpy()\n",
    "    record = record[1:, :]\n",
    "    \n",
    "    return adjacent2(record, am)\n",
    "\n",
    "# clear history\n",
    "record = np.array([np.random.choice(nodes, 2) for i in range(6000)])\n",
    "df_record = pd.DataFrame(record, columns=['o', 'd'])\n",
    "am = np.zeros((len(nodes), len(nodes)))    "
   ]
  },
  {
   "cell_type": "code",
   "execution_count": 13,
   "metadata": {
    "ExecuteTime": {
     "end_time": "2019-04-04T12:42:08.942157Z",
     "start_time": "2019-04-04T12:41:56.367763Z"
    }
   },
   "outputs": [
    {
     "name": "stdout",
     "output_type": "stream",
     "text": [
      "15.5 µs ± 43.7 ns per loop (mean ± std. dev. of 7 runs, 100000 loops each)\n"
     ]
    }
   ],
   "source": [
    "%timeit adjacent4(df_record, am)"
   ]
  },
  {
   "cell_type": "markdown",
   "metadata": {},
   "source": [
    "The convertion from pandas dataframe to numpy array slows down more than 7 times compared with adjacent2.\n",
    "\n",
    "Thus it is not a good idea to use a lot of pandas if you are performance sensitive.\n",
    "\n",
    "However, it is still 35.1ms / 8.3us ~= 4000+ times faster!\n",
    "\n",
    "We can expect that more rows the record got, the more obvious is the acceleration:\n",
    "\n",
    "When set record has 6000 rows (10 times), the speed boost is 355ms / 15.3us ~= 20000+"
   ]
  },
  {
   "cell_type": "code",
   "execution_count": 14,
   "metadata": {
    "ExecuteTime": {
     "end_time": "2019-04-04T12:42:09.015953Z",
     "start_time": "2019-04-04T12:42:08.943123Z"
    }
   },
   "outputs": [
    {
     "data": {
      "text/plain": [
       "array([[169., 168., 175., 173., 156., 174.],\n",
       "       [179., 172., 183., 151., 172., 170.],\n",
       "       [165., 160., 148., 197., 165., 166.],\n",
       "       [159., 177., 162., 172., 155., 148.],\n",
       "       [151., 176., 170., 166., 165., 170.],\n",
       "       [187., 150., 144., 176., 156., 172.]])"
      ]
     },
     "execution_count": 14,
     "metadata": {},
     "output_type": "execute_result"
    }
   ],
   "source": [
    "# let's go through a real call:\n",
    "# clear history\n",
    "record = np.array([np.random.choice(nodes, 2) for i in range(6000)])\n",
    "df_record = pd.DataFrame(record, columns=['o', 'd'])\n",
    "am = np.zeros((len(nodes), len(nodes)))\n",
    "\n",
    "res = adjacent4(df_record, am)\n",
    "res"
   ]
  },
  {
   "cell_type": "code",
   "execution_count": 15,
   "metadata": {
    "ExecuteTime": {
     "end_time": "2019-04-04T12:42:09.454754Z",
     "start_time": "2019-04-04T12:42:09.016925Z"
    }
   },
   "outputs": [
    {
     "data": {
      "text/plain": [
       "array([[172., 174., 151., 157., 171., 162.],\n",
       "       [153., 167., 160., 150., 183., 173.],\n",
       "       [165., 177., 184., 157., 169., 169.],\n",
       "       [179., 161., 166., 138., 157., 161.],\n",
       "       [184., 193., 159., 160., 154., 179.],\n",
       "       [188., 170., 159., 147., 166., 185.]])"
      ]
     },
     "execution_count": 15,
     "metadata": {},
     "output_type": "execute_result"
    }
   ],
   "source": [
    "# another real call of the slow pandas version:\n",
    "record = np.array([np.random.choice(nodes, 2) for i in range(6000)])\n",
    "df_record = pd.DataFrame(record, columns=['o', 'd'])\n",
    "am = np.zeros((len(nodes), len(nodes)))\n",
    "\n",
    "res = adjacent3(df_record, am)\n",
    "res"
   ]
  },
  {
   "cell_type": "markdown",
   "metadata": {},
   "source": [
    "See, this would eventually result in HUGE difference when you have a big dataset."
   ]
  }
 ],
 "metadata": {
  "kernelspec": {
   "display_name": "Python 3",
   "language": "python",
   "name": "python3"
  },
  "language_info": {
   "codemirror_mode": {
    "name": "ipython",
    "version": 3
   },
   "file_extension": ".py",
   "mimetype": "text/x-python",
   "name": "python",
   "nbconvert_exporter": "python",
   "pygments_lexer": "ipython3",
   "version": "3.7.1"
  }
 },
 "nbformat": 4,
 "nbformat_minor": 2
}
