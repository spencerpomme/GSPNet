{
 "cells": [
  {
   "cell_type": "markdown",
   "metadata": {},
   "source": [
    "<img src=\"images/logo_city.png\" align=\"right\" width=\"20%\">"
   ]
  },
  {
   "cell_type": "markdown",
   "metadata": {},
   "source": [
    "# Training A Graph State Prediction Network (GSPNet): Simplified version\n",
    "\n",
    "This notebook is a prototype on how to train a graph state prediction network using CNN and LSTM.\n",
    "The content is devided into __3__ parts:\n",
    "\n",
    "1. Data preprocessing\n",
    "2. Model building, Training and Tuning\n",
    "3. Prediction and per demand modifacation\n",
    "\n",
    "The model is built with [PyTorch](https://pytorch.org/).\n",
    "\n",
    "<p style='color: darkred'><strong>This version is simplified and most of intermediate explainatory codes and comments are removed except those directly contribute to generating images. For duck process, see the prototype version.</strong></p>"
   ]
  },
  {
   "cell_type": "markdown",
   "metadata": {},
   "source": [
    "## Part 1: Data Preprocessing\n",
    "\n",
    "### 1. Load Libraries and Data\n",
    "\n",
    "Load in the data with dask. Check the data integrity."
   ]
  },
  {
   "cell_type": "code",
   "execution_count": 1,
   "metadata": {},
   "outputs": [],
   "source": [
    "import pandas as pd\n",
    "import numpy as np\n",
    "import seaborn as sns\n",
    "import sqlalchemy\n",
    "import dask\n",
    "import dask.dataframe as dd\n",
    "import time\n",
    "import psycopg2\n",
    "import warnings\n",
    "import re\n",
    "import torch\n",
    "from PIL import Image\n",
    "from IPython.display import display\n",
    "from scipy import stats\n",
    "from matplotlib import pyplot as plt\n",
    "\n",
    "%matplotlib inline\n",
    "%config InlineBackend.figure_format = 'retina'"
   ]
  },
  {
   "cell_type": "markdown",
   "metadata": {},
   "source": [
    "Load data:"
   ]
  },
  {
   "cell_type": "code",
   "execution_count": 6,
   "metadata": {},
   "outputs": [
    {
     "data": {
      "text/html": [
       "<div>\n",
       "<style scoped>\n",
       "    .dataframe tbody tr th:only-of-type {\n",
       "        vertical-align: middle;\n",
       "    }\n",
       "\n",
       "    .dataframe tbody tr th {\n",
       "        vertical-align: top;\n",
       "    }\n",
       "\n",
       "    .dataframe thead th {\n",
       "        text-align: right;\n",
       "    }\n",
       "</style>\n",
       "<table border=\"1\" class=\"dataframe\">\n",
       "  <thead>\n",
       "    <tr style=\"text-align: right;\">\n",
       "      <th></th>\n",
       "      <th>tripid</th>\n",
       "      <th>tpep_pickup_datetime</th>\n",
       "      <th>tpep_dropoff_datetime</th>\n",
       "      <th>pulocationid</th>\n",
       "      <th>dolocationid</th>\n",
       "      <th>trip_distance</th>\n",
       "      <th>passenger_count</th>\n",
       "      <th>total_amount</th>\n",
       "      <th>trip_time</th>\n",
       "      <th>trip_avg_speed</th>\n",
       "      <th>trip_time_sec</th>\n",
       "    </tr>\n",
       "  </thead>\n",
       "  <tbody>\n",
       "    <tr>\n",
       "      <th>0</th>\n",
       "      <td>35972297</td>\n",
       "      <td>2017-03-09 21:30:11</td>\n",
       "      <td>2017-03-09 21:44:20</td>\n",
       "      <td>148</td>\n",
       "      <td>48</td>\n",
       "      <td>4.06</td>\n",
       "      <td>1</td>\n",
       "      <td>18.36</td>\n",
       "      <td>00:14:09</td>\n",
       "      <td>17.215548</td>\n",
       "      <td>849</td>\n",
       "    </tr>\n",
       "    <tr>\n",
       "      <th>1</th>\n",
       "      <td>35972298</td>\n",
       "      <td>2017-03-09 21:47:00</td>\n",
       "      <td>2017-03-09 21:58:01</td>\n",
       "      <td>48</td>\n",
       "      <td>107</td>\n",
       "      <td>2.73</td>\n",
       "      <td>1</td>\n",
       "      <td>12.80</td>\n",
       "      <td>00:11:01</td>\n",
       "      <td>14.868381</td>\n",
       "      <td>661</td>\n",
       "    </tr>\n",
       "    <tr>\n",
       "      <th>2</th>\n",
       "      <td>35972299</td>\n",
       "      <td>2017-03-09 22:01:08</td>\n",
       "      <td>2017-03-09 22:11:16</td>\n",
       "      <td>79</td>\n",
       "      <td>162</td>\n",
       "      <td>2.27</td>\n",
       "      <td>1</td>\n",
       "      <td>14.12</td>\n",
       "      <td>00:10:08</td>\n",
       "      <td>13.440789</td>\n",
       "      <td>608</td>\n",
       "    </tr>\n",
       "    <tr>\n",
       "      <th>3</th>\n",
       "      <td>35972300</td>\n",
       "      <td>2017-03-09 22:16:05</td>\n",
       "      <td>2017-03-10 06:26:11</td>\n",
       "      <td>237</td>\n",
       "      <td>41</td>\n",
       "      <td>3.86</td>\n",
       "      <td>1</td>\n",
       "      <td>17.29</td>\n",
       "      <td>08:10:06</td>\n",
       "      <td>0.472557</td>\n",
       "      <td>29406</td>\n",
       "    </tr>\n",
       "    <tr>\n",
       "      <th>4</th>\n",
       "      <td>35972301</td>\n",
       "      <td>2017-03-31 06:31:53</td>\n",
       "      <td>2017-03-31 06:41:48</td>\n",
       "      <td>41</td>\n",
       "      <td>162</td>\n",
       "      <td>3.45</td>\n",
       "      <td>1</td>\n",
       "      <td>13.30</td>\n",
       "      <td>00:09:55</td>\n",
       "      <td>20.873950</td>\n",
       "      <td>595</td>\n",
       "    </tr>\n",
       "  </tbody>\n",
       "</table>\n",
       "</div>"
      ],
      "text/plain": [
       "     tripid tpep_pickup_datetime tpep_dropoff_datetime  pulocationid  \\\n",
       "0  35972297  2017-03-09 21:30:11   2017-03-09 21:44:20           148   \n",
       "1  35972298  2017-03-09 21:47:00   2017-03-09 21:58:01            48   \n",
       "2  35972299  2017-03-09 22:01:08   2017-03-09 22:11:16            79   \n",
       "3  35972300  2017-03-09 22:16:05   2017-03-10 06:26:11           237   \n",
       "4  35972301  2017-03-31 06:31:53   2017-03-31 06:41:48            41   \n",
       "\n",
       "   dolocationid  trip_distance  passenger_count  total_amount trip_time  \\\n",
       "0            48           4.06                1         18.36  00:14:09   \n",
       "1           107           2.73                1         12.80  00:11:01   \n",
       "2           162           2.27                1         14.12  00:10:08   \n",
       "3            41           3.86                1         17.29  08:10:06   \n",
       "4           162           3.45                1         13.30  00:09:55   \n",
       "\n",
       "   trip_avg_speed  trip_time_sec  \n",
       "0       17.215548            849  \n",
       "1       14.868381            661  \n",
       "2       13.440789            608  \n",
       "3        0.472557          29406  \n",
       "4       20.873950            595  "
      ]
     },
     "execution_count": 6,
     "metadata": {},
     "output_type": "execute_result"
    }
   ],
   "source": [
    "table = dd.read_csv('dataset/nytaxi_yellow_2017_mar.csv')\n",
    "table.head()"
   ]
  },
  {
   "cell_type": "markdown",
   "metadata": {},
   "source": [
    "Check table shape:"
   ]
  },
  {
   "cell_type": "code",
   "execution_count": 3,
   "metadata": {},
   "outputs": [
    {
     "data": {
      "text/plain": [
       "(10222693, 11)"
      ]
     },
     "execution_count": 3,
     "metadata": {},
     "output_type": "execute_result"
    }
   ],
   "source": [
    "table.shape[0].compute(), table.shape[1]"
   ]
  },
  {
   "cell_type": "markdown",
   "metadata": {},
   "source": [
    "Check data:\n",
    "\n",
    "Ratio of trips last longer than 30 minutes: (better smaller than 0.1)"
   ]
  },
  {
   "cell_type": "code",
   "execution_count": 5,
   "metadata": {},
   "outputs": [
    {
     "data": {
      "text/plain": [
       "0.08854594381343546"
      ]
     },
     "execution_count": 5,
     "metadata": {},
     "output_type": "execute_result"
    }
   ],
   "source": [
    "(table.loc[table['trip_time_sec'] > 1800].shape[0] / table.shape[0]).compute()"
   ]
  },
  {
   "cell_type": "markdown",
   "metadata": {},
   "source": [
    "Project only needed columns:"
   ]
  },
  {
   "cell_type": "code",
   "execution_count": 14,
   "metadata": {},
   "outputs": [
    {
     "data": {
      "text/html": [
       "<div>\n",
       "<style scoped>\n",
       "    .dataframe tbody tr th:only-of-type {\n",
       "        vertical-align: middle;\n",
       "    }\n",
       "\n",
       "    .dataframe tbody tr th {\n",
       "        vertical-align: top;\n",
       "    }\n",
       "\n",
       "    .dataframe thead th {\n",
       "        text-align: right;\n",
       "    }\n",
       "</style>\n",
       "<table border=\"1\" class=\"dataframe\">\n",
       "  <thead>\n",
       "    <tr style=\"text-align: right;\">\n",
       "      <th></th>\n",
       "      <th>tripid</th>\n",
       "      <th>tpep_pickup_datetime</th>\n",
       "      <th>tpep_dropoff_datetime</th>\n",
       "      <th>pulocationid</th>\n",
       "      <th>dolocationid</th>\n",
       "    </tr>\n",
       "  </thead>\n",
       "  <tbody>\n",
       "    <tr>\n",
       "      <th>0</th>\n",
       "      <td>35972297</td>\n",
       "      <td>2017-03-09 21:30:11</td>\n",
       "      <td>2017-03-09 21:44:20</td>\n",
       "      <td>148</td>\n",
       "      <td>48</td>\n",
       "    </tr>\n",
       "    <tr>\n",
       "      <th>1</th>\n",
       "      <td>35972298</td>\n",
       "      <td>2017-03-09 21:47:00</td>\n",
       "      <td>2017-03-09 21:58:01</td>\n",
       "      <td>48</td>\n",
       "      <td>107</td>\n",
       "    </tr>\n",
       "    <tr>\n",
       "      <th>2</th>\n",
       "      <td>35972299</td>\n",
       "      <td>2017-03-09 22:01:08</td>\n",
       "      <td>2017-03-09 22:11:16</td>\n",
       "      <td>79</td>\n",
       "      <td>162</td>\n",
       "    </tr>\n",
       "    <tr>\n",
       "      <th>3</th>\n",
       "      <td>35972300</td>\n",
       "      <td>2017-03-09 22:16:05</td>\n",
       "      <td>2017-03-10 06:26:11</td>\n",
       "      <td>237</td>\n",
       "      <td>41</td>\n",
       "    </tr>\n",
       "    <tr>\n",
       "      <th>4</th>\n",
       "      <td>35972301</td>\n",
       "      <td>2017-03-31 06:31:53</td>\n",
       "      <td>2017-03-31 06:41:48</td>\n",
       "      <td>41</td>\n",
       "      <td>162</td>\n",
       "    </tr>\n",
       "  </tbody>\n",
       "</table>\n",
       "</div>"
      ],
      "text/plain": [
       "     tripid tpep_pickup_datetime tpep_dropoff_datetime  pulocationid  \\\n",
       "0  35972297  2017-03-09 21:30:11   2017-03-09 21:44:20           148   \n",
       "1  35972298  2017-03-09 21:47:00   2017-03-09 21:58:01            48   \n",
       "2  35972299  2017-03-09 22:01:08   2017-03-09 22:11:16            79   \n",
       "3  35972300  2017-03-09 22:16:05   2017-03-10 06:26:11           237   \n",
       "4  35972301  2017-03-31 06:31:53   2017-03-31 06:41:48            41   \n",
       "\n",
       "   dolocationid  \n",
       "0            48  \n",
       "1           107  \n",
       "2           162  \n",
       "3            41  \n",
       "4           162  "
      ]
     },
     "execution_count": 14,
     "metadata": {},
     "output_type": "execute_result"
    }
   ],
   "source": [
    "# draw four needed columns and a id column, then sort according to time.\n",
    "# the `tripid` column is for the sake of naming.\n",
    "tensor_gen = table.loc[:,['tripid',\n",
    "                          'tpep_pickup_datetime',\n",
    "                          'tpep_dropoff_datetime',\n",
    "                          'pulocationid', 'dolocationid']\n",
    "                      ] # the first sort condition rules\n",
    "tensor_gen.head()"
   ]
  },
  {
   "cell_type": "markdown",
   "metadata": {},
   "source": [
    "### 2. Time Interval Preprocessing\n",
    "\n",
    "Create time interval and process original table to generate images.\n",
    "\n",
    "Change datetime columns from str type to Timestamp:"
   ]
  },
  {
   "cell_type": "code",
   "execution_count": 15,
   "metadata": {},
   "outputs": [
    {
     "data": {
      "text/plain": [
       "tripid                            int64\n",
       "tpep_pickup_datetime     datetime64[ns]\n",
       "tpep_dropoff_datetime    datetime64[ns]\n",
       "pulocationid                      int64\n",
       "dolocationid                      int64\n",
       "dtype: object"
      ]
     },
     "execution_count": 15,
     "metadata": {},
     "output_type": "execute_result"
    }
   ],
   "source": [
    "# Preprocess datatime columns here\n",
    "# Very expensive operation, do once.\n",
    "tensor_gen['tpep_pickup_datetime'] = dd.to_datetime(tensor_gen['tpep_pickup_datetime'])\n",
    "tensor_gen['tpep_dropoff_datetime'] = dd.to_datetime(tensor_gen['tpep_dropoff_datetime'])\n",
    "\n",
    "tensor_gen.dtypes"
   ]
  },
  {
   "cell_type": "markdown",
   "metadata": {},
   "source": [
    "Function to create time **intervals**:"
   ]
  },
  {
   "cell_type": "code",
   "execution_count": 16,
   "metadata": {},
   "outputs": [
    {
     "name": "stdout",
     "output_type": "stream",
     "text": [
      "4465\n"
     ]
    },
    {
     "data": {
      "text/plain": [
       "DatetimeIndex(['2017-03-01 00:00:00', '2017-03-01 00:10:00',\n",
       "               '2017-03-01 00:20:00', '2017-03-01 00:30:00',\n",
       "               '2017-03-01 00:40:00', '2017-03-01 00:50:00',\n",
       "               '2017-03-01 01:00:00', '2017-03-01 01:10:00',\n",
       "               '2017-03-01 01:20:00', '2017-03-01 01:30:00',\n",
       "               ...\n",
       "               '2017-03-31 22:30:00', '2017-03-31 22:40:00',\n",
       "               '2017-03-31 22:50:00', '2017-03-31 23:00:00',\n",
       "               '2017-03-31 23:10:00', '2017-03-31 23:20:00',\n",
       "               '2017-03-31 23:30:00', '2017-03-31 23:40:00',\n",
       "               '2017-03-31 23:50:00', '2017-04-01 00:00:00'],\n",
       "              dtype='datetime64[ns]', length=4465, freq='10T')"
      ]
     },
     "execution_count": 16,
     "metadata": {},
     "output_type": "execute_result"
    }
   ],
   "source": [
    "intervals = pd.date_range('2017-03-01 00:00:00', '2017-04-01 00:00:00', freq='10min')\n",
    "print(len(intervals))\n",
    "intervals # <-- to be used later"
   ]
  },
  {
   "cell_type": "markdown",
   "metadata": {},
   "source": [
    "### 3. Location Preprocessing\n",
    "\n",
    "Preprocess location related information: mapping ids and locations, then generate adjacency matrices."
   ]
  },
  {
   "cell_type": "code",
   "execution_count": null,
   "metadata": {},
   "outputs": [],
   "source": []
  },
  {
   "cell_type": "markdown",
   "metadata": {},
   "source": [
    "### 4. Generate Tensor: 3 matrices (layers) of connection\n",
    "\n",
    "Generate images that represent traffic states."
   ]
  },
  {
   "cell_type": "code",
   "execution_count": null,
   "metadata": {},
   "outputs": [],
   "source": []
  }
 ],
 "metadata": {
  "kernelspec": {
   "display_name": "Python 3",
   "language": "python",
   "name": "python3"
  },
  "language_info": {
   "codemirror_mode": {
    "name": "ipython",
    "version": 3
   },
   "file_extension": ".py",
   "mimetype": "text/x-python",
   "name": "python",
   "nbconvert_exporter": "python",
   "pygments_lexer": "ipython3",
   "version": "3.7.1"
  }
 },
 "nbformat": 4,
 "nbformat_minor": 2
}
