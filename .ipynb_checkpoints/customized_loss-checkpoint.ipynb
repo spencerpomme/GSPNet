{
 "cells": [
  {
   "cell_type": "code",
   "execution_count": null,
   "metadata": {
    "ExecuteTime": {
     "end_time": "2019-04-22T15:45:40.353219Z",
     "start_time": "2019-04-22T15:45:40.030074Z"
    }
   },
   "outputs": [],
   "source": [
    "import torch\n",
    "import torch.nn.functional as F\n",
    "from torch import nn, optim\n",
    "from torch.utils.data import TensorDataset, DataLoader"
   ]
  },
  {
   "cell_type": "code",
   "execution_count": null,
   "metadata": {
    "ExecuteTime": {
     "end_time": "2019-04-22T15:45:40.365202Z",
     "start_time": "2019-04-22T15:45:40.355207Z"
    }
   },
   "outputs": [],
   "source": [
    "a = torch.Tensor([[1,0,0,2], [2,2,2,3], [1,0,0,0], [10,20,100,2]])\n",
    "b = torch.Tensor([[5,1,0,0], [2,1,40,3], [1,1,1,1], [1,2,3,4]])\n",
    "print(a)\n",
    "print(b)"
   ]
  },
  {
   "cell_type": "code",
   "execution_count": null,
   "metadata": {
    "ExecuteTime": {
     "end_time": "2019-04-22T15:45:40.372160Z",
     "start_time": "2019-04-22T15:45:40.366184Z"
    }
   },
   "outputs": [],
   "source": [
    "def dich_mse_loss(output, label, alpha=0.1):\n",
    "    '''\n",
    "    Dichotomy mean square error loss.\n",
    "\n",
    "    Args:\n",
    "        output: calculated prediction tensor\n",
    "        label: ground truth\n",
    "        alpha: weight of 0 -> Non-zero punishment\n",
    "               A value in (0, 1]\n",
    "    Return:\n",
    "        loss: dich_mes_loss\n",
    "    '''\n",
    "    mse = (output - label) ** 2\n",
    "    factor = 1 / (alpha + output * label)\n",
    "    reg = torch.log(1 + output**2) + torch.log(1 + label**2)\n",
    "    loss = mse + factor * reg\n",
    "\n",
    "    return torch.mean(loss)"
   ]
  },
  {
   "cell_type": "code",
   "execution_count": null,
   "metadata": {
    "ExecuteTime": {
     "end_time": "2019-04-22T15:45:57.574191Z",
     "start_time": "2019-04-22T15:45:57.570202Z"
    }
   },
   "outputs": [],
   "source": [
    "l = dich_mse_loss(a, b)"
   ]
  },
  {
   "cell_type": "code",
   "execution_count": null,
   "metadata": {
    "ExecuteTime": {
     "end_time": "2019-04-22T15:46:00.375712Z",
     "start_time": "2019-04-22T15:46:00.366731Z"
    }
   },
   "outputs": [],
   "source": [
    "a, b"
   ]
  },
  {
   "cell_type": "code",
   "execution_count": null,
   "metadata": {
    "ExecuteTime": {
     "end_time": "2019-04-22T15:46:01.210480Z",
     "start_time": "2019-04-22T15:46:01.206484Z"
    }
   },
   "outputs": [],
   "source": [
    "c = a\n",
    "c"
   ]
  },
  {
   "cell_type": "code",
   "execution_count": null,
   "metadata": {
    "ExecuteTime": {
     "end_time": "2019-04-22T16:23:07.188759Z",
     "start_time": "2019-04-22T16:23:07.179777Z"
    }
   },
   "outputs": [],
   "source": [
    "torch.log(l)"
   ]
  },
  {
   "cell_type": "code",
   "execution_count": null,
   "metadata": {
    "ExecuteTime": {
     "end_time": "2019-04-22T16:20:09.629273Z",
     "start_time": "2019-04-22T16:20:09.624286Z"
    }
   },
   "outputs": [],
   "source": [
    "a"
   ]
  },
  {
   "cell_type": "code",
   "execution_count": null,
   "metadata": {
    "ExecuteTime": {
     "end_time": "2019-04-22T16:20:13.857004Z",
     "start_time": "2019-04-22T16:20:13.851995Z"
    }
   },
   "outputs": [],
   "source": [
    "b"
   ]
  },
  {
   "cell_type": "code",
   "execution_count": null,
   "metadata": {
    "ExecuteTime": {
     "end_time": "2019-04-22T16:29:38.447303Z",
     "start_time": "2019-04-22T16:29:38.443313Z"
    }
   },
   "outputs": [],
   "source": [
    "def foo(x, y):\n",
    "    return (x - y) ** 2 + 1/(0.1 + x*y) * (torch.log(1 + y**2) + torch.log(1 + x**2))\n",
    "        "
   ]
  },
  {
   "cell_type": "code",
   "execution_count": null,
   "metadata": {
    "ExecuteTime": {
     "end_time": "2019-04-22T16:29:39.214273Z",
     "start_time": "2019-04-22T16:29:39.208269Z"
    }
   },
   "outputs": [],
   "source": [
    "print(a)\n",
    "print(b)"
   ]
  },
  {
   "cell_type": "code",
   "execution_count": null,
   "metadata": {
    "ExecuteTime": {
     "end_time": "2019-04-22T16:29:39.812676Z",
     "start_time": "2019-04-22T16:29:39.807668Z"
    }
   },
   "outputs": [],
   "source": [
    "foo(a, b)"
   ]
  },
  {
   "cell_type": "code",
   "execution_count": null,
   "metadata": {},
   "outputs": [],
   "source": []
  }
 ],
 "metadata": {
  "kernelspec": {
   "display_name": "Python 3",
   "language": "python",
   "name": "python3"
  },
  "language_info": {
   "codemirror_mode": {
    "name": "ipython",
    "version": 3
   },
   "file_extension": ".py",
   "mimetype": "text/x-python",
   "name": "python",
   "nbconvert_exporter": "python",
   "pygments_lexer": "ipython3",
   "version": "3.7.1"
  }
 },
 "nbformat": 4,
 "nbformat_minor": 2
}
