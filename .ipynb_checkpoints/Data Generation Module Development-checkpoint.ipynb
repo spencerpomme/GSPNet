{
 "cells": [
  {
   "cell_type": "markdown",
   "metadata": {},
   "source": [
    "<img src=\"images/logo_city.png\" align=\"right\" width=\"20%\">"
   ]
  },
  {
   "cell_type": "markdown",
   "metadata": {},
   "source": [
    "# Data Generation Module Development\n",
    "\n",
    "## 1. Goal\n",
    "\n",
    "The module should be something like below:"
   ]
  },
  {
   "cell_type": "code",
   "execution_count": null,
   "metadata": {
    "ExecuteTime": {
     "start_time": "2019-03-26T16:24:29.175Z"
    }
   },
   "outputs": [],
   "source": [
    "import timeslice                    \n",
    "import timeslice.source as source   \n",
    "import timeslice.rule  as rule      \n",
    "import timeslice.worker as worker\n",
    "import timeslice.viz as viz # to be done\n",
    "\n",
    "import torch\n",
    "\n",
    "# connect to database source\n",
    "taxi_db = source.DatabaseSource('cleaned_small_yellow_2017_05')\n",
    "\n",
    "# set time split rule for dataset generation\n",
    "time_rule = rule.TimeSlice(stp='2017-05-01 00:00:00', etp='2017-06-01 00:00:00', freq='30min')\n",
    "\n",
    "# initialize worker\n",
    "data_worker = worker.Worker(source=taxi_db, destin='data_test/monthly_data/may', rule=time_rule, viz=False)\n",
    "\n",
    "# generate dataset\n",
    "data_worker.generate()"
   ]
  },
  {
   "cell_type": "code",
   "execution_count": null,
   "metadata": {
    "ExecuteTime": {
     "end_time": "2019-03-26T16:09:57.561295Z",
     "start_time": "2019-03-26T16:09:57.554306Z"
    }
   },
   "outputs": [],
   "source": [
    "len(taxi_db)"
   ]
  },
  {
   "cell_type": "code",
   "execution_count": null,
   "metadata": {},
   "outputs": [],
   "source": []
  }
 ],
 "metadata": {
  "kernelspec": {
   "display_name": "Python 3",
   "language": "python",
   "name": "python3"
  },
  "language_info": {
   "codemirror_mode": {
    "name": "ipython",
    "version": 3
   },
   "file_extension": ".py",
   "mimetype": "text/x-python",
   "name": "python",
   "nbconvert_exporter": "python",
   "pygments_lexer": "ipython3",
   "version": "3.7.1"
  }
 },
 "nbformat": 4,
 "nbformat_minor": 2
}
