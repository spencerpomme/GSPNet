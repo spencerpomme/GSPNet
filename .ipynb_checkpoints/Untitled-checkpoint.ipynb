{
 "cells": [
  {
   "cell_type": "code",
   "execution_count": 32,
   "metadata": {
    "ExecuteTime": {
     "end_time": "2019-04-16T05:17:10.386604Z",
     "start_time": "2019-04-16T05:17:10.382618Z"
    }
   },
   "outputs": [],
   "source": [
    "import numpy as np\n",
    "\n",
    "a = np.array([[[1,2],[3,4]], [[5,6],[7,8]], [[9,10],[11,12]]])\n",
    "b = np.array([[22,23],[24,25]])\n",
    "\n",
    "a = a[1:]"
   ]
  },
  {
   "cell_type": "code",
   "execution_count": 33,
   "metadata": {
    "ExecuteTime": {
     "end_time": "2019-04-16T05:17:10.949910Z",
     "start_time": "2019-04-16T05:17:10.945920Z"
    }
   },
   "outputs": [
    {
     "data": {
      "text/plain": [
       "array([[[ 5,  6],\n",
       "        [ 7,  8]],\n",
       "\n",
       "       [[ 9, 10],\n",
       "        [11, 12]]])"
      ]
     },
     "execution_count": 33,
     "metadata": {},
     "output_type": "execute_result"
    }
   ],
   "source": [
    "a"
   ]
  },
  {
   "cell_type": "code",
   "execution_count": 34,
   "metadata": {
    "ExecuteTime": {
     "end_time": "2019-04-16T05:17:11.472372Z",
     "start_time": "2019-04-16T05:17:11.467362Z"
    }
   },
   "outputs": [
    {
     "data": {
      "text/plain": [
       "((2, 2, 2), (2, 2))"
      ]
     },
     "execution_count": 34,
     "metadata": {},
     "output_type": "execute_result"
    }
   ],
   "source": [
    "a.shape, b.shape"
   ]
  },
  {
   "cell_type": "code",
   "execution_count": 35,
   "metadata": {
    "ExecuteTime": {
     "end_time": "2019-04-16T05:17:12.005792Z",
     "start_time": "2019-04-16T05:17:12.001802Z"
    }
   },
   "outputs": [
    {
     "data": {
      "text/plain": [
       "(1, 2, 2)"
      ]
     },
     "execution_count": 35,
     "metadata": {},
     "output_type": "execute_result"
    }
   ],
   "source": [
    "b = b.reshape(-1,*b.shape)\n",
    "b.shape"
   ]
  },
  {
   "cell_type": "code",
   "execution_count": 36,
   "metadata": {
    "ExecuteTime": {
     "end_time": "2019-04-16T05:17:14.357370Z",
     "start_time": "2019-04-16T05:17:14.352383Z"
    }
   },
   "outputs": [
    {
     "data": {
      "text/plain": [
       "array([[[ 5,  6],\n",
       "        [ 7,  8]],\n",
       "\n",
       "       [[ 9, 10],\n",
       "        [11, 12]],\n",
       "\n",
       "       [[22, 23],\n",
       "        [24, 25]]])"
      ]
     },
     "execution_count": 36,
     "metadata": {},
     "output_type": "execute_result"
    }
   ],
   "source": [
    "np.concatenate((a,b))"
   ]
  },
  {
   "cell_type": "code",
   "execution_count": null,
   "metadata": {},
   "outputs": [],
   "source": [
    "class S2FDatasetRAM(data.Dataset):\n",
    "    '''\n",
    "    Sequence of Frames to one frame dataset.\n",
    "    Load all data into RAM at once.\n",
    "    '''\n",
    "\n",
    "    def __init__(self, datadir, seq_len):\n",
    "        '''\n",
    "        Initialization\n",
    "        Args:\n",
    "            datadir: directory of serialized tensors\n",
    "            seq_len: timestep length of tensors\n",
    "            batch_size: divide a sequence to n_batch sequences\n",
    "        '''\n",
    "        self.paths = glob(datadir + '/*.pkl')\n",
    "        path_num = len(self.paths)\n",
    "        full_seq = path_num // seq_len * seq_len\n",
    "        # only want full size batches\n",
    "        self.paths = self.paths[: full_seq]\n",
    "\n",
    "        self.seq_len = seq_len\n",
    "        # total length of all tensors\n",
    "        self.length = len(self.paths)\n",
    "\n",
    "        # load all tensor into RAM\n",
    "        tensors = []\n",
    "        for path in tqdm(self.paths, total=self.length, ascii=True):\n",
    "            tensor = torch.load(path).numpy()\n",
    "            tensors.append(tensor)\n",
    "        tensors = np.array(tensors).astype('float32')\n",
    "        self.tensors = tensors.reshape((self.length, -1))\n",
    "\n",
    "    def __len__(self):\n",
    "        '''\n",
    "        Denotes the total number of samples\n",
    "        '''\n",
    "        return self.length - self.seq_len\n",
    "\n",
    "    def __getitem__(self, index):\n",
    "        '''\n",
    "        Generates one sample of data\n",
    "        '''\n",
    "        X = self.tensors[index: index+self.seq_len]\n",
    "        y = self.tensors[index+self.seq_len]\n",
    "        X = torch.from_numpy(X)\n",
    "        y = torch.from_numpy(y)\n",
    "        return X, y"
   ]
  }
 ],
 "metadata": {
  "kernelspec": {
   "display_name": "Python 3",
   "language": "python",
   "name": "python3"
  },
  "language_info": {
   "codemirror_mode": {
    "name": "ipython",
    "version": 3
   },
   "file_extension": ".py",
   "mimetype": "text/x-python",
   "name": "python",
   "nbconvert_exporter": "python",
   "pygments_lexer": "ipython3",
   "version": "3.7.1"
  }
 },
 "nbformat": 4,
 "nbformat_minor": 2
}
