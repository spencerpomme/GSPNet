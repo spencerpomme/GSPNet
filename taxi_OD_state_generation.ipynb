{
 "cells": [
  {
   "cell_type": "markdown",
   "metadata": {},
   "source": [
    "# Model Definition test\n",
    "\n",
    "In this notebook we try to train a model to predict traffic state."
   ]
  },
  {
   "cell_type": "code",
   "execution_count": 1,
   "metadata": {
    "ExecuteTime": {
     "end_time": "2019-04-03T07:32:24.412488Z",
     "start_time": "2019-04-03T07:32:19.459992Z"
    }
   },
   "outputs": [],
   "source": [
    "from torch.utils.data import TensorDataset, DataLoader\n",
    "import pandas as pd\n",
    "import numpy as np\n",
    "import torch\n",
    "import time\n",
    "import pickle as pkl\n",
    "import matplotlib.pyplot as plt"
   ]
  },
  {
   "cell_type": "code",
   "execution_count": null,
   "metadata": {},
   "outputs": [],
   "source": [
    "data_dir = 'full_year_15min/'"
   ]
  },
  {
   "cell_type": "code",
   "execution_count": null,
   "metadata": {},
   "outputs": [],
   "source": [
    "from torch.utils.data import TensorDataset, DataLoader\n",
    "import numpy as np\n",
    "\n",
    "def batch_data(words, sequence_length, batch_size):\n",
    "    \"\"\"\n",
    "    Batch the neural network data using DataLoader\n",
    "    :param words: The word ids of the TV scripts\n",
    "    :param sequence_length: The sequence length of each batch\n",
    "    :param batch_size: The size of each batch; the number of sequences in a batch\n",
    "    :return: DataLoader with batched data\n",
    "    \"\"\"\n",
    "    num_batches = len(words) // batch_size\n",
    "    \n",
    "    # only full batches\n",
    "    words = words[: num_batches * batch_size]\n",
    "    \n",
    "    # TODO: Implement function    \n",
    "    features, targets = [], []\n",
    "\n",
    "    for idx in range(0, (len(words) - sequence_length)):\n",
    "        features.append(words[idx: idx + sequence_length])\n",
    "        targets.append(words[idx + sequence_length])\n",
    "\n",
    "    data = TensorDataset(torch.from_numpy(np.asarray(features, 'int64')),\n",
    "                         torch.from_numpy(np.asarray(targets, 'int64')))\n",
    "    \n",
    "    data_loader = torch.utils.data.DataLoader(data, shuffle=False , batch_size = batch_size, num_workers=6)\n",
    "\n",
    "    # return a dataloader\n",
    "    return data_loader"
   ]
  }
 ],
 "metadata": {
  "kernelspec": {
   "display_name": "Python 3",
   "language": "python",
   "name": "python3"
  },
  "language_info": {
   "codemirror_mode": {
    "name": "ipython",
    "version": 3
   },
   "file_extension": ".py",
   "mimetype": "text/x-python",
   "name": "python",
   "nbconvert_exporter": "python",
   "pygments_lexer": "ipython3",
   "version": "3.7.1"
  }
 },
 "nbformat": 4,
 "nbformat_minor": 2
}
