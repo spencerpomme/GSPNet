{
 "cells": [
  {
   "cell_type": "markdown",
   "metadata": {},
   "source": [
    "<img src=\"images/logo_city.png\" align=\"right\" width=\"20%\">"
   ]
  },
  {
   "cell_type": "markdown",
   "metadata": {},
   "source": [
    "# Data Generation Module Development\n",
    "\n",
    "## 1. API"
   ]
  },
  {
   "cell_type": "markdown",
   "metadata": {},
   "source": [
    "Import necessary libraries:"
   ]
  },
  {
   "cell_type": "code",
   "execution_count": 1,
   "metadata": {
    "ExecuteTime": {
     "end_time": "2019-03-30T18:08:53.317803Z",
     "start_time": "2019-03-30T18:08:52.515340Z"
    }
   },
   "outputs": [],
   "source": [
    "import timeslice                    \n",
    "import timeslice.source as source   \n",
    "import timeslice.rule  as rule      \n",
    "import timeslice.worker as worker\n",
    "import timeslice.viz as viz # to be done\n",
    "import torch"
   ]
  },
  {
   "cell_type": "markdown",
   "metadata": {},
   "source": [
    "Define tensor generator:"
   ]
  },
  {
   "cell_type": "code",
   "execution_count": null,
   "metadata": {
    "ExecuteTime": {
     "start_time": "2019-03-30T18:08:54.303Z"
    }
   },
   "outputs": [
    {
     "name": "stdout",
     "output_type": "stream",
     "text": [
      "Database data load started at Sun Mar 31 02:08:54 2019\n"
     ]
    },
    {
     "name": "stderr",
     "output_type": "stream",
     "text": [
      " 48%|#######################################4                                          | 26/54 [01:29<01:36,  3.45s/it]"
     ]
    }
   ],
   "source": [
    "# set time split rule for dataset generation\n",
    "time_rule = rule.TimeSlice(stp='2017-01-01 00:00:00', etp='2018-01-01 00:00:00', freq='15min')\n",
    "\n",
    "# connect to database source\n",
    "taxi = source.DatabaseSource('cleaned_small_yellow_2017_full', time_rule)\n",
    "taxi.load()\n",
    "\n",
    "tables = taxi.table_pool"
   ]
  },
  {
   "cell_type": "markdown",
   "metadata": {},
   "source": [
    "Generate tensors:"
   ]
  },
  {
   "cell_type": "code",
   "execution_count": null,
   "metadata": {
    "ExecuteTime": {
     "start_time": "2019-03-30T18:08:56.429Z"
    }
   },
   "outputs": [],
   "source": [
    "worker_0 = worker.Worker(0, tables[0], time_rule, 'new_test_dir', True)\n",
    "worker_1 = worker.Worker(1, tables[1], time_rule, 'new_test_dir', True)\n",
    "worker_2 = worker.Worker(2, tables[2], time_rule, 'new_test_dir', True)\n",
    "worker_3 = worker.Worker(3, tables[3], time_rule, 'new_test_dir', True)"
   ]
  },
  {
   "cell_type": "code",
   "execution_count": 4,
   "metadata": {
    "ExecuteTime": {
     "end_time": "2019-03-31T01:33:47.161327Z",
     "start_time": "2019-03-31T01:33:47.157335Z"
    }
   },
   "outputs": [
    {
     "name": "stdout",
     "output_type": "stream",
     "text": [
      "{'a': 1, 'b': 2} {'a': 1}\n"
     ]
    }
   ],
   "source": [
    "import copy\n",
    "import pickle as pkl\n",
    "\n",
    "class Test:\n",
    "    def __init__(self, dictionary):\n",
    "        self.dict = dictionary\n",
    "        \n",
    "    def write(self):\n",
    "        self.dict"
   ]
  },
  {
   "cell_type": "code",
   "execution_count": null,
   "metadata": {},
   "outputs": [],
   "source": []
  }
 ],
 "metadata": {
  "kernelspec": {
   "display_name": "Python 3",
   "language": "python",
   "name": "python3"
  },
  "language_info": {
   "codemirror_mode": {
    "name": "ipython",
    "version": 3
   },
   "file_extension": ".py",
   "mimetype": "text/x-python",
   "name": "python",
   "nbconvert_exporter": "python",
   "pygments_lexer": "ipython3",
   "version": "3.7.1"
  }
 },
 "nbformat": 4,
 "nbformat_minor": 2
}
