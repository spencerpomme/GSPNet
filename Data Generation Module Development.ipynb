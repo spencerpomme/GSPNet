{
 "cells": [
  {
   "cell_type": "markdown",
   "metadata": {},
   "source": [
    "<img src=\"images/logo_city.png\" align=\"right\" width=\"20%\">"
   ]
  },
  {
   "cell_type": "markdown",
   "metadata": {},
   "source": [
    "# Data Generation Module Development\n",
    "\n",
    "## 1. API"
   ]
  },
  {
   "cell_type": "markdown",
   "metadata": {},
   "source": [
    "Import necessary libraries:"
   ]
  },
  {
   "cell_type": "code",
   "execution_count": null,
   "metadata": {
    "ExecuteTime": {
     "end_time": "2019-03-30T13:52:31.825259Z",
     "start_time": "2019-03-30T13:46:26.506679Z"
    }
   },
   "outputs": [],
   "source": [
    "import timeslice                    \n",
    "import timeslice.source as source   \n",
    "import timeslice.rule  as rule      \n",
    "import timeslice.worker as worker\n",
    "import timeslice.viz as viz # to be done\n",
    "import torch"
   ]
  },
  {
   "cell_type": "code",
   "execution_count": 1,
   "metadata": {
    "ExecuteTime": {
     "end_time": "2019-03-30T13:52:31.825259Z",
     "start_time": "2019-03-30T13:46:26.506679Z"
    }
   },
   "outputs": [
    {
     "name": "stdout",
     "output_type": "stream",
     "text": [
      "Database data load started at Sat Mar 30 21:46:27 2019\n"
     ]
    },
    {
     "name": "stderr",
     "output_type": "stream",
     "text": [
      "100%|##################################################################################| 54/54 [05:59<00:00, 15.69s/it]"
     ]
    },
    {
     "name": "stdout",
     "output_type": "stream",
     "text": [
      "Ended at Sat Mar 30 21:52:31 2019, total time 364.46757888793945 seconds.\n"
     ]
    }
   ],
   "source": [
    "# set time split rule for dataset generation\n",
    "time_rule = rule.TimeSlice(stp='2017-01-01 00:00:00', etp='2018-01-01 00:00:00', freq='15min')\n",
    "\n",
    "# connect to database source\n",
    "taxi = source.DatabaseSource('cleaned_small_yellow_2017_full', time_rule)\n",
    "\n",
    "# initialize worker\n",
    "data_worker = worker.Worker(source=taxi, destin='data_test/concurrent_test', rule=time_rule, viz=True)"
   ]
  },
  {
   "cell_type": "code",
   "execution_count": null,
   "metadata": {},
   "outputs": [],
   "source": []
  }
 ],
 "metadata": {
  "kernelspec": {
   "display_name": "Python 3",
   "language": "python",
   "name": "python3"
  },
  "language_info": {
   "codemirror_mode": {
    "name": "ipython",
    "version": 3
   },
   "file_extension": ".py",
   "mimetype": "text/x-python",
   "name": "python",
   "nbconvert_exporter": "python",
   "pygments_lexer": "ipython3",
   "version": "3.7.1"
  }
 },
 "nbformat": 4,
 "nbformat_minor": 2
}
