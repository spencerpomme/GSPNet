{
 "cells": [
  {
   "cell_type": "markdown",
   "metadata": {},
   "source": [
    "<img src=\"images/logo_city.png\" align=\"right\" width=\"20%\">"
   ]
  },
  {
   "cell_type": "markdown",
   "metadata": {},
   "source": [
    "# Data Generation Module Development\n",
    "\n",
    "## 1. Goal\n",
    "\n",
    "The module should be something like below:"
   ]
  },
  {
   "cell_type": "code",
   "execution_count": null,
   "metadata": {
    "ExecuteTime": {
     "end_time": "2019-03-25T05:03:25.946645Z",
     "start_time": "2019-03-25T05:03:25.941684Z"
    }
   },
   "outputs": [],
   "source": [
    "import timeslice                    # to be created library\n",
    "import timeslice.source as source   # sub module in rnnpipe lib, define source raw data\n",
    "import timeslice.rule  as rule      # sub module in rnnpipe lib, define transformation rule\n",
    "import timeslice.worker as worker   # generate dataset\n",
    "\n",
    "import timeslice.viz as viz         # visualize dataset if apply\n",
    "import torch\n",
    "\n",
    "# connect to database\n",
    "# taxi_dbs = source.DatabaseSource(db='database connect info')\n",
    "\n",
    "# or use a csv file as source\n",
    "taxi_csv_05 = source.CSVSource(file='dataset/nytaxi_yellow_2017_05.csv')\n",
    "taxi_csv_06 = source.CSVSource(file='dataset/nytaxi_yellow_2017_06.csv')\n",
    "taxi_csv_07 = source.CSVSource(file='dataset/nytaxi_yellow_2017_07.csv')\n",
    "taxi_csv_08 = source.CSVSource(file='dataset/nytaxi_yellow_2017_08.csv')\n",
    "taxi_csv_09 = source.CSVSource(file='dataset/nytaxi_yellow_2017_09.csv')\n",
    "taxi_csv_10 = source.CSVSource(file='dataset/nytaxi_yellow_2017_10.csv')\n",
    "taxi_csv_11 = source.CSVSource(file='dataset/nytaxi_yellow_2017_11.csv')\n",
    "taxi_csv_12 = source.CSVSource(file='dataset/nytaxi_yellow_2017_12.csv')\n",
    "\n",
    "# set time split rule to generate different dataset\n",
    "time_rule_05 = rule.TimeSlice(stp='2017-04-30 00:00:00', etp='2017-06-02 00:00:00', freq='15min')\n",
    "time_rule_06 = rule.TimeSlice(stp='2017-05-30 00:00:00', etp='2017-07-02 00:00:00', freq='15min')\n",
    "time_rule_07 = rule.TimeSlice(stp='2017-06-30 00:00:00', etp='2017-08-02 00:00:00', freq='15min')\n",
    "time_rule_08 = rule.TimeSlice(stp='2017-07-30 00:00:00', etp='2017-09-02 00:00:00', freq='15min')\n",
    "time_rule_09 = rule.TimeSlice(stp='2017-08-30 00:00:00', etp='2017-10-02 00:00:00', freq='15min')\n",
    "time_rule_10 = rule.TimeSlice(stp='2017-09-30 00:00:00', etp='2017-11-02 00:00:00', freq='15min')\n",
    "time_rule_11 = rule.TimeSlice(stp='2017-10-30 00:00:00', etp='2017-12-02 00:00:00', freq='15min')\n",
    "time_rule_12 = rule.TimeSlice(stp='2017-11-30 00:00:00', etp='2018-01-01 00:00:00', freq='15min')\n",
    "\n",
    "# instantiate data worker object\n",
    "data_worker_05 = worker.Worker(source=taxi_csv_05, destin='yearly_continuous', rule=time_rule_05, viz=True)\n",
    "data_worker_06 = worker.Worker(source=taxi_csv_06, destin='yearly_continuous', rule=time_rule_06, viz=True)\n",
    "data_worker_07 = worker.Worker(source=taxi_csv_07, destin='yearly_continuous', rule=time_rule_07, viz=True)\n",
    "data_worker_08 = worker.Worker(source=taxi_csv_08, destin='yearly_continuous', rule=time_rule_08, viz=True)\n",
    "data_worker_09 = worker.Worker(source=taxi_csv_09, destin='yearly_continuous', rule=time_rule_09, viz=True)\n",
    "data_worker_10 = worker.Worker(source=taxi_csv_10, destin='yearly_continuous', rule=time_rule_10, viz=True)\n",
    "data_worker_11 = worker.Worker(source=taxi_csv_11, destin='yearly_continuous', rule=time_rule_11, viz=True)\n",
    "data_worker_12 = worker.Worker(source=taxi_csv_12, destin='yearly_continuous', rule=time_rule_12, viz=True)\n"
   ]
  },
  {
   "cell_type": "code",
   "execution_count": null,
   "metadata": {},
   "outputs": [],
   "source": []
  }
 ],
 "metadata": {
  "kernelspec": {
   "display_name": "Python 3",
   "language": "python",
   "name": "python3"
  },
  "language_info": {
   "codemirror_mode": {
    "name": "ipython",
    "version": 3
   },
   "file_extension": ".py",
   "mimetype": "text/x-python",
   "name": "python",
   "nbconvert_exporter": "python",
   "pygments_lexer": "ipython3",
   "version": "3.7.1"
  }
 },
 "nbformat": 4,
 "nbformat_minor": 2
}
