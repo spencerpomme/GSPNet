{
 "cells": [
  {
   "cell_type": "code",
   "execution_count": 8,
   "metadata": {
    "ExecuteTime": {
     "end_time": "2019-04-14T09:18:18.424390Z",
     "start_time": "2019-04-14T09:18:18.264791Z"
    }
   },
   "outputs": [
    {
     "data": {
      "text/plain": [
       "['tensor_dataset/full_year_2018_15min/tensors\\\\2018-01-01_00;00;00-2018-01-01_00;15;00--2018-01-01_00;00;00-2018-01-08_00;00;00--p1-0.pkl',\n",
       " 'tensor_dataset/full_year_2018_15min/tensors\\\\2018-01-01_00;15;00-2018-01-01_00;30;00--2018-01-01_00;00;00-2018-01-08_00;00;00--p1-1.pkl',\n",
       " 'tensor_dataset/full_year_2018_15min/tensors\\\\2018-01-01_00;30;00-2018-01-01_00;45;00--2018-01-01_00;00;00-2018-01-08_00;00;00--p1-2.pkl',\n",
       " 'tensor_dataset/full_year_2018_15min/tensors\\\\2018-01-01_00;45;00-2018-01-01_01;00;00--2018-01-01_00;00;00-2018-01-08_00;00;00--p1-3.pkl',\n",
       " 'tensor_dataset/full_year_2018_15min/tensors\\\\2018-01-01_01;00;00-2018-01-01_01;15;00--2018-01-01_00;00;00-2018-01-08_00;00;00--p1-4.pkl',\n",
       " 'tensor_dataset/full_year_2018_15min/tensors\\\\2018-01-01_01;15;00-2018-01-01_01;30;00--2018-01-01_00;00;00-2018-01-08_00;00;00--p1-5.pkl',\n",
       " 'tensor_dataset/full_year_2018_15min/tensors\\\\2018-01-01_01;30;00-2018-01-01_01;45;00--2018-01-01_00;00;00-2018-01-08_00;00;00--p1-6.pkl',\n",
       " 'tensor_dataset/full_year_2018_15min/tensors\\\\2018-01-01_01;45;00-2018-01-01_02;00;00--2018-01-01_00;00;00-2018-01-08_00;00;00--p1-7.pkl',\n",
       " 'tensor_dataset/full_year_2018_15min/tensors\\\\2018-01-01_02;00;00-2018-01-01_02;15;00--2018-01-01_00;00;00-2018-01-08_00;00;00--p1-8.pkl',\n",
       " 'tensor_dataset/full_year_2018_15min/tensors\\\\2018-01-01_02;15;00-2018-01-01_02;30;00--2018-01-01_00;00;00-2018-01-08_00;00;00--p1-9.pkl']"
      ]
     },
     "execution_count": 8,
     "metadata": {},
     "output_type": "execute_result"
    }
   ],
   "source": [
    "import pandas as pd\n",
    "import glob\n",
    "\n",
    "pattern = 'tensor_dataset/full_year_2018_15min/tensors/*.pkl'\n",
    "dirs = glob.glob(pattern)\n",
    "\n",
    "dirs[:10]"
   ]
  },
  {
   "cell_type": "code",
   "execution_count": 2,
   "metadata": {
    "ExecuteTime": {
     "end_time": "2019-04-10T13:45:33.303759Z",
     "start_time": "2019-04-10T13:45:33.298771Z"
    }
   },
   "outputs": [
    {
     "data": {
      "text/plain": [
       "[0, 1, 2, 3, 4, 5, 6, 7, 8, 9]"
      ]
     },
     "execution_count": 2,
     "metadata": {},
     "output_type": "execute_result"
    }
   ],
   "source": [
    "list(range(10))"
   ]
  },
  {
   "cell_type": "code",
   "execution_count": 9,
   "metadata": {
    "ExecuteTime": {
     "end_time": "2019-04-14T09:18:27.376069Z",
     "start_time": "2019-04-14T09:18:27.370061Z"
    }
   },
   "outputs": [
    {
     "data": {
      "text/plain": [
       "'2018-01-01_01;30;00-2018-01-01_01;45;00--2018-01-01_00;00;00-2018-01-08_00;00;00--p1-6.pkl'"
      ]
     },
     "execution_count": 9,
     "metadata": {},
     "output_type": "execute_result"
    }
   ],
   "source": [
    "import re\n",
    "\n",
    "d = dirs[6]\n",
    "pattern = re.compile('(?<=-)\\d+(?=.pkl)')\n",
    "int(pattern.findall(d)[0])\n",
    "d = d.split('\\\\')[1]\n",
    "d"
   ]
  },
  {
   "cell_type": "code",
   "execution_count": 10,
   "metadata": {
    "ExecuteTime": {
     "end_time": "2019-04-14T09:18:29.444946Z",
     "start_time": "2019-04-14T09:18:29.441977Z"
    }
   },
   "outputs": [],
   "source": [
    "pattern = re.compile(\n",
    "        '^(\\d{4})-([0-1]\\d)-([0-3]\\d)_([0-1]\\d|[2][0-3]);([0-5]\\d);([0-5]\\d)-(\\d{4})-([0-1]\\d)-([0-3]\\d)_([0-1]\\d|[2][0-3]);([0-5]\\d);([0-5]\\d)')"
   ]
  },
  {
   "cell_type": "code",
   "execution_count": 13,
   "metadata": {
    "ExecuteTime": {
     "end_time": "2019-04-14T09:18:43.375188Z",
     "start_time": "2019-04-14T09:18:43.370201Z"
    }
   },
   "outputs": [
    {
     "data": {
      "text/plain": [
       "[('2018', '01', '01', '01', '30', '00', '2018', '01', '01', '01', '45', '00')]"
      ]
     },
     "execution_count": 13,
     "metadata": {},
     "output_type": "execute_result"
    }
   ],
   "source": [
    "res = pattern.findall(d)\n",
    "res"
   ]
  },
  {
   "cell_type": "code",
   "execution_count": 14,
   "metadata": {
    "ExecuteTime": {
     "end_time": "2019-04-14T09:18:47.649306Z",
     "start_time": "2019-04-14T09:18:47.645316Z"
    }
   },
   "outputs": [
    {
     "data": {
      "text/plain": [
       "('2018', '01', '01', '01', '30', '00', '2018', '01', '01', '01', '45', '00')"
      ]
     },
     "execution_count": 14,
     "metadata": {},
     "output_type": "execute_result"
    }
   ],
   "source": [
    "res[0]"
   ]
  },
  {
   "cell_type": "code",
   "execution_count": 16,
   "metadata": {
    "ExecuteTime": {
     "end_time": "2019-04-14T09:25:52.558135Z",
     "start_time": "2019-04-14T09:25:52.554146Z"
    }
   },
   "outputs": [
    {
     "data": {
      "text/plain": [
       "1"
      ]
     },
     "execution_count": 16,
     "metadata": {},
     "output_type": "execute_result"
    }
   ],
   "source": [
    "int(res[0][3])"
   ]
  },
  {
   "cell_type": "code",
   "execution_count": 20,
   "metadata": {
    "ExecuteTime": {
     "end_time": "2019-04-14T10:11:34.455910Z",
     "start_time": "2019-04-14T10:11:34.452894Z"
    }
   },
   "outputs": [],
   "source": [
    "ls = [[i,i,i] for i in range(10)]"
   ]
  },
  {
   "cell_type": "code",
   "execution_count": 21,
   "metadata": {
    "ExecuteTime": {
     "end_time": "2019-04-14T10:11:44.090059Z",
     "start_time": "2019-04-14T10:11:44.083058Z"
    }
   },
   "outputs": [
    {
     "ename": "NameError",
     "evalue": "name 'flatten' is not defined",
     "output_type": "error",
     "traceback": [
      "\u001b[1;31m---------------------------------------------------------------------------\u001b[0m",
      "\u001b[1;31mNameError\u001b[0m                                 Traceback (most recent call last)",
      "\u001b[1;32m<ipython-input-21-bfdb9fde7793>\u001b[0m in \u001b[0;36m<module>\u001b[1;34m\u001b[0m\n\u001b[1;32m----> 1\u001b[1;33m \u001b[0mflatten\u001b[0m\u001b[1;33m(\u001b[0m\u001b[0mls\u001b[0m\u001b[1;33m)\u001b[0m\u001b[1;33m\u001b[0m\u001b[1;33m\u001b[0m\u001b[0m\n\u001b[0m",
      "\u001b[1;31mNameError\u001b[0m: name 'flatten' is not defined"
     ]
    }
   ],
   "source": [
    "flatten(ls)"
   ]
  },
  {
   "cell_type": "code",
   "execution_count": 22,
   "metadata": {
    "ExecuteTime": {
     "end_time": "2019-04-14T12:47:25.995366Z",
     "start_time": "2019-04-14T12:47:25.991347Z"
    }
   },
   "outputs": [
    {
     "data": {
      "text/plain": [
       "24"
      ]
     },
     "execution_count": 22,
     "metadata": {},
     "output_type": "execute_result"
    }
   ],
   "source": [
    "labels = [0,0,0,1,1,1,2,2,2,3,3,3,4,4,4,5,5,5,6,6,6,7,7,7]\n",
    "len(labels)"
   ]
  },
  {
   "cell_type": "code",
   "execution_count": null,
   "metadata": {},
   "outputs": [],
   "source": []
  }
 ],
 "metadata": {
  "kernelspec": {
   "display_name": "Python 3",
   "language": "python",
   "name": "python3"
  },
  "language_info": {
   "codemirror_mode": {
    "name": "ipython",
    "version": 3
   },
   "file_extension": ".py",
   "mimetype": "text/x-python",
   "name": "python",
   "nbconvert_exporter": "python",
   "pygments_lexer": "ipython3",
   "version": "3.7.1"
  }
 },
 "nbformat": 4,
 "nbformat_minor": 2
}
