{
 "cells": [
  {
   "cell_type": "markdown",
   "metadata": {},
   "source": [
    "# Numpy CSV minipulater"
   ]
  },
  {
   "cell_type": "code",
   "execution_count": 1,
   "metadata": {
    "ExecuteTime": {
     "end_time": "2019-04-10T01:54:35.299845Z",
     "start_time": "2019-04-10T01:54:31.920933Z"
    }
   },
   "outputs": [],
   "source": [
    "import pandas as pd\n",
    "import glob"
   ]
  },
  {
   "cell_type": "code",
   "execution_count": 2,
   "metadata": {
    "ExecuteTime": {
     "end_time": "2019-04-10T01:54:39.509511Z",
     "start_time": "2019-04-10T01:54:39.478566Z"
    }
   },
   "outputs": [],
   "source": [
    "pattern = 'F:\\\\NY_taxi\\\\2018\\\\*.csv'\n",
    "dirs = glob.glob(pattern)"
   ]
  },
  {
   "cell_type": "code",
   "execution_count": 3,
   "metadata": {
    "ExecuteTime": {
     "end_time": "2019-04-09T04:40:00.989864Z",
     "start_time": "2019-04-09T04:28:41.289852Z"
    }
   },
   "outputs": [
    {
     "name": "stdout",
     "output_type": "stream",
     "text": [
      "F:\\NY_taxi\\2018\\yellow_tripdata_2018-01.csv finished..\n",
      "F:\\NY_taxi\\2018\\yellow_tripdata_2018-02.csv finished..\n",
      "F:\\NY_taxi\\2018\\yellow_tripdata_2018-03.csv finished..\n",
      "F:\\NY_taxi\\2018\\yellow_tripdata_2018-04.csv finished..\n",
      "F:\\NY_taxi\\2018\\yellow_tripdata_2018-05.csv finished..\n",
      "F:\\NY_taxi\\2018\\yellow_tripdata_2018-06.csv finished..\n",
      "F:\\NY_taxi\\2018\\yellow_tripdata_2018-07.csv finished..\n",
      "F:\\NY_taxi\\2018\\yellow_tripdata_2018-08.csv finished..\n",
      "F:\\NY_taxi\\2018\\yellow_tripdata_2018-09.csv finished..\n",
      "F:\\NY_taxi\\2018\\yellow_tripdata_2018-10.csv finished..\n",
      "F:\\NY_taxi\\2018\\yellow_tripdata_2018-11.csv finished..\n",
      "F:\\NY_taxi\\2018\\yellow_tripdata_2018-12.csv finished..\n"
     ]
    }
   ],
   "source": [
    "for path in dirs:\n",
    "    file = pd.read_csv(path)\n",
    "    table = file.loc[2:, [\n",
    "                        'tpep_pickup_datetime',\n",
    "                        'tpep_dropoff_datetime',\n",
    "                        'PULocationID',\n",
    "                        'DOLocationID',\n",
    "                        'trip_distance',\n",
    "                        'passenger_count',\n",
    "                        'total_amount']]\n",
    "    \n",
    "    table.to_csv(path[:-4]+'_projected.csv', index=False, columns=[\n",
    "                                                        'tpep_pickup_datetime',\n",
    "                                                        'tpep_dropoff_datetime',\n",
    "                                                        'PULocationID',\n",
    "                                                        'DOLocationID',\n",
    "                                                        'trip_distance',\n",
    "                                                        'passenger_count',\n",
    "                                                        'total_amount'])\n",
    "    print(f'{path} finished..')\n",
    "    del table\n",
    "    del file"
   ]
  },
  {
   "cell_type": "code",
   "execution_count": 3,
   "metadata": {
    "ExecuteTime": {
     "end_time": "2019-04-10T01:55:03.425863Z",
     "start_time": "2019-04-10T01:54:49.230607Z"
    }
   },
   "outputs": [],
   "source": [
    "table = pd.read_csv(dirs[0])"
   ]
  },
  {
   "cell_type": "code",
   "execution_count": 5,
   "metadata": {
    "ExecuteTime": {
     "end_time": "2019-04-10T01:55:27.622342Z",
     "start_time": "2019-04-10T01:55:27.615349Z"
    }
   },
   "outputs": [
    {
     "data": {
      "text/plain": [
       "Index(['VendorID', 'tpep_pickup_datetime', 'tpep_dropoff_datetime',\n",
       "       'passenger_count', 'trip_distance', 'RatecodeID', 'store_and_fwd_flag',\n",
       "       'PULocationID', 'DOLocationID', 'payment_type', 'fare_amount', 'extra',\n",
       "       'mta_tax', 'tip_amount', 'tolls_amount', 'improvement_surcharge',\n",
       "       'total_amount'],\n",
       "      dtype='object')"
      ]
     },
     "execution_count": 5,
     "metadata": {},
     "output_type": "execute_result"
    }
   ],
   "source": [
    "table.columns"
   ]
  },
  {
   "cell_type": "code",
   "execution_count": 6,
   "metadata": {
    "ExecuteTime": {
     "end_time": "2019-04-10T01:55:45.801388Z",
     "start_time": "2019-04-10T01:55:45.780443Z"
    }
   },
   "outputs": [
    {
     "data": {
      "text/html": [
       "<div>\n",
       "<style scoped>\n",
       "    .dataframe tbody tr th:only-of-type {\n",
       "        vertical-align: middle;\n",
       "    }\n",
       "\n",
       "    .dataframe tbody tr th {\n",
       "        vertical-align: top;\n",
       "    }\n",
       "\n",
       "    .dataframe thead th {\n",
       "        text-align: right;\n",
       "    }\n",
       "</style>\n",
       "<table border=\"1\" class=\"dataframe\">\n",
       "  <thead>\n",
       "    <tr style=\"text-align: right;\">\n",
       "      <th></th>\n",
       "      <th>VendorID</th>\n",
       "      <th>tpep_pickup_datetime</th>\n",
       "      <th>tpep_dropoff_datetime</th>\n",
       "      <th>passenger_count</th>\n",
       "      <th>trip_distance</th>\n",
       "      <th>RatecodeID</th>\n",
       "      <th>store_and_fwd_flag</th>\n",
       "      <th>PULocationID</th>\n",
       "      <th>DOLocationID</th>\n",
       "      <th>payment_type</th>\n",
       "      <th>fare_amount</th>\n",
       "      <th>extra</th>\n",
       "      <th>mta_tax</th>\n",
       "      <th>tip_amount</th>\n",
       "      <th>tolls_amount</th>\n",
       "      <th>improvement_surcharge</th>\n",
       "      <th>total_amount</th>\n",
       "    </tr>\n",
       "  </thead>\n",
       "  <tbody>\n",
       "    <tr>\n",
       "      <th>0</th>\n",
       "      <td>1</td>\n",
       "      <td>2018-01-01 00:21:05</td>\n",
       "      <td>2018-01-01 00:24:23</td>\n",
       "      <td>1</td>\n",
       "      <td>0.5</td>\n",
       "      <td>1</td>\n",
       "      <td>N</td>\n",
       "      <td>41</td>\n",
       "      <td>24</td>\n",
       "      <td>2</td>\n",
       "      <td>4.5</td>\n",
       "      <td>0.5</td>\n",
       "      <td>0.5</td>\n",
       "      <td>0.0</td>\n",
       "      <td>0.0</td>\n",
       "      <td>0.3</td>\n",
       "      <td>5.8</td>\n",
       "    </tr>\n",
       "    <tr>\n",
       "      <th>1</th>\n",
       "      <td>1</td>\n",
       "      <td>2018-01-01 00:44:55</td>\n",
       "      <td>2018-01-01 01:03:05</td>\n",
       "      <td>1</td>\n",
       "      <td>2.7</td>\n",
       "      <td>1</td>\n",
       "      <td>N</td>\n",
       "      <td>239</td>\n",
       "      <td>140</td>\n",
       "      <td>2</td>\n",
       "      <td>14.0</td>\n",
       "      <td>0.5</td>\n",
       "      <td>0.5</td>\n",
       "      <td>0.0</td>\n",
       "      <td>0.0</td>\n",
       "      <td>0.3</td>\n",
       "      <td>15.3</td>\n",
       "    </tr>\n",
       "  </tbody>\n",
       "</table>\n",
       "</div>"
      ],
      "text/plain": [
       "   VendorID tpep_pickup_datetime tpep_dropoff_datetime  passenger_count  \\\n",
       "0         1  2018-01-01 00:21:05   2018-01-01 00:24:23                1   \n",
       "1         1  2018-01-01 00:44:55   2018-01-01 01:03:05                1   \n",
       "\n",
       "   trip_distance  RatecodeID store_and_fwd_flag  PULocationID  DOLocationID  \\\n",
       "0            0.5           1                  N            41            24   \n",
       "1            2.7           1                  N           239           140   \n",
       "\n",
       "   payment_type  fare_amount  extra  mta_tax  tip_amount  tolls_amount  \\\n",
       "0             2          4.5    0.5      0.5         0.0           0.0   \n",
       "1             2         14.0    0.5      0.5         0.0           0.0   \n",
       "\n",
       "   improvement_surcharge  total_amount  \n",
       "0                    0.3           5.8  \n",
       "1                    0.3          15.3  "
      ]
     },
     "execution_count": 6,
     "metadata": {},
     "output_type": "execute_result"
    }
   ],
   "source": [
    "table.iloc[:2,:]"
   ]
  },
  {
   "cell_type": "code",
   "execution_count": 9,
   "metadata": {
    "ExecuteTime": {
     "end_time": "2019-04-10T01:57:53.902128Z",
     "start_time": "2019-04-10T01:57:53.898173Z"
    }
   },
   "outputs": [
    {
     "data": {
      "text/plain": [
       "str"
      ]
     },
     "execution_count": 9,
     "metadata": {},
     "output_type": "execute_result"
    }
   ],
   "source": [
    "type(table.iloc[0,2])"
   ]
  },
  {
   "cell_type": "code",
   "execution_count": 10,
   "metadata": {
    "ExecuteTime": {
     "end_time": "2019-04-10T01:58:05.120080Z",
     "start_time": "2019-04-10T01:58:05.116119Z"
    }
   },
   "outputs": [
    {
     "data": {
      "text/plain": [
       "numpy.int64"
      ]
     },
     "execution_count": 10,
     "metadata": {},
     "output_type": "execute_result"
    }
   ],
   "source": [
    "type(table.iloc[0,3])"
   ]
  },
  {
   "cell_type": "code",
   "execution_count": 11,
   "metadata": {
    "ExecuteTime": {
     "end_time": "2019-04-10T01:59:16.403376Z",
     "start_time": "2019-04-10T01:59:16.398365Z"
    }
   },
   "outputs": [
    {
     "data": {
      "text/plain": [
       "[numpy.int64,\n",
       " str,\n",
       " str,\n",
       " numpy.int64,\n",
       " numpy.float64,\n",
       " numpy.int64,\n",
       " str,\n",
       " numpy.int64,\n",
       " numpy.int64,\n",
       " numpy.int64,\n",
       " numpy.float64,\n",
       " numpy.float64,\n",
       " numpy.float64,\n",
       " numpy.float64,\n",
       " numpy.float64,\n",
       " numpy.float64,\n",
       " numpy.float64]"
      ]
     },
     "execution_count": 11,
     "metadata": {},
     "output_type": "execute_result"
    }
   ],
   "source": [
    "list(map(type, table.iloc[0, :]))"
   ]
  },
  {
   "cell_type": "code",
   "execution_count": 12,
   "metadata": {
    "ExecuteTime": {
     "end_time": "2019-04-10T02:22:07.173237Z",
     "start_time": "2019-04-10T02:22:07.168250Z"
    }
   },
   "outputs": [
    {
     "data": {
      "text/plain": [
       "type"
      ]
     },
     "execution_count": 12,
     "metadata": {},
     "output_type": "execute_result"
    }
   ],
   "source": [
    "type(Out[11][0])"
   ]
  },
  {
   "cell_type": "code",
   "execution_count": 15,
   "metadata": {
    "ExecuteTime": {
     "end_time": "2019-04-10T04:33:26.663208Z",
     "start_time": "2019-04-10T04:33:26.503968Z"
    }
   },
   "outputs": [],
   "source": [
    "paths = glob.glob('tensor_dataset/full_year_2018_15min/tensors/*.pkl')"
   ]
  },
  {
   "cell_type": "code",
   "execution_count": 16,
   "metadata": {
    "ExecuteTime": {
     "end_time": "2019-04-10T04:33:28.022179Z",
     "start_time": "2019-04-10T04:33:28.018213Z"
    }
   },
   "outputs": [
    {
     "data": {
      "text/plain": [
       "35040"
      ]
     },
     "execution_count": 16,
     "metadata": {},
     "output_type": "execute_result"
    }
   ],
   "source": [
    "len(paths)"
   ]
  },
  {
   "cell_type": "code",
   "execution_count": 17,
   "metadata": {
    "ExecuteTime": {
     "end_time": "2019-04-10T04:33:57.258601Z",
     "start_time": "2019-04-10T04:33:57.253614Z"
    }
   },
   "outputs": [
    {
     "data": {
      "text/plain": [
       "['tensor_dataset/full_year_2018_15min/tensors\\\\2018-01-01_00;00;00-2018-01-01_00;15;00--2018-01-01_00;00;00-2018-01-08_00;00;00--p1-0.pkl',\n",
       " 'tensor_dataset/full_year_2018_15min/tensors\\\\2018-01-01_00;15;00-2018-01-01_00;30;00--2018-01-01_00;00;00-2018-01-08_00;00;00--p1-1.pkl',\n",
       " 'tensor_dataset/full_year_2018_15min/tensors\\\\2018-01-01_00;30;00-2018-01-01_00;45;00--2018-01-01_00;00;00-2018-01-08_00;00;00--p1-2.pkl',\n",
       " 'tensor_dataset/full_year_2018_15min/tensors\\\\2018-01-01_00;45;00-2018-01-01_01;00;00--2018-01-01_00;00;00-2018-01-08_00;00;00--p1-3.pkl',\n",
       " 'tensor_dataset/full_year_2018_15min/tensors\\\\2018-01-01_01;00;00-2018-01-01_01;15;00--2018-01-01_00;00;00-2018-01-08_00;00;00--p1-4.pkl']"
      ]
     },
     "execution_count": 17,
     "metadata": {},
     "output_type": "execute_result"
    }
   ],
   "source": [
    "paths[:5]"
   ]
  },
  {
   "cell_type": "code",
   "execution_count": 18,
   "metadata": {
    "ExecuteTime": {
     "end_time": "2019-04-10T04:35:25.045035Z",
     "start_time": "2019-04-10T04:35:25.036060Z"
    }
   },
   "outputs": [],
   "source": [
    "ids = {}\n",
    "for k, v in enumerate(paths):\n",
    "    ids[k] = v"
   ]
  },
  {
   "cell_type": "code",
   "execution_count": 19,
   "metadata": {
    "ExecuteTime": {
     "end_time": "2019-04-10T04:35:30.662832Z",
     "start_time": "2019-04-10T04:35:30.658844Z"
    }
   },
   "outputs": [
    {
     "data": {
      "text/plain": [
       "'tensor_dataset/full_year_2018_15min/tensors\\\\2018-01-01_00;15;00-2018-01-01_00;30;00--2018-01-01_00;00;00-2018-01-08_00;00;00--p1-1.pkl'"
      ]
     },
     "execution_count": 19,
     "metadata": {},
     "output_type": "execute_result"
    }
   ],
   "source": [
    "ids[1]"
   ]
  },
  {
   "cell_type": "code",
   "execution_count": 20,
   "metadata": {
    "ExecuteTime": {
     "end_time": "2019-04-10T06:31:06.097640Z",
     "start_time": "2019-04-10T06:31:06.093679Z"
    }
   },
   "outputs": [
    {
     "data": {
      "text/plain": [
       "35040"
      ]
     },
     "execution_count": 20,
     "metadata": {},
     "output_type": "execute_result"
    }
   ],
   "source": [
    "len(ids)"
   ]
  },
  {
   "cell_type": "code",
   "execution_count": 28,
   "metadata": {
    "ExecuteTime": {
     "end_time": "2019-04-10T06:47:09.359377Z",
     "start_time": "2019-04-10T06:47:09.355387Z"
    }
   },
   "outputs": [
    {
     "data": {
      "text/plain": [
       "34944"
      ]
     },
     "execution_count": 28,
     "metadata": {},
     "output_type": "execute_result"
    }
   ],
   "source": [
    "35040 // 128 * 128"
   ]
  },
  {
   "cell_type": "code",
   "execution_count": null,
   "metadata": {},
   "outputs": [],
   "source": []
  }
 ],
 "metadata": {
  "kernelspec": {
   "display_name": "Python 3",
   "language": "python",
   "name": "python3"
  },
  "language_info": {
   "codemirror_mode": {
    "name": "ipython",
    "version": 3
   },
   "file_extension": ".py",
   "mimetype": "text/x-python",
   "name": "python",
   "nbconvert_exporter": "python",
   "pygments_lexer": "ipython3",
   "version": "3.7.1"
  }
 },
 "nbformat": 4,
 "nbformat_minor": 2
}
