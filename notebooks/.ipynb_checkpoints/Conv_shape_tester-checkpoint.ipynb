{
 "cells": [
  {
   "cell_type": "code",
   "execution_count": 1,
   "metadata": {
    "ExecuteTime": {
     "end_time": "2019-05-02T11:11:21.406981Z",
     "start_time": "2019-05-02T11:11:16.935745Z"
    }
   },
   "outputs": [],
   "source": [
    "import pandas as pd\n",
    "import numpy as np\n",
    "import pickle as pkl\n",
    "import matplotlib.pyplot as plt\n",
    "import os\n",
    "import re\n",
    "import time\n",
    "import torch\n",
    "import torch.nn.functional as F\n",
    "\n",
    "from torch import nn, optim\n",
    "from torch.utils.data import TensorDataset, DataLoader\n",
    "from glob import glob, iglob"
   ]
  },
  {
   "cell_type": "code",
   "execution_count": 19,
   "metadata": {
    "ExecuteTime": {
     "end_time": "2019-05-01T05:23:09.196411Z",
     "start_time": "2019-05-01T05:23:09.190422Z"
    }
   },
   "outputs": [],
   "source": [
    "%matplotlib inline\n",
    "import pylab as plt\n",
    "import numpy as np\n",
    "from PIL import Image\n",
    "\n",
    "z = np.random.random((69,69,3))   # Test data\n",
    "z *= (255 // z.max())\n",
    "z = z.astype('uint8')\n",
    "image = Image.fromarray(z)"
   ]
  },
  {
   "cell_type": "code",
   "execution_count": 2,
   "metadata": {
    "ExecuteTime": {
     "end_time": "2019-04-29T15:47:16.076787Z",
     "start_time": "2019-04-29T15:47:16.069821Z"
    }
   },
   "outputs": [],
   "source": [
    "def conv(in_channels, out_channels, kernel_size, stride=2, padding=1, batch_norm=True):\n",
    "    '''\n",
    "    Creates a convolutional layer, with optional batch normalization.\n",
    "    '''\n",
    "    layers = []\n",
    "    conv_layer = nn.Conv2d(in_channels, out_channels,\n",
    "                           kernel_size, stride, padding, bias=False)\n",
    "\n",
    "    # append conv layer\n",
    "    layers.append(conv_layer)\n",
    "\n",
    "    if batch_norm:\n",
    "        # append batchnorm layer\n",
    "        layers.append(nn.BatchNorm2d(out_channels))\n",
    "\n",
    "    # using Sequential container\n",
    "    return nn.Sequential(*layers)\n",
    "\n",
    "\n",
    "# helper deconv function\n",
    "def deconv(in_channels, out_channels, kernel_size, stride=2, padding=1, batch_norm=True):\n",
    "    '''\n",
    "    Creates a transposed-convolutional layer, with optional batch normalization.\n",
    "    '''\n",
    "    # create a sequence of transpose + optional batch norm layers\n",
    "    layers = []\n",
    "    transpose_conv_layer = nn.ConvTranspose2d(in_channels, out_channels,\n",
    "                                              kernel_size, stride, padding, bias=False)\n",
    "    # append transpose convolutional layer\n",
    "    layers.append(transpose_conv_layer)\n",
    "\n",
    "    if batch_norm:\n",
    "        # append batchnorm layer\n",
    "        layers.append(nn.BatchNorm2d(out_channels))\n",
    "\n",
    "    return nn.Sequential(*layers)"
   ]
  },
  {
   "cell_type": "code",
   "execution_count": 2,
   "metadata": {
    "ExecuteTime": {
     "end_time": "2019-05-02T11:14:53.966519Z",
     "start_time": "2019-05-02T11:14:53.949564Z"
    }
   },
   "outputs": [
    {
     "data": {
      "text/plain": [
       "torch.Size([1, 3, 69, 69])"
      ]
     },
     "execution_count": 2,
     "metadata": {},
     "output_type": "execute_result"
    }
   ],
   "source": [
    "image = torch.ones(1, 3,69,69)\n",
    "image.shape"
   ]
  },
  {
   "cell_type": "code",
   "execution_count": 3,
   "metadata": {
    "ExecuteTime": {
     "end_time": "2019-05-02T11:14:55.742217Z",
     "start_time": "2019-05-02T11:14:55.722270Z"
    }
   },
   "outputs": [],
   "source": [
    "conv1 = nn.Conv2d(3, 16, 9, 2)\n",
    "conv2 = nn.Conv2d(16, 4, 3, 2)\n",
    "t_conv2 = nn.ConvTranspose2d(4, 16, 3, 2)\n",
    "t_conv1 = nn.ConvTranspose2d(16, 3, 9, 2)"
   ]
  },
  {
   "cell_type": "code",
   "execution_count": 4,
   "metadata": {
    "ExecuteTime": {
     "end_time": "2019-05-02T11:15:17.606401Z",
     "start_time": "2019-05-02T11:15:17.572493Z"
    }
   },
   "outputs": [
    {
     "data": {
      "text/plain": [
       "torch.Size([1, 16, 31, 31])"
      ]
     },
     "execution_count": 4,
     "metadata": {},
     "output_type": "execute_result"
    }
   ],
   "source": [
    "image = conv1(image)\n",
    "image.shape"
   ]
  },
  {
   "cell_type": "code",
   "execution_count": 5,
   "metadata": {
    "ExecuteTime": {
     "end_time": "2019-05-02T11:15:30.921888Z",
     "start_time": "2019-05-02T11:15:30.892967Z"
    }
   },
   "outputs": [
    {
     "data": {
      "text/plain": [
       "torch.Size([1, 4, 15, 15])"
      ]
     },
     "execution_count": 5,
     "metadata": {},
     "output_type": "execute_result"
    }
   ],
   "source": [
    "image = conv2(image)\n",
    "image.shape"
   ]
  },
  {
   "cell_type": "code",
   "execution_count": 6,
   "metadata": {
    "ExecuteTime": {
     "end_time": "2019-05-02T11:15:39.096175Z",
     "start_time": "2019-05-02T11:15:39.053289Z"
    }
   },
   "outputs": [
    {
     "data": {
      "text/plain": [
       "torch.Size([1, 16, 31, 31])"
      ]
     },
     "execution_count": 6,
     "metadata": {},
     "output_type": "execute_result"
    }
   ],
   "source": [
    "image = t_conv2(image)\n",
    "image.shape"
   ]
  },
  {
   "cell_type": "code",
   "execution_count": 7,
   "metadata": {
    "ExecuteTime": {
     "end_time": "2019-05-02T11:15:53.248405Z",
     "start_time": "2019-05-02T11:15:53.213523Z"
    }
   },
   "outputs": [
    {
     "data": {
      "text/plain": [
       "torch.Size([1, 3, 69, 69])"
      ]
     },
     "execution_count": 7,
     "metadata": {},
     "output_type": "execute_result"
    }
   ],
   "source": [
    "image = t_conv1(image)\n",
    "image.shape"
   ]
  },
  {
   "cell_type": "code",
   "execution_count": null,
   "metadata": {},
   "outputs": [],
   "source": [
    "if mode == 'od':\n",
    "            self.conv1 = nn.Conv2d(1, 16, 9, stride=2)\n",
    "            self.conv_t1 = nn.ConvTranspose2d(\n",
    "                16, 1, 2, stride=2, output_padding=1)\n",
    "            self.chan = 1\n",
    "        elif mode == 'pnf':\n",
    "            self.conv1 = nn.Conv2d(3, 16, 9, stride=2)\n",
    "            self.conv_t1 = nn.ConvTranspose2d(\n",
    "                16, 3, 9, stride=2, output_padding=1)\n",
    "\n",
    "        self.conv2 = nn.Conv2d(16, 4, 3, stride=2, padding=1)\n",
    "        self.conv_t2 = nn.ConvTranspose2d(4, 16, 3, stride=2)"
   ]
  }
 ],
 "metadata": {
  "kernelspec": {
   "display_name": "Python 3",
   "language": "python",
   "name": "python3"
  },
  "language_info": {
   "codemirror_mode": {
    "name": "ipython",
    "version": 3
   },
   "file_extension": ".py",
   "mimetype": "text/x-python",
   "name": "python",
   "nbconvert_exporter": "python",
   "pygments_lexer": "ipython3",
   "version": "3.7.1"
  }
 },
 "nbformat": 4,
 "nbformat_minor": 2
}
