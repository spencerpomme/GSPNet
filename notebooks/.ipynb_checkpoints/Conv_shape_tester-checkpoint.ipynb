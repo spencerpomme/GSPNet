{
 "cells": [
  {
   "cell_type": "code",
   "execution_count": 1,
   "metadata": {
    "ExecuteTime": {
     "end_time": "2019-04-29T15:45:47.366701Z",
     "start_time": "2019-04-29T15:45:46.431150Z"
    }
   },
   "outputs": [],
   "source": [
    "import pandas as pd\n",
    "import numpy as np\n",
    "import pickle as pkl\n",
    "import matplotlib.pyplot as plt\n",
    "import os\n",
    "import re\n",
    "import time\n",
    "import torch\n",
    "import torch.nn.functional as F\n",
    "\n",
    "from torch import nn, optim\n",
    "from torch.utils.data import TensorDataset, DataLoader\n",
    "from glob import glob, iglob"
   ]
  },
  {
   "cell_type": "code",
   "execution_count": 2,
   "metadata": {
    "ExecuteTime": {
     "end_time": "2019-04-29T15:47:16.076787Z",
     "start_time": "2019-04-29T15:47:16.069821Z"
    }
   },
   "outputs": [],
   "source": [
    "def conv(in_channels, out_channels, kernel_size, stride=2, padding=1, batch_norm=True):\n",
    "    '''\n",
    "    Creates a convolutional layer, with optional batch normalization.\n",
    "    '''\n",
    "    layers = []\n",
    "    conv_layer = nn.Conv2d(in_channels, out_channels,\n",
    "                           kernel_size, stride, padding, bias=False)\n",
    "\n",
    "    # append conv layer\n",
    "    layers.append(conv_layer)\n",
    "\n",
    "    if batch_norm:\n",
    "        # append batchnorm layer\n",
    "        layers.append(nn.BatchNorm2d(out_channels))\n",
    "\n",
    "    # using Sequential container\n",
    "    return nn.Sequential(*layers)\n",
    "\n",
    "\n",
    "# helper deconv function\n",
    "def deconv(in_channels, out_channels, kernel_size, stride=2, padding=1, batch_norm=True):\n",
    "    '''\n",
    "    Creates a transposed-convolutional layer, with optional batch normalization.\n",
    "    '''\n",
    "    # create a sequence of transpose + optional batch norm layers\n",
    "    layers = []\n",
    "    transpose_conv_layer = nn.ConvTranspose2d(in_channels, out_channels,\n",
    "                                              kernel_size, stride, padding, bias=False)\n",
    "    # append transpose convolutional layer\n",
    "    layers.append(transpose_conv_layer)\n",
    "\n",
    "    if batch_norm:\n",
    "        # append batchnorm layer\n",
    "        layers.append(nn.BatchNorm2d(out_channels))\n",
    "\n",
    "    return nn.Sequential(*layers)"
   ]
  },
  {
   "cell_type": "code",
   "execution_count": 18,
   "metadata": {
    "ExecuteTime": {
     "end_time": "2019-04-29T15:53:28.152428Z",
     "start_time": "2019-04-29T15:53:28.147441Z"
    }
   },
   "outputs": [
    {
     "data": {
      "text/plain": [
       "torch.Size([1, 3, 69, 69])"
      ]
     },
     "execution_count": 18,
     "metadata": {},
     "output_type": "execute_result"
    }
   ],
   "source": [
    "image = torch.ones(1, 3,69,69)\n",
    "image.shape"
   ]
  },
  {
   "cell_type": "code",
   "execution_count": 19,
   "metadata": {
    "ExecuteTime": {
     "end_time": "2019-04-29T15:53:28.554019Z",
     "start_time": "2019-04-29T15:53:28.549036Z"
    }
   },
   "outputs": [],
   "source": [
    "conv_dim = 4\n",
    "# 69x69 input\n",
    "# first layer, no batch_norm\n",
    "conv1 = conv(3, conv_dim, 5, padding=0, stride=4, batch_norm=False)\n",
    "# 17x17 out\n",
    "conv2 = conv(conv_dim, conv_dim*2, 3, padding=0)\n",
    "# 8x8 out\n",
    "conv3 = conv(conv_dim*2, conv_dim*4, 4, padding=0)\n",
    "# 3x3 out\n",
    "\n",
    "# final, fully-connected layer\n",
    "fc = nn.Linear(conv_dim*4*3*3, 1)"
   ]
  },
  {
   "cell_type": "code",
   "execution_count": 20,
   "metadata": {
    "ExecuteTime": {
     "end_time": "2019-04-29T15:53:28.989066Z",
     "start_time": "2019-04-29T15:53:28.975133Z"
    }
   },
   "outputs": [
    {
     "data": {
      "text/plain": [
       "torch.Size([1, 4, 17, 17])"
      ]
     },
     "execution_count": 20,
     "metadata": {},
     "output_type": "execute_result"
    }
   ],
   "source": [
    "image = conv1(image)\n",
    "image.shape"
   ]
  },
  {
   "cell_type": "code",
   "execution_count": 21,
   "metadata": {
    "ExecuteTime": {
     "end_time": "2019-04-29T15:53:38.650834Z",
     "start_time": "2019-04-29T15:53:38.601965Z"
    }
   },
   "outputs": [
    {
     "data": {
      "text/plain": [
       "torch.Size([1, 8, 8, 8])"
      ]
     },
     "execution_count": 21,
     "metadata": {},
     "output_type": "execute_result"
    }
   ],
   "source": [
    "image = conv2(image)\n",
    "image.shape"
   ]
  },
  {
   "cell_type": "code",
   "execution_count": 22,
   "metadata": {
    "ExecuteTime": {
     "end_time": "2019-04-29T15:53:47.669293Z",
     "start_time": "2019-04-29T15:53:47.647352Z"
    }
   },
   "outputs": [
    {
     "data": {
      "text/plain": [
       "torch.Size([1, 16, 3, 3])"
      ]
     },
     "execution_count": 22,
     "metadata": {},
     "output_type": "execute_result"
    }
   ],
   "source": [
    "image = conv3(image)\n",
    "image.shape"
   ]
  },
  {
   "cell_type": "code",
   "execution_count": 31,
   "metadata": {
    "ExecuteTime": {
     "end_time": "2019-04-29T15:59:52.566422Z",
     "start_time": "2019-04-29T15:59:52.560464Z"
    }
   },
   "outputs": [],
   "source": [
    "# first, fully-connected layer\n",
    "z_size = 64\n",
    "tfc = nn.Linear(z_size, conv_dim*4*3*3)\n",
    "\n",
    "# transpose conv layers\n",
    "t_conv1 = deconv(conv_dim*4, conv_dim*2, 4, padding=0)\n",
    "t_conv2 = deconv(conv_dim*2, conv_dim, 3, padding=0)\n",
    "t_conv3 = deconv(conv_dim, 3, 5, padding=0, stride=4, batch_norm=False)"
   ]
  },
  {
   "cell_type": "code",
   "execution_count": 32,
   "metadata": {
    "ExecuteTime": {
     "end_time": "2019-04-29T15:59:53.249230Z",
     "start_time": "2019-04-29T15:59:53.243245Z"
    }
   },
   "outputs": [
    {
     "data": {
      "text/plain": [
       "torch.Size([1, 64])"
      ]
     },
     "execution_count": 32,
     "metadata": {},
     "output_type": "execute_result"
    }
   ],
   "source": [
    "latent = torch.ones(1, z_size)\n",
    "latent.shape"
   ]
  },
  {
   "cell_type": "code",
   "execution_count": 33,
   "metadata": {
    "ExecuteTime": {
     "end_time": "2019-04-29T15:59:53.982017Z",
     "start_time": "2019-04-29T15:59:53.978014Z"
    }
   },
   "outputs": [
    {
     "data": {
      "text/plain": [
       "torch.Size([1, 144])"
      ]
     },
     "execution_count": 33,
     "metadata": {},
     "output_type": "execute_result"
    }
   ],
   "source": [
    "latent = tfc(latent)\n",
    "latent.shape"
   ]
  },
  {
   "cell_type": "code",
   "execution_count": 34,
   "metadata": {
    "ExecuteTime": {
     "end_time": "2019-04-29T15:59:55.610087Z",
     "start_time": "2019-04-29T15:59:55.593157Z"
    }
   },
   "outputs": [
    {
     "data": {
      "text/plain": [
       "torch.Size([1, 8, 8, 8])"
      ]
     },
     "execution_count": 34,
     "metadata": {},
     "output_type": "execute_result"
    }
   ],
   "source": [
    "latent = latent.view(-1, conv_dim*4, 3, 3)\n",
    "latent = t_conv1(latent)\n",
    "latent.shape"
   ]
  },
  {
   "cell_type": "code",
   "execution_count": 35,
   "metadata": {
    "ExecuteTime": {
     "end_time": "2019-04-29T15:59:56.653738Z",
     "start_time": "2019-04-29T15:59:56.634790Z"
    }
   },
   "outputs": [
    {
     "data": {
      "text/plain": [
       "torch.Size([1, 4, 17, 17])"
      ]
     },
     "execution_count": 35,
     "metadata": {},
     "output_type": "execute_result"
    }
   ],
   "source": [
    "latent = t_conv2(latent)\n",
    "latent.shape"
   ]
  },
  {
   "cell_type": "code",
   "execution_count": 36,
   "metadata": {
    "ExecuteTime": {
     "end_time": "2019-04-29T15:59:57.659833Z",
     "start_time": "2019-04-29T15:59:57.652824Z"
    }
   },
   "outputs": [
    {
     "data": {
      "text/plain": [
       "torch.Size([1, 3, 69, 69])"
      ]
     },
     "execution_count": 36,
     "metadata": {},
     "output_type": "execute_result"
    }
   ],
   "source": [
    "latent = t_conv3(latent)\n",
    "latent.shape"
   ]
  },
  {
   "cell_type": "code",
   "execution_count": 19,
   "metadata": {
    "ExecuteTime": {
     "end_time": "2019-05-01T05:23:09.196411Z",
     "start_time": "2019-05-01T05:23:09.190422Z"
    }
   },
   "outputs": [],
   "source": [
    "%matplotlib inline\n",
    "import pylab as plt\n",
    "import numpy as np\n",
    "from PIL import Image\n",
    "\n",
    "z = np.random.random((69,69,3))   # Test data\n",
    "z *= (255 // z.max())\n",
    "z = z.astype('uint8')\n",
    "image = Image.fromarray(z)"
   ]
  },
  {
   "cell_type": "code",
   "execution_count": 20,
   "metadata": {
    "ExecuteTime": {
     "end_time": "2019-05-01T05:23:09.808571Z",
     "start_time": "2019-05-01T05:23:09.799565Z"
    }
   },
   "outputs": [
    {
     "data": {
      "image/png": "[encoded data removed]",
      "text/plain": [
       "<PIL.Image.Image image mode=RGB size=350x350 at 0x1EF169C16A0>"
      ]
     },
     "execution_count": 20,
     "metadata": {},
     "output_type": "execute_result"
    }
   ],
   "source": [
    "image.resize((350,350))"
   ]
  },
  {
   "cell_type": "code",
   "execution_count": null,
   "metadata": {},
   "outputs": [],
   "source": []
  }
 ],
 "metadata": {
  "kernelspec": {
   "display_name": "Python 3",
   "language": "python",
   "name": "python3"
  },
  "language_info": {
   "codemirror_mode": {
    "name": "ipython",
    "version": 3
   },
   "file_extension": ".py",
   "mimetype": "text/x-python",
   "name": "python",
   "nbconvert_exporter": "python",
   "pygments_lexer": "ipython3",
   "version": "3.7.1"
  }
 },
 "nbformat": 4,
 "nbformat_minor": 2
}
