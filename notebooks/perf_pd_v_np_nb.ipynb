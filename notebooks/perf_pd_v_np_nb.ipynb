{
 "cells": [
  {
   "cell_type": "markdown",
   "metadata": {},
   "source": [
    "<img src=\"images/logo_city.png\" align=\"right\" width=\"20%\">"
   ]
  },
  {
   "cell_type": "markdown",
   "metadata": {},
   "source": [
    "# Comparing Performance of Pandas and Numpy + Numba\n",
    "\n",
    "In this tutorial, we will benchmark plain Pandas and Numba inhanced Numpy.\n",
    "\n",
    "First, import needed libraries:"
   ]
  },
  {
   "cell_type": "code",
   "execution_count": 1,
   "metadata": {
    "ExecuteTime": {
     "end_time": "2019-04-01T07:46:57.559272Z",
     "start_time": "2019-04-01T07:46:56.781330Z"
    }
   },
   "outputs": [],
   "source": [
    "import numpy as np\n",
    "import pandas as pd\n",
    "import numba\n",
    "\n",
    "from numba import jit"
   ]
  },
  {
   "cell_type": "markdown",
   "metadata": {},
   "source": [
    "### 1. The original slow function\n",
    "\n",
    "Our journey starts with a simple function that using pandas to do row selection:"
   ]
  },
  {
   "cell_type": "code",
   "execution_count": 2,
   "metadata": {
    "ExecuteTime": {
     "end_time": "2019-04-01T07:46:59.520006Z",
     "start_time": "2019-04-01T07:46:59.512027Z"
    }
   },
   "outputs": [],
   "source": [
    "def gen_snap_layers(table, bound):\n",
    "    '''\n",
    "    Generate Past layer, Now layer and Future layer for one snapshot.\n",
    "    Params:\n",
    "        table: pandas dataframe\n",
    "        bounds: time bound tuple, for example: (left_timestring, right_timestring)\n",
    "    Return:\n",
    "        PNF layers, a list.\n",
    "    '''\n",
    "    # left bound and right bound of time interval\n",
    "    assert type(bound) == tuple\n",
    "    left = bound[0]\n",
    "    right = bound[1]\n",
    "    \n",
    "    table = table.loc[:, ['tripid',\n",
    "                          'tpep_pickup_datetime',\n",
    "                          'tpep_dropoff_datetime',\n",
    "                          'pulocationid',\n",
    "                          'dolocationid']]\n",
    "    \n",
    "    # print(f'table.columns: {table.columns}')\n",
    "\n",
    "    # The condition of making snapshot should be:\n",
    "    # AT LEAST ONE temporal end of a trip should be within the bounds:\n",
    "    snap = table.loc[\n",
    "        ((table['tpep_pickup_datetime'] >= left) &\n",
    "         (table['tpep_pickup_datetime'] < right)) |\n",
    "        ((table['tpep_dropoff_datetime'] >= left) &\n",
    "         (table['tpep_dropoff_datetime'] < right))]\n",
    "\n",
    "    # generate F,P,N layers\n",
    "    # Use the interval to 'catch' corresponding trips.\n",
    "    # future layer\n",
    "    f_layer = snap.loc[(snap['tpep_pickup_datetime'] < right) &\n",
    "                       (snap['tpep_pickup_datetime'] >= left) &\n",
    "                       (snap['tpep_dropoff_datetime'] >= right)]\n",
    "    # past layer\n",
    "    p_layer = snap.loc[(snap['tpep_pickup_datetime'] < left) &\n",
    "                       (snap['tpep_dropoff_datetime'] >= left) &\n",
    "                       (snap['tpep_dropoff_datetime'] < right)]\n",
    "    # now layer\n",
    "    n_layer = snap.loc[(snap['tpep_pickup_datetime'] >= left) &\n",
    "                       (snap['tpep_dropoff_datetime'] < right)]\n",
    "\n",
    "    # Their count should add up to total trips caught\n",
    "    assert snap.shape[0] == f_layer.shape[0] + p_layer.shape[0] + n_layer.shape[0]\n",
    "\n",
    "    return p_layer, n_layer, f_layer"
   ]
  },
  {
   "cell_type": "markdown",
   "metadata": {},
   "source": [
    "The above function is used process a .csv file for a certain purpose. For now, that purpose is irrelvant and we just need to understand this function somehow does some cumbersome data operation (which is computation intense).\n",
    "\n",
    "In order to use the function, let's load in a sample data:"
   ]
  },
  {
   "cell_type": "code",
   "execution_count": 3,
   "metadata": {
    "ExecuteTime": {
     "end_time": "2019-04-01T07:47:14.087047Z",
     "start_time": "2019-04-01T07:47:02.063204Z"
    }
   },
   "outputs": [],
   "source": [
    "file = 'dataset/nytaxi_yellow_2017_09.csv'\n",
    "# this load may take some time\n",
    "table = pd.read_csv(file)"
   ]
  },
  {
   "cell_type": "code",
   "execution_count": 4,
   "metadata": {
    "ExecuteTime": {
     "end_time": "2019-04-01T07:47:14.096024Z",
     "start_time": "2019-04-01T07:47:14.088044Z"
    }
   },
   "outputs": [
    {
     "data": {
      "text/plain": [
       "(8879929, 11)"
      ]
     },
     "execution_count": 4,
     "metadata": {},
     "output_type": "execute_result"
    }
   ],
   "source": [
    "# the table has 11 columns and MANY MANY rows\n",
    "table.shape"
   ]
  },
  {
   "cell_type": "code",
   "execution_count": 13,
   "metadata": {
    "ExecuteTime": {
     "end_time": "2019-04-01T07:57:19.347090Z",
     "start_time": "2019-04-01T07:57:19.333157Z"
    }
   },
   "outputs": [
    {
     "data": {
      "text/plain": [
       "Index(['tripid', 'tpep_pickup_datetime', 'tpep_dropoff_datetime',\n",
       "       'pulocationid', 'dolocationid', 'trip_distance', 'passenger_count',\n",
       "       'total_amount', 'trip_time', 'trip_avg_speed', 'trip_time_sec'],\n",
       "      dtype='object')"
      ]
     },
     "execution_count": 13,
     "metadata": {},
     "output_type": "execute_result"
    }
   ],
   "source": [
    "table.columns"
   ]
  },
  {
   "cell_type": "code",
   "execution_count": 10,
   "metadata": {
    "ExecuteTime": {
     "end_time": "2019-04-01T07:53:53.250275Z",
     "start_time": "2019-04-01T07:52:26.965386Z"
    }
   },
   "outputs": [],
   "source": [
    "array = np.genfromtxt(file, delimiter=',')"
   ]
  },
  {
   "cell_type": "code",
   "execution_count": 15,
   "metadata": {
    "ExecuteTime": {
     "end_time": "2019-04-01T07:58:12.450683Z",
     "start_time": "2019-04-01T07:58:12.433701Z"
    }
   },
   "outputs": [
    {
     "name": "stdout",
     "output_type": "stream",
     "text": [
      "[[9.3070007e+07           nan           nan 2.4600000e+02 4.8000000e+01]\n",
      " [9.3070300e+07           nan           nan 1.0700000e+02 2.3600000e+02]\n",
      " [9.3070359e+07           nan           nan 1.7000000e+02 2.3700000e+02]]\n"
     ]
    }
   ],
   "source": [
    "array = array[1:,:5] # remove header line\n",
    "array.shape\n",
    "print(array[:3,:])"
   ]
  },
  {
   "cell_type": "markdown",
   "metadata": {},
   "source": [
    "To utilize the function, one more argument should be defined.\n",
    "\n",
    "Let's again, ignore what this argument indicates in a certain context, but rather focus on code itself:"
   ]
  },
  {
   "cell_type": "code",
   "execution_count": 5,
   "metadata": {
    "ExecuteTime": {
     "end_time": "2019-04-01T07:47:26.986400Z",
     "start_time": "2019-04-01T07:47:14.098018Z"
    }
   },
   "outputs": [],
   "source": [
    "bound = (pd.Timestamp('2017-09-18 12:00:00'), pd.Timestamp('2017-09-18 12:15:00'))\n",
    "\n",
    "# format two columns\n",
    "table['tpep_pickup_datetime'] = pd.to_datetime(table['tpep_pickup_datetime'])\n",
    "table['tpep_dropoff_datetime'] = pd.to_datetime(table['tpep_dropoff_datetime'])"
   ]
  },
  {
   "cell_type": "markdown",
   "metadata": {},
   "source": [
    "Preparations are all done now. Let time the function:"
   ]
  },
  {
   "cell_type": "code",
   "execution_count": 6,
   "metadata": {
    "ExecuteTime": {
     "end_time": "2019-04-01T07:47:29.251135Z",
     "start_time": "2019-04-01T07:47:26.988395Z"
    }
   },
   "outputs": [
    {
     "name": "stdout",
     "output_type": "stream",
     "text": [
      "table.columns: Index(['tripid', 'tpep_pickup_datetime', 'tpep_dropoff_datetime',\n",
      "       'pulocationid', 'dolocationid'],\n",
      "      dtype='object')\n",
      "table.columns: Index(['tripid', 'tpep_pickup_datetime', 'tpep_dropoff_datetime',\n",
      "       'pulocationid', 'dolocationid'],\n",
      "      dtype='object')\n",
      "table.columns: Index(['tripid', 'tpep_pickup_datetime', 'tpep_dropoff_datetime',\n",
      "       'pulocationid', 'dolocationid'],\n",
      "      dtype='object')\n",
      "table.columns: Index(['tripid', 'tpep_pickup_datetime', 'tpep_dropoff_datetime',\n",
      "       'pulocationid', 'dolocationid'],\n",
      "      dtype='object')\n",
      "table.columns: Index(['tripid', 'tpep_pickup_datetime', 'tpep_dropoff_datetime',\n",
      "       'pulocationid', 'dolocationid'],\n",
      "      dtype='object')\n",
      "table.columns: Index(['tripid', 'tpep_pickup_datetime', 'tpep_dropoff_datetime',\n",
      "       'pulocationid', 'dolocationid'],\n",
      "      dtype='object')\n",
      "table.columns: Index(['tripid', 'tpep_pickup_datetime', 'tpep_dropoff_datetime',\n",
      "       'pulocationid', 'dolocationid'],\n",
      "      dtype='object')\n",
      "table.columns: Index(['tripid', 'tpep_pickup_datetime', 'tpep_dropoff_datetime',\n",
      "       'pulocationid', 'dolocationid'],\n",
      "      dtype='object')\n",
      "272 ms ± 25 ms per loop (mean ± std. dev. of 7 runs, 1 loop each)\n"
     ]
    }
   ],
   "source": [
    "%timeit gen_snap_layers(table, bound)"
   ]
  },
  {
   "cell_type": "markdown",
   "metadata": {},
   "source": [
    "### 2. Rewrite Pandas code with Numpy"
   ]
  },
  {
   "cell_type": "markdown",
   "metadata": {},
   "source": [
    "Can we improve performance by rewrite the function using Numpy? Let's try!"
   ]
  },
  {
   "cell_type": "code",
   "execution_count": 7,
   "metadata": {
    "ExecuteTime": {
     "end_time": "2019-04-01T07:47:29.260112Z",
     "start_time": "2019-04-01T07:47:29.252132Z"
    }
   },
   "outputs": [],
   "source": [
    "def gen_snap_layers(array, bound):\n",
    "    '''\n",
    "    Generate Past layer, Now layer and Future layer for one snapshot.\n",
    "    Params:\n",
    "        table: pandas dataframe\n",
    "        bounds: time bound tuple, for example: (left_timestring, right_timestring)\n",
    "    Return:\n",
    "        PNF layers, a list.\n",
    "    '''\n",
    "    # left bound and right bound of time interval\n",
    "    assert type(bound) == tuple\n",
    "    left = bound[0]\n",
    "    right = bound[1]\n",
    "    \n",
    "    table = table.loc[:, ['tripid',\n",
    "                          'tpep_pickup_datetime',\n",
    "                          'tpep_dropoff_datetime',\n",
    "                          'pulocationid',\n",
    "                          'dolocationid']]\n",
    "    \n",
    "    array = \n",
    "    \n",
    "    # conver to numpy array\n",
    "    array = table.to_numpy()\n",
    "    print(array[:3, :])\n",
    "    \n",
    "\n",
    "    # The condition of making snapshot should be:\n",
    "    # AT LEAST ONE temporal end of a trip should be within the bounds:\n",
    "    snap = table.loc[\n",
    "        ((table['tpep_pickup_datetime'] >= left) &\n",
    "         (table['tpep_pickup_datetime'] < right)) |\n",
    "        ((table['tpep_dropoff_datetime'] >= left) &\n",
    "         (table['tpep_dropoff_datetime'] < right))]\n",
    "\n",
    "    # generate F,P,N layers\n",
    "    # Use the interval to 'catch' corresponding trips.\n",
    "    # future layer\n",
    "    f_layer = snap.loc[(snap['tpep_pickup_datetime'] < right) &\n",
    "                       (snap['tpep_pickup_datetime'] >= left) &\n",
    "                       (snap['tpep_dropoff_datetime'] >= right)]\n",
    "    # past layer\n",
    "    p_layer = snap.loc[(snap['tpep_pickup_datetime'] < left) &\n",
    "                       (snap['tpep_dropoff_datetime'] >= left) &\n",
    "                       (snap['tpep_dropoff_datetime'] < right)]\n",
    "    # now layer\n",
    "    n_layer = snap.loc[(snap['tpep_pickup_datetime'] >= left) &\n",
    "                       (snap['tpep_dropoff_datetime'] < right)]\n",
    "\n",
    "    # Their count should add up to total trips caught\n",
    "    assert snap.shape[0] == f_layer.shape[0] + p_layer.shape[0] + n_layer.shape[0]\n",
    "\n",
    "    return p_layer, n_layer, f_layer"
   ]
  },
  {
   "cell_type": "markdown",
   "metadata": {},
   "source": [
    "### 3. Enhance Numpy with Numba"
   ]
  },
  {
   "cell_type": "code",
   "execution_count": 9,
   "metadata": {
    "ExecuteTime": {
     "end_time": "2019-04-01T07:50:31.077399Z",
     "start_time": "2019-04-01T07:50:02.079602Z"
    }
   },
   "outputs": [
    {
     "name": "stdout",
     "output_type": "stream",
     "text": [
      "[[93062492 Timestamp('2017-09-01 00:05:44')\n",
      "  Timestamp('2017-09-01 00:15:40') 249 48]\n",
      " [93069394 Timestamp('2017-09-01 00:00:24')\n",
      "  Timestamp('2017-09-01 00:34:11') 132 62]\n",
      " [93070007 Timestamp('2017-09-01 00:05:15')\n",
      "  Timestamp('2017-09-01 00:10:28') 246 48]]\n"
     ]
    }
   ],
   "source": [
    "res = gen_snap_layers(table, bound)"
   ]
  },
  {
   "cell_type": "markdown",
   "metadata": {},
   "source": [
    "### 4. Discussion"
   ]
  },
  {
   "cell_type": "code",
   "execution_count": null,
   "metadata": {},
   "outputs": [],
   "source": []
  }
 ],
 "metadata": {
  "kernelspec": {
   "display_name": "Python 3",
   "language": "python",
   "name": "python3"
  },
  "language_info": {
   "codemirror_mode": {
    "name": "ipython",
    "version": 3
   },
   "file_extension": ".py",
   "mimetype": "text/x-python",
   "name": "python",
   "nbconvert_exporter": "python",
   "pygments_lexer": "ipython3",
   "version": "3.7.1"
  }
 },
 "nbformat": 4,
 "nbformat_minor": 2
}
