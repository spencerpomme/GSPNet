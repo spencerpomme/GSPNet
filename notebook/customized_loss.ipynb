{
 "cells": [
  {
   "cell_type": "code",
   "execution_count": 1,
   "metadata": {
    "ExecuteTime": {
     "end_time": "2019-05-06T02:26:47.931682Z",
     "start_time": "2019-05-06T02:26:47.641375Z"
    }
   },
   "outputs": [],
   "source": [
    "import torch\n",
    "import torch.nn.functional as F\n",
    "from torch import nn, optim\n",
    "from torch.utils.data import TensorDataset, DataLoader"
   ]
  },
  {
   "cell_type": "code",
   "execution_count": 2,
   "metadata": {
    "ExecuteTime": {
     "end_time": "2019-05-06T02:26:48.568651Z",
     "start_time": "2019-05-06T02:26:48.543718Z"
    }
   },
   "outputs": [
    {
     "name": "stdout",
     "output_type": "stream",
     "text": [
      "tensor([[  1.,   0.,   0.,   2.],\n",
      "        [  2.,   2.,   2.,   3.],\n",
      "        [  1.,   0.,   0.,   0.],\n",
      "        [ 10.,  20., 100.,   2.]])\n",
      "tensor([[ 5.,  1.,  0.,  0.],\n",
      "        [ 2.,  1., 40.,  3.],\n",
      "        [ 1.,  1.,  1.,  1.],\n",
      "        [ 1.,  2.,  3.,  4.]])\n"
     ]
    }
   ],
   "source": [
    "a = torch.Tensor([[1,0,0,2], [2,2,2,3], [1,0,0,0], [10,20,100,2]])\n",
    "b = torch.Tensor([[5,1,0,0], [2,1,40,3], [1,1,1,1], [1,2,3,4]])\n",
    "print(a)\n",
    "print(b)"
   ]
  },
  {
   "cell_type": "code",
   "execution_count": 3,
   "metadata": {
    "ExecuteTime": {
     "end_time": "2019-05-06T02:26:49.335361Z",
     "start_time": "2019-05-06T02:26:49.329376Z"
    }
   },
   "outputs": [],
   "source": [
    "def dich_mse_loss(output, label, alpha=0.1):\n",
    "    '''\n",
    "    Dichotomy mean square error loss.\n",
    "\n",
    "    Args:\n",
    "        output: calculated prediction tensor\n",
    "        label: ground truth\n",
    "        alpha: weight of 0 -> Non-zero punishment\n",
    "               A value in (0, 1]\n",
    "    Return:\n",
    "        loss: dich_mes_loss\n",
    "    '''\n",
    "    mse = (output - label) ** 2\n",
    "    factor = 1 / (alpha + output * label)\n",
    "    reg = torch.log(1 + output**2) + torch.log(1 + label**2)\n",
    "    loss = mse + factor * reg\n",
    "\n",
    "    return torch.mean(loss)"
   ]
  },
  {
   "cell_type": "code",
   "execution_count": 4,
   "metadata": {
    "ExecuteTime": {
     "end_time": "2019-05-06T02:26:50.024864Z",
     "start_time": "2019-05-06T02:26:50.013886Z"
    }
   },
   "outputs": [],
   "source": [
    "l = dich_mse_loss(a, b)"
   ]
  },
  {
   "cell_type": "code",
   "execution_count": 5,
   "metadata": {
    "ExecuteTime": {
     "end_time": "2019-05-06T02:26:50.819477Z",
     "start_time": "2019-05-06T02:26:50.811501Z"
    }
   },
   "outputs": [
    {
     "data": {
      "text/plain": [
       "tensor(708.5411)"
      ]
     },
     "execution_count": 5,
     "metadata": {},
     "output_type": "execute_result"
    }
   ],
   "source": [
    "l"
   ]
  },
  {
   "cell_type": "code",
   "execution_count": 6,
   "metadata": {
    "ExecuteTime": {
     "end_time": "2019-05-06T02:26:51.513658Z",
     "start_time": "2019-05-06T02:26:51.505681Z"
    }
   },
   "outputs": [
    {
     "data": {
      "text/plain": [
       "tensor([[1.6000e+01, 1.0000e+01, 0.0000e+00, 4.0000e+01],\n",
       "        [0.0000e+00, 1.0000e+00, 1.4440e+03, 0.0000e+00],\n",
       "        [0.0000e+00, 1.0000e+01, 1.0000e+01, 1.0000e+01],\n",
       "        [8.1000e+01, 3.2400e+02, 9.4090e+03, 4.0000e+00]])"
      ]
     },
     "execution_count": 6,
     "metadata": {},
     "output_type": "execute_result"
    }
   ],
   "source": [
    "torch.where(((a != 0) & (b == 0)) | ((a == 0) & (b != 0)), 10*torch.max(a,b)**2, (a-b)**2)"
   ]
  },
  {
   "cell_type": "code",
   "execution_count": null,
   "metadata": {},
   "outputs": [],
   "source": []
  }
 ],
 "metadata": {
  "kernelspec": {
   "display_name": "Python 3",
   "language": "python",
   "name": "python3"
  },
  "language_info": {
   "codemirror_mode": {
    "name": "ipython",
    "version": 3
   },
   "file_extension": ".py",
   "mimetype": "text/x-python",
   "name": "python",
   "nbconvert_exporter": "python",
   "pygments_lexer": "ipython3",
   "version": "3.7.3"
  }
 },
 "nbformat": 4,
 "nbformat_minor": 2
}
