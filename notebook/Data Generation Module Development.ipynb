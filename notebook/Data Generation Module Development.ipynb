{
 "cells": [
  {
   "cell_type": "markdown",
   "metadata": {},
   "source": [
    "<img src=\"images/logo_city.png\" align=\"right\" width=\"20%\">"
   ]
  },
  {
   "cell_type": "markdown",
   "metadata": {},
   "source": [
    "# Data Generation Module Development\n",
    "\n",
    "## 1. API"
   ]
  },
  {
   "cell_type": "markdown",
   "metadata": {},
   "source": [
    "Import necessary libraries:"
   ]
  },
  {
   "cell_type": "code",
   "execution_count": 7,
   "metadata": {
    "ExecuteTime": {
     "end_time": "2019-05-06T14:20:05.000376Z",
     "start_time": "2019-05-06T14:20:04.998367Z"
    }
   },
   "outputs": [],
   "source": [
    "import sys\n",
    "from pathlib import Path\n",
    "import os\n",
    "from glob import glob"
   ]
  },
  {
   "cell_type": "code",
   "execution_count": 8,
   "metadata": {
    "ExecuteTime": {
     "end_time": "2019-05-06T14:20:15.751646Z",
     "start_time": "2019-05-06T14:20:15.747656Z"
    }
   },
   "outputs": [
    {
     "data": {
      "text/plain": [
       "['../']"
      ]
     },
     "execution_count": 8,
     "metadata": {},
     "output_type": "execute_result"
    }
   ],
   "source": [
    "glob('../')"
   ]
  },
  {
   "cell_type": "code",
   "execution_count": 6,
   "metadata": {
    "ExecuteTime": {
     "end_time": "2019-05-06T14:16:51.291325Z",
     "start_time": "2019-05-06T14:16:51.286338Z"
    }
   },
   "outputs": [
    {
     "data": {
      "text/plain": [
       "True"
      ]
     },
     "execution_count": 6,
     "metadata": {},
     "output_type": "execute_result"
    }
   ],
   "source": [
    "datadir = '2017'\n",
    "freq = '15min'\n",
    "DIRNAME = '../data/processed/' + f'{datadir}/' + f'{freq}'\n",
    "DIRNAME\n",
    "os.path.exists('../data/processed/')"
   ]
  },
  {
   "cell_type": "code",
   "execution_count": null,
   "metadata": {
    "ExecuteTime": {
     "end_time": "2019-05-06T13:43:15.889812Z",
     "start_time": "2019-05-06T13:43:15.867852Z"
    }
   },
   "outputs": [],
   "source": [
    "import pandas as pd\n",
    "pd.read_csv(str(path))"
   ]
  },
  {
   "cell_type": "code",
   "execution_count": null,
   "metadata": {
    "ExecuteTime": {
     "end_time": "2019-05-06T10:45:28.308322Z",
     "start_time": "2019-05-06T10:45:28.280331Z"
    }
   },
   "outputs": [],
   "source": [
    "import timeslice.source as source\n",
    "import timeslice.rule  as rule\n",
    "import timeslice.worker as worker\n",
    "import timeslice.viz as viz # to be done\n",
    "import torch\n",
    "from multiprocessing import Process, cpu_count\n",
    "import time\n",
    "import pickle as pkl"
   ]
  },
  {
   "cell_type": "markdown",
   "metadata": {},
   "source": [
    "Define tensor generator:"
   ]
  },
  {
   "cell_type": "code",
   "execution_count": null,
   "metadata": {
    "ExecuteTime": {
     "end_time": "2019-05-06T10:53:26.862299Z",
     "start_time": "2019-05-06T10:48:31.026027Z"
    }
   },
   "outputs": [],
   "source": [
    "p_unit = cpu_count()\n",
    "\n",
    "taxi = source.DatabaseSource('cleaned_small_yellow_2017_full', ('2017-01-01 00:00:00', '2018-01-01 00:00:00'))\n",
    "taxi.load()"
   ]
  },
  {
   "cell_type": "code",
   "execution_count": null,
   "metadata": {
    "ExecuteTime": {
     "end_time": "2019-05-06T10:56:52.448680Z",
     "start_time": "2019-05-06T10:56:36.061366Z"
    }
   },
   "outputs": [],
   "source": [
    "tables = taxi.table_pool\n",
    "sub_ranges = taxi.sub_ranges\n",
    "\n",
    "process_pool = []\n",
    "process_buffer = []\n",
    "tb_size = len(tables)\n",
    "\n",
    "\n",
    "# multi processing generate data\n",
    "print(f'Start generating tensors at {time.ctime()}')\n",
    "\n",
    "workers = []\n",
    "for k in tables.keys():\n",
    "\n",
    "    wp = worker.Worker(k, tables[k], rule.TimeSlice(*list(map(str, sub_ranges[k])), freq='10min'), 'full_year_10min', True)\n",
    "    workers.append(wp)\n",
    "    \n",
    "workers[0]"
   ]
  },
  {
   "cell_type": "code",
   "execution_count": null,
   "metadata": {
    "ExecuteTime": {
     "end_time": "2019-04-03T08:21:35.994846Z",
     "start_time": "2019-04-03T08:21:35.698665Z"
    }
   },
   "outputs": [],
   "source": [
    "def f(worker):\n",
    "    worker.generate()\n",
    "    \n",
    "p = Process(target=f, args=(workers[0],))\n",
    "p.start()\n",
    "p.join()"
   ]
  },
  {
   "cell_type": "markdown",
   "metadata": {},
   "source": [
    "Generate tensors:"
   ]
  },
  {
   "cell_type": "code",
   "execution_count": null,
   "metadata": {
    "ExecuteTime": {
     "end_time": "2019-03-31T01:33:47.161327Z",
     "start_time": "2019-03-31T01:33:47.157335Z"
    }
   },
   "outputs": [],
   "source": [
    "import copy\n",
    "import pickle as pkl\n",
    "\n",
    "class Test:\n",
    "    def __init__(self, dictionary):\n",
    "        self.dict = dictionary\n",
    "        \n",
    "    def write(self):\n",
    "        self.dict"
   ]
  },
  {
   "cell_type": "code",
   "execution_count": null,
   "metadata": {},
   "outputs": [],
   "source": []
  }
 ],
 "metadata": {
  "kernelspec": {
   "display_name": "Python 3",
   "language": "python",
   "name": "python3"
  },
  "language_info": {
   "codemirror_mode": {
    "name": "ipython",
    "version": 3
   },
   "file_extension": ".py",
   "mimetype": "text/x-python",
   "name": "python",
   "nbconvert_exporter": "python",
   "pygments_lexer": "ipython3",
   "version": "3.7.3"
  }
 },
 "nbformat": 4,
 "nbformat_minor": 2
}
