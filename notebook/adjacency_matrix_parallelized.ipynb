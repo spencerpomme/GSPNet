{
 "cells": [
  {
   "cell_type": "markdown",
   "metadata": {},
   "source": [
    "# How to make your Pandas code faster\n",
    "\n",
    "### 1. Accelerated Array Computing"
   ]
  },
  {
   "cell_type": "code",
   "execution_count": 1,
   "metadata": {
    "ExecuteTime": {
     "end_time": "2019-05-06T02:24:01.945619Z",
     "start_time": "2019-05-06T02:23:58.173705Z"
    }
   },
   "outputs": [],
   "source": [
    "import numpy as np\n",
    "import pandas as pd\n",
    "from numba import jit\n",
    "\n",
    "# node numbers of the graph\n",
    "nodes = np.arange(0, 6, 1)\n",
    "\n",
    "# generate random fake connections\n",
    "record = np.array([np.random.choice(nodes, 2) for i in range(6000)])"
   ]
  },
  {
   "cell_type": "code",
   "execution_count": 2,
   "metadata": {
    "ExecuteTime": {
     "end_time": "2019-05-06T02:24:01.954596Z",
     "start_time": "2019-05-06T02:24:01.946617Z"
    }
   },
   "outputs": [
    {
     "data": {
      "text/plain": [
       "array([[0, 2],\n",
       "       [4, 3],\n",
       "       [3, 4],\n",
       "       ...,\n",
       "       [5, 2],\n",
       "       [3, 4],\n",
       "       [1, 1]])"
      ]
     },
     "execution_count": 2,
     "metadata": {},
     "output_type": "execute_result"
    }
   ],
   "source": [
    "record"
   ]
  },
  {
   "cell_type": "code",
   "execution_count": 3,
   "metadata": {
    "ExecuteTime": {
     "end_time": "2019-05-06T02:24:01.962575Z",
     "start_time": "2019-05-06T02:24:01.956591Z"
    }
   },
   "outputs": [
    {
     "data": {
      "text/plain": [
       "array([[0., 0., 0., 0., 0., 0.],\n",
       "       [0., 0., 0., 0., 0., 0.],\n",
       "       [0., 0., 0., 0., 0., 0.],\n",
       "       [0., 0., 0., 0., 0., 0.],\n",
       "       [0., 0., 0., 0., 0., 0.],\n",
       "       [0., 0., 0., 0., 0., 0.]])"
      ]
     },
     "execution_count": 3,
     "metadata": {},
     "output_type": "execute_result"
    }
   ],
   "source": [
    "# create adjacency matrix:\n",
    "am = np.zeros((len(nodes), len(nodes)))\n",
    "am"
   ]
  },
  {
   "cell_type": "code",
   "execution_count": 4,
   "metadata": {
    "ExecuteTime": {
     "end_time": "2019-05-06T02:24:01.978532Z",
     "start_time": "2019-05-06T02:24:01.964569Z"
    }
   },
   "outputs": [
    {
     "data": {
      "text/plain": [
       "array([[162., 164., 169., 172., 170., 173.],\n",
       "       [166., 166., 185., 175., 164., 164.],\n",
       "       [150., 192., 154., 164., 171., 176.],\n",
       "       [186., 181., 168., 168., 169., 156.],\n",
       "       [141., 169., 158., 174., 167., 158.],\n",
       "       [162., 191., 164., 146., 148., 157.]])"
      ]
     },
     "execution_count": 4,
     "metadata": {},
     "output_type": "execute_result"
    }
   ],
   "source": [
    "# simple iterate through the records:\n",
    "for row, col in record:\n",
    "    \n",
    "    am[row, col] += 1\n",
    "    \n",
    "am  "
   ]
  },
  {
   "cell_type": "code",
   "execution_count": 5,
   "metadata": {
    "ExecuteTime": {
     "end_time": "2019-05-06T02:24:02.046349Z",
     "start_time": "2019-05-06T02:24:01.979529Z"
    }
   },
   "outputs": [],
   "source": [
    "# let's wrap the above code into function and time it:\n",
    "\n",
    "def adjacent1(record, am):\n",
    "    for row, col in record:\n",
    "        am[row, col] += 1\n",
    "    return am\n",
    "\n",
    "# clear history\n",
    "record = np.array([np.random.choice(nodes, 2) for i in range(6000)])\n",
    "am = np.zeros((len(nodes), len(nodes)))"
   ]
  },
  {
   "cell_type": "code",
   "execution_count": 6,
   "metadata": {
    "ExecuteTime": {
     "end_time": "2019-05-06T02:24:07.877758Z",
     "start_time": "2019-05-06T02:24:02.047347Z"
    }
   },
   "outputs": [
    {
     "name": "stdout",
     "output_type": "stream",
     "text": [
      "7.15 ms ± 35.8 µs per loop (mean ± std. dev. of 7 runs, 100 loops each)\n"
     ]
    }
   ],
   "source": [
    "%timeit adjacent1(record, am)"
   ]
  },
  {
   "cell_type": "code",
   "execution_count": 7,
   "metadata": {
    "ExecuteTime": {
     "end_time": "2019-05-06T02:24:08.169067Z",
     "start_time": "2019-05-06T02:24:07.878756Z"
    }
   },
   "outputs": [],
   "source": [
    "# let's use the power of numba\n",
    "\n",
    "@jit(nopython=True, parallel=True)\n",
    "def adjacent2(record, am):\n",
    "    for row in range(record.shape[0]):\n",
    "        am[record[row,:][0], record[row, :][1]] += 1 # this twisted roundabout is due to not supported feature for iterating 2d arrays\n",
    "    return am\n",
    "\n",
    "# clear history\n",
    "record = np.array([np.random.choice(nodes, 2) for i in range(6000)])\n",
    "am = np.zeros((len(nodes), len(nodes)))"
   ]
  },
  {
   "cell_type": "code",
   "execution_count": 8,
   "metadata": {
    "ExecuteTime": {
     "end_time": "2019-05-06T02:24:08.763846Z",
     "start_time": "2019-05-06T02:24:08.170974Z"
    }
   },
   "outputs": [
    {
     "name": "stdout",
     "output_type": "stream",
     "text": [
      "9.23 µs ± 3.3 µs per loop (mean ± std. dev. of 7 runs, 1 loop each)\n"
     ]
    }
   ],
   "source": [
    "%timeit adjacent2(record, am)"
   ]
  },
  {
   "cell_type": "markdown",
   "metadata": {},
   "source": [
    "### 2. Converting a Pandas DataFrame to Numpy array"
   ]
  },
  {
   "cell_type": "code",
   "execution_count": 9,
   "metadata": {
    "ExecuteTime": {
     "end_time": "2019-05-06T02:24:08.814709Z",
     "start_time": "2019-05-06T02:24:08.764843Z"
    }
   },
   "outputs": [
    {
     "data": {
      "text/html": [
       "<div>\n",
       "<style scoped>\n",
       "    .dataframe tbody tr th:only-of-type {\n",
       "        vertical-align: middle;\n",
       "    }\n",
       "\n",
       "    .dataframe tbody tr th {\n",
       "        vertical-align: top;\n",
       "    }\n",
       "\n",
       "    .dataframe thead th {\n",
       "        text-align: right;\n",
       "    }\n",
       "</style>\n",
       "<table border=\"1\" class=\"dataframe\">\n",
       "  <thead>\n",
       "    <tr style=\"text-align: right;\">\n",
       "      <th></th>\n",
       "      <th>o</th>\n",
       "      <th>d</th>\n",
       "    </tr>\n",
       "  </thead>\n",
       "  <tbody>\n",
       "    <tr>\n",
       "      <th>0</th>\n",
       "      <td>2</td>\n",
       "      <td>0</td>\n",
       "    </tr>\n",
       "    <tr>\n",
       "      <th>1</th>\n",
       "      <td>1</td>\n",
       "      <td>1</td>\n",
       "    </tr>\n",
       "    <tr>\n",
       "      <th>2</th>\n",
       "      <td>5</td>\n",
       "      <td>4</td>\n",
       "    </tr>\n",
       "    <tr>\n",
       "      <th>3</th>\n",
       "      <td>5</td>\n",
       "      <td>5</td>\n",
       "    </tr>\n",
       "    <tr>\n",
       "      <th>4</th>\n",
       "      <td>1</td>\n",
       "      <td>3</td>\n",
       "    </tr>\n",
       "    <tr>\n",
       "      <th>5</th>\n",
       "      <td>0</td>\n",
       "      <td>0</td>\n",
       "    </tr>\n",
       "    <tr>\n",
       "      <th>6</th>\n",
       "      <td>0</td>\n",
       "      <td>4</td>\n",
       "    </tr>\n",
       "    <tr>\n",
       "      <th>7</th>\n",
       "      <td>5</td>\n",
       "      <td>2</td>\n",
       "    </tr>\n",
       "    <tr>\n",
       "      <th>8</th>\n",
       "      <td>4</td>\n",
       "      <td>5</td>\n",
       "    </tr>\n",
       "    <tr>\n",
       "      <th>9</th>\n",
       "      <td>1</td>\n",
       "      <td>2</td>\n",
       "    </tr>\n",
       "    <tr>\n",
       "      <th>10</th>\n",
       "      <td>1</td>\n",
       "      <td>5</td>\n",
       "    </tr>\n",
       "    <tr>\n",
       "      <th>11</th>\n",
       "      <td>5</td>\n",
       "      <td>1</td>\n",
       "    </tr>\n",
       "    <tr>\n",
       "      <th>12</th>\n",
       "      <td>3</td>\n",
       "      <td>3</td>\n",
       "    </tr>\n",
       "    <tr>\n",
       "      <th>13</th>\n",
       "      <td>2</td>\n",
       "      <td>2</td>\n",
       "    </tr>\n",
       "    <tr>\n",
       "      <th>14</th>\n",
       "      <td>1</td>\n",
       "      <td>2</td>\n",
       "    </tr>\n",
       "    <tr>\n",
       "      <th>15</th>\n",
       "      <td>2</td>\n",
       "      <td>1</td>\n",
       "    </tr>\n",
       "    <tr>\n",
       "      <th>16</th>\n",
       "      <td>1</td>\n",
       "      <td>5</td>\n",
       "    </tr>\n",
       "    <tr>\n",
       "      <th>17</th>\n",
       "      <td>3</td>\n",
       "      <td>2</td>\n",
       "    </tr>\n",
       "    <tr>\n",
       "      <th>18</th>\n",
       "      <td>2</td>\n",
       "      <td>1</td>\n",
       "    </tr>\n",
       "    <tr>\n",
       "      <th>19</th>\n",
       "      <td>1</td>\n",
       "      <td>1</td>\n",
       "    </tr>\n",
       "    <tr>\n",
       "      <th>20</th>\n",
       "      <td>5</td>\n",
       "      <td>2</td>\n",
       "    </tr>\n",
       "    <tr>\n",
       "      <th>21</th>\n",
       "      <td>4</td>\n",
       "      <td>5</td>\n",
       "    </tr>\n",
       "    <tr>\n",
       "      <th>22</th>\n",
       "      <td>0</td>\n",
       "      <td>2</td>\n",
       "    </tr>\n",
       "    <tr>\n",
       "      <th>23</th>\n",
       "      <td>3</td>\n",
       "      <td>5</td>\n",
       "    </tr>\n",
       "    <tr>\n",
       "      <th>24</th>\n",
       "      <td>3</td>\n",
       "      <td>4</td>\n",
       "    </tr>\n",
       "    <tr>\n",
       "      <th>25</th>\n",
       "      <td>1</td>\n",
       "      <td>5</td>\n",
       "    </tr>\n",
       "    <tr>\n",
       "      <th>26</th>\n",
       "      <td>4</td>\n",
       "      <td>0</td>\n",
       "    </tr>\n",
       "    <tr>\n",
       "      <th>27</th>\n",
       "      <td>0</td>\n",
       "      <td>4</td>\n",
       "    </tr>\n",
       "    <tr>\n",
       "      <th>28</th>\n",
       "      <td>2</td>\n",
       "      <td>2</td>\n",
       "    </tr>\n",
       "    <tr>\n",
       "      <th>29</th>\n",
       "      <td>4</td>\n",
       "      <td>1</td>\n",
       "    </tr>\n",
       "    <tr>\n",
       "      <th>...</th>\n",
       "      <td>...</td>\n",
       "      <td>...</td>\n",
       "    </tr>\n",
       "    <tr>\n",
       "      <th>5970</th>\n",
       "      <td>5</td>\n",
       "      <td>1</td>\n",
       "    </tr>\n",
       "    <tr>\n",
       "      <th>5971</th>\n",
       "      <td>5</td>\n",
       "      <td>0</td>\n",
       "    </tr>\n",
       "    <tr>\n",
       "      <th>5972</th>\n",
       "      <td>3</td>\n",
       "      <td>4</td>\n",
       "    </tr>\n",
       "    <tr>\n",
       "      <th>5973</th>\n",
       "      <td>5</td>\n",
       "      <td>2</td>\n",
       "    </tr>\n",
       "    <tr>\n",
       "      <th>5974</th>\n",
       "      <td>3</td>\n",
       "      <td>0</td>\n",
       "    </tr>\n",
       "    <tr>\n",
       "      <th>5975</th>\n",
       "      <td>3</td>\n",
       "      <td>3</td>\n",
       "    </tr>\n",
       "    <tr>\n",
       "      <th>5976</th>\n",
       "      <td>0</td>\n",
       "      <td>2</td>\n",
       "    </tr>\n",
       "    <tr>\n",
       "      <th>5977</th>\n",
       "      <td>0</td>\n",
       "      <td>1</td>\n",
       "    </tr>\n",
       "    <tr>\n",
       "      <th>5978</th>\n",
       "      <td>4</td>\n",
       "      <td>5</td>\n",
       "    </tr>\n",
       "    <tr>\n",
       "      <th>5979</th>\n",
       "      <td>1</td>\n",
       "      <td>3</td>\n",
       "    </tr>\n",
       "    <tr>\n",
       "      <th>5980</th>\n",
       "      <td>0</td>\n",
       "      <td>2</td>\n",
       "    </tr>\n",
       "    <tr>\n",
       "      <th>5981</th>\n",
       "      <td>3</td>\n",
       "      <td>5</td>\n",
       "    </tr>\n",
       "    <tr>\n",
       "      <th>5982</th>\n",
       "      <td>5</td>\n",
       "      <td>0</td>\n",
       "    </tr>\n",
       "    <tr>\n",
       "      <th>5983</th>\n",
       "      <td>4</td>\n",
       "      <td>2</td>\n",
       "    </tr>\n",
       "    <tr>\n",
       "      <th>5984</th>\n",
       "      <td>5</td>\n",
       "      <td>0</td>\n",
       "    </tr>\n",
       "    <tr>\n",
       "      <th>5985</th>\n",
       "      <td>1</td>\n",
       "      <td>2</td>\n",
       "    </tr>\n",
       "    <tr>\n",
       "      <th>5986</th>\n",
       "      <td>5</td>\n",
       "      <td>4</td>\n",
       "    </tr>\n",
       "    <tr>\n",
       "      <th>5987</th>\n",
       "      <td>5</td>\n",
       "      <td>2</td>\n",
       "    </tr>\n",
       "    <tr>\n",
       "      <th>5988</th>\n",
       "      <td>2</td>\n",
       "      <td>0</td>\n",
       "    </tr>\n",
       "    <tr>\n",
       "      <th>5989</th>\n",
       "      <td>0</td>\n",
       "      <td>5</td>\n",
       "    </tr>\n",
       "    <tr>\n",
       "      <th>5990</th>\n",
       "      <td>5</td>\n",
       "      <td>5</td>\n",
       "    </tr>\n",
       "    <tr>\n",
       "      <th>5991</th>\n",
       "      <td>3</td>\n",
       "      <td>2</td>\n",
       "    </tr>\n",
       "    <tr>\n",
       "      <th>5992</th>\n",
       "      <td>3</td>\n",
       "      <td>0</td>\n",
       "    </tr>\n",
       "    <tr>\n",
       "      <th>5993</th>\n",
       "      <td>2</td>\n",
       "      <td>4</td>\n",
       "    </tr>\n",
       "    <tr>\n",
       "      <th>5994</th>\n",
       "      <td>3</td>\n",
       "      <td>4</td>\n",
       "    </tr>\n",
       "    <tr>\n",
       "      <th>5995</th>\n",
       "      <td>2</td>\n",
       "      <td>3</td>\n",
       "    </tr>\n",
       "    <tr>\n",
       "      <th>5996</th>\n",
       "      <td>1</td>\n",
       "      <td>1</td>\n",
       "    </tr>\n",
       "    <tr>\n",
       "      <th>5997</th>\n",
       "      <td>5</td>\n",
       "      <td>0</td>\n",
       "    </tr>\n",
       "    <tr>\n",
       "      <th>5998</th>\n",
       "      <td>0</td>\n",
       "      <td>2</td>\n",
       "    </tr>\n",
       "    <tr>\n",
       "      <th>5999</th>\n",
       "      <td>1</td>\n",
       "      <td>3</td>\n",
       "    </tr>\n",
       "  </tbody>\n",
       "</table>\n",
       "<p>6000 rows × 2 columns</p>\n",
       "</div>"
      ],
      "text/plain": [
       "      o  d\n",
       "0     2  0\n",
       "1     1  1\n",
       "2     5  4\n",
       "3     5  5\n",
       "4     1  3\n",
       "5     0  0\n",
       "6     0  4\n",
       "7     5  2\n",
       "8     4  5\n",
       "9     1  2\n",
       "10    1  5\n",
       "11    5  1\n",
       "12    3  3\n",
       "13    2  2\n",
       "14    1  2\n",
       "15    2  1\n",
       "16    1  5\n",
       "17    3  2\n",
       "18    2  1\n",
       "19    1  1\n",
       "20    5  2\n",
       "21    4  5\n",
       "22    0  2\n",
       "23    3  5\n",
       "24    3  4\n",
       "25    1  5\n",
       "26    4  0\n",
       "27    0  4\n",
       "28    2  2\n",
       "29    4  1\n",
       "...  .. ..\n",
       "5970  5  1\n",
       "5971  5  0\n",
       "5972  3  4\n",
       "5973  5  2\n",
       "5974  3  0\n",
       "5975  3  3\n",
       "5976  0  2\n",
       "5977  0  1\n",
       "5978  4  5\n",
       "5979  1  3\n",
       "5980  0  2\n",
       "5981  3  5\n",
       "5982  5  0\n",
       "5983  4  2\n",
       "5984  5  0\n",
       "5985  1  2\n",
       "5986  5  4\n",
       "5987  5  2\n",
       "5988  2  0\n",
       "5989  0  5\n",
       "5990  5  5\n",
       "5991  3  2\n",
       "5992  3  0\n",
       "5993  2  4\n",
       "5994  3  4\n",
       "5995  2  3\n",
       "5996  1  1\n",
       "5997  5  0\n",
       "5998  0  2\n",
       "5999  1  3\n",
       "\n",
       "[6000 rows x 2 columns]"
      ]
     },
     "execution_count": 9,
     "metadata": {},
     "output_type": "execute_result"
    }
   ],
   "source": [
    "# let's create a pandas df from `record`\n",
    "\n",
    "df_record = pd.DataFrame(record, columns=['o', 'd'])\n",
    "df_record"
   ]
  },
  {
   "cell_type": "code",
   "execution_count": 10,
   "metadata": {
    "ExecuteTime": {
     "end_time": "2019-05-06T02:24:08.881530Z",
     "start_time": "2019-05-06T02:24:08.815707Z"
    }
   },
   "outputs": [],
   "source": [
    "# let's rewrite adjacent function with pandas\n",
    "\n",
    "def adjacent3(record, am):\n",
    "    for _, row in record.iterrows():\n",
    "        am[row['o'], row['d']] += 1\n",
    "    return am\n",
    "\n",
    "# clear history\n",
    "record = np.array([np.random.choice(nodes, 2) for i in range(6000)])\n",
    "df_record = pd.DataFrame(record, columns=['o', 'd'])\n",
    "am = np.zeros((len(nodes), len(nodes)))"
   ]
  },
  {
   "cell_type": "code",
   "execution_count": 11,
   "metadata": {
    "ExecuteTime": {
     "end_time": "2019-05-06T02:24:11.808727Z",
     "start_time": "2019-05-06T02:24:08.882528Z"
    }
   },
   "outputs": [
    {
     "name": "stdout",
     "output_type": "stream",
     "text": [
      "364 ms ± 3.78 ms per loop (mean ± std. dev. of 7 runs, 1 loop each)\n"
     ]
    }
   ],
   "source": [
    "# time the pandas version\n",
    "%timeit adjacent3(df_record, am)"
   ]
  },
  {
   "cell_type": "code",
   "execution_count": 12,
   "metadata": {
    "ExecuteTime": {
     "end_time": "2019-05-06T02:24:11.876603Z",
     "start_time": "2019-05-06T02:24:11.809701Z"
    }
   },
   "outputs": [],
   "source": [
    "# suppose the df_record is what we have in the first place.\n",
    "# we want to leverage numba power to speed up our code\n",
    "# so have to convert pandas df to numpy array first:\n",
    "\n",
    "def adjacent4(record, am):\n",
    "    record = record.to_numpy()\n",
    "    record = record[1:, :]\n",
    "    \n",
    "    return adjacent2(record, am)\n",
    "\n",
    "# clear history\n",
    "record = np.array([np.random.choice(nodes, 2) for i in range(6000)])\n",
    "df_record = pd.DataFrame(record, columns=['o', 'd'])\n",
    "am = np.zeros((len(nodes), len(nodes)))    "
   ]
  },
  {
   "cell_type": "code",
   "execution_count": 13,
   "metadata": {
    "ExecuteTime": {
     "end_time": "2019-05-06T02:24:24.257419Z",
     "start_time": "2019-05-06T02:24:11.877520Z"
    }
   },
   "outputs": [
    {
     "name": "stdout",
     "output_type": "stream",
     "text": [
      "15.3 µs ± 257 ns per loop (mean ± std. dev. of 7 runs, 100000 loops each)\n"
     ]
    }
   ],
   "source": [
    "%timeit adjacent4(df_record, am)"
   ]
  },
  {
   "cell_type": "markdown",
   "metadata": {},
   "source": [
    "The convertion from pandas dataframe to numpy array slows down more than 7 times compared with adjacent2.\n",
    "\n",
    "Thus it is not a good idea to use a lot of pandas if you are performance sensitive.\n",
    "\n",
    "However, it is still 35.1ms / 8.3us ~= 4000+ times faster!\n",
    "\n",
    "We can expect that more rows the record got, the more obvious is the acceleration:\n",
    "\n",
    "When set record has 6000 rows (10 times), the speed boost is 355ms / 15.3us ~= 20000+"
   ]
  },
  {
   "cell_type": "code",
   "execution_count": 14,
   "metadata": {
    "ExecuteTime": {
     "end_time": "2019-05-06T02:24:24.328230Z",
     "start_time": "2019-05-06T02:24:24.258416Z"
    }
   },
   "outputs": [
    {
     "data": {
      "text/plain": [
       "array([[165., 163., 178., 178., 191., 162.],\n",
       "       [173., 170., 165., 165., 185., 157.],\n",
       "       [167., 166., 159., 198., 143., 153.],\n",
       "       [147., 184., 175., 175., 163., 163.],\n",
       "       [170., 154., 156., 173., 153., 162.],\n",
       "       [177., 160., 144., 170., 183., 152.]])"
      ]
     },
     "execution_count": 14,
     "metadata": {},
     "output_type": "execute_result"
    }
   ],
   "source": [
    "# let's go through a real call:\n",
    "# clear history\n",
    "record = np.array([np.random.choice(nodes, 2) for i in range(6000)])\n",
    "df_record = pd.DataFrame(record, columns=['o', 'd'])\n",
    "am = np.zeros((len(nodes), len(nodes)))\n",
    "\n",
    "res = adjacent4(df_record, am)\n",
    "res"
   ]
  },
  {
   "cell_type": "code",
   "execution_count": 15,
   "metadata": {
    "ExecuteTime": {
     "end_time": "2019-05-06T02:24:24.788001Z",
     "start_time": "2019-05-06T02:24:24.329227Z"
    }
   },
   "outputs": [
    {
     "data": {
      "text/plain": [
       "array([[166., 151., 164., 151., 183., 174.],\n",
       "       [147., 178., 170., 195., 180., 183.],\n",
       "       [162., 167., 159., 162., 164., 154.],\n",
       "       [172., 163., 162., 159., 161., 163.],\n",
       "       [183., 182., 177., 167., 145., 157.],\n",
       "       [169., 154., 165., 160., 178., 173.]])"
      ]
     },
     "execution_count": 15,
     "metadata": {},
     "output_type": "execute_result"
    }
   ],
   "source": [
    "# another real call of the slow pandas version:\n",
    "record = np.array([np.random.choice(nodes, 2) for i in range(6000)])\n",
    "df_record = pd.DataFrame(record, columns=['o', 'd'])\n",
    "am = np.zeros((len(nodes), len(nodes)))\n",
    "\n",
    "res = adjacent3(df_record, am)\n",
    "res"
   ]
  },
  {
   "cell_type": "markdown",
   "metadata": {},
   "source": [
    "See, this would eventually result in HUGE difference when you have a big dataset."
   ]
  },
  {
   "cell_type": "code",
   "execution_count": 18,
   "metadata": {
    "ExecuteTime": {
     "end_time": "2019-05-06T02:25:04.851384Z",
     "start_time": "2019-05-06T02:25:04.834405Z"
    }
   },
   "outputs": [
    {
     "data": {
      "text/plain": [
       "{'4': 0,\n",
       " '12': 1,\n",
       " '13': 2,\n",
       " '24': 3,\n",
       " '41': 4,\n",
       " '42': 5,\n",
       " '43': 6,\n",
       " '45': 7,\n",
       " '48': 8,\n",
       " '50': 9,\n",
       " '68': 10,\n",
       " '74': 11,\n",
       " '75': 12,\n",
       " '79': 13,\n",
       " '87': 14,\n",
       " '88': 15,\n",
       " '90': 16,\n",
       " '100': 17,\n",
       " '103': 18,\n",
       " '104': 19,\n",
       " '105': 20,\n",
       " '107': 21,\n",
       " '113': 22,\n",
       " '114': 23,\n",
       " '116': 24,\n",
       " '120': 25,\n",
       " '125': 26,\n",
       " '127': 27,\n",
       " '128': 28,\n",
       " '137': 29,\n",
       " '140': 30,\n",
       " '141': 31,\n",
       " '142': 32,\n",
       " '143': 33,\n",
       " '144': 34,\n",
       " '148': 35,\n",
       " '151': 36,\n",
       " '152': 37,\n",
       " '153': 38,\n",
       " '158': 39,\n",
       " '161': 40,\n",
       " '162': 41,\n",
       " '163': 42,\n",
       " '164': 43,\n",
       " '166': 44,\n",
       " '170': 45,\n",
       " '186': 46,\n",
       " '194': 47,\n",
       " '202': 48,\n",
       " '209': 49,\n",
       " '211': 50,\n",
       " '224': 51,\n",
       " '229': 52,\n",
       " '230': 53,\n",
       " '231': 54,\n",
       " '232': 55,\n",
       " '233': 56,\n",
       " '234': 57,\n",
       " '236': 58,\n",
       " '237': 59,\n",
       " '238': 60,\n",
       " '239': 61,\n",
       " '243': 62,\n",
       " '244': 63,\n",
       " '246': 64,\n",
       " '249': 65,\n",
       " '261': 66,\n",
       " '262': 67,\n",
       " '263': 68}"
      ]
     },
     "execution_count": 18,
     "metadata": {},
     "output_type": "execute_result"
    }
   ],
   "source": [
    "zones = pd.read_csv('../data/raw/taxi_zone_lookup.csv')\n",
    "\n",
    "# very important globals:\n",
    "yellow_zone = zones.loc[zones['Borough'] == 'Manhattan']\n",
    "\n",
    "image_size = yellow_zone.shape[0]\n",
    "\n",
    "# create a mapping {'district_id_in_data_source': index from 0 to 68}\n",
    "real_id = list(map(str, list(yellow_zone.loc[:,'LocationID'])))\n",
    "conv_id = [i for i in range(image_size)]\n",
    "\n",
    "# create matrix id mapping\n",
    "assert len(real_id) == len(conv_id)\n",
    "mp = dict(zip(real_id, conv_id))\n",
    "mp"
   ]
  },
  {
   "cell_type": "code",
   "execution_count": 19,
   "metadata": {
    "ExecuteTime": {
     "end_time": "2019-05-06T02:25:09.507406Z",
     "start_time": "2019-05-06T02:25:09.501421Z"
    }
   },
   "outputs": [
    {
     "data": {
      "text/plain": [
       "['ABCMeta',\n",
       " 'Any',\n",
       " 'Array',\n",
       " 'ArrayCTypes',\n",
       " 'ArrayCompatible',\n",
       " 'ArrayFlags',\n",
       " 'ArrayIterator',\n",
       " 'BaseAnonymousTuple',\n",
       " 'BaseContainerIterator',\n",
       " 'BaseContainerPayload',\n",
       " 'BaseFunction',\n",
       " 'BaseNamedTuple',\n",
       " 'BaseTuple',\n",
       " 'Boolean',\n",
       " 'BoundFunction',\n",
       " 'Buffer',\n",
       " 'ByteArray',\n",
       " 'Bytes',\n",
       " 'CPointer',\n",
       " 'Callable',\n",
       " 'CharSeq',\n",
       " 'ClassDataType',\n",
       " 'ClassInstanceType',\n",
       " 'ClassType',\n",
       " 'Complex',\n",
       " 'ConstSized',\n",
       " 'Container',\n",
       " 'ContextManager',\n",
       " 'Conversion',\n",
       " 'DType',\n",
       " 'DTypeSpec',\n",
       " 'DeferredType',\n",
       " 'DictItemsIterableType',\n",
       " 'DictIteratorType',\n",
       " 'DictKeysIterableType',\n",
       " 'DictType',\n",
       " 'DictValuesIterableType',\n",
       " 'Dispatcher',\n",
       " 'Dummy',\n",
       " 'EllipsisType',\n",
       " 'EnumClass',\n",
       " 'EnumMember',\n",
       " 'EnumerateType',\n",
       " 'EphemeralArray',\n",
       " 'EphemeralPointer',\n",
       " 'ExceptionClass',\n",
       " 'ExceptionInstance',\n",
       " 'ExternalFunction',\n",
       " 'ExternalFunctionPointer',\n",
       " 'Float',\n",
       " 'Function',\n",
       " 'Generator',\n",
       " 'Hashable',\n",
       " 'IntEnumClass',\n",
       " 'IntEnumMember',\n",
       " 'Integer',\n",
       " 'IntegerLiteral',\n",
       " 'IterableType',\n",
       " 'IteratorType',\n",
       " 'List',\n",
       " 'ListIter',\n",
       " 'ListPayload',\n",
       " 'Literal',\n",
       " 'LiteralTypingError',\n",
       " 'Loc',\n",
       " 'Macro',\n",
       " 'MakeFunctionLiteral',\n",
       " 'MemInfoPointer',\n",
       " 'MemoryView',\n",
       " 'Module',\n",
       " 'MutableSequence',\n",
       " 'NPDatetime',\n",
       " 'NPTimedelta',\n",
       " 'NamedTuple',\n",
       " 'NamedTupleClass',\n",
       " 'NamedUniTuple',\n",
       " 'NestedArray',\n",
       " 'NoneType',\n",
       " 'Number',\n",
       " 'NumberClass',\n",
       " 'NumpyFlatType',\n",
       " 'NumpyNdEnumerateType',\n",
       " 'NumpyNdIndexType',\n",
       " 'NumpyNdIterType',\n",
       " 'ObjModeDispatcher',\n",
       " 'Object',\n",
       " 'Omitted',\n",
       " 'Opaque',\n",
       " 'Optional',\n",
       " 'Pair',\n",
       " 'Phantom',\n",
       " 'PyArray',\n",
       " 'PyObject',\n",
       " 'RangeIteratorType',\n",
       " 'RangeType',\n",
       " 'RawPointer',\n",
       " 'Record',\n",
       " 'RecursiveCall',\n",
       " 'Sequence',\n",
       " 'Set',\n",
       " 'SetEntry',\n",
       " 'SetIter',\n",
       " 'SetPayload',\n",
       " 'SimpleIterableType',\n",
       " 'SimpleIteratorType',\n",
       " 'Sized',\n",
       " 'SliceLiteral',\n",
       " 'SliceType',\n",
       " 'SmartArrayType',\n",
       " 'StringLiteral',\n",
       " 'Tuple',\n",
       " 'Type',\n",
       " 'TypeRef',\n",
       " 'TypingError',\n",
       " 'Undefined',\n",
       " 'UniTuple',\n",
       " 'UniTupleIter',\n",
       " 'UnicodeCharSeq',\n",
       " 'UnicodeType',\n",
       " 'VarArg',\n",
       " 'WeakType',\n",
       " 'ZipType',\n",
       " '__all__',\n",
       " '__builtins__',\n",
       " '__cached__',\n",
       " '__doc__',\n",
       " '__file__',\n",
       " '__loader__',\n",
       " '__name__',\n",
       " '__package__',\n",
       " '__path__',\n",
       " '__spec__',\n",
       " '_make_signed',\n",
       " '_make_unsigned',\n",
       " 'absolute_import',\n",
       " 'abstract',\n",
       " 'abstractmethod',\n",
       " 'abstractproperty',\n",
       " 'add_metaclass',\n",
       " 'b1',\n",
       " 'bool_',\n",
       " 'boolean',\n",
       " 'byte',\n",
       " 'c16',\n",
       " 'c8',\n",
       " 'cached_property',\n",
       " 'char',\n",
       " 'code_type',\n",
       " 'collections',\n",
       " 'common',\n",
       " 'complex128',\n",
       " 'complex64',\n",
       " 'complex_domain',\n",
       " 'containers',\n",
       " 'deferred_type',\n",
       " 'division',\n",
       " 'double',\n",
       " 'ellipsis',\n",
       " 'enum',\n",
       " 'errors',\n",
       " 'f4',\n",
       " 'f8',\n",
       " 'ffi',\n",
       " 'ffi_forced_object',\n",
       " 'float32',\n",
       " 'float64',\n",
       " 'float_',\n",
       " 'functions',\n",
       " 'i1',\n",
       " 'i2',\n",
       " 'i4',\n",
       " 'i8',\n",
       " 'inspect',\n",
       " 'int16',\n",
       " 'int32',\n",
       " 'int64',\n",
       " 'int8',\n",
       " 'int_',\n",
       " 'intc',\n",
       " 'integer_domain',\n",
       " 'intp',\n",
       " 'ir',\n",
       " 'is_homogeneous',\n",
       " 'iterators',\n",
       " 'itertools',\n",
       " 'literal',\n",
       " 'long_',\n",
       " 'longlong',\n",
       " 'maybe_literal',\n",
       " 'misc',\n",
       " 'none',\n",
       " 'np',\n",
       " 'npdatetime',\n",
       " 'npytypes',\n",
       " 'number_domain',\n",
       " 'optional',\n",
       " 'parse_integer_bitwidth',\n",
       " 'parse_integer_signed',\n",
       " 'print_function',\n",
       " 'py2_string_type',\n",
       " 'pyfunc_type',\n",
       " 'pyobject',\n",
       " 'range_iter32_type',\n",
       " 'range_iter64_type',\n",
       " 'range_state32_type',\n",
       " 'range_state64_type',\n",
       " 'real_domain',\n",
       " 'scalars',\n",
       " 'short',\n",
       " 'signed_domain',\n",
       " 'slice2_type',\n",
       " 'slice3_type',\n",
       " 'string',\n",
       " 'struct',\n",
       " 'sys',\n",
       " 'traceback',\n",
       " 'u1',\n",
       " 'u2',\n",
       " 'u4',\n",
       " 'u8',\n",
       " 'uchar',\n",
       " 'uint',\n",
       " 'uint16',\n",
       " 'uint32',\n",
       " 'uint64',\n",
       " 'uint8',\n",
       " 'uintc',\n",
       " 'uintp',\n",
       " 'ulong',\n",
       " 'ulonglong',\n",
       " 'undefined',\n",
       " 'unicode_type',\n",
       " 'unliteral',\n",
       " 'unsigned_domain',\n",
       " 'unsigned_range_iter64_type',\n",
       " 'unsigned_range_state64_type',\n",
       " 'ushort',\n",
       " 'utils',\n",
       " 'void',\n",
       " 'voidptr',\n",
       " 'weakref']"
      ]
     },
     "execution_count": 19,
     "metadata": {},
     "output_type": "execute_result"
    }
   ],
   "source": [
    "import numba.types as types\n",
    "\n",
    "dir(types)"
   ]
  },
  {
   "cell_type": "code",
   "execution_count": 20,
   "metadata": {
    "ExecuteTime": {
     "end_time": "2019-05-06T02:25:11.839994Z",
     "start_time": "2019-05-06T02:25:11.834011Z"
    }
   },
   "outputs": [
    {
     "data": {
      "text/plain": [
       "numpy.int32"
      ]
     },
     "execution_count": 20,
     "metadata": {},
     "output_type": "execute_result"
    }
   ],
   "source": [
    "type(np.arange(0, 69, dtype='int32')[0])"
   ]
  },
  {
   "cell_type": "code",
   "execution_count": 21,
   "metadata": {
    "ExecuteTime": {
     "end_time": "2019-05-06T02:25:14.953338Z",
     "start_time": "2019-05-06T02:25:14.948351Z"
    }
   },
   "outputs": [
    {
     "data": {
      "text/plain": [
       "array([[ 0,  1,  2,  3,  4,  5,  6,  7,  8,  9],\n",
       "       [10, 11, 12, 13, 14, 15, 16, 17, 18, 19],\n",
       "       [20, 21, 22, 23, 24, 25, 26, 27, 28, 29],\n",
       "       [30, 31, 32, 33, 34, 35, 36, 37, 38, 39],\n",
       "       [40, 41, 42, 43, 44, 45, 46, 47, 48, 49],\n",
       "       [50, 51, 52, 53, 54, 55, 56, 57, 58, 59],\n",
       "       [60, 61, 62, 63, 64, 65, 66, 67, 68, 69],\n",
       "       [70, 71, 72, 73, 74, 75, 76, 77, 78, 79],\n",
       "       [80, 81, 82, 83, 84, 85, 86, 87, 88, 89],\n",
       "       [90, 91, 92, 93, 94, 95, 96, 97, 98, 99]])"
      ]
     },
     "execution_count": 21,
     "metadata": {},
     "output_type": "execute_result"
    }
   ],
   "source": [
    "a = np.arange(0,100).reshape(10,10)\n",
    "a"
   ]
  },
  {
   "cell_type": "code",
   "execution_count": 22,
   "metadata": {
    "ExecuteTime": {
     "end_time": "2019-05-06T02:25:15.779527Z",
     "start_time": "2019-05-06T02:25:15.774564Z"
    }
   },
   "outputs": [
    {
     "data": {
      "text/plain": [
       "array([[ 1,  2],\n",
       "       [11, 12],\n",
       "       [21, 22],\n",
       "       [31, 32],\n",
       "       [41, 42],\n",
       "       [51, 52],\n",
       "       [61, 62],\n",
       "       [71, 72],\n",
       "       [81, 82],\n",
       "       [91, 92]])"
      ]
     },
     "execution_count": 22,
     "metadata": {},
     "output_type": "execute_result"
    }
   ],
   "source": [
    "a = a[:,(1,2)]\n",
    "a"
   ]
  },
  {
   "cell_type": "code",
   "execution_count": null,
   "metadata": {},
   "outputs": [],
   "source": []
  }
 ],
 "metadata": {
  "kernelspec": {
   "display_name": "Python 3",
   "language": "python",
   "name": "python3"
  },
  "language_info": {
   "codemirror_mode": {
    "name": "ipython",
    "version": 3
   },
   "file_extension": ".py",
   "mimetype": "text/x-python",
   "name": "python",
   "nbconvert_exporter": "python",
   "pygments_lexer": "ipython3",
   "version": "3.7.3"
  }
 },
 "nbformat": 4,
 "nbformat_minor": 2
}
