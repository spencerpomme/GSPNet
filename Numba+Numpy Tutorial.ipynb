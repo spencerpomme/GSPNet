{
 "cells": [
  {
   "cell_type": "markdown",
   "metadata": {},
   "source": [
    "<img src=\"images/logo_city.png\" align=\"right\" width=\"20%\">"
   ]
  },
  {
   "cell_type": "markdown",
   "metadata": {},
   "source": [
    "# A Short Introduction on Parallel Computation Library\n",
    "\n",
    "In this tutorial, we will benchmark plain Numpy and Numba inhanced counterpart. As a complement, Pandas is also compared."
   ]
  },
  {
   "cell_type": "code",
   "execution_count": 15,
   "metadata": {
    "ExecuteTime": {
     "end_time": "2019-03-26T13:43:38.785106Z",
     "start_time": "2019-03-26T13:43:38.313341Z"
    }
   },
   "outputs": [
    {
     "data": {
      "text/plain": [
       "array([[9.99900000e+03, 1.00000000e+04, 1.00010000e+04, ...,\n",
       "        1.99960000e+04, 1.99970000e+04, 1.99980000e+04],\n",
       "       [1.99990000e+04, 2.00000000e+04, 2.00010000e+04, ...,\n",
       "        2.99960000e+04, 2.99970000e+04, 2.99980000e+04],\n",
       "       [2.99990000e+04, 3.00000000e+04, 3.00010000e+04, ...,\n",
       "        3.99960000e+04, 3.99970000e+04, 3.99980000e+04],\n",
       "       ...,\n",
       "       [9.99799990e+07, 9.99800000e+07, 9.99800010e+07, ...,\n",
       "        9.99899960e+07, 9.99899970e+07, 9.99899980e+07],\n",
       "       [9.99899990e+07, 9.99900000e+07, 9.99900010e+07, ...,\n",
       "        9.99999960e+07, 9.99999970e+07, 9.99999980e+07],\n",
       "       [9.99999990e+07, 1.00000000e+08, 1.00000001e+08, ...,\n",
       "        1.00009996e+08, 1.00009997e+08, 1.00009998e+08]])"
      ]
     },
     "execution_count": 15,
     "metadata": {},
     "output_type": "execute_result"
    }
   ],
   "source": [
    "from numba import jit\n",
    "import numpy as np\n",
    "\n",
    "x = np.arange(10000*10000).reshape(10000, 10000)\n",
    "\n",
    "@jit(nopython=True) # Set \"nopython\" mode for best performance, equivalent to @njit\n",
    "def go_fast(a): # Function is compiled to machine code when called the first time\n",
    "    trace = 0\n",
    "    for i in range(a.shape[0]):   # Numba likes loops\n",
    "        trace += np.tanh(a[i, i]) # Numba likes NumPy functions\n",
    "    return a + trace              # Numba likes NumPy broadcasting\n",
    "\n",
    "go_fast(x)"
   ]
  },
  {
   "cell_type": "code",
   "execution_count": 16,
   "metadata": {
    "ExecuteTime": {
     "end_time": "2019-03-26T13:43:41.276605Z",
     "start_time": "2019-03-26T13:43:40.999371Z"
    }
   },
   "outputs": [
    {
     "data": {
      "text/plain": [
       "array([[9.99900000e+03, 1.00000000e+04, 1.00010000e+04, ...,\n",
       "        1.99960000e+04, 1.99970000e+04, 1.99980000e+04],\n",
       "       [1.99990000e+04, 2.00000000e+04, 2.00010000e+04, ...,\n",
       "        2.99960000e+04, 2.99970000e+04, 2.99980000e+04],\n",
       "       [2.99990000e+04, 3.00000000e+04, 3.00010000e+04, ...,\n",
       "        3.99960000e+04, 3.99970000e+04, 3.99980000e+04],\n",
       "       ...,\n",
       "       [9.99799990e+07, 9.99800000e+07, 9.99800010e+07, ...,\n",
       "        9.99899960e+07, 9.99899970e+07, 9.99899980e+07],\n",
       "       [9.99899990e+07, 9.99900000e+07, 9.99900010e+07, ...,\n",
       "        9.99999960e+07, 9.99999970e+07, 9.99999980e+07],\n",
       "       [9.99999990e+07, 1.00000000e+08, 1.00000001e+08, ...,\n",
       "        1.00009996e+08, 1.00009997e+08, 1.00009998e+08]])"
      ]
     },
     "execution_count": 16,
     "metadata": {},
     "output_type": "execute_result"
    }
   ],
   "source": [
    "def go_slow(a):\n",
    "    trace = 0\n",
    "    for i in range(a.shape[0]):\n",
    "        trace += np.tanh(a[i, i])\n",
    "    return a + trace\n",
    "\n",
    "go_slow(x)"
   ]
  },
  {
   "cell_type": "code",
   "execution_count": null,
   "metadata": {},
   "outputs": [],
   "source": []
  },
  {
   "cell_type": "code",
   "execution_count": null,
   "metadata": {},
   "outputs": [],
   "source": []
  }
 ],
 "metadata": {
  "kernelspec": {
   "display_name": "Python 3",
   "language": "python",
   "name": "python3"
  },
  "language_info": {
   "codemirror_mode": {
    "name": "ipython",
    "version": 3
   },
   "file_extension": ".py",
   "mimetype": "text/x-python",
   "name": "python",
   "nbconvert_exporter": "python",
   "pygments_lexer": "ipython3",
   "version": "3.7.1"
  }
 },
 "nbformat": 4,
 "nbformat_minor": 2
}
