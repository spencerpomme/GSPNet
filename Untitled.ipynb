{
 "cells": [
  {
   "cell_type": "code",
   "execution_count": 7,
   "metadata": {
    "ExecuteTime": {
     "end_time": "2019-03-27T11:58:45.978667Z",
     "start_time": "2019-03-27T11:58:45.975675Z"
    }
   },
   "outputs": [],
   "source": [
    "sql = \"select tripid, tpep_pickup_datetime, tpep_dropoff_datetime, pulocationid, dolocationid from cleaned_small_yellow_2017_full \\\n",
    "where tpep_pickup_datetime >= '2017-09-10 00:00:00' and tpep_dropoff_datetime < '2017-09-17 00:00:00';\""
   ]
  },
  {
   "cell_type": "code",
   "execution_count": 8,
   "metadata": {
    "ExecuteTime": {
     "end_time": "2019-03-27T11:58:47.507602Z",
     "start_time": "2019-03-27T11:58:47.503589Z"
    }
   },
   "outputs": [
    {
     "data": {
      "text/plain": [
       "\"select tripid, tpep_pickup_datetime, tpep_dropoff_datetime, pulocationid, dolocationid from cleaned_small_yellow_2017_full where tpep_pickup_datetime >= '2017-09-10 00:00:00' and tpep_dropoff_datetime < '2017-09-17 00:00:00';\""
      ]
     },
     "execution_count": 8,
     "metadata": {},
     "output_type": "execute_result"
    }
   ],
   "source": [
    "sql"
   ]
  },
  {
   "cell_type": "code",
   "execution_count": 9,
   "metadata": {
    "ExecuteTime": {
     "end_time": "2019-03-27T11:59:27.301208Z",
     "start_time": "2019-03-27T11:59:24.238399Z"
    }
   },
   "outputs": [],
   "source": [
    "import pandas as pd\n",
    "import sqlalchemy\n",
    "import psycopg2"
   ]
  },
  {
   "cell_type": "code",
   "execution_count": 10,
   "metadata": {
    "ExecuteTime": {
     "end_time": "2019-03-27T12:00:33.963722Z",
     "start_time": "2019-03-27T12:00:33.854017Z"
    }
   },
   "outputs": [],
   "source": [
    "host = 'localhost'\n",
    "dbname = 'taxi'\n",
    "user = 'postgres'\n",
    "\n",
    "conn = psycopg2.connect(f'host={host} dbname={dbname} user={user}')"
   ]
  },
  {
   "cell_type": "code",
   "execution_count": 11,
   "metadata": {
    "ExecuteTime": {
     "end_time": "2019-03-27T12:01:07.700488Z",
     "start_time": "2019-03-27T12:00:55.499124Z"
    }
   },
   "outputs": [],
   "source": [
    "table = pd.read_sql_query(sql, conn)"
   ]
  },
  {
   "cell_type": "code",
   "execution_count": 12,
   "metadata": {
    "ExecuteTime": {
     "end_time": "2019-03-27T12:01:25.392172Z",
     "start_time": "2019-03-27T12:01:25.386186Z"
    }
   },
   "outputs": [
    {
     "data": {
      "text/plain": [
       "(2213756, 5)"
      ]
     },
     "execution_count": 12,
     "metadata": {},
     "output_type": "execute_result"
    }
   ],
   "source": [
    "table.shape"
   ]
  },
  {
   "cell_type": "code",
   "execution_count": 1,
   "metadata": {
    "ExecuteTime": {
     "end_time": "2019-03-30T06:50:27.800937Z",
     "start_time": "2019-03-30T06:50:27.791964Z"
    }
   },
   "outputs": [
    {
     "data": {
      "text/plain": [
       "2"
      ]
     },
     "execution_count": 1,
     "metadata": {},
     "output_type": "execute_result"
    }
   ],
   "source": [
    "d = {'a':1, 'b':2}\n",
    "len(d)"
   ]
  },
  {
   "cell_type": "code",
   "execution_count": null,
   "metadata": {},
   "outputs": [],
   "source": []
  }
 ],
 "metadata": {
  "kernelspec": {
   "display_name": "Python 3",
   "language": "python",
   "name": "python3"
  },
  "language_info": {
   "codemirror_mode": {
    "name": "ipython",
    "version": 3
   },
   "file_extension": ".py",
   "mimetype": "text/x-python",
   "name": "python",
   "nbconvert_exporter": "python",
   "pygments_lexer": "ipython3",
   "version": "3.7.1"
  }
 },
 "nbformat": 4,
 "nbformat_minor": 2
}
