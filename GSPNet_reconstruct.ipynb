{
 "cells": [
  {
   "cell_type": "markdown",
   "metadata": {},
   "source": [
    "<img src=\"images/logo_city.png\" align=\"right\" width=\"20%\">"
   ]
  },
  {
   "cell_type": "markdown",
   "metadata": {},
   "source": [
    "# Training A Graph State Prediction Network (GSPNet): Simplified version\n",
    "\n",
    "This notebook is a prototype on how to train a graph state prediction network using CNN and LSTM.\n",
    "The content is devided into __3__ parts:\n",
    "\n",
    "1. Data preprocessing\n",
    "2. Model building, Training and Tuning\n",
    "3. Prediction and per demand modifacation\n",
    "\n",
    "The model is built with [PyTorch](https://pytorch.org/).\n",
    "\n",
    "<p style='color: darkred'><strong>This version is simplified and most of intermediate explainatory codes and comments are removed except those directly contribute to generating images. For duck process, see the prototype version.</strong></p>"
   ]
  },
  {
   "cell_type": "markdown",
   "metadata": {},
   "source": [
    "## Part 1: Data Preprocessing\n",
    "\n",
    "### 1. Load Libraries and Data\n",
    "\n",
    "Load in the data. Check the data integrity."
   ]
  },
  {
   "cell_type": "code",
   "execution_count": 1,
   "metadata": {},
   "outputs": [],
   "source": [
    "import pandas as pd\n",
    "import numpy as np\n",
    "import seaborn as sns\n",
    "import sqlalchemy\n",
    "import time\n",
    "import psycopg2\n",
    "import warnings\n",
    "import re\n",
    "import torch\n",
    "from dask import dataframe as dd\n",
    "from PIL import Image\n",
    "from IPython.display import display\n",
    "from scipy import stats\n",
    "from matplotlib import pyplot as plt\n",
    "\n",
    "%matplotlib inline\n",
    "%config InlineBackend.figure_format = 'retina'"
   ]
  },
  {
   "cell_type": "markdown",
   "metadata": {},
   "source": [
    "Load data for test only. Use dask."
   ]
  },
  {
   "cell_type": "code",
   "execution_count": 2,
   "metadata": {},
   "outputs": [
    {
     "data": {
      "text/html": [
       "<div>\n",
       "<style scoped>\n",
       "    .dataframe tbody tr th:only-of-type {\n",
       "        vertical-align: middle;\n",
       "    }\n",
       "\n",
       "    .dataframe tbody tr th {\n",
       "        vertical-align: top;\n",
       "    }\n",
       "\n",
       "    .dataframe thead th {\n",
       "        text-align: right;\n",
       "    }\n",
       "</style>\n",
       "<table border=\"1\" class=\"dataframe\">\n",
       "  <thead>\n",
       "    <tr style=\"text-align: right;\">\n",
       "      <th></th>\n",
       "      <th>tripid</th>\n",
       "      <th>tpep_pickup_datetime</th>\n",
       "      <th>tpep_dropoff_datetime</th>\n",
       "      <th>pulocationid</th>\n",
       "      <th>dolocationid</th>\n",
       "      <th>trip_distance</th>\n",
       "      <th>passenger_count</th>\n",
       "      <th>total_amount</th>\n",
       "      <th>trip_time</th>\n",
       "      <th>trip_avg_speed</th>\n",
       "      <th>trip_time_sec</th>\n",
       "    </tr>\n",
       "  </thead>\n",
       "  <tbody>\n",
       "    <tr>\n",
       "      <th>0</th>\n",
       "      <td>108413760</td>\n",
       "      <td>2017-12-02 07:44:47</td>\n",
       "      <td>2017-12-02 08:17:03</td>\n",
       "      <td>161</td>\n",
       "      <td>138</td>\n",
       "      <td>11.44</td>\n",
       "      <td>1</td>\n",
       "      <td>49.87</td>\n",
       "      <td>00:32:16</td>\n",
       "      <td>21.272727</td>\n",
       "      <td>1936</td>\n",
       "    </tr>\n",
       "    <tr>\n",
       "      <th>1</th>\n",
       "      <td>108449137</td>\n",
       "      <td>2017-12-23 16:30:59</td>\n",
       "      <td>2017-12-23 23:56:08</td>\n",
       "      <td>138</td>\n",
       "      <td>225</td>\n",
       "      <td>11.98</td>\n",
       "      <td>1</td>\n",
       "      <td>38.30</td>\n",
       "      <td>07:25:09</td>\n",
       "      <td>1.614737</td>\n",
       "      <td>26709</td>\n",
       "    </tr>\n",
       "    <tr>\n",
       "      <th>2</th>\n",
       "      <td>121063599</td>\n",
       "      <td>2017-12-01 00:01:35</td>\n",
       "      <td>2017-12-01 00:14:01</td>\n",
       "      <td>163</td>\n",
       "      <td>224</td>\n",
       "      <td>2.44</td>\n",
       "      <td>2</td>\n",
       "      <td>14.16</td>\n",
       "      <td>00:12:26</td>\n",
       "      <td>11.774799</td>\n",
       "      <td>746</td>\n",
       "    </tr>\n",
       "    <tr>\n",
       "      <th>3</th>\n",
       "      <td>121063645</td>\n",
       "      <td>2017-12-01 00:01:38</td>\n",
       "      <td>2017-12-01 00:10:45</td>\n",
       "      <td>229</td>\n",
       "      <td>229</td>\n",
       "      <td>1.06</td>\n",
       "      <td>2</td>\n",
       "      <td>11.00</td>\n",
       "      <td>00:09:07</td>\n",
       "      <td>6.976234</td>\n",
       "      <td>547</td>\n",
       "    </tr>\n",
       "    <tr>\n",
       "      <th>4</th>\n",
       "      <td>121063776</td>\n",
       "      <td>2017-12-01 00:00:48</td>\n",
       "      <td>2017-12-01 00:32:21</td>\n",
       "      <td>140</td>\n",
       "      <td>56</td>\n",
       "      <td>9.05</td>\n",
       "      <td>3</td>\n",
       "      <td>39.96</td>\n",
       "      <td>00:31:33</td>\n",
       "      <td>17.210777</td>\n",
       "      <td>1893</td>\n",
       "    </tr>\n",
       "  </tbody>\n",
       "</table>\n",
       "</div>"
      ],
      "text/plain": [
       "      tripid tpep_pickup_datetime tpep_dropoff_datetime  pulocationid  \\\n",
       "0  108413760  2017-12-02 07:44:47   2017-12-02 08:17:03           161   \n",
       "1  108449137  2017-12-23 16:30:59   2017-12-23 23:56:08           138   \n",
       "2  121063599  2017-12-01 00:01:35   2017-12-01 00:14:01           163   \n",
       "3  121063645  2017-12-01 00:01:38   2017-12-01 00:10:45           229   \n",
       "4  121063776  2017-12-01 00:00:48   2017-12-01 00:32:21           140   \n",
       "\n",
       "   dolocationid  trip_distance  passenger_count  total_amount trip_time  \\\n",
       "0           138          11.44                1         49.87  00:32:16   \n",
       "1           225          11.98                1         38.30  07:25:09   \n",
       "2           224           2.44                2         14.16  00:12:26   \n",
       "3           229           1.06                2         11.00  00:09:07   \n",
       "4            56           9.05                3         39.96  00:31:33   \n",
       "\n",
       "   trip_avg_speed  trip_time_sec  \n",
       "0       21.272727           1936  \n",
       "1        1.614737          26709  \n",
       "2       11.774799            746  \n",
       "3        6.976234            547  \n",
       "4       17.210777           1893  "
      ]
     },
     "execution_count": 2,
     "metadata": {},
     "output_type": "execute_result"
    }
   ],
   "source": [
    "table = dd.read_csv('dataset/nytaxi_yellow_2017_dec.csv')\n",
    "table.head()"
   ]
  },
  {
   "cell_type": "markdown",
   "metadata": {},
   "source": [
    "Check table shape:"
   ]
  },
  {
   "cell_type": "code",
   "execution_count": 3,
   "metadata": {},
   "outputs": [
    {
     "data": {
      "text/plain": [
       "(Delayed('int-766e6926-9a8f-44d2-b1bd-24e9e746ef97'), 11)"
      ]
     },
     "execution_count": 3,
     "metadata": {},
     "output_type": "execute_result"
    }
   ],
   "source": [
    "table.shape"
   ]
  },
  {
   "cell_type": "markdown",
   "metadata": {},
   "source": [
    "Check data:\n",
    "\n",
    "Ratio of trips last longer than 30 minutes: (better smaller than 0.1)"
   ]
  },
  {
   "cell_type": "code",
   "execution_count": 4,
   "metadata": {},
   "outputs": [
    {
     "data": {
      "text/plain": [
       "Delayed('truediv-1b5e0e320605aa5b5b3c93065e5fdaa1')"
      ]
     },
     "execution_count": 4,
     "metadata": {},
     "output_type": "execute_result"
    }
   ],
   "source": [
    "(table.loc[table['trip_time_sec'] > 1800].shape[0] / table.shape[0])"
   ]
  },
  {
   "cell_type": "markdown",
   "metadata": {},
   "source": [
    "### 2. Time Interval Preprocessing\n",
    "\n",
    "Create time interval and process original table to generate images.\n",
    "\n",
    "Change datetime columns from str type to Timestamp.\n",
    "\n",
    "Function to create time **intervals**:"
   ]
  },
  {
   "cell_type": "code",
   "execution_count": 5,
   "metadata": {},
   "outputs": [],
   "source": [
    "def timesplit(stp: str, etp: str, freq='10min'):\n",
    "    '''\n",
    "    Create a DatetimeIndx interval.\n",
    "    \n",
    "    Params:\n",
    "        stp: string, starting time point, first left bound\n",
    "        etp: string, ending time point, last right bound\n",
    "        freq: frequency, time interval unit of the splice operation\n",
    "    The stp and etp must of pattern \"yyyy-mm-dd hh:mm:ss\", otherwise exception will be raised.\n",
    "    \n",
    "    Return:\n",
    "        A list of time intervals tuples,each item is a tuple of two\n",
    "        interval(i.e., pandas.core.indexes.datetimes.DatetimeIndex object)\n",
    "        For example, a possible return could be [(2017-01-01 00:00:00, 2017-01-01 00:10:00),\n",
    "                                                 (2017-01-01 00:10:00, 2017-01-01 00:20:00)]\n",
    "    '''\n",
    "    pattern = re.compile('^([0-9]{4})-([0-1][0-9])-([0-3][0-9])\\s([0-1][0-9]|[2][0-3]):([0-5][0-9]):([0-5][0-9])$')\n",
    "    if pattern.match(stp) and pattern.match(etp):\n",
    "        time_bounds = pd.date_range(stp, etp, freq=freq)\n",
    "        sub_intervals = list(zip(time_bounds[:-1], time_bounds[1:]))\n",
    "        print(len(time_bounds), len(sub_intervals))\n",
    "        return sub_intervals\n",
    "    else:\n",
    "        raise Exception('Provided time bound is of invalid format.')\n"
   ]
  },
  {
   "cell_type": "markdown",
   "metadata": {},
   "source": [
    "### 3. Location Preprocessing\n",
    "\n",
    "Preprocess location related information: mapping ids and locations, then generate adjacency matrices."
   ]
  },
  {
   "cell_type": "code",
   "execution_count": 6,
   "metadata": {},
   "outputs": [
    {
     "name": "stdout",
     "output_type": "stream",
     "text": [
      "shape is: (265, 4)\n"
     ]
    }
   ],
   "source": [
    "# Load zone lookup table\n",
    "zones = pd.read_csv('dataset/taxi_zone_lookup.csv')\n",
    "print(f'shape is: {zones.shape}')"
   ]
  },
  {
   "cell_type": "code",
   "execution_count": 7,
   "metadata": {},
   "outputs": [
    {
     "name": "stdout",
     "output_type": "stream",
     "text": [
      "(69, 4)\n"
     ]
    }
   ],
   "source": [
    "# very important globals:\n",
    "yellow_zone = zones.loc[zones['Borough'] == 'Manhattan']\n",
    "print(yellow_zone.shape)\n",
    "img_size = yellow_zone.shape[0]\n",
    "\n",
    "real_id = list(map(str, list(yellow_zone.loc[:,'LocationID'])))\n",
    "conv_id = [i for i in range(img_size)]\n",
    "assert len(real_id) == len(conv_id)\n",
    "mp = dict(zip(real_id, conv_id))"
   ]
  },
  {
   "cell_type": "markdown",
   "metadata": {},
   "source": [
    "### 4. Generate Tensor: 3 matrices (layers) of connection\n",
    "\n",
    "Generate images that represent traffic states.\n",
    "\n",
    "Define functions to generate desired outcomes:"
   ]
  },
  {
   "cell_type": "code",
   "execution_count": 8,
   "metadata": {},
   "outputs": [
    {
     "name": "stdout",
     "output_type": "stream",
     "text": [
      "Generating images on 2017-4-1 ...\n",
      "0 0\n"
     ]
    }
   ],
   "source": [
    "left = pd.to_datetime('2017-04-01 00:00:00')\n",
    "print(f'Generating images on {left.year}-{left.month}-{left.day} ...')\n",
    "print(left.minute, left.second)"
   ]
  },
  {
   "cell_type": "code",
   "execution_count": 9,
   "metadata": {},
   "outputs": [],
   "source": [
    "def gen_snap_layers(table, bound):\n",
    "    '''\n",
    "    Generate Past layer, Now layer and Future layer for one snapshot.\n",
    "    Params:\n",
    "        table:\n",
    "        bounds:\n",
    "    Return:\n",
    "        PNF layers, a list.\n",
    "    '''\n",
    "    # left bound and right bound of time interval\n",
    "    assert type(bound) == tuple\n",
    "    left = bound[0]\n",
    "    right = bound[1]\n",
    "    \n",
    "    if left.hour == 0 and left.minute == 0 and left.second == 0:\n",
    "        print(f'Generating images on {left.year}-{left.month}-{left.day}...')\n",
    "    \n",
    "    # no need to sort table indeed?\n",
    "    projected_table = table.loc[:, ['tripid',\n",
    "                                    'tpep_pickup_datetime',\n",
    "                                    'tpep_dropoff_datetime',\n",
    "                                    'pulocationid',\n",
    "                                    'dolocationid']]\n",
    "\n",
    "    # The condition of making snapshot should be:\n",
    "    # at least one temporal end of a trip should be within the bounds:\n",
    "    snap = projected_table.loc[\n",
    "        ((projected_table['tpep_pickup_datetime'] >= left) &\n",
    "         (projected_table['tpep_pickup_datetime'] < right)) |\n",
    "        ((projected_table['tpep_dropoff_datetime'] >= left) &\n",
    "         (projected_table['tpep_dropoff_datetime'] < right))]\n",
    "\n",
    "    # temp table to generate F,P,N layers\n",
    "    # keep snap intact\n",
    "    temp_snap = snap.copy()\n",
    "\n",
    "    # Use the interval to 'catch' corresponding trips.\n",
    "    # future layer\n",
    "    f_layer = temp_snap.loc[(temp_snap['tpep_pickup_datetime'] < right) &\n",
    "                             (temp_snap['tpep_pickup_datetime'] >= left) &\n",
    "                             (temp_snap['tpep_dropoff_datetime'] >= right)]\n",
    "    # past layer\n",
    "    p_layer = temp_snap.loc[(temp_snap['tpep_pickup_datetime'] < left) &\n",
    "                             (temp_snap['tpep_dropoff_datetime'] >= left) &\n",
    "                             (temp_snap['tpep_dropoff_datetime'] < right)]\n",
    "    # now layer\n",
    "    n_layer = temp_snap.loc[(temp_snap['tpep_pickup_datetime'] >= left) &\n",
    "                             (temp_snap['tpep_dropoff_datetime'] < right)]\n",
    "\n",
    "    # Their count should add up to total trips caught\n",
    "    assert temp_snap.shape[0] == f_layer.shape[0] + p_layer.shape[0] + n_layer.shape[0]\n",
    "\n",
    "    return p_layer, n_layer, f_layer\n",
    "\n",
    "\n",
    "# Function that combines layers to an image\n",
    "def gen_image(p_layer, n_layer, f_layer):\n",
    "    '''\n",
    "    Generate an image using given matrices.\n",
    "    Params:\n",
    "        p_layer: matrix of past layer\n",
    "        n_layer: matrix of now layer\n",
    "        f_layer: matrix of future layer\n",
    "    Return:\n",
    "        A PIL image.\n",
    "    '''\n",
    "    # create a snapshot\n",
    "    snapshot = np.zeros([img_size, img_size, 3], dtype='float64')\n",
    "\n",
    "    # unexpected zones\n",
    "    left_zones = set()\n",
    "\n",
    "    # future-Red: 0\n",
    "    for _, row in f_layer.iterrows():\n",
    "        try:\n",
    "            snapshot[mp[str(row['pulocationid'])], mp[str(row['dolocationid'])], 0] += 1\n",
    "        except Exception as e:\n",
    "            left_zones.add(str(row['pulocationid']))\n",
    "            left_zones.add(str(row['dolocationid']))\n",
    "\n",
    "    # past-Green: 1\n",
    "    for _, row in p_layer.iterrows():\n",
    "        try:\n",
    "            snapshot[mp[str(row['pulocationid'])], mp[str(row['dolocationid'])], 1] += 1\n",
    "        except Exception as e:\n",
    "            left_zones.add(str(row['pulocationid']))\n",
    "            left_zones.add(str(row['dolocationid']))\n",
    "\n",
    "    # now-Blue: 2\n",
    "    for _, row in n_layer.iterrows():\n",
    "        try:\n",
    "            snapshot[mp[str(row['pulocationid'])], mp[str(row['dolocationid'])], 2] += 1\n",
    "        except Exception as e:\n",
    "            left_zones.add(str(row['pulocationid']))\n",
    "            left_zones.add(str(row['dolocationid']))\n",
    "\n",
    "    # normalize\n",
    "    snapshot *= 255 // snapshot.max()\n",
    "    snapshot = snapshot.astype('uint8')\n",
    "    image = Image.fromarray(snapshot)\n",
    "    return image\n",
    "\n",
    "\n",
    "# generate tensor, because saving image as intermediate data is not efficient\n",
    "def gen_tensor(p_layer, n_layer, f_layer):\n",
    "    '''\n",
    "    Generate a tensor using given matrices.\n",
    "    Params:\n",
    "        p_layer: matrix of past layer\n",
    "        n_layer: matrix of now layer\n",
    "        f_layer: matrix of future layer\n",
    "    Return:\n",
    "        A torch tensor.\n",
    "    '''\n",
    "    # create a snapshot\n",
    "    snapshot = np.zeros([img_size, img_size, 3], dtype='float64')\n",
    "\n",
    "    # unexpected zones\n",
    "    left_zones = set()\n",
    "\n",
    "    # future-Red: 0\n",
    "    for _, row in f_layer.iterrows():\n",
    "        try:\n",
    "            snapshot[mp[str(row['pulocationid'])], mp[str(row['dolocationid'])], 0] += 1\n",
    "        except Exception as e:\n",
    "            left_zones.add(str(row['pulocationid']))\n",
    "            left_zones.add(str(row['dolocationid']))\n",
    "\n",
    "    # past-Green: 1\n",
    "    for _, row in p_layer.iterrows():\n",
    "        try:\n",
    "            snapshot[mp[str(row['pulocationid'])], mp[str(row['dolocationid'])], 1] += 1\n",
    "        except Exception as e:\n",
    "            left_zones.add(str(row['pulocationid']))\n",
    "            left_zones.add(str(row['dolocationid']))\n",
    "\n",
    "    # now-Blue: 2\n",
    "    for _, row in n_layer.iterrows():\n",
    "        try:\n",
    "            snapshot[mp[str(row['pulocationid'])], mp[str(row['dolocationid'])], 2] += 1\n",
    "        except Exception as e:\n",
    "            left_zones.add(str(row['pulocationid']))\n",
    "            left_zones.add(str(row['dolocationid']))\n",
    "\n",
    "    # normalize\n",
    "    snapshot *= 255 // snapshot.max()\n",
    "    snapshot = torch.from_numpy(snapshot)\n",
    "    return snapshot\n",
    "\n",
    "\n",
    "# Function that gets a specific layer of snapshot.\n",
    "def get_channel(image, layer:str):\n",
    "    '''\n",
    "    Get a layer of the snapshot.\n",
    "    Params:\n",
    "        image: PIL image\n",
    "        channel: one of R-F,G-P,B-N\n",
    "    Return:\n",
    "        single channel image\n",
    "    '''\n",
    "    assert layer in ['P', 'N', 'F']\n",
    "    namedict = {'P': 'G', 'N': 'B', 'F': 'R'}\n",
    "    chandict = {'R':0, 'G':1, 'B':2}\n",
    "    template = np.array(image)\n",
    "    chan = np.zeros([*template.shape], dtype='uint8')\n",
    "    chan[:,:,chandict[namedict[layer]]] = image.getchannel(namedict[layer])\n",
    "    chan = Image.fromarray(chan)\n",
    "    return chan"
   ]
  },
  {
   "cell_type": "markdown",
   "metadata": {},
   "source": [
    "Save data path:"
   ]
  },
  {
   "cell_type": "code",
   "execution_count": 10,
   "metadata": {},
   "outputs": [],
   "source": [
    "# image save directory:\n",
    "visual_path = r'D:\\GITHUB\\GSPNet\\snapshots\\visualization'\n",
    "data_path = r'D:\\GITHUB\\GSPNet\\snapshots\\data'"
   ]
  },
  {
   "cell_type": "markdown",
   "metadata": {},
   "source": [
    "Start process:"
   ]
  },
  {
   "cell_type": "code",
   "execution_count": 11,
   "metadata": {},
   "outputs": [
    {
     "name": "stdout",
     "output_type": "stream",
     "text": [
      "04 05\n",
      "05 06\n",
      "06 07\n",
      "07 08\n",
      "08 09\n",
      "09 10\n",
      "10 11\n",
      "11 12\n"
     ]
    }
   ],
   "source": [
    "months = ['04', '05', '06', '07', '08', '09', '10', '11', '12']\n",
    "for m in range(len(months)-1):\n",
    "    print(months[m], months[m+1])"
   ]
  },
  {
   "cell_type": "code",
   "execution_count": 13,
   "metadata": {},
   "outputs": [
    {
     "name": "stdout",
     "output_type": "stream",
     "text": [
      "Process started at Mon Dec 31 21:49:30 2018\n",
      "Generating time intervals...\n",
      "4465 4464\n",
      "Preparing table data...\n",
      "table shape: (9446596, 11)\n",
      "start generating...\n",
      "Generating images on 2017-12-1...\n",
      "Generating images on 2017-12-2...\n",
      "Generating images on 2017-12-3...\n",
      "Generating images on 2017-12-4...\n",
      "Generating images on 2017-12-5...\n",
      "Generating images on 2017-12-6...\n",
      "Generating images on 2017-12-7...\n",
      "Generating images on 2017-12-8...\n",
      "Generating images on 2017-12-9...\n",
      "Generating images on 2017-12-10...\n",
      "Generating images on 2017-12-11...\n",
      "Generating images on 2017-12-12...\n",
      "Generating images on 2017-12-13...\n",
      "Generating images on 2017-12-14...\n",
      "Generating images on 2017-12-15...\n",
      "Generating images on 2017-12-16...\n",
      "Generating images on 2017-12-17...\n",
      "Generating images on 2017-12-18...\n",
      "Generating images on 2017-12-19...\n",
      "Generating images on 2017-12-20...\n",
      "Generating images on 2017-12-21...\n",
      "Generating images on 2017-12-22...\n",
      "Generating images on 2017-12-23...\n",
      "Generating images on 2017-12-24...\n",
      "Generating images on 2017-12-25...\n",
      "Generating images on 2017-12-26...\n",
      "Generating images on 2017-12-27...\n",
      "Generating images on 2017-12-28...\n",
      "Generating images on 2017-12-29...\n",
      "Generating images on 2017-12-30...\n",
      "Generating images on 2017-12-31...\n",
      "Image and tensor generation done in 5254.03 seconds.\n"
     ]
    }
   ],
   "source": [
    "month_dict = {\n",
    "                    '01': 'jan',\n",
    "                    '02': 'feb',\n",
    "                    '03': 'mar',\n",
    "                    '04': 'apr',\n",
    "                    '05': 'may',\n",
    "                    '06': 'jun',\n",
    "                    '07': 'jul',\n",
    "                    '08': 'aug',\n",
    "                    '09': 'sep',\n",
    "                    '10': 'oct',\n",
    "                    '11': 'nov',\n",
    "                    '12': 'dec'\n",
    "                }\n",
    "\n",
    "months = ['12']\n",
    "\n",
    "start = time.time()\n",
    "print(f'Process started at {time.ctime()}')\n",
    "\n",
    "for m in range(len(months)):\n",
    "    print(f'Generating time intervals...')\n",
    "    timelist = timesplit(f'2017-{months[m]}-01 00:00:00', f'2018-01-01 00:00:00')\n",
    "\n",
    "    # convert dtype for entire table here:\n",
    "    print(f'Preparing table data...')\n",
    "    table = pd.read_csv(f'dataset/nytaxi_yellow_2017_{month_dict[months[m]]}.csv')\n",
    "\n",
    "    print(f'table shape: {table.shape}')\n",
    "    table['tpep_pickup_datetime'] = pd.to_datetime(table['tpep_pickup_datetime'])\n",
    "    table['tpep_dropoff_datetime'] = pd.to_datetime(table['tpep_dropoff_datetime'])\n",
    "\n",
    "    print('start generating...')\n",
    "    for i, bound in enumerate(timelist):\n",
    "    \n",
    "        p_layer, n_layer, f_layer = gen_snap_layers(table, bound)\n",
    "        tensor = gen_tensor(p_layer, n_layer, f_layer)\n",
    "        torch.save(tensor, f'{data_path}\\\\nytaxi_yellow_2017_{month_dict[months[m]]}_d{i}.pt')\n",
    "    \n",
    "        image = gen_image(p_layer, n_layer, f_layer)\n",
    "        vimage = image.resize((690,690)) # multiply by factor of 100\n",
    "        vimage.save(f'{visual_path}\\\\nytaxi_yellow_2017_{month_dict[months[m]]}_v{i}.jpg')\n",
    "    \n",
    "print(f'Image and tensor generation done in {time.time() - start :.2f} seconds.')"
   ]
  },
  {
   "cell_type": "code",
   "execution_count": null,
   "metadata": {},
   "outputs": [],
   "source": []
  }
 ],
 "metadata": {
  "kernelspec": {
   "display_name": "Python 3",
   "language": "python",
   "name": "python3"
  },
  "language_info": {
   "codemirror_mode": {
    "name": "ipython",
    "version": 3
   },
   "file_extension": ".py",
   "mimetype": "text/x-python",
   "name": "python",
   "nbconvert_exporter": "python",
   "pygments_lexer": "ipython3",
   "version": "3.7.2"
  }
 },
 "nbformat": 4,
 "nbformat_minor": 2
}
